{
 "cells": [
  {
   "cell_type": "markdown",
   "metadata": {},
   "source": [
    "# PHARMA FRANCISE  - new locations in Paris\n",
    "###  A new pharmacy chain - opportunity solutions for building location"
   ]
  },
  {
   "cell_type": "code",
   "execution_count": 162,
   "metadata": {},
   "outputs": [],
   "source": [
    "# First, install and import all required libraries\n",
    "import numpy as np\n",
    "import pandas as pd\n",
    "from geopy.geocoders import Nominatim\n",
    "import geocoder # to get coordinates\n",
    "\n",
    "import matplotlib.cm as cm\n",
    "import matplotlib.colors as colors\n",
    "from sklearn.cluster import KMeans\n",
    "import folium\n",
    "import requests\n",
    "from pandas.io.json import json_normalize\n",
    "\n",
    "pd.set_option('display.max_columns', None)\n",
    "pd.set_option('display.max_rows', None)"
   ]
  },
  {
   "cell_type": "markdown",
   "metadata": {},
   "source": [
    " ### Defining a large area - the region, the city\n"
   ]
  },
  {
   "cell_type": "markdown",
   "metadata": {},
   "source": [
    "#### Search best region (Départements) in France by population density"
   ]
  },
  {
   "cell_type": "markdown",
   "metadata": {},
   "source": [
    "##### We found the The National Institute of Statistics and Economic Studies of France\n",
    "##### \\(<a href='https://www.insee.fr/fr/statistiques/2119468?sommaire=2119504#departements'>L’Institut national de la statistique et des études économiques</a>\\)\n",
    "    \n",
    "##### We downloaded the <a href='https://www.insee.fr/fr/statistiques/fichier/2387611/ensemble.xls'>France Department Population</a> and <a href='https://www.insee.fr/fr/statistiques/fichier/2387611/dep75.xls'>Paris (Ile-de-France)</a>\n",
    "\n",
    "![](project_images/France_assembly_vote.svg \"France regions\") \n",
    "@ By Gtaf (fichier d'origine Naturals) - Own work d'après Naturals, CC BY-SA 4.0, https://commons.wikimedia.org/w/index.php?curid=34089638"
   ]
  },
  {
   "cell_type": "code",
   "execution_count": null,
   "metadata": {},
   "outputs": [],
   "source": [
    "# Import and display population data\n",
    "france_dep_pop = pd.read_excel('https://www.insee.fr/fr/statistiques/fichier/2387611/ensemble.xls')\n",
    "# Explore data\n",
    "france_dep_pop.head(15)"
   ]
  },
  {
   "cell_type": "code",
   "execution_count": null,
   "metadata": {},
   "outputs": [],
   "source": [
    "# Remove unusefull rows\n",
    "columns = france_dep_pop.iloc[6]\n",
    "france_pop = france_dep_pop.iloc[7:,:]\n",
    "france_pop.columns = columns\n",
    "france_pop = france_pop.reset_index(drop=True)"
   ]
  },
  {
   "cell_type": "code",
   "execution_count": null,
   "metadata": {},
   "outputs": [],
   "source": [
    "france_pop.sort_values(by='Population totale', ascending=False)"
   ]
  },
  {
   "cell_type": "code",
   "execution_count": null,
   "metadata": {},
   "outputs": [],
   "source": [
    "department_max_pop = france_pop[france_pop['Population totale'] == france_pop['Population totale'].max()][['Nom de la région','Population totale']]"
   ]
  },
  {
   "cell_type": "code",
   "execution_count": null,
   "metadata": {},
   "outputs": [],
   "source": [
    "department_max_pop['Nom de la région']"
   ]
  },
  {
   "cell_type": "markdown",
   "metadata": {},
   "source": [
    "##### On Wikipedia we found Ile-de-France population density\n",
    "\n",
    "![](project_images/1124px-Île-de-France_region_locator_map2.svg.png \"Ile-de_France region\")@By Superbenjamin - Own work, CC BY-SA 4.0, https://commons.wikimedia.org/w/index.php?curid=45218020"
   ]
  },
  {
   "cell_type": "code",
   "execution_count": null,
   "metadata": {},
   "outputs": [],
   "source": [
    "# We need to import read_html\n",
    "from pandas.io.html import read_html\n",
    "\n",
    "# Read the page\n",
    "page = 'https://en.wikipedia.org/wiki/%C3%8Ele-de-France#Population_density'\n",
    "wikitables = read_html(page,  attrs={\"class\":\"wikitable\"})\n",
    "\n",
    "print (\"Extracted {num} wikitables\".format(num=len(wikitables)))"
   ]
  },
  {
   "cell_type": "markdown",
   "metadata": {},
   "source": [
    "##### Import Ile-de-France data"
   ]
  },
  {
   "cell_type": "code",
   "execution_count": null,
   "metadata": {},
   "outputs": [],
   "source": [
    "Ile_pop = pd.DataFrame(wikitables[0])\n",
    "Ile_pop.head()"
   ]
  },
  {
   "cell_type": "code",
   "execution_count": null,
   "metadata": {},
   "outputs": [],
   "source": [
    "# Finding the max population city: Paris\n",
    "max_pop_city = Ile_pop[Ile_pop['Population (2011)[37]'] == Ile_pop['Population (2011)[37]'].max()]['Department']\n",
    "max_pop_city"
   ]
  },
  {
   "cell_type": "markdown",
   "metadata": {},
   "source": [
    "#### We request the Paris coordinates"
   ]
  },
  {
   "cell_type": "code",
   "execution_count": 98,
   "metadata": {},
   "outputs": [
    {
     "name": "stdout",
     "output_type": "stream",
     "text": [
      "The geograpical coordinate of Paris are 48.8566101, 2.3514992.\n"
     ]
    }
   ],
   "source": [
    "address = 'Paris, Île-de-France, France métropolitaine, France'\n",
    "\n",
    "geolocator = Nominatim(user_agent=\"paris_explorer\")\n",
    "location = geolocator.geocode(address)\n",
    "paris_latitude = location.latitude\n",
    "paris_longitude = location.longitude\n",
    "print('The geograpical coordinate of Paris are {}, {}.'.format(paris_latitude, paris_longitude))"
   ]
  },
  {
   "cell_type": "code",
   "execution_count": 193,
   "metadata": {},
   "outputs": [],
   "source": [
    "paris_latitude = location.latitude\n",
    "paris_longitude = location.longitude"
   ]
  },
  {
   "cell_type": "markdown",
   "metadata": {},
   "source": [
    "#### And the Paris Arondisments and Quarters (neighborhoods)\n",
    "\n",
    "![](project_images/Population_density_map_of_Paris_in_2012.svg.png \"Population density map of_Paris\")@ By Paris 16 - Own work, CC BY-SA 4.0, https://commons.wikimedia.org/w/index.php?curid=38412578"
   ]
  },
  {
   "cell_type": "code",
   "execution_count": 156,
   "metadata": {},
   "outputs": [
    {
     "name": "stdout",
     "output_type": "stream",
     "text": [
      "Extracted 1 wikitables\n"
     ]
    }
   ],
   "source": [
    "page = 'https://en.wikipedia.org/wiki/Quarters_of_Paris'\n",
    "wikitables = read_html(page,  attrs={\"class\":\"wikitable\"})\n",
    "print (\"Extracted {num} wikitables\".format(num=len(wikitables)))"
   ]
  },
  {
   "cell_type": "code",
   "execution_count": 182,
   "metadata": {},
   "outputs": [
    {
     "data": {
      "text/html": [
       "<div>\n",
       "<style scoped>\n",
       "    .dataframe tbody tr th:only-of-type {\n",
       "        vertical-align: middle;\n",
       "    }\n",
       "\n",
       "    .dataframe tbody tr th {\n",
       "        vertical-align: top;\n",
       "    }\n",
       "\n",
       "    .dataframe thead th {\n",
       "        text-align: right;\n",
       "    }\n",
       "</style>\n",
       "<table border=\"1\" class=\"dataframe\">\n",
       "  <thead>\n",
       "    <tr style=\"text-align: right;\">\n",
       "      <th></th>\n",
       "      <th>Arrondissement(Districts)</th>\n",
       "      <th>Quartiers(Quarters)</th>\n",
       "      <th>Quartiers(Quarters).1</th>\n",
       "      <th>Population in1999[3]</th>\n",
       "      <th>Area(hectares)[3]</th>\n",
       "      <th>Map</th>\n",
       "    </tr>\n",
       "  </thead>\n",
       "  <tbody>\n",
       "    <tr>\n",
       "      <th>0</th>\n",
       "      <td>1st arrondissement(Called \"du Louvre\")</td>\n",
       "      <td>1st</td>\n",
       "      <td>Saint-Germain-l'Auxerrois</td>\n",
       "      <td>1672</td>\n",
       "      <td>86.9</td>\n",
       "      <td>NaN</td>\n",
       "    </tr>\n",
       "    <tr>\n",
       "      <th>1</th>\n",
       "      <td>1st arrondissement(Called \"du Louvre\")</td>\n",
       "      <td>2nd</td>\n",
       "      <td>Les Halles</td>\n",
       "      <td>8984</td>\n",
       "      <td>41.2</td>\n",
       "      <td>NaN</td>\n",
       "    </tr>\n",
       "    <tr>\n",
       "      <th>2</th>\n",
       "      <td>1st arrondissement(Called \"du Louvre\")</td>\n",
       "      <td>3rd</td>\n",
       "      <td>Palais-Royal</td>\n",
       "      <td>3195</td>\n",
       "      <td>27.4</td>\n",
       "      <td>NaN</td>\n",
       "    </tr>\n",
       "    <tr>\n",
       "      <th>3</th>\n",
       "      <td>1st arrondissement(Called \"du Louvre\")</td>\n",
       "      <td>4th</td>\n",
       "      <td>Place-Vendôme</td>\n",
       "      <td>3044</td>\n",
       "      <td>26.9</td>\n",
       "      <td>NaN</td>\n",
       "    </tr>\n",
       "    <tr>\n",
       "      <th>4</th>\n",
       "      <td>2nd arrondissement(Called \"de la Bourse\")</td>\n",
       "      <td>5th</td>\n",
       "      <td>Gaillon</td>\n",
       "      <td>1345</td>\n",
       "      <td>18.8</td>\n",
       "      <td>NaN</td>\n",
       "    </tr>\n",
       "  </tbody>\n",
       "</table>\n",
       "</div>"
      ],
      "text/plain": [
       "                   Arrondissement(Districts) Quartiers(Quarters)  \\\n",
       "0     1st arrondissement(Called \"du Louvre\")                 1st   \n",
       "1     1st arrondissement(Called \"du Louvre\")                 2nd   \n",
       "2     1st arrondissement(Called \"du Louvre\")                 3rd   \n",
       "3     1st arrondissement(Called \"du Louvre\")                 4th   \n",
       "4  2nd arrondissement(Called \"de la Bourse\")                 5th   \n",
       "\n",
       "       Quartiers(Quarters).1  Population in1999[3]  Area(hectares)[3]  Map  \n",
       "0  Saint-Germain-l'Auxerrois                  1672               86.9  NaN  \n",
       "1                 Les Halles                  8984               41.2  NaN  \n",
       "2               Palais-Royal                  3195               27.4  NaN  \n",
       "3              Place-Vendôme                  3044               26.9  NaN  \n",
       "4                    Gaillon                  1345               18.8  NaN  "
      ]
     },
     "execution_count": 182,
     "metadata": {},
     "output_type": "execute_result"
    }
   ],
   "source": [
    "p_quarters = pd.DataFrame(wikitables[0])\n",
    "p_quarters.head()"
   ]
  },
  {
   "cell_type": "code",
   "execution_count": 184,
   "metadata": {},
   "outputs": [],
   "source": [
    "quarters = p_quarters['Quartiers(Quarters).1']\n",
    "p_quarters = pd.DataFrame(quarters)"
   ]
  },
  {
   "cell_type": "code",
   "execution_count": 185,
   "metadata": {},
   "outputs": [],
   "source": [
    "columns = ['Quarters']\n",
    "p_quarters.columns = columns"
   ]
  },
  {
   "cell_type": "code",
   "execution_count": 165,
   "metadata": {},
   "outputs": [],
   "source": [
    "def get_latlng(quarter):\n",
    "    # initialize your variable to None\n",
    "    lat_lng_coords = None\n",
    "    # loop until you get the coordinates\n",
    "    while(lat_lng_coords is None):\n",
    "        g = geocoder.arcgis('{}, Paris, France'.format(quarter))\n",
    "        lat_lng_coords = g.latlng\n",
    "    return lat_lng_coords\n",
    "coords = [ get_latlng(quarter) for quarter in list(p_quarters) ]"
   ]
  },
  {
   "cell_type": "code",
   "execution_count": 187,
   "metadata": {},
   "outputs": [],
   "source": [
    "quarters_coords = pd.DataFrame(coords, columns=['Latitude', 'Longitude'])"
   ]
  },
  {
   "cell_type": "code",
   "execution_count": 188,
   "metadata": {},
   "outputs": [],
   "source": [
    "# Now, merge the coordinates into the original dataframe\n",
    "p_quarters['Latitude'] = quarters_coords['Latitude']\n",
    "p_quarters['Longitude'] = quarters_coords['Longitude']"
   ]
  },
  {
   "cell_type": "code",
   "execution_count": 192,
   "metadata": {},
   "outputs": [
    {
     "name": "stdout",
     "output_type": "stream",
     "text": [
      "(80, 3)\n"
     ]
    },
    {
     "data": {
      "text/html": [
       "<div>\n",
       "<style scoped>\n",
       "    .dataframe tbody tr th:only-of-type {\n",
       "        vertical-align: middle;\n",
       "    }\n",
       "\n",
       "    .dataframe tbody tr th {\n",
       "        vertical-align: top;\n",
       "    }\n",
       "\n",
       "    .dataframe thead th {\n",
       "        text-align: right;\n",
       "    }\n",
       "</style>\n",
       "<table border=\"1\" class=\"dataframe\">\n",
       "  <thead>\n",
       "    <tr style=\"text-align: right;\">\n",
       "      <th></th>\n",
       "      <th>Quarters</th>\n",
       "      <th>Latitude</th>\n",
       "      <th>Longitude</th>\n",
       "    </tr>\n",
       "  </thead>\n",
       "  <tbody>\n",
       "    <tr>\n",
       "      <th>0</th>\n",
       "      <td>Saint-Germain-l'Auxerrois</td>\n",
       "      <td>48.85971</td>\n",
       "      <td>2.34024</td>\n",
       "    </tr>\n",
       "    <tr>\n",
       "      <th>1</th>\n",
       "      <td>Les Halles</td>\n",
       "      <td>48.86319</td>\n",
       "      <td>2.34201</td>\n",
       "    </tr>\n",
       "    <tr>\n",
       "      <th>2</th>\n",
       "      <td>Palais-Royal</td>\n",
       "      <td>48.86350</td>\n",
       "      <td>2.33876</td>\n",
       "    </tr>\n",
       "    <tr>\n",
       "      <th>3</th>\n",
       "      <td>Place-Vendôme</td>\n",
       "      <td>48.86778</td>\n",
       "      <td>2.33011</td>\n",
       "    </tr>\n",
       "    <tr>\n",
       "      <th>4</th>\n",
       "      <td>Gaillon</td>\n",
       "      <td>48.86902</td>\n",
       "      <td>2.33445</td>\n",
       "    </tr>\n",
       "  </tbody>\n",
       "</table>\n",
       "</div>"
      ],
      "text/plain": [
       "                    Quarters  Latitude  Longitude\n",
       "0  Saint-Germain-l'Auxerrois  48.85971    2.34024\n",
       "1                 Les Halles  48.86319    2.34201\n",
       "2               Palais-Royal  48.86350    2.33876\n",
       "3              Place-Vendôme  48.86778    2.33011\n",
       "4                    Gaillon  48.86902    2.33445"
      ]
     },
     "execution_count": 192,
     "metadata": {},
     "output_type": "execute_result"
    }
   ],
   "source": [
    "print(p_quarters.shape)\n",
    "p_quarters.head()"
   ]
  },
  {
   "cell_type": "code",
   "execution_count": 191,
   "metadata": {},
   "outputs": [],
   "source": [
    "# Save the Quarters as .csv\n",
    "p_quarters.to_csv(\"./project_data/p_quarters.csv\", index=False)"
   ]
  },
  {
   "cell_type": "markdown",
   "metadata": {},
   "source": [
    "#### Let's create a map of Paris quarters using Folium"
   ]
  },
  {
   "cell_type": "code",
   "execution_count": 206,
   "metadata": {},
   "outputs": [
    {
     "data": {
      "text/html": [
       "<div style=\"width:100%;\"><div style=\"position:relative;width:100%;height:0;padding-bottom:60%;\"><iframe src=\"data:text/html;charset=utf-8;base64,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\" style=\"position:absolute;width:100%;height:100%;left:0;top:0;border:none !important;\" allowfullscreen webkitallowfullscreen mozallowfullscreen></iframe></div></div>"
      ],
      "text/plain": [
       "<folium.folium.Map at 0x1629ed17ba8>"
      ]
     },
     "execution_count": 206,
     "metadata": {},
     "output_type": "execute_result"
    }
   ],
   "source": [
    "map_quarters = folium.Map(location=[paris_latitude, paris_longitude], zoom_start=12, tiles=\"OpenStreetMap\")\n",
    "\n",
    "# add markers to map\n",
    "for lat, lng, neighborhood in zip(p_quarters['Latitude'], p_quarters['Longitude'], p_quarters['Quarters']):\n",
    "    label = '{}'.format(neighborhood)\n",
    "    label = folium.Popup(label, parse_html=True)\n",
    "    folium.CircleMarker(\n",
    "        [lat, lng],\n",
    "        radius=5,\n",
    "        popup=label,\n",
    "        color='red',\n",
    "        fill=True,\n",
    "        fill_color='#FF0000', #3186cc\n",
    "\n",
    "        fill_opacity=0.4).add_to(map_quarters)  \n",
    "    \n",
    "map_quarters"
   ]
  },
  {
   "cell_type": "code",
   "execution_count": 207,
   "metadata": {},
   "outputs": [],
   "source": [
    "# And save the map as HTML file\n",
    "map_quarters.save('./project_maps/map_quarters.html')"
   ]
  },
  {
   "cell_type": "code",
   "execution_count": 208,
   "metadata": {},
   "outputs": [],
   "source": [
    "import yaml\n",
    "\n",
    "with open(\"./project_data/config.yaml\", \"r\") as f:\n",
    "    cfg = yaml.safe_load(f)"
   ]
  },
  {
   "cell_type": "code",
   "execution_count": 219,
   "metadata": {},
   "outputs": [],
   "source": [
    "CLIENT_ID=cfg['client_id']\n",
    "CLIENT_SECRET=cfg['client_secret']\n",
    "VERSION=cfg['version']\n",
    "radius = 2000\n",
    "LIMIT = 150\n",
    "\n",
    "venues = []\n",
    "\n",
    "for latitude, longitude, neighborhood in zip(p_quarters['Latitude'], p_quarters['Longitude'], p_quarters['Quarters']):\n",
    "    \n",
    "    url = \"https://api.foursquare.com/v2/venues/explore?client_id={}&client_secret={}&v={}&ll={},{}&radius={}&limit={}\".format(\n",
    "        CLIENT_ID,\n",
    "        CLIENT_SECRET,\n",
    "        VERSION,\n",
    "        latitude, \n",
    "        longitude,\n",
    "        radius, \n",
    "        LIMIT)\n",
    "\n",
    "    results = requests.get(url).json()[\"response\"]['groups'][0]['items']\n",
    "    \n",
    "    for venue in results:\n",
    "        venues.append((\n",
    "            neighborhood,\n",
    "            latitude, \n",
    "            longitude, \n",
    "            venue['venue']['name'], \n",
    "            venue['venue']['location']['lat'], \n",
    "            venue['venue']['location']['lng'],  \n",
    "            venue['venue']['categories'][0]['name']))"
   ]
  },
  {
   "cell_type": "code",
   "execution_count": 220,
   "metadata": {},
   "outputs": [
    {
     "name": "stdout",
     "output_type": "stream",
     "text": [
      "(7803, 7)\n"
     ]
    },
    {
     "data": {
      "text/html": [
       "<div>\n",
       "<style scoped>\n",
       "    .dataframe tbody tr th:only-of-type {\n",
       "        vertical-align: middle;\n",
       "    }\n",
       "\n",
       "    .dataframe tbody tr th {\n",
       "        vertical-align: top;\n",
       "    }\n",
       "\n",
       "    .dataframe thead th {\n",
       "        text-align: right;\n",
       "    }\n",
       "</style>\n",
       "<table border=\"1\" class=\"dataframe\">\n",
       "  <thead>\n",
       "    <tr style=\"text-align: right;\">\n",
       "      <th></th>\n",
       "      <th>Neighborhood</th>\n",
       "      <th>Latitude</th>\n",
       "      <th>Longitude</th>\n",
       "      <th>VenueName</th>\n",
       "      <th>VenueLatitude</th>\n",
       "      <th>VenueLongitude</th>\n",
       "      <th>VenueCategory</th>\n",
       "    </tr>\n",
       "  </thead>\n",
       "  <tbody>\n",
       "    <tr>\n",
       "      <th>0</th>\n",
       "      <td>Saint-Germain-l'Auxerrois</td>\n",
       "      <td>48.85971</td>\n",
       "      <td>2.34024</td>\n",
       "      <td>Cour Carrée du Louvre</td>\n",
       "      <td>48.860360</td>\n",
       "      <td>2.338543</td>\n",
       "      <td>Pedestrian Plaza</td>\n",
       "    </tr>\n",
       "    <tr>\n",
       "      <th>1</th>\n",
       "      <td>Saint-Germain-l'Auxerrois</td>\n",
       "      <td>48.85971</td>\n",
       "      <td>2.34024</td>\n",
       "      <td>Place du Louvre</td>\n",
       "      <td>48.859841</td>\n",
       "      <td>2.340822</td>\n",
       "      <td>Plaza</td>\n",
       "    </tr>\n",
       "    <tr>\n",
       "      <th>2</th>\n",
       "      <td>Saint-Germain-l'Auxerrois</td>\n",
       "      <td>48.85971</td>\n",
       "      <td>2.34024</td>\n",
       "      <td>La Vénus de Milo (Vénus de Milo)</td>\n",
       "      <td>48.859943</td>\n",
       "      <td>2.337234</td>\n",
       "      <td>Exhibit</td>\n",
       "    </tr>\n",
       "    <tr>\n",
       "      <th>3</th>\n",
       "      <td>Saint-Germain-l'Auxerrois</td>\n",
       "      <td>48.85971</td>\n",
       "      <td>2.34024</td>\n",
       "      <td>Pont des Arts</td>\n",
       "      <td>48.858565</td>\n",
       "      <td>2.337635</td>\n",
       "      <td>Bridge</td>\n",
       "    </tr>\n",
       "    <tr>\n",
       "      <th>4</th>\n",
       "      <td>Saint-Germain-l'Auxerrois</td>\n",
       "      <td>48.85971</td>\n",
       "      <td>2.34024</td>\n",
       "      <td>Musée du Louvre</td>\n",
       "      <td>48.860847</td>\n",
       "      <td>2.336440</td>\n",
       "      <td>Art Museum</td>\n",
       "    </tr>\n",
       "  </tbody>\n",
       "</table>\n",
       "</div>"
      ],
      "text/plain": [
       "                Neighborhood  Latitude  Longitude  \\\n",
       "0  Saint-Germain-l'Auxerrois  48.85971    2.34024   \n",
       "1  Saint-Germain-l'Auxerrois  48.85971    2.34024   \n",
       "2  Saint-Germain-l'Auxerrois  48.85971    2.34024   \n",
       "3  Saint-Germain-l'Auxerrois  48.85971    2.34024   \n",
       "4  Saint-Germain-l'Auxerrois  48.85971    2.34024   \n",
       "\n",
       "                          VenueName  VenueLatitude  VenueLongitude  \\\n",
       "0             Cour Carrée du Louvre      48.860360        2.338543   \n",
       "1                   Place du Louvre      48.859841        2.340822   \n",
       "2  La Vénus de Milo (Vénus de Milo)      48.859943        2.337234   \n",
       "3                     Pont des Arts      48.858565        2.337635   \n",
       "4                   Musée du Louvre      48.860847        2.336440   \n",
       "\n",
       "      VenueCategory  \n",
       "0  Pedestrian Plaza  \n",
       "1             Plaza  \n",
       "2           Exhibit  \n",
       "3            Bridge  \n",
       "4        Art Museum  "
      ]
     },
     "execution_count": 220,
     "metadata": {},
     "output_type": "execute_result"
    }
   ],
   "source": [
    "venues_df = pd.DataFrame(venues)\n",
    "\n",
    "venues_df.columns = ['Neighborhood', 'Latitude', 'Longitude', 'VenueName', 'VenueLatitude', 'VenueLongitude', 'VenueCategory']\n",
    "\n",
    "print(venues_df.shape)\n",
    "venues_df.head()"
   ]
  },
  {
   "cell_type": "code",
   "execution_count": 221,
   "metadata": {},
   "outputs": [],
   "source": [
    "# Save the venues as .csv\n",
    "venues_df.to_csv(\"./project_data/venues_df.csv\", index=False)"
   ]
  },
  {
   "cell_type": "code",
   "execution_count": null,
   "metadata": {},
   "outputs": [],
   "source": [
    "venues_df.groupby([\"Neighborhood\"]).count()"
   ]
  },
  {
   "cell_type": "code",
   "execution_count": 242,
   "metadata": {},
   "outputs": [
    {
     "data": {
      "text/plain": [
       "11"
      ]
     },
     "execution_count": 242,
     "metadata": {},
     "output_type": "execute_result"
    }
   ],
   "source": [
    "\n",
    "pharma_no = len(list((x for x in venues_df['VenueCategory'].tolist() if x == 'Pharmacy')))\n",
    "pharma_no"
   ]
  },
  {
   "cell_type": "markdown",
   "metadata": {},
   "source": [
    "#### 11 are not enough. Now let's search(request) for pharmacies in every neighborhood"
   ]
  },
  {
   "cell_type": "code",
   "execution_count": 286,
   "metadata": {},
   "outputs": [],
   "source": [
    "CLIENT_ID=cfg['client_id']\n",
    "CLIENT_SECRET=cfg['client_secret']\n",
    "VERSION=cfg['version']\n",
    "radius = 2000\n",
    "LIMIT = 150\n",
    "categoryId = '4bf58dd8d48988d10f951735' # Pharmacies Id\n",
    "\n",
    "venues = []\n",
    "\n",
    "for latitude, longitude, neighborhood in zip(p_quarters['Latitude'], p_quarters['Longitude'], p_quarters['Quarters']):\n",
    "    \n",
    "    url = \"https://api.foursquare.com/v2/venues/search?client_id={}&client_secret={}&v={}&ll={},{}&radius={}&limit={}&categoryId={}\".format(\n",
    "        CLIENT_ID,\n",
    "        CLIENT_SECRET,\n",
    "        VERSION,\n",
    "        latitude, \n",
    "        longitude,\n",
    "        radius, \n",
    "        LIMIT,\n",
    "        categoryId\n",
    ")\n",
    "\n",
    "    results = requests.get(url).json()['response']['venues']\n",
    "    \n",
    "    for venue in results:\n",
    "        venues.append((\n",
    "            neighborhood,\n",
    "            latitude, \n",
    "            longitude, \n",
    "            venue['name'], \n",
    "            venue['location']['lat'], \n",
    "            venue['location']['lng']))"
   ]
  },
  {
   "cell_type": "code",
   "execution_count": 289,
   "metadata": {},
   "outputs": [
    {
     "name": "stdout",
     "output_type": "stream",
     "text": [
      "(3666, 6)\n"
     ]
    },
    {
     "data": {
      "text/html": [
       "<div>\n",
       "<style scoped>\n",
       "    .dataframe tbody tr th:only-of-type {\n",
       "        vertical-align: middle;\n",
       "    }\n",
       "\n",
       "    .dataframe tbody tr th {\n",
       "        vertical-align: top;\n",
       "    }\n",
       "\n",
       "    .dataframe thead th {\n",
       "        text-align: right;\n",
       "    }\n",
       "</style>\n",
       "<table border=\"1\" class=\"dataframe\">\n",
       "  <thead>\n",
       "    <tr style=\"text-align: right;\">\n",
       "      <th></th>\n",
       "      <th>Neighborhood</th>\n",
       "      <th>Latitude</th>\n",
       "      <th>Longitude</th>\n",
       "      <th>VenueName</th>\n",
       "      <th>VenueLatitude</th>\n",
       "      <th>VenueLongitude</th>\n",
       "    </tr>\n",
       "  </thead>\n",
       "  <tbody>\n",
       "    <tr>\n",
       "      <th>0</th>\n",
       "      <td>Saint-Germain-l'Auxerrois</td>\n",
       "      <td>48.85971</td>\n",
       "      <td>2.34024</td>\n",
       "      <td>Pharmacie du Pont Neuf</td>\n",
       "      <td>48.860037</td>\n",
       "      <td>2.345189</td>\n",
       "    </tr>\n",
       "    <tr>\n",
       "      <th>1</th>\n",
       "      <td>Saint-Germain-l'Auxerrois</td>\n",
       "      <td>48.85971</td>\n",
       "      <td>2.34024</td>\n",
       "      <td>Pharmacie de la Place de la République</td>\n",
       "      <td>48.866460</td>\n",
       "      <td>2.364269</td>\n",
       "    </tr>\n",
       "    <tr>\n",
       "      <th>2</th>\n",
       "      <td>Saint-Germain-l'Auxerrois</td>\n",
       "      <td>48.85971</td>\n",
       "      <td>2.34024</td>\n",
       "      <td>Plus Pharmacie Bader</td>\n",
       "      <td>48.852454</td>\n",
       "      <td>2.343392</td>\n",
       "    </tr>\n",
       "    <tr>\n",
       "      <th>3</th>\n",
       "      <td>Saint-Germain-l'Auxerrois</td>\n",
       "      <td>48.85971</td>\n",
       "      <td>2.34024</td>\n",
       "      <td>City Pharma</td>\n",
       "      <td>48.852754</td>\n",
       "      <td>2.333343</td>\n",
       "    </tr>\n",
       "    <tr>\n",
       "      <th>4</th>\n",
       "      <td>Saint-Germain-l'Auxerrois</td>\n",
       "      <td>48.85971</td>\n",
       "      <td>2.34024</td>\n",
       "      <td>Pharmacie des Galeries</td>\n",
       "      <td>48.873959</td>\n",
       "      <td>2.331094</td>\n",
       "    </tr>\n",
       "  </tbody>\n",
       "</table>\n",
       "</div>"
      ],
      "text/plain": [
       "                Neighborhood  Latitude  Longitude  \\\n",
       "0  Saint-Germain-l'Auxerrois  48.85971    2.34024   \n",
       "1  Saint-Germain-l'Auxerrois  48.85971    2.34024   \n",
       "2  Saint-Germain-l'Auxerrois  48.85971    2.34024   \n",
       "3  Saint-Germain-l'Auxerrois  48.85971    2.34024   \n",
       "4  Saint-Germain-l'Auxerrois  48.85971    2.34024   \n",
       "\n",
       "                                VenueName  VenueLatitude  VenueLongitude  \n",
       "0                  Pharmacie du Pont Neuf      48.860037        2.345189  \n",
       "1  Pharmacie de la Place de la République      48.866460        2.364269  \n",
       "2                    Plus Pharmacie Bader      48.852454        2.343392  \n",
       "3                             City Pharma      48.852754        2.333343  \n",
       "4                  Pharmacie des Galeries      48.873959        2.331094  "
      ]
     },
     "execution_count": 289,
     "metadata": {},
     "output_type": "execute_result"
    }
   ],
   "source": [
    "all_neighb_pharma_df = pd.DataFrame(venues)\n",
    "\n",
    "all_neighb_pharma_df.columns = ['Neighborhood', 'Latitude', 'Longitude', 'VenueName', 'VenueLatitude', 'VenueLongitude']\n",
    "\n",
    "print(all_neighb_pharma_df.shape)\n",
    "all_neighb_pharma_df.head()"
   ]
  },
  {
   "cell_type": "code",
   "execution_count": 291,
   "metadata": {},
   "outputs": [],
   "source": [
    "all_neighb_pharma_df['VenueCategory'] = 'Pharmacy'\n"
   ]
  },
  {
   "cell_type": "markdown",
   "metadata": {},
   "source": [
    "#### 3666 are enough, aren't it? NO, it's a joke. Because it contains many many duplicates. Let's remove them!"
   ]
  },
  {
   "cell_type": "code",
   "execution_count": 313,
   "metadata": {},
   "outputs": [
    {
     "name": "stdout",
     "output_type": "stream",
     "text": [
      "(3666, 7)\n",
      "(375, 7)\n"
     ]
    }
   ],
   "source": [
    "print(all_neighb_pharma_df.shape)\n",
    "all_neighb_pharma_df.drop_duplicates(subset='VenueName', keep='first', inplace=True)\n",
    "print(all_neighb_pharma_df.shape)"
   ]
  },
  {
   "cell_type": "code",
   "execution_count": 314,
   "metadata": {},
   "outputs": [],
   "source": [
    "# Now, save all pharmacies as .csv\n",
    "all_neighb_pharma_df.to_csv(\"./project_data/all_neighb_pharma_df.csv\", index=False)"
   ]
  },
  {
   "cell_type": "markdown",
   "metadata": {},
   "source": [
    "#### Now, search for Hospitals in Paris!"
   ]
  },
  {
   "cell_type": "code",
   "execution_count": 294,
   "metadata": {},
   "outputs": [],
   "source": [
    "CLIENT_ID=cfg['client_id']\n",
    "CLIENT_SECRET=cfg['client_secret']\n",
    "VERSION=cfg['version']\n",
    "radius = 2000\n",
    "LIMIT = 150\n",
    "categoryId = '4bf58dd8d48988d196941735' # Hospitals Id\n",
    "\n",
    "venues = []\n",
    "\n",
    "for latitude, longitude, neighborhood in zip(p_quarters['Latitude'], p_quarters['Longitude'], p_quarters['Quarters']):\n",
    "    \n",
    "    url = \"https://api.foursquare.com/v2/venues/search?client_id={}&client_secret={}&v={}&ll={},{}&radius={}&limit={}&categoryId={}\".format(\n",
    "        CLIENT_ID,\n",
    "        CLIENT_SECRET,\n",
    "        VERSION,\n",
    "        latitude, \n",
    "        longitude,\n",
    "        radius, \n",
    "        LIMIT,\n",
    "        categoryId\n",
    ")\n",
    "\n",
    "    results = requests.get(url).json()['response']['venues']\n",
    "    \n",
    "    for venue in results:\n",
    "        venues.append((\n",
    "            neighborhood,\n",
    "            latitude, \n",
    "            longitude, \n",
    "            venue['name'], \n",
    "            venue['location']['lat'], \n",
    "            venue['location']['lng']))"
   ]
  },
  {
   "cell_type": "code",
   "execution_count": 298,
   "metadata": {},
   "outputs": [
    {
     "name": "stdout",
     "output_type": "stream",
     "text": [
      "(2782, 6)\n"
     ]
    },
    {
     "data": {
      "text/html": [
       "<div>\n",
       "<style scoped>\n",
       "    .dataframe tbody tr th:only-of-type {\n",
       "        vertical-align: middle;\n",
       "    }\n",
       "\n",
       "    .dataframe tbody tr th {\n",
       "        vertical-align: top;\n",
       "    }\n",
       "\n",
       "    .dataframe thead th {\n",
       "        text-align: right;\n",
       "    }\n",
       "</style>\n",
       "<table border=\"1\" class=\"dataframe\">\n",
       "  <thead>\n",
       "    <tr style=\"text-align: right;\">\n",
       "      <th></th>\n",
       "      <th>Neighborhood</th>\n",
       "      <th>Latitude</th>\n",
       "      <th>Longitude</th>\n",
       "      <th>VenueName</th>\n",
       "      <th>VenueLatitude</th>\n",
       "      <th>VenueLongitude</th>\n",
       "    </tr>\n",
       "  </thead>\n",
       "  <tbody>\n",
       "    <tr>\n",
       "      <th>0</th>\n",
       "      <td>Saint-Germain-l'Auxerrois</td>\n",
       "      <td>48.85971</td>\n",
       "      <td>2.34024</td>\n",
       "      <td>Clinique du Louvre</td>\n",
       "      <td>48.859652</td>\n",
       "      <td>2.341171</td>\n",
       "    </tr>\n",
       "    <tr>\n",
       "      <th>1</th>\n",
       "      <td>Saint-Germain-l'Auxerrois</td>\n",
       "      <td>48.85971</td>\n",
       "      <td>2.34024</td>\n",
       "      <td>American Hospital of Paris</td>\n",
       "      <td>48.870697</td>\n",
       "      <td>2.331678</td>\n",
       "    </tr>\n",
       "    <tr>\n",
       "      <th>2</th>\n",
       "      <td>Saint-Germain-l'Auxerrois</td>\n",
       "      <td>48.85971</td>\n",
       "      <td>2.34024</td>\n",
       "      <td>Hospital Nnecker</td>\n",
       "      <td>48.870183</td>\n",
       "      <td>2.351002</td>\n",
       "    </tr>\n",
       "    <tr>\n",
       "      <th>3</th>\n",
       "      <td>Saint-Germain-l'Auxerrois</td>\n",
       "      <td>48.85971</td>\n",
       "      <td>2.34024</td>\n",
       "      <td>Centre MST - Hôpital Saint-Louis</td>\n",
       "      <td>48.873544</td>\n",
       "      <td>2.365277</td>\n",
       "    </tr>\n",
       "    <tr>\n",
       "      <th>4</th>\n",
       "      <td>Saint-Germain-l'Auxerrois</td>\n",
       "      <td>48.85971</td>\n",
       "      <td>2.34024</td>\n",
       "      <td>Urgences Médico Judiciaires - Hôpital Hôtel-Dieu</td>\n",
       "      <td>48.854185</td>\n",
       "      <td>2.347411</td>\n",
       "    </tr>\n",
       "  </tbody>\n",
       "</table>\n",
       "</div>"
      ],
      "text/plain": [
       "                Neighborhood  Latitude  Longitude  \\\n",
       "0  Saint-Germain-l'Auxerrois  48.85971    2.34024   \n",
       "1  Saint-Germain-l'Auxerrois  48.85971    2.34024   \n",
       "2  Saint-Germain-l'Auxerrois  48.85971    2.34024   \n",
       "3  Saint-Germain-l'Auxerrois  48.85971    2.34024   \n",
       "4  Saint-Germain-l'Auxerrois  48.85971    2.34024   \n",
       "\n",
       "                                          VenueName  VenueLatitude  \\\n",
       "0                                Clinique du Louvre      48.859652   \n",
       "1                        American Hospital of Paris      48.870697   \n",
       "2                                  Hospital Nnecker      48.870183   \n",
       "3                  Centre MST - Hôpital Saint-Louis      48.873544   \n",
       "4  Urgences Médico Judiciaires - Hôpital Hôtel-Dieu      48.854185   \n",
       "\n",
       "   VenueLongitude  \n",
       "0        2.341171  \n",
       "1        2.331678  \n",
       "2        2.351002  \n",
       "3        2.365277  \n",
       "4        2.347411  "
      ]
     },
     "execution_count": 298,
     "metadata": {},
     "output_type": "execute_result"
    }
   ],
   "source": [
    "hospitals_df = pd.DataFrame(venues)\n",
    "\n",
    "hospitals_df.columns = ['Neighborhood', 'Latitude', 'Longitude', 'VenueName', 'VenueLatitude', 'VenueLongitude']\n",
    "\n",
    "print(hospitals_df.shape)\n",
    "hospitals_df.head()"
   ]
  },
  {
   "cell_type": "code",
   "execution_count": 299,
   "metadata": {},
   "outputs": [],
   "source": [
    "hospitals_df['VenueCategory'] = 'Hospital'"
   ]
  },
  {
   "cell_type": "code",
   "execution_count": 315,
   "metadata": {},
   "outputs": [
    {
     "data": {
      "text/plain": [
       "(247, 7)"
      ]
     },
     "execution_count": 315,
     "metadata": {},
     "output_type": "execute_result"
    }
   ],
   "source": [
    "# Drop duplicates\n",
    "hospitals_df.drop_duplicates(subset='VenueName', keep='first', inplace=True)\n",
    "hospitals_df.shape"
   ]
  },
  {
   "cell_type": "code",
   "execution_count": 316,
   "metadata": {},
   "outputs": [],
   "source": [
    "# Save hospitals as .csv\n",
    "hospitals_df.to_csv(\"./project_data/hospitals_df.csv\", index=False)"
   ]
  },
  {
   "cell_type": "markdown",
   "metadata": {},
   "source": [
    "#### Now, let's merge the dataframes"
   ]
  },
  {
   "cell_type": "code",
   "execution_count": 317,
   "metadata": {},
   "outputs": [],
   "source": [
    "all_venues_pharma_hosp = pd.concat([all_neighb_pharma_df, hospitals_df, venues_df])"
   ]
  },
  {
   "cell_type": "code",
   "execution_count": 318,
   "metadata": {},
   "outputs": [
    {
     "name": "stdout",
     "output_type": "stream",
     "text": [
      "(8425, 7)\n",
      "                Neighborhood  Latitude  Longitude  \\\n",
      "0  Saint-Germain-l'Auxerrois  48.85971    2.34024   \n",
      "1  Saint-Germain-l'Auxerrois  48.85971    2.34024   \n",
      "2  Saint-Germain-l'Auxerrois  48.85971    2.34024   \n",
      "3  Saint-Germain-l'Auxerrois  48.85971    2.34024   \n",
      "4  Saint-Germain-l'Auxerrois  48.85971    2.34024   \n",
      "\n",
      "                                VenueName  VenueLatitude  VenueLongitude  \\\n",
      "0                  Pharmacie du Pont Neuf      48.860037        2.345189   \n",
      "1  Pharmacie de la Place de la République      48.866460        2.364269   \n",
      "2                    Plus Pharmacie Bader      48.852454        2.343392   \n",
      "3                             City Pharma      48.852754        2.333343   \n",
      "4                  Pharmacie des Galeries      48.873959        2.331094   \n",
      "\n",
      "  VenueCategory  \n",
      "0      Pharmacy  \n",
      "1      Pharmacy  \n",
      "2      Pharmacy  \n",
      "3      Pharmacy  \n",
      "4      Pharmacy  \n"
     ]
    }
   ],
   "source": [
    "print(all_venues_pharma_hosp.shape)\n",
    "print(all_venues_pharma_hosp.head())"
   ]
  },
  {
   "cell_type": "code",
   "execution_count": null,
   "metadata": {},
   "outputs": [],
   "source": []
  },
  {
   "cell_type": "code",
   "execution_count": null,
   "metadata": {},
   "outputs": [],
   "source": []
  },
  {
   "cell_type": "code",
   "execution_count": null,
   "metadata": {},
   "outputs": [],
   "source": []
  },
  {
   "cell_type": "code",
   "execution_count": null,
   "metadata": {},
   "outputs": [],
   "source": []
  },
  {
   "cell_type": "code",
   "execution_count": null,
   "metadata": {},
   "outputs": [],
   "source": []
  },
  {
   "cell_type": "code",
   "execution_count": null,
   "metadata": {},
   "outputs": [],
   "source": []
  },
  {
   "cell_type": "markdown",
   "metadata": {},
   "source": [
    "#### After understanding the investor intention and the importance of optimal conditions of the buildings locations we have to:"
   ]
  },
  {
   "cell_type": "markdown",
   "metadata": {},
   "source": [
    "   - Defining a large area - the city, the country\n",
    "   - Establishing the layers according to the investor criteria\n",
    "       - areas with heavy pedestrian traffic like large intersections, malls, markets etc. Foursquare request  \n",
    "       - hospitals, existing clinics. Foursquare request\n",
    "       - pharmacies in the area. Foursquare request\n",
    "       - operating hours. Foursquare request\n",
    "   - Data Exploration, Feature engineering for optimal definition of features (criteria)\n",
    "   - Classification of layers  \n",
    "   - Clustering according to criteria\n",
    "       - of traffic\n",
    "       - of distance\n",
    "           - proximity - hospitals, markets\n",
    "           - away - existing pharmacies\n",
    "   - View with Folium Maps\n",
    "   - Presentation of the conclusions to the investor\n"
   ]
  },
  {
   "cell_type": "code",
   "execution_count": null,
   "metadata": {},
   "outputs": [],
   "source": []
  },
  {
   "cell_type": "code",
   "execution_count": null,
   "metadata": {},
   "outputs": [],
   "source": []
  }
 ],
 "metadata": {
  "kernelspec": {
   "display_name": "Python 3",
   "language": "python",
   "name": "python3"
  },
  "language_info": {
   "codemirror_mode": {
    "name": "ipython",
    "version": 3
   },
   "file_extension": ".py",
   "mimetype": "text/x-python",
   "name": "python",
   "nbconvert_exporter": "python",
   "pygments_lexer": "ipython3",
   "version": "3.7.3"
  }
 },
 "nbformat": 4,
 "nbformat_minor": 4
}
