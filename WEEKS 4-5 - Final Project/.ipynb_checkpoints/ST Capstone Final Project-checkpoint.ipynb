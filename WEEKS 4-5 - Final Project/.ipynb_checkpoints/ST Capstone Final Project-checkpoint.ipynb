{
 "cells": [
  {
   "cell_type": "code",
   "execution_count": null,
   "metadata": {},
   "outputs": [],
   "source": []
  },
  {
   "cell_type": "code",
   "execution_count": null,
   "metadata": {},
   "outputs": [],
   "source": []
  },
  {
   "cell_type": "code",
   "execution_count": 3,
   "metadata": {},
   "outputs": [],
   "source": [
    "# First, install and import all required libraries\n",
    "import numpy as np\n",
    "import pandas as pd\n",
    "from geopy.geocoders import Nominatim\n",
    "import matplotlib.cm as cm\n",
    "import matplotlib.colors as colors\n",
    "from sklearn.cluster import KMeans\n",
    "import folium\n",
    "import requests\n",
    "from pandas.io.json import json_normalize\n",
    "\n",
    "pd.set_option('display.max_columns', None)\n",
    "pd.set_option('display.max_rows', None)"
   ]
  },
  {
   "cell_type": "code",
   "execution_count": 9,
   "metadata": {},
   "outputs": [],
   "source": [
    "import yaml\n",
    "\n",
    "with open(\"./project_data/config.yaml\", \"r\") as f:\n",
    "    cfg = yaml.safe_load(f)\n",
    " \n",
    "search_params = {\n",
    "    'client_id': cfg['client_id'],\n",
    "    'client_secret': cfg['client_secret'],\n",
    "    'intent': 'browse',\n",
    "    'limit': 50,\n",
    "    'v': cfg['version']\n",
    "}"
   ]
  },
  {
   "cell_type": "code",
   "execution_count": 10,
   "metadata": {},
   "outputs": [
    {
     "name": "stdout",
     "output_type": "stream",
     "text": [
      "{'client_id': 'ZISPWCOUB0LBELFZ1MZVW5PATP4J4SRMYNJ5WRYEWMIJXD3P', 'client_secret': 'UJTCIOY2NJQ04AZZ4GWQ1A42DK1J4YLZOVIRF5U0OF2X2M2U', 'intent': 'browse', 'limit': 50, 'v': 20191030}\n"
     ]
    }
   ],
   "source": [
    "print(search_params)"
   ]
  },
  {
   "cell_type": "markdown",
   "metadata": {},
   "source": [
    "#### After understanding the investor intention and the importance of optimal conditions of the buildings locations we have to:"
   ]
  },
  {
   "cell_type": "markdown",
   "metadata": {},
   "source": [
    "   - Defining a large area - the city, the country\n",
    "   - Establishing the layers according to the investor criteria\n",
    "       - areas with heavy pedestrian traffic like large intersections, malls, markets etc. Foursquare request  \n",
    "       - hospitals, existing clinics. Foursquare request\n",
    "       - pharmacies in the area. Foursquare request\n",
    "       - operating hours. Foursquare request\n",
    "   - Data Exploration, Feature engineering for optimal definition of features (criteria)\n",
    "   - Classification of layers  \n",
    "   - Clustering according to criteria\n",
    "       - of traffic\n",
    "       - of distance\n",
    "           - proximity - hospitals, markets\n",
    "           - away - existing pharmacies\n",
    "   - View with Folium Maps\n",
    "   - Presentation of the conclusions to the investor\n"
   ]
  },
  {
   "cell_type": "markdown",
   "metadata": {},
   "source": [
    " ### Defining a large area - the city, the country\n"
   ]
  },
  {
   "cell_type": "markdown",
   "metadata": {},
   "source": [
    "#### The investor has choosen Paris, France"
   ]
  },
  {
   "cell_type": "code",
   "execution_count": 2,
   "metadata": {},
   "outputs": [],
   "source": [
    "# Now, we have to get location coordinates with Foursquare API\n"
   ]
  },
  {
   "cell_type": "code",
   "execution_count": null,
   "metadata": {},
   "outputs": [],
   "source": []
  },
  {
   "cell_type": "code",
   "execution_count": null,
   "metadata": {},
   "outputs": [],
   "source": []
  }
 ],
 "metadata": {
  "kernelspec": {
   "display_name": "Python 3",
   "language": "python",
   "name": "python3"
  },
  "language_info": {
   "codemirror_mode": {
    "name": "ipython",
    "version": 3
   },
   "file_extension": ".py",
   "mimetype": "text/x-python",
   "name": "python",
   "nbconvert_exporter": "python",
   "pygments_lexer": "ipython3",
   "version": "3.7.3"
  }
 },
 "nbformat": 4,
 "nbformat_minor": 4
}
