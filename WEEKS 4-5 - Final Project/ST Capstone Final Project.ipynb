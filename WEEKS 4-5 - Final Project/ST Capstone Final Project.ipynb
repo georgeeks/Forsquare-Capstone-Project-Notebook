{
 "cells": [
  {
   "cell_type": "markdown",
   "metadata": {},
   "source": [
    "# PHARMA FRANCISE  - new locations in Paris\n",
    "###  A new pharmacy chain - opportunity solutions for building location"
   ]
  },
  {
   "cell_type": "code",
   "execution_count": null,
   "metadata": {},
   "outputs": [],
   "source": [
    "# First, install and import all required libraries\n",
    "import numpy as np\n",
    "import pandas as pd\n",
    "from geopy.geocoders import Nominatim\n",
    "import matplotlib.cm as cm\n",
    "import matplotlib.colors as colors\n",
    "from sklearn.cluster import KMeans\n",
    "import folium\n",
    "import requests\n",
    "from pandas.io.json import json_normalize\n",
    "\n",
    "pd.set_option('display.max_columns', None)\n",
    "pd.set_option('display.max_rows', None)"
   ]
  },
  {
   "cell_type": "markdown",
   "metadata": {},
   "source": [
    " ### Defining a large area - the region, the city\n"
   ]
  },
  {
   "cell_type": "markdown",
   "metadata": {},
   "source": [
    "#### Search best region (Départements) in France by population density"
   ]
  },
  {
   "cell_type": "markdown",
   "metadata": {},
   "source": [
    "##### We found the The National Institute of Statistics and Economic Studies of France\n",
    "##### \\(<a href='https://www.insee.fr/fr/statistiques/2119468?sommaire=2119504#departements'>L’Institut national de la statistique et des études économiques</a>\\)\n",
    "    \n",
    "##### We downloaded the <a href='https://www.insee.fr/fr/statistiques/fichier/2387611/ensemble.xls'>France Department Population</a> and <a href='https://www.insee.fr/fr/statistiques/fichier/2387611/dep75.xls'>Paris (Ile-de-France)</a>\n",
    "\n",
    "![](project_images/France_assembly_vote.svg \"France regions\") \n",
    "@ By Gtaf (fichier d'origine Naturals) - Own work d'après Naturals, CC BY-SA 4.0, https://commons.wikimedia.org/w/index.php?curid=34089638"
   ]
  },
  {
   "cell_type": "code",
   "execution_count": null,
   "metadata": {},
   "outputs": [],
   "source": [
    "# Import and display population data\n",
    "france_dep_pop = pd.read_excel('https://www.insee.fr/fr/statistiques/fichier/2387611/ensemble.xls')\n",
    "# Explore data\n",
    "france_dep_pop.head(15)"
   ]
  },
  {
   "cell_type": "code",
   "execution_count": null,
   "metadata": {},
   "outputs": [],
   "source": [
    "# Remove unusefull rows\n",
    "columns = france_dep_pop.iloc[6]\n",
    "france_pop = france_dep_pop.iloc[7:,:]\n",
    "france_pop.columns = columns\n",
    "france_pop = france_pop.reset_index(drop=True)"
   ]
  },
  {
   "cell_type": "code",
   "execution_count": null,
   "metadata": {},
   "outputs": [],
   "source": [
    "france_pop.sort_values(by='Population totale', ascending=False)"
   ]
  },
  {
   "cell_type": "code",
   "execution_count": null,
   "metadata": {},
   "outputs": [],
   "source": [
    "department_max_pop = france_pop[france_pop['Population totale'] == france_pop['Population totale'].max()][['Nom de la région','Population totale']]"
   ]
  },
  {
   "cell_type": "code",
   "execution_count": null,
   "metadata": {},
   "outputs": [],
   "source": [
    "department_max_pop['Nom de la région']"
   ]
  },
  {
   "cell_type": "markdown",
   "metadata": {},
   "source": [
    "##### On Wikipedia we found Ile-de-France population density\n",
    "\n",
    "![](project_images/1124px-Île-de-France_region_locator_map2.svg.png \"Ile-de_France region\")@By Superbenjamin - Own work, CC BY-SA 4.0, https://commons.wikimedia.org/w/index.php?curid=45218020"
   ]
  },
  {
   "cell_type": "code",
   "execution_count": null,
   "metadata": {},
   "outputs": [],
   "source": [
    "# We need to import read_html\n",
    "from pandas.io.html import read_html\n",
    "\n",
    "# Read the page\n",
    "page = 'https://en.wikipedia.org/wiki/%C3%8Ele-de-France#Population_density'\n",
    "wikitables = read_html(page,  attrs={\"class\":\"wikitable\"})\n",
    "\n",
    "print (\"Extracted {num} wikitables\".format(num=len(wikitables)))"
   ]
  },
  {
   "cell_type": "markdown",
   "metadata": {},
   "source": [
    "##### Import Ile-de-France data"
   ]
  },
  {
   "cell_type": "code",
   "execution_count": null,
   "metadata": {},
   "outputs": [],
   "source": [
    "Ile_pop = pd.DataFrame(wikitables[0])\n",
    "Ile_pop.head()"
   ]
  },
  {
   "cell_type": "code",
   "execution_count": null,
   "metadata": {},
   "outputs": [],
   "source": [
    "# Finding the max population city: Paris\n",
    "max_pop_city = Ile_pop[Ile_pop['Population (2011)[37]'] == Ile_pop['Population (2011)[37]'].max()]['Department']\n",
    "max_pop_city"
   ]
  },
  {
   "cell_type": "markdown",
   "metadata": {},
   "source": [
    "#### We request the Paris coordinates"
   ]
  },
  {
   "cell_type": "code",
   "execution_count": 98,
   "metadata": {},
   "outputs": [
    {
     "name": "stdout",
     "output_type": "stream",
     "text": [
      "The geograpical coordinate of Paris are 48.8566101, 2.3514992.\n"
     ]
    }
   ],
   "source": [
    "address = 'Paris, Île-de-France, France métropolitaine, France'\n",
    "\n",
    "geolocator = Nominatim(user_agent=\"paris_explorer\")\n",
    "location = geolocator.geocode(address)\n",
    "latitude = location.latitude\n",
    "longitude = location.longitude\n",
    "print('The geograpical coordinate of Paris are {}, {}.'.format(latitude, longitude))"
   ]
  },
  {
   "cell_type": "markdown",
   "metadata": {},
   "source": [
    "#### And the Paris Arondisments and Quarters (neighborhoods)\n",
    "\n",
    "![](project_images/Population_density_map_of_Paris_in_2012.svg.png \"Population density map of_Paris\")@ By Paris 16 - Own work, CC BY-SA 4.0, https://commons.wikimedia.org/w/index.php?curid=38412578"
   ]
  },
  {
   "cell_type": "code",
   "execution_count": 145,
   "metadata": {},
   "outputs": [
    {
     "name": "stdout",
     "output_type": "stream",
     "text": [
      "Extracted 1 wikitables\n"
     ]
    }
   ],
   "source": [
    "page = 'https://en.wikipedia.org/wiki/Quarters_of_Paris'\n",
    "wikitables = read_html(page,  attrs={\"class\":\"wikitable\"})\n",
    "print (\"Extracted {num} wikitables\".format(num=len(wikitables)))"
   ]
  },
  {
   "cell_type": "code",
   "execution_count": 144,
   "metadata": {},
   "outputs": [
    {
     "data": {
      "text/html": [
       "<div>\n",
       "<style scoped>\n",
       "    .dataframe tbody tr th:only-of-type {\n",
       "        vertical-align: middle;\n",
       "    }\n",
       "\n",
       "    .dataframe tbody tr th {\n",
       "        vertical-align: top;\n",
       "    }\n",
       "\n",
       "    .dataframe thead th {\n",
       "        text-align: right;\n",
       "    }\n",
       "</style>\n",
       "<table border=\"1\" class=\"dataframe\">\n",
       "  <thead>\n",
       "    <tr style=\"text-align: right;\">\n",
       "      <th></th>\n",
       "      <th>Arrondissement(Districts)</th>\n",
       "      <th>Quartiers(Quarters)</th>\n",
       "      <th>Quartiers(Quarters).1</th>\n",
       "      <th>Population in1999[3]</th>\n",
       "      <th>Area(hectares)[3]</th>\n",
       "      <th>Map</th>\n",
       "    </tr>\n",
       "  </thead>\n",
       "  <tbody>\n",
       "    <tr>\n",
       "      <th>0</th>\n",
       "      <td>1st arrondissement(Called \"du Louvre\")</td>\n",
       "      <td>1st</td>\n",
       "      <td>Saint-Germain-l'Auxerrois</td>\n",
       "      <td>1672</td>\n",
       "      <td>86.9</td>\n",
       "      <td>NaN</td>\n",
       "    </tr>\n",
       "    <tr>\n",
       "      <th>1</th>\n",
       "      <td>1st arrondissement(Called \"du Louvre\")</td>\n",
       "      <td>2nd</td>\n",
       "      <td>Les Halles</td>\n",
       "      <td>8984</td>\n",
       "      <td>41.2</td>\n",
       "      <td>NaN</td>\n",
       "    </tr>\n",
       "    <tr>\n",
       "      <th>2</th>\n",
       "      <td>1st arrondissement(Called \"du Louvre\")</td>\n",
       "      <td>3rd</td>\n",
       "      <td>Palais-Royal</td>\n",
       "      <td>3195</td>\n",
       "      <td>27.4</td>\n",
       "      <td>NaN</td>\n",
       "    </tr>\n",
       "    <tr>\n",
       "      <th>3</th>\n",
       "      <td>1st arrondissement(Called \"du Louvre\")</td>\n",
       "      <td>4th</td>\n",
       "      <td>Place-Vendôme</td>\n",
       "      <td>3044</td>\n",
       "      <td>26.9</td>\n",
       "      <td>NaN</td>\n",
       "    </tr>\n",
       "    <tr>\n",
       "      <th>4</th>\n",
       "      <td>2nd arrondissement(Called \"de la Bourse\")</td>\n",
       "      <td>5th</td>\n",
       "      <td>Gaillon</td>\n",
       "      <td>1345</td>\n",
       "      <td>18.8</td>\n",
       "      <td>NaN</td>\n",
       "    </tr>\n",
       "  </tbody>\n",
       "</table>\n",
       "</div>"
      ],
      "text/plain": [
       "                   Arrondissement(Districts) Quartiers(Quarters)  \\\n",
       "0     1st arrondissement(Called \"du Louvre\")                 1st   \n",
       "1     1st arrondissement(Called \"du Louvre\")                 2nd   \n",
       "2     1st arrondissement(Called \"du Louvre\")                 3rd   \n",
       "3     1st arrondissement(Called \"du Louvre\")                 4th   \n",
       "4  2nd arrondissement(Called \"de la Bourse\")                 5th   \n",
       "\n",
       "       Quartiers(Quarters).1  Population in1999[3]  Area(hectares)[3]  Map  \n",
       "0  Saint-Germain-l'Auxerrois                  1672               86.9  NaN  \n",
       "1                 Les Halles                  8984               41.2  NaN  \n",
       "2               Palais-Royal                  3195               27.4  NaN  \n",
       "3              Place-Vendôme                  3044               26.9  NaN  \n",
       "4                    Gaillon                  1345               18.8  NaN  "
      ]
     },
     "execution_count": 144,
     "metadata": {},
     "output_type": "execute_result"
    }
   ],
   "source": [
    "p_quarters = pd.DataFrame(wikitables[0])\n",
    "p_quarters.head()"
   ]
  },
  {
   "cell_type": "code",
   "execution_count": null,
   "metadata": {},
   "outputs": [],
   "source": []
  },
  {
   "cell_type": "markdown",
   "metadata": {},
   "source": [
    "#### And request pharmacies location in Paris area"
   ]
  },
  {
   "cell_type": "code",
   "execution_count": 91,
   "metadata": {},
   "outputs": [],
   "source": [
    "import yaml\n",
    "\n",
    "with open(\"./project_data/config.yaml\", \"r\") as f:\n",
    "    cfg = yaml.safe_load(f)\n",
    " \n",
    "params = dict(\n",
    "  client_id=cfg['client_id'],\n",
    "  client_secret=cfg['client_secret'],\n",
    "  v=cfg['version'],\n",
    "  ll='{}, {}'.format(latitude, longitude),\n",
    "  intent='match',\n",
    "  radius=100000,\n",
    "  categoryId = '4bf58dd8d48988d10f951735'\n",
    ")\n",
    "\n",
    "import json, requests\n",
    "url = 'https://api.foursquare.com/v2/venues/explore'\n",
    "resp = requests.get(url=url, params=params)"
   ]
  },
  {
   "cell_type": "code",
   "execution_count": 102,
   "metadata": {},
   "outputs": [],
   "source": [
    "data = resp.json()\n",
    "f_pharma_loc = data['response']['groups'][0]['items']"
   ]
  },
  {
   "cell_type": "code",
   "execution_count": null,
   "metadata": {},
   "outputs": [],
   "source": [
    "f_pharma_loc"
   ]
  },
  {
   "cell_type": "code",
   "execution_count": null,
   "metadata": {},
   "outputs": [],
   "source": [
    "pharma_venues = []\n",
    "for i, x in enumerate(f_pharma_loc):\n",
    "    for key, val in x.items():\n",
    "        if key == 'venue':\n",
    "            pharma_venues.append(val)\n",
    "            \n",
    "print(pharma_venues)"
   ]
  },
  {
   "cell_type": "markdown",
   "metadata": {},
   "source": [
    "#### After understanding the investor intention and the importance of optimal conditions of the buildings locations we have to:"
   ]
  },
  {
   "cell_type": "markdown",
   "metadata": {},
   "source": [
    "   - Defining a large area - the city, the country\n",
    "   - Establishing the layers according to the investor criteria\n",
    "       - areas with heavy pedestrian traffic like large intersections, malls, markets etc. Foursquare request  \n",
    "       - hospitals, existing clinics. Foursquare request\n",
    "       - pharmacies in the area. Foursquare request\n",
    "       - operating hours. Foursquare request\n",
    "   - Data Exploration, Feature engineering for optimal definition of features (criteria)\n",
    "   - Classification of layers  \n",
    "   - Clustering according to criteria\n",
    "       - of traffic\n",
    "       - of distance\n",
    "           - proximity - hospitals, markets\n",
    "           - away - existing pharmacies\n",
    "   - View with Folium Maps\n",
    "   - Presentation of the conclusions to the investor\n"
   ]
  },
  {
   "cell_type": "markdown",
   "metadata": {},
   "source": [
    "#### The investor has choosen Paris, France"
   ]
  },
  {
   "cell_type": "code",
   "execution_count": null,
   "metadata": {},
   "outputs": [],
   "source": [
    "# Now, let's get Paris coordinates with Foursquare API\n"
   ]
  },
  {
   "cell_type": "code",
   "execution_count": null,
   "metadata": {},
   "outputs": [],
   "source": []
  },
  {
   "cell_type": "code",
   "execution_count": null,
   "metadata": {},
   "outputs": [],
   "source": []
  }
 ],
 "metadata": {
  "kernelspec": {
   "display_name": "Python 3",
   "language": "python",
   "name": "python3"
  },
  "language_info": {
   "codemirror_mode": {
    "name": "ipython",
    "version": 3
   },
   "file_extension": ".py",
   "mimetype": "text/x-python",
   "name": "python",
   "nbconvert_exporter": "python",
   "pygments_lexer": "ipython3",
   "version": "3.7.3"
  }
 },
 "nbformat": 4,
 "nbformat_minor": 4
}
