{
 "cells": [
  {
   "cell_type": "markdown",
   "metadata": {},
   "source": [
    "# PHARMA FRANCISE  - new locations in Paris\n",
    "###  A new pharmacy chain - opportunity solutions for building location"
   ]
  },
  {
   "cell_type": "code",
   "execution_count": 162,
   "metadata": {},
   "outputs": [],
   "source": [
    "# First, install and import all required libraries\n",
    "import numpy as np\n",
    "import pandas as pd\n",
    "from geopy.geocoders import Nominatim\n",
    "import geocoder # to get coordinates\n",
    "\n",
    "import matplotlib.cm as cm\n",
    "import matplotlib.colors as colors\n",
    "from sklearn.cluster import KMeans\n",
    "import folium\n",
    "import requests\n",
    "from pandas.io.json import json_normalize\n",
    "\n",
    "pd.set_option('display.max_columns', None)\n",
    "pd.set_option('display.max_rows', None)"
   ]
  },
  {
   "cell_type": "markdown",
   "metadata": {},
   "source": [
    " ### Defining a large area - the region, the city\n"
   ]
  },
  {
   "cell_type": "markdown",
   "metadata": {},
   "source": [
    "#### Search best region (Départements) in France by population density"
   ]
  },
  {
   "cell_type": "markdown",
   "metadata": {},
   "source": [
    "##### We found the The National Institute of Statistics and Economic Studies of France\n",
    "##### \\(<a href='https://www.insee.fr/fr/statistiques/2119468?sommaire=2119504#departements'>L’Institut national de la statistique et des études économiques</a>\\)\n",
    "    \n",
    "##### We downloaded the <a href='https://www.insee.fr/fr/statistiques/fichier/2387611/ensemble.xls'>France Department Population</a> and <a href='https://www.insee.fr/fr/statistiques/fichier/2387611/dep75.xls'>Paris (Ile-de-France)</a>\n",
    "\n",
    "![](project_images/France_assembly_vote.svg \"France regions\") \n",
    "@ By Gtaf (fichier d'origine Naturals) - Own work d'après Naturals, CC BY-SA 4.0, https://commons.wikimedia.org/w/index.php?curid=34089638"
   ]
  },
  {
   "cell_type": "code",
   "execution_count": null,
   "metadata": {},
   "outputs": [],
   "source": [
    "# Import and display population data\n",
    "france_dep_pop = pd.read_excel('https://www.insee.fr/fr/statistiques/fichier/2387611/ensemble.xls')\n",
    "# Explore data\n",
    "france_dep_pop.head(15)"
   ]
  },
  {
   "cell_type": "code",
   "execution_count": null,
   "metadata": {},
   "outputs": [],
   "source": [
    "# Remove unusefull rows\n",
    "columns = france_dep_pop.iloc[6]\n",
    "france_pop = france_dep_pop.iloc[7:,:]\n",
    "france_pop.columns = columns\n",
    "france_pop = france_pop.reset_index(drop=True)"
   ]
  },
  {
   "cell_type": "code",
   "execution_count": null,
   "metadata": {},
   "outputs": [],
   "source": [
    "france_pop.sort_values(by='Population totale', ascending=False)"
   ]
  },
  {
   "cell_type": "code",
   "execution_count": null,
   "metadata": {},
   "outputs": [],
   "source": [
    "department_max_pop = france_pop[france_pop['Population totale'] == france_pop['Population totale'].max()][['Nom de la région','Population totale']]"
   ]
  },
  {
   "cell_type": "code",
   "execution_count": null,
   "metadata": {},
   "outputs": [],
   "source": [
    "department_max_pop['Nom de la région']"
   ]
  },
  {
   "cell_type": "markdown",
   "metadata": {},
   "source": [
    "##### On Wikipedia we found Ile-de-France population density\n",
    "\n",
    "![](project_images/1124px-Île-de-France_region_locator_map2.svg.png \"Ile-de_France region\")@By Superbenjamin - Own work, CC BY-SA 4.0, https://commons.wikimedia.org/w/index.php?curid=45218020"
   ]
  },
  {
   "cell_type": "code",
   "execution_count": null,
   "metadata": {},
   "outputs": [],
   "source": [
    "# We need to import read_html\n",
    "from pandas.io.html import read_html\n",
    "\n",
    "# Read the page\n",
    "page = 'https://en.wikipedia.org/wiki/%C3%8Ele-de-France#Population_density'\n",
    "wikitables = read_html(page,  attrs={\"class\":\"wikitable\"})\n",
    "\n",
    "print (\"Extracted {num} wikitables\".format(num=len(wikitables)))"
   ]
  },
  {
   "cell_type": "markdown",
   "metadata": {},
   "source": [
    "##### Import Ile-de-France data"
   ]
  },
  {
   "cell_type": "code",
   "execution_count": null,
   "metadata": {},
   "outputs": [],
   "source": [
    "Ile_pop = pd.DataFrame(wikitables[0])\n",
    "Ile_pop.head()"
   ]
  },
  {
   "cell_type": "code",
   "execution_count": null,
   "metadata": {},
   "outputs": [],
   "source": [
    "# Finding the max population city: Paris\n",
    "max_pop_city = Ile_pop[Ile_pop['Population (2011)[37]'] == Ile_pop['Population (2011)[37]'].max()]['Department']\n",
    "max_pop_city"
   ]
  },
  {
   "cell_type": "markdown",
   "metadata": {},
   "source": [
    "#### We request the Paris coordinates"
   ]
  },
  {
   "cell_type": "code",
   "execution_count": 98,
   "metadata": {},
   "outputs": [
    {
     "name": "stdout",
     "output_type": "stream",
     "text": [
      "The geograpical coordinate of Paris are 48.8566101, 2.3514992.\n"
     ]
    }
   ],
   "source": [
    "address = 'Paris, Île-de-France, France métropolitaine, France'\n",
    "\n",
    "geolocator = Nominatim(user_agent=\"paris_explorer\")\n",
    "location = geolocator.geocode(address)\n",
    "paris_latitude = location.latitude\n",
    "paris_longitude = location.longitude\n",
    "print('The geograpical coordinate of Paris are {}, {}.'.format(paris_latitude, paris_longitude))"
   ]
  },
  {
   "cell_type": "code",
   "execution_count": 193,
   "metadata": {},
   "outputs": [],
   "source": [
    "paris_latitude = location.latitude\n",
    "paris_longitude = location.longitude"
   ]
  },
  {
   "cell_type": "markdown",
   "metadata": {},
   "source": [
    "#### And the Paris Arondisments and Quarters (neighborhoods)\n",
    "\n",
    "![](project_images/Population_density_map_of_Paris_in_2012.svg.png \"Population density map of_Paris\")@ By Paris 16 - Own work, CC BY-SA 4.0, https://commons.wikimedia.org/w/index.php?curid=38412578"
   ]
  },
  {
   "cell_type": "code",
   "execution_count": 156,
   "metadata": {},
   "outputs": [
    {
     "name": "stdout",
     "output_type": "stream",
     "text": [
      "Extracted 1 wikitables\n"
     ]
    }
   ],
   "source": [
    "page = 'https://en.wikipedia.org/wiki/Quarters_of_Paris'\n",
    "wikitables = read_html(page,  attrs={\"class\":\"wikitable\"})\n",
    "print (\"Extracted {num} wikitables\".format(num=len(wikitables)))"
   ]
  },
  {
   "cell_type": "code",
   "execution_count": 182,
   "metadata": {},
   "outputs": [
    {
     "data": {
      "text/html": [
       "<div>\n",
       "<style scoped>\n",
       "    .dataframe tbody tr th:only-of-type {\n",
       "        vertical-align: middle;\n",
       "    }\n",
       "\n",
       "    .dataframe tbody tr th {\n",
       "        vertical-align: top;\n",
       "    }\n",
       "\n",
       "    .dataframe thead th {\n",
       "        text-align: right;\n",
       "    }\n",
       "</style>\n",
       "<table border=\"1\" class=\"dataframe\">\n",
       "  <thead>\n",
       "    <tr style=\"text-align: right;\">\n",
       "      <th></th>\n",
       "      <th>Arrondissement(Districts)</th>\n",
       "      <th>Quartiers(Quarters)</th>\n",
       "      <th>Quartiers(Quarters).1</th>\n",
       "      <th>Population in1999[3]</th>\n",
       "      <th>Area(hectares)[3]</th>\n",
       "      <th>Map</th>\n",
       "    </tr>\n",
       "  </thead>\n",
       "  <tbody>\n",
       "    <tr>\n",
       "      <th>0</th>\n",
       "      <td>1st arrondissement(Called \"du Louvre\")</td>\n",
       "      <td>1st</td>\n",
       "      <td>Saint-Germain-l'Auxerrois</td>\n",
       "      <td>1672</td>\n",
       "      <td>86.9</td>\n",
       "      <td>NaN</td>\n",
       "    </tr>\n",
       "    <tr>\n",
       "      <th>1</th>\n",
       "      <td>1st arrondissement(Called \"du Louvre\")</td>\n",
       "      <td>2nd</td>\n",
       "      <td>Les Halles</td>\n",
       "      <td>8984</td>\n",
       "      <td>41.2</td>\n",
       "      <td>NaN</td>\n",
       "    </tr>\n",
       "    <tr>\n",
       "      <th>2</th>\n",
       "      <td>1st arrondissement(Called \"du Louvre\")</td>\n",
       "      <td>3rd</td>\n",
       "      <td>Palais-Royal</td>\n",
       "      <td>3195</td>\n",
       "      <td>27.4</td>\n",
       "      <td>NaN</td>\n",
       "    </tr>\n",
       "    <tr>\n",
       "      <th>3</th>\n",
       "      <td>1st arrondissement(Called \"du Louvre\")</td>\n",
       "      <td>4th</td>\n",
       "      <td>Place-Vendôme</td>\n",
       "      <td>3044</td>\n",
       "      <td>26.9</td>\n",
       "      <td>NaN</td>\n",
       "    </tr>\n",
       "    <tr>\n",
       "      <th>4</th>\n",
       "      <td>2nd arrondissement(Called \"de la Bourse\")</td>\n",
       "      <td>5th</td>\n",
       "      <td>Gaillon</td>\n",
       "      <td>1345</td>\n",
       "      <td>18.8</td>\n",
       "      <td>NaN</td>\n",
       "    </tr>\n",
       "  </tbody>\n",
       "</table>\n",
       "</div>"
      ],
      "text/plain": [
       "                   Arrondissement(Districts) Quartiers(Quarters)  \\\n",
       "0     1st arrondissement(Called \"du Louvre\")                 1st   \n",
       "1     1st arrondissement(Called \"du Louvre\")                 2nd   \n",
       "2     1st arrondissement(Called \"du Louvre\")                 3rd   \n",
       "3     1st arrondissement(Called \"du Louvre\")                 4th   \n",
       "4  2nd arrondissement(Called \"de la Bourse\")                 5th   \n",
       "\n",
       "       Quartiers(Quarters).1  Population in1999[3]  Area(hectares)[3]  Map  \n",
       "0  Saint-Germain-l'Auxerrois                  1672               86.9  NaN  \n",
       "1                 Les Halles                  8984               41.2  NaN  \n",
       "2               Palais-Royal                  3195               27.4  NaN  \n",
       "3              Place-Vendôme                  3044               26.9  NaN  \n",
       "4                    Gaillon                  1345               18.8  NaN  "
      ]
     },
     "execution_count": 182,
     "metadata": {},
     "output_type": "execute_result"
    }
   ],
   "source": [
    "p_quarters = pd.DataFrame(wikitables[0])\n",
    "p_quarters.head()"
   ]
  },
  {
   "cell_type": "code",
   "execution_count": 184,
   "metadata": {},
   "outputs": [],
   "source": [
    "quarters = p_quarters['Quartiers(Quarters).1']\n",
    "p_quarters = pd.DataFrame(quarters)"
   ]
  },
  {
   "cell_type": "code",
   "execution_count": 185,
   "metadata": {},
   "outputs": [],
   "source": [
    "columns = ['Quarters']\n",
    "p_quarters.columns = columns"
   ]
  },
  {
   "cell_type": "code",
   "execution_count": 165,
   "metadata": {},
   "outputs": [],
   "source": [
    "def get_latlng(quarter):\n",
    "    # initialize your variable to None\n",
    "    lat_lng_coords = None\n",
    "    # loop until you get the coordinates\n",
    "    while(lat_lng_coords is None):\n",
    "        g = geocoder.arcgis('{}, Paris, France'.format(quarter))\n",
    "        lat_lng_coords = g.latlng\n",
    "    return lat_lng_coords\n",
    "coords = [ get_latlng(quarter) for quarter in list(p_quarters) ]"
   ]
  },
  {
   "cell_type": "code",
   "execution_count": 187,
   "metadata": {},
   "outputs": [],
   "source": [
    "quarters_coords = pd.DataFrame(coords, columns=['Latitude', 'Longitude'])"
   ]
  },
  {
   "cell_type": "code",
   "execution_count": 188,
   "metadata": {},
   "outputs": [],
   "source": [
    "# Now, merge the coordinates into the original dataframe\n",
    "p_quarters['Latitude'] = quarters_coords['Latitude']\n",
    "p_quarters['Longitude'] = quarters_coords['Longitude']"
   ]
  },
  {
   "cell_type": "code",
   "execution_count": 192,
   "metadata": {},
   "outputs": [
    {
     "name": "stdout",
     "output_type": "stream",
     "text": [
      "(80, 3)\n"
     ]
    },
    {
     "data": {
      "text/html": [
       "<div>\n",
       "<style scoped>\n",
       "    .dataframe tbody tr th:only-of-type {\n",
       "        vertical-align: middle;\n",
       "    }\n",
       "\n",
       "    .dataframe tbody tr th {\n",
       "        vertical-align: top;\n",
       "    }\n",
       "\n",
       "    .dataframe thead th {\n",
       "        text-align: right;\n",
       "    }\n",
       "</style>\n",
       "<table border=\"1\" class=\"dataframe\">\n",
       "  <thead>\n",
       "    <tr style=\"text-align: right;\">\n",
       "      <th></th>\n",
       "      <th>Quarters</th>\n",
       "      <th>Latitude</th>\n",
       "      <th>Longitude</th>\n",
       "    </tr>\n",
       "  </thead>\n",
       "  <tbody>\n",
       "    <tr>\n",
       "      <th>0</th>\n",
       "      <td>Saint-Germain-l'Auxerrois</td>\n",
       "      <td>48.85971</td>\n",
       "      <td>2.34024</td>\n",
       "    </tr>\n",
       "    <tr>\n",
       "      <th>1</th>\n",
       "      <td>Les Halles</td>\n",
       "      <td>48.86319</td>\n",
       "      <td>2.34201</td>\n",
       "    </tr>\n",
       "    <tr>\n",
       "      <th>2</th>\n",
       "      <td>Palais-Royal</td>\n",
       "      <td>48.86350</td>\n",
       "      <td>2.33876</td>\n",
       "    </tr>\n",
       "    <tr>\n",
       "      <th>3</th>\n",
       "      <td>Place-Vendôme</td>\n",
       "      <td>48.86778</td>\n",
       "      <td>2.33011</td>\n",
       "    </tr>\n",
       "    <tr>\n",
       "      <th>4</th>\n",
       "      <td>Gaillon</td>\n",
       "      <td>48.86902</td>\n",
       "      <td>2.33445</td>\n",
       "    </tr>\n",
       "  </tbody>\n",
       "</table>\n",
       "</div>"
      ],
      "text/plain": [
       "                    Quarters  Latitude  Longitude\n",
       "0  Saint-Germain-l'Auxerrois  48.85971    2.34024\n",
       "1                 Les Halles  48.86319    2.34201\n",
       "2               Palais-Royal  48.86350    2.33876\n",
       "3              Place-Vendôme  48.86778    2.33011\n",
       "4                    Gaillon  48.86902    2.33445"
      ]
     },
     "execution_count": 192,
     "metadata": {},
     "output_type": "execute_result"
    }
   ],
   "source": [
    "print(p_quarters.shape)\n",
    "p_quarters.head()"
   ]
  },
  {
   "cell_type": "code",
   "execution_count": 191,
   "metadata": {},
   "outputs": [],
   "source": [
    "# Save the Quarters as .csv\n",
    "p_quarters.to_csv(\"./project_data/p_quarters.csv\", index=False)"
   ]
  },
  {
   "cell_type": "markdown",
   "metadata": {},
   "source": [
    "#### Let's create a map of Paris quarters using Folium"
   ]
  },
  {
   "cell_type": "code",
   "execution_count": 325,
   "metadata": {},
   "outputs": [
    {
     "data": {
      "text/html": [
       "<div style=\"width:100%;\"><div style=\"position:relative;width:100%;height:0;padding-bottom:60%;\"><iframe src=\"data:text/html;charset=utf-8;base64,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\" style=\"position:absolute;width:100%;height:100%;left:0;top:0;border:none !important;\" allowfullscreen webkitallowfullscreen mozallowfullscreen></iframe></div></div>"
      ],
      "text/plain": [
       "<folium.folium.Map at 0x1629fb1d080>"
      ]
     },
     "execution_count": 325,
     "metadata": {},
     "output_type": "execute_result"
    }
   ],
   "source": [
    "map_quarters = folium.Map(location=[paris_latitude, paris_longitude], zoom_start=11, tiles=\"OpenStreetMap\")\n",
    "\n",
    "# add markers to map\n",
    "for lat, lng, neighborhood in zip(p_quarters['Latitude'], p_quarters['Longitude'], p_quarters['Quarters']):\n",
    "    label = '{}'.format(neighborhood)\n",
    "    label = folium.Popup(label, parse_html=True)\n",
    "    folium.CircleMarker(\n",
    "        [lat, lng],\n",
    "        radius=3,\n",
    "        popup=label,\n",
    "        color='red',\n",
    "        fill=True,\n",
    "        fill_color='#FF0000', #3186cc\n",
    "        fill_opacity=0.4).add_to(map_quarters)  \n",
    "    \n",
    "map_quarters"
   ]
  },
  {
   "cell_type": "code",
   "execution_count": 207,
   "metadata": {},
   "outputs": [],
   "source": [
    "# And save the map as HTML file\n",
    "map_quarters.save('./project_maps/map_quarters.html')"
   ]
  },
  {
   "cell_type": "code",
   "execution_count": 208,
   "metadata": {},
   "outputs": [],
   "source": [
    "import yaml\n",
    "\n",
    "with open(\"./project_data/config.yaml\", \"r\") as f:\n",
    "    cfg = yaml.safe_load(f)"
   ]
  },
  {
   "cell_type": "code",
   "execution_count": 219,
   "metadata": {},
   "outputs": [],
   "source": [
    "CLIENT_ID=cfg['client_id']\n",
    "CLIENT_SECRET=cfg['client_secret']\n",
    "VERSION=cfg['version']\n",
    "radius = 2000\n",
    "LIMIT = 150\n",
    "\n",
    "venues = []\n",
    "\n",
    "for latitude, longitude, neighborhood in zip(p_quarters['Latitude'], p_quarters['Longitude'], p_quarters['Quarters']):\n",
    "    \n",
    "    url = \"https://api.foursquare.com/v2/venues/explore?client_id={}&client_secret={}&v={}&ll={},{}&radius={}&limit={}\".format(\n",
    "        CLIENT_ID,\n",
    "        CLIENT_SECRET,\n",
    "        VERSION,\n",
    "        latitude, \n",
    "        longitude,\n",
    "        radius, \n",
    "        LIMIT)\n",
    "\n",
    "    results = requests.get(url).json()[\"response\"]['groups'][0]['items']\n",
    "    \n",
    "    for venue in results:\n",
    "        venues.append((\n",
    "            neighborhood,\n",
    "            latitude, \n",
    "            longitude, \n",
    "            venue['venue']['name'], \n",
    "            venue['venue']['location']['lat'], \n",
    "            venue['venue']['location']['lng'],  \n",
    "            venue['venue']['categories'][0]['name']))"
   ]
  },
  {
   "cell_type": "code",
   "execution_count": 220,
   "metadata": {},
   "outputs": [
    {
     "name": "stdout",
     "output_type": "stream",
     "text": [
      "(7803, 7)\n"
     ]
    },
    {
     "data": {
      "text/html": [
       "<div>\n",
       "<style scoped>\n",
       "    .dataframe tbody tr th:only-of-type {\n",
       "        vertical-align: middle;\n",
       "    }\n",
       "\n",
       "    .dataframe tbody tr th {\n",
       "        vertical-align: top;\n",
       "    }\n",
       "\n",
       "    .dataframe thead th {\n",
       "        text-align: right;\n",
       "    }\n",
       "</style>\n",
       "<table border=\"1\" class=\"dataframe\">\n",
       "  <thead>\n",
       "    <tr style=\"text-align: right;\">\n",
       "      <th></th>\n",
       "      <th>Neighborhood</th>\n",
       "      <th>Latitude</th>\n",
       "      <th>Longitude</th>\n",
       "      <th>VenueName</th>\n",
       "      <th>VenueLatitude</th>\n",
       "      <th>VenueLongitude</th>\n",
       "      <th>VenueCategory</th>\n",
       "    </tr>\n",
       "  </thead>\n",
       "  <tbody>\n",
       "    <tr>\n",
       "      <th>0</th>\n",
       "      <td>Saint-Germain-l'Auxerrois</td>\n",
       "      <td>48.85971</td>\n",
       "      <td>2.34024</td>\n",
       "      <td>Cour Carrée du Louvre</td>\n",
       "      <td>48.860360</td>\n",
       "      <td>2.338543</td>\n",
       "      <td>Pedestrian Plaza</td>\n",
       "    </tr>\n",
       "    <tr>\n",
       "      <th>1</th>\n",
       "      <td>Saint-Germain-l'Auxerrois</td>\n",
       "      <td>48.85971</td>\n",
       "      <td>2.34024</td>\n",
       "      <td>Place du Louvre</td>\n",
       "      <td>48.859841</td>\n",
       "      <td>2.340822</td>\n",
       "      <td>Plaza</td>\n",
       "    </tr>\n",
       "    <tr>\n",
       "      <th>2</th>\n",
       "      <td>Saint-Germain-l'Auxerrois</td>\n",
       "      <td>48.85971</td>\n",
       "      <td>2.34024</td>\n",
       "      <td>La Vénus de Milo (Vénus de Milo)</td>\n",
       "      <td>48.859943</td>\n",
       "      <td>2.337234</td>\n",
       "      <td>Exhibit</td>\n",
       "    </tr>\n",
       "    <tr>\n",
       "      <th>3</th>\n",
       "      <td>Saint-Germain-l'Auxerrois</td>\n",
       "      <td>48.85971</td>\n",
       "      <td>2.34024</td>\n",
       "      <td>Pont des Arts</td>\n",
       "      <td>48.858565</td>\n",
       "      <td>2.337635</td>\n",
       "      <td>Bridge</td>\n",
       "    </tr>\n",
       "    <tr>\n",
       "      <th>4</th>\n",
       "      <td>Saint-Germain-l'Auxerrois</td>\n",
       "      <td>48.85971</td>\n",
       "      <td>2.34024</td>\n",
       "      <td>Musée du Louvre</td>\n",
       "      <td>48.860847</td>\n",
       "      <td>2.336440</td>\n",
       "      <td>Art Museum</td>\n",
       "    </tr>\n",
       "  </tbody>\n",
       "</table>\n",
       "</div>"
      ],
      "text/plain": [
       "                Neighborhood  Latitude  Longitude  \\\n",
       "0  Saint-Germain-l'Auxerrois  48.85971    2.34024   \n",
       "1  Saint-Germain-l'Auxerrois  48.85971    2.34024   \n",
       "2  Saint-Germain-l'Auxerrois  48.85971    2.34024   \n",
       "3  Saint-Germain-l'Auxerrois  48.85971    2.34024   \n",
       "4  Saint-Germain-l'Auxerrois  48.85971    2.34024   \n",
       "\n",
       "                          VenueName  VenueLatitude  VenueLongitude  \\\n",
       "0             Cour Carrée du Louvre      48.860360        2.338543   \n",
       "1                   Place du Louvre      48.859841        2.340822   \n",
       "2  La Vénus de Milo (Vénus de Milo)      48.859943        2.337234   \n",
       "3                     Pont des Arts      48.858565        2.337635   \n",
       "4                   Musée du Louvre      48.860847        2.336440   \n",
       "\n",
       "      VenueCategory  \n",
       "0  Pedestrian Plaza  \n",
       "1             Plaza  \n",
       "2           Exhibit  \n",
       "3            Bridge  \n",
       "4        Art Museum  "
      ]
     },
     "execution_count": 220,
     "metadata": {},
     "output_type": "execute_result"
    }
   ],
   "source": [
    "venues_df = pd.DataFrame(venues)\n",
    "\n",
    "venues_df.columns = ['Neighborhood', 'Latitude', 'Longitude', 'VenueName', 'VenueLatitude', 'VenueLongitude', 'VenueCategory']\n",
    "\n",
    "print(venues_df.shape)\n",
    "venues_df.head()"
   ]
  },
  {
   "cell_type": "code",
   "execution_count": 221,
   "metadata": {},
   "outputs": [],
   "source": [
    "# Save the venues as .csv\n",
    "venues_df.to_csv(\"./project_data/venues_df.csv\", index=False)"
   ]
  },
  {
   "cell_type": "code",
   "execution_count": null,
   "metadata": {},
   "outputs": [],
   "source": [
    "venues_df.groupby([\"Neighborhood\"]).count()"
   ]
  },
  {
   "cell_type": "code",
   "execution_count": 242,
   "metadata": {},
   "outputs": [
    {
     "data": {
      "text/plain": [
       "11"
      ]
     },
     "execution_count": 242,
     "metadata": {},
     "output_type": "execute_result"
    }
   ],
   "source": [
    "\n",
    "pharma_no = len(list((x for x in venues_df['VenueCategory'].tolist() if x == 'Pharmacy')))\n",
    "pharma_no"
   ]
  },
  {
   "cell_type": "markdown",
   "metadata": {},
   "source": [
    "#### 11 are not enough. Now let's search(request) for pharmacies in every neighborhood"
   ]
  },
  {
   "cell_type": "code",
   "execution_count": 286,
   "metadata": {},
   "outputs": [],
   "source": [
    "CLIENT_ID=cfg['client_id']\n",
    "CLIENT_SECRET=cfg['client_secret']\n",
    "VERSION=cfg['version']\n",
    "radius = 2000\n",
    "LIMIT = 150\n",
    "categoryId = '4bf58dd8d48988d10f951735' # Pharmacies Id\n",
    "\n",
    "venues = []\n",
    "\n",
    "for latitude, longitude, neighborhood in zip(p_quarters['Latitude'], p_quarters['Longitude'], p_quarters['Quarters']):\n",
    "    \n",
    "    url = \"https://api.foursquare.com/v2/venues/search?client_id={}&client_secret={}&v={}&ll={},{}&radius={}&limit={}&categoryId={}\".format(\n",
    "        CLIENT_ID,\n",
    "        CLIENT_SECRET,\n",
    "        VERSION,\n",
    "        latitude, \n",
    "        longitude,\n",
    "        radius, \n",
    "        LIMIT,\n",
    "        categoryId\n",
    ")\n",
    "\n",
    "    results = requests.get(url).json()['response']['venues']\n",
    "    \n",
    "    for venue in results:\n",
    "        venues.append((\n",
    "            neighborhood,\n",
    "            latitude, \n",
    "            longitude, \n",
    "            venue['name'], \n",
    "            venue['location']['lat'], \n",
    "            venue['location']['lng']))"
   ]
  },
  {
   "cell_type": "code",
   "execution_count": 289,
   "metadata": {},
   "outputs": [
    {
     "name": "stdout",
     "output_type": "stream",
     "text": [
      "(3666, 6)\n"
     ]
    },
    {
     "data": {
      "text/html": [
       "<div>\n",
       "<style scoped>\n",
       "    .dataframe tbody tr th:only-of-type {\n",
       "        vertical-align: middle;\n",
       "    }\n",
       "\n",
       "    .dataframe tbody tr th {\n",
       "        vertical-align: top;\n",
       "    }\n",
       "\n",
       "    .dataframe thead th {\n",
       "        text-align: right;\n",
       "    }\n",
       "</style>\n",
       "<table border=\"1\" class=\"dataframe\">\n",
       "  <thead>\n",
       "    <tr style=\"text-align: right;\">\n",
       "      <th></th>\n",
       "      <th>Neighborhood</th>\n",
       "      <th>Latitude</th>\n",
       "      <th>Longitude</th>\n",
       "      <th>VenueName</th>\n",
       "      <th>VenueLatitude</th>\n",
       "      <th>VenueLongitude</th>\n",
       "    </tr>\n",
       "  </thead>\n",
       "  <tbody>\n",
       "    <tr>\n",
       "      <th>0</th>\n",
       "      <td>Saint-Germain-l'Auxerrois</td>\n",
       "      <td>48.85971</td>\n",
       "      <td>2.34024</td>\n",
       "      <td>Pharmacie du Pont Neuf</td>\n",
       "      <td>48.860037</td>\n",
       "      <td>2.345189</td>\n",
       "    </tr>\n",
       "    <tr>\n",
       "      <th>1</th>\n",
       "      <td>Saint-Germain-l'Auxerrois</td>\n",
       "      <td>48.85971</td>\n",
       "      <td>2.34024</td>\n",
       "      <td>Pharmacie de la Place de la République</td>\n",
       "      <td>48.866460</td>\n",
       "      <td>2.364269</td>\n",
       "    </tr>\n",
       "    <tr>\n",
       "      <th>2</th>\n",
       "      <td>Saint-Germain-l'Auxerrois</td>\n",
       "      <td>48.85971</td>\n",
       "      <td>2.34024</td>\n",
       "      <td>Plus Pharmacie Bader</td>\n",
       "      <td>48.852454</td>\n",
       "      <td>2.343392</td>\n",
       "    </tr>\n",
       "    <tr>\n",
       "      <th>3</th>\n",
       "      <td>Saint-Germain-l'Auxerrois</td>\n",
       "      <td>48.85971</td>\n",
       "      <td>2.34024</td>\n",
       "      <td>City Pharma</td>\n",
       "      <td>48.852754</td>\n",
       "      <td>2.333343</td>\n",
       "    </tr>\n",
       "    <tr>\n",
       "      <th>4</th>\n",
       "      <td>Saint-Germain-l'Auxerrois</td>\n",
       "      <td>48.85971</td>\n",
       "      <td>2.34024</td>\n",
       "      <td>Pharmacie des Galeries</td>\n",
       "      <td>48.873959</td>\n",
       "      <td>2.331094</td>\n",
       "    </tr>\n",
       "  </tbody>\n",
       "</table>\n",
       "</div>"
      ],
      "text/plain": [
       "                Neighborhood  Latitude  Longitude  \\\n",
       "0  Saint-Germain-l'Auxerrois  48.85971    2.34024   \n",
       "1  Saint-Germain-l'Auxerrois  48.85971    2.34024   \n",
       "2  Saint-Germain-l'Auxerrois  48.85971    2.34024   \n",
       "3  Saint-Germain-l'Auxerrois  48.85971    2.34024   \n",
       "4  Saint-Germain-l'Auxerrois  48.85971    2.34024   \n",
       "\n",
       "                                VenueName  VenueLatitude  VenueLongitude  \n",
       "0                  Pharmacie du Pont Neuf      48.860037        2.345189  \n",
       "1  Pharmacie de la Place de la République      48.866460        2.364269  \n",
       "2                    Plus Pharmacie Bader      48.852454        2.343392  \n",
       "3                             City Pharma      48.852754        2.333343  \n",
       "4                  Pharmacie des Galeries      48.873959        2.331094  "
      ]
     },
     "execution_count": 289,
     "metadata": {},
     "output_type": "execute_result"
    }
   ],
   "source": [
    "all_neighb_pharma_df = pd.DataFrame(venues)\n",
    "\n",
    "all_neighb_pharma_df.columns = ['Neighborhood', 'Latitude', 'Longitude', 'VenueName', 'VenueLatitude', 'VenueLongitude']\n",
    "\n",
    "print(all_neighb_pharma_df.shape)\n",
    "all_neighb_pharma_df.head()"
   ]
  },
  {
   "cell_type": "code",
   "execution_count": 291,
   "metadata": {},
   "outputs": [],
   "source": [
    "all_neighb_pharma_df['VenueCategory'] = 'Pharmacy'\n"
   ]
  },
  {
   "cell_type": "markdown",
   "metadata": {},
   "source": [
    "#### 3666 are enough, aren't it? NO, it's a joke. Because it contains many many duplicates. Let's remove them!"
   ]
  },
  {
   "cell_type": "code",
   "execution_count": 313,
   "metadata": {},
   "outputs": [
    {
     "name": "stdout",
     "output_type": "stream",
     "text": [
      "(3666, 7)\n",
      "(375, 7)\n"
     ]
    }
   ],
   "source": [
    "print(all_neighb_pharma_df.shape)\n",
    "all_neighb_pharma_df.drop_duplicates(subset='VenueName', keep='first', inplace=True)\n",
    "print(all_neighb_pharma_df.shape)"
   ]
  },
  {
   "cell_type": "code",
   "execution_count": 314,
   "metadata": {},
   "outputs": [],
   "source": [
    "# Now, save all pharmacies as .csv\n",
    "all_neighb_pharma_df.to_csv(\"./project_data/all_neighb_pharma_df.csv\", index=False)"
   ]
  },
  {
   "cell_type": "markdown",
   "metadata": {},
   "source": [
    "#### Now, search for Hospitals in Paris!"
   ]
  },
  {
   "cell_type": "code",
   "execution_count": 294,
   "metadata": {},
   "outputs": [],
   "source": [
    "CLIENT_ID=cfg['client_id']\n",
    "CLIENT_SECRET=cfg['client_secret']\n",
    "VERSION=cfg['version']\n",
    "radius = 2000\n",
    "LIMIT = 150\n",
    "categoryId = '4bf58dd8d48988d196941735' # Hospitals Id\n",
    "\n",
    "venues = []\n",
    "\n",
    "for latitude, longitude, neighborhood in zip(p_quarters['Latitude'], p_quarters['Longitude'], p_quarters['Quarters']):\n",
    "    \n",
    "    url = \"https://api.foursquare.com/v2/venues/search?client_id={}&client_secret={}&v={}&ll={},{}&radius={}&limit={}&categoryId={}\".format(\n",
    "        CLIENT_ID,\n",
    "        CLIENT_SECRET,\n",
    "        VERSION,\n",
    "        latitude, \n",
    "        longitude,\n",
    "        radius, \n",
    "        LIMIT,\n",
    "        categoryId\n",
    ")\n",
    "\n",
    "    results = requests.get(url).json()['response']['venues']\n",
    "    \n",
    "    for venue in results:\n",
    "        venues.append((\n",
    "            neighborhood,\n",
    "            latitude, \n",
    "            longitude, \n",
    "            venue['name'], \n",
    "            venue['location']['lat'], \n",
    "            venue['location']['lng']))"
   ]
  },
  {
   "cell_type": "code",
   "execution_count": 298,
   "metadata": {},
   "outputs": [
    {
     "name": "stdout",
     "output_type": "stream",
     "text": [
      "(2782, 6)\n"
     ]
    },
    {
     "data": {
      "text/html": [
       "<div>\n",
       "<style scoped>\n",
       "    .dataframe tbody tr th:only-of-type {\n",
       "        vertical-align: middle;\n",
       "    }\n",
       "\n",
       "    .dataframe tbody tr th {\n",
       "        vertical-align: top;\n",
       "    }\n",
       "\n",
       "    .dataframe thead th {\n",
       "        text-align: right;\n",
       "    }\n",
       "</style>\n",
       "<table border=\"1\" class=\"dataframe\">\n",
       "  <thead>\n",
       "    <tr style=\"text-align: right;\">\n",
       "      <th></th>\n",
       "      <th>Neighborhood</th>\n",
       "      <th>Latitude</th>\n",
       "      <th>Longitude</th>\n",
       "      <th>VenueName</th>\n",
       "      <th>VenueLatitude</th>\n",
       "      <th>VenueLongitude</th>\n",
       "    </tr>\n",
       "  </thead>\n",
       "  <tbody>\n",
       "    <tr>\n",
       "      <th>0</th>\n",
       "      <td>Saint-Germain-l'Auxerrois</td>\n",
       "      <td>48.85971</td>\n",
       "      <td>2.34024</td>\n",
       "      <td>Clinique du Louvre</td>\n",
       "      <td>48.859652</td>\n",
       "      <td>2.341171</td>\n",
       "    </tr>\n",
       "    <tr>\n",
       "      <th>1</th>\n",
       "      <td>Saint-Germain-l'Auxerrois</td>\n",
       "      <td>48.85971</td>\n",
       "      <td>2.34024</td>\n",
       "      <td>American Hospital of Paris</td>\n",
       "      <td>48.870697</td>\n",
       "      <td>2.331678</td>\n",
       "    </tr>\n",
       "    <tr>\n",
       "      <th>2</th>\n",
       "      <td>Saint-Germain-l'Auxerrois</td>\n",
       "      <td>48.85971</td>\n",
       "      <td>2.34024</td>\n",
       "      <td>Hospital Nnecker</td>\n",
       "      <td>48.870183</td>\n",
       "      <td>2.351002</td>\n",
       "    </tr>\n",
       "    <tr>\n",
       "      <th>3</th>\n",
       "      <td>Saint-Germain-l'Auxerrois</td>\n",
       "      <td>48.85971</td>\n",
       "      <td>2.34024</td>\n",
       "      <td>Centre MST - Hôpital Saint-Louis</td>\n",
       "      <td>48.873544</td>\n",
       "      <td>2.365277</td>\n",
       "    </tr>\n",
       "    <tr>\n",
       "      <th>4</th>\n",
       "      <td>Saint-Germain-l'Auxerrois</td>\n",
       "      <td>48.85971</td>\n",
       "      <td>2.34024</td>\n",
       "      <td>Urgences Médico Judiciaires - Hôpital Hôtel-Dieu</td>\n",
       "      <td>48.854185</td>\n",
       "      <td>2.347411</td>\n",
       "    </tr>\n",
       "  </tbody>\n",
       "</table>\n",
       "</div>"
      ],
      "text/plain": [
       "                Neighborhood  Latitude  Longitude  \\\n",
       "0  Saint-Germain-l'Auxerrois  48.85971    2.34024   \n",
       "1  Saint-Germain-l'Auxerrois  48.85971    2.34024   \n",
       "2  Saint-Germain-l'Auxerrois  48.85971    2.34024   \n",
       "3  Saint-Germain-l'Auxerrois  48.85971    2.34024   \n",
       "4  Saint-Germain-l'Auxerrois  48.85971    2.34024   \n",
       "\n",
       "                                          VenueName  VenueLatitude  \\\n",
       "0                                Clinique du Louvre      48.859652   \n",
       "1                        American Hospital of Paris      48.870697   \n",
       "2                                  Hospital Nnecker      48.870183   \n",
       "3                  Centre MST - Hôpital Saint-Louis      48.873544   \n",
       "4  Urgences Médico Judiciaires - Hôpital Hôtel-Dieu      48.854185   \n",
       "\n",
       "   VenueLongitude  \n",
       "0        2.341171  \n",
       "1        2.331678  \n",
       "2        2.351002  \n",
       "3        2.365277  \n",
       "4        2.347411  "
      ]
     },
     "execution_count": 298,
     "metadata": {},
     "output_type": "execute_result"
    }
   ],
   "source": [
    "hospitals_df = pd.DataFrame(venues)\n",
    "\n",
    "hospitals_df.columns = ['Neighborhood', 'Latitude', 'Longitude', 'VenueName', 'VenueLatitude', 'VenueLongitude']\n",
    "\n",
    "print(hospitals_df.shape)\n",
    "hospitals_df.head()"
   ]
  },
  {
   "cell_type": "code",
   "execution_count": 299,
   "metadata": {},
   "outputs": [],
   "source": [
    "hospitals_df['VenueCategory'] = 'Hospital'"
   ]
  },
  {
   "cell_type": "code",
   "execution_count": 315,
   "metadata": {},
   "outputs": [
    {
     "data": {
      "text/plain": [
       "(247, 7)"
      ]
     },
     "execution_count": 315,
     "metadata": {},
     "output_type": "execute_result"
    }
   ],
   "source": [
    "# Drop duplicates\n",
    "hospitals_df.drop_duplicates(subset='VenueName', keep='first', inplace=True)\n",
    "hospitals_df.shape"
   ]
  },
  {
   "cell_type": "code",
   "execution_count": 316,
   "metadata": {},
   "outputs": [],
   "source": [
    "# Save hospitals as .csv\n",
    "hospitals_df.to_csv(\"./project_data/hospitals_df.csv\", index=False)"
   ]
  },
  {
   "cell_type": "markdown",
   "metadata": {},
   "source": [
    "#### Now, let's merge the dataframes"
   ]
  },
  {
   "cell_type": "code",
   "execution_count": 317,
   "metadata": {},
   "outputs": [],
   "source": [
    "all_venues_pharma_hosp = pd.concat([all_neighb_pharma_df, hospitals_df, venues_df])"
   ]
  },
  {
   "cell_type": "code",
   "execution_count": 318,
   "metadata": {},
   "outputs": [
    {
     "name": "stdout",
     "output_type": "stream",
     "text": [
      "(8425, 7)\n",
      "                Neighborhood  Latitude  Longitude  \\\n",
      "0  Saint-Germain-l'Auxerrois  48.85971    2.34024   \n",
      "1  Saint-Germain-l'Auxerrois  48.85971    2.34024   \n",
      "2  Saint-Germain-l'Auxerrois  48.85971    2.34024   \n",
      "3  Saint-Germain-l'Auxerrois  48.85971    2.34024   \n",
      "4  Saint-Germain-l'Auxerrois  48.85971    2.34024   \n",
      "\n",
      "                                VenueName  VenueLatitude  VenueLongitude  \\\n",
      "0                  Pharmacie du Pont Neuf      48.860037        2.345189   \n",
      "1  Pharmacie de la Place de la République      48.866460        2.364269   \n",
      "2                    Plus Pharmacie Bader      48.852454        2.343392   \n",
      "3                             City Pharma      48.852754        2.333343   \n",
      "4                  Pharmacie des Galeries      48.873959        2.331094   \n",
      "\n",
      "  VenueCategory  \n",
      "0      Pharmacy  \n",
      "1      Pharmacy  \n",
      "2      Pharmacy  \n",
      "3      Pharmacy  \n",
      "4      Pharmacy  \n"
     ]
    }
   ],
   "source": [
    "print(all_venues_pharma_hosp.shape)\n",
    "print(all_venues_pharma_hosp.head())"
   ]
  },
  {
   "cell_type": "code",
   "execution_count": 319,
   "metadata": {},
   "outputs": [
    {
     "data": {
      "text/plain": [
       "array(['Pharmacy', 'Hospital', 'Pedestrian Plaza', 'Plaza', 'Exhibit',\n",
       "       'Bridge', 'Art Museum', 'Wine Bar', 'Historic Site',\n",
       "       'French Restaurant', 'Theater', 'Cosmetics Shop', 'Restaurant',\n",
       "       'Cocktail Bar', 'Garden', 'Toy / Game Store', 'Sandwich Place',\n",
       "       'Udon Restaurant', 'Ramen Restaurant', 'Ice Cream Shop',\n",
       "       'Tapas Restaurant', 'Lebanese Restaurant', 'Seafood Restaurant',\n",
       "       'Burger Joint', 'Souvlaki Shop', 'Korean Restaurant',\n",
       "       'Japanese Restaurant', 'Italian Restaurant', 'Fountain',\n",
       "       'Souvenir Shop', 'Bookstore', 'Electronics Store', 'Art Gallery',\n",
       "       'Creperie', 'Clothing Store', 'Hotel', 'Bistro', 'Church', 'Park',\n",
       "       'Szechuan Restaurant', 'Pizza Place', 'Furniture / Home Store',\n",
       "       \"Women's Store\", 'Beer Bar', 'Israeli Restaurant', 'Gourmet Shop',\n",
       "       'Gym / Fitness Center', 'Pastry Shop', 'Thai Restaurant',\n",
       "       'Coffee Shop', 'Comic Shop', 'Cycle Studio', 'Bubble Tea Shop',\n",
       "       'Indie Movie Theater', 'Boutique', 'Bar', 'Concert Hall',\n",
       "       'Fish & Chips Shop', 'Candy Store', 'Vietnamese Restaurant',\n",
       "       'Opera House', 'Hotel Bar', 'Chocolate Shop', 'Roof Deck',\n",
       "       'Dessert Shop', 'Tea Room', 'Bakery', 'New American Restaurant',\n",
       "       'Liquor Store', 'Lounge', 'Department Store', 'Wine Shop',\n",
       "       'Scenic Lookout', 'Vegetarian / Vegan Restaurant',\n",
       "       'Corsican Restaurant', 'Gastropub', 'Cheese Shop', 'Deli / Bodega',\n",
       "       'Museum', 'Argentinian Restaurant', 'Auvergne Restaurant',\n",
       "       'Comfort Food Restaurant', 'Steakhouse', 'Market', 'Cupcake Shop',\n",
       "       'Playground', 'Tailor Shop', 'Yoga Studio', 'Farmers Market',\n",
       "       'Miscellaneous Shop', 'Planetarium', 'Music Venue',\n",
       "       'American Restaurant', 'Gluten-free Restaurant',\n",
       "       'Breton Restaurant', 'Indian Restaurant', 'Doner Restaurant',\n",
       "       'Breakfast Spot', 'Karaoke Bar', 'Beer Store', 'Taco Place',\n",
       "       'Shanxi Restaurant', 'Juice Bar', 'Boxing Gym', 'History Museum',\n",
       "       'Café', 'Canal', 'Basketball Court', 'Asian Restaurant',\n",
       "       'Food Truck', 'Hostel', 'Garden Center', 'Comedy Club',\n",
       "       'Food & Drink Shop', 'Basque Restaurant', 'Soccer Field',\n",
       "       'Fast Food Restaurant', 'Pub', 'Southwestern French Restaurant',\n",
       "       'Fish Market', 'Mediterranean Restaurant', 'Chinese Restaurant',\n",
       "       'Peruvian Restaurant', 'Fruit & Vegetable Store', 'Pool', 'Gym',\n",
       "       'Ethiopian Restaurant', 'Stadium', 'Supermarket',\n",
       "       'Arts & Crafts Store', 'Martial Arts Dojo', 'Multiplex',\n",
       "       'Gym Pool', 'Speakeasy', 'Cultural Center', 'Trattoria/Osteria',\n",
       "       'Falafel Restaurant', 'BBQ Joint', 'Provençal Restaurant',\n",
       "       'Boat or Ferry', 'Monument / Landmark', 'Dance Studio',\n",
       "       'Scandinavian Restaurant', 'Record Shop', 'Trail',\n",
       "       'Modern European Restaurant', 'Portuguese Restaurant',\n",
       "       'Greek Restaurant', 'Botanical Garden', 'Mexican Restaurant',\n",
       "       'Science Museum', 'Spa', 'Zoo', 'Brazilian Restaurant',\n",
       "       'Jazz Club', 'Sushi Restaurant', 'Hobby Shop', 'Beer Garden',\n",
       "       'Sporting Goods Shop', 'Bike Rental / Bike Share', 'Champagne Bar',\n",
       "       'Theme Park Ride / Attraction', 'Library', 'Hookah Bar',\n",
       "       'Jewelry Store', 'Russian Restaurant', 'Salad Place', 'Bagel Shop',\n",
       "       'Movie Theater', 'Moroccan Restaurant', 'Grocery Store',\n",
       "       'Middle Eastern Restaurant', 'Dim Sum Restaurant', 'Brewery',\n",
       "       'Cambodian Restaurant', 'Performing Arts Venue',\n",
       "       'African Restaurant', 'Nightclub', 'Bed & Breakfast', 'Cemetery',\n",
       "       'Jiangxi Restaurant', 'Tech Startup', 'Pop-Up Shop',\n",
       "       'Turkish Restaurant', 'Savoyard Restaurant', 'Organic Grocery',\n",
       "       'Climbing Gym', \"Men's Store\", 'Brasserie', 'Shopping Mall',\n",
       "       'Island', 'Sculpture Garden', 'Outdoor Sculpture',\n",
       "       'Street Food Gathering', 'Kids Store', 'Shopping Plaza',\n",
       "       'Recording Studio', 'Convenience Store', 'Radio Station',\n",
       "       'Persian Restaurant', 'Hot Dog Joint', 'Beach Bar', 'Butcher',\n",
       "       'Cantonese Restaurant', 'Sports Bar', 'Track', 'Rugby Stadium',\n",
       "       'Tennis Court', 'Soccer Stadium', 'Racecourse', 'Tennis Stadium',\n",
       "       'Film Studio', 'Arepa Restaurant', 'Vineyard', 'Street Art',\n",
       "       'Flea Market', 'Health Food Store', 'Sports Club', 'Event Space',\n",
       "       'Athletics & Sports', 'General Entertainment', 'Rock Club',\n",
       "       'Drive-in Theater', 'Thrift / Vintage Store',\n",
       "       'Indonesian Restaurant', 'Southern / Soul Food Restaurant',\n",
       "       'Diner', 'Basketball Stadium', 'Train Station', 'Airport',\n",
       "       'Circus'], dtype=object)"
      ]
     },
     "execution_count": 319,
     "metadata": {},
     "output_type": "execute_result"
    }
   ],
   "source": [
    "all_venues_pharma_hosp.VenueCategory.unique()"
   ]
  },
  {
   "cell_type": "code",
   "execution_count": null,
   "metadata": {},
   "outputs": [],
   "source": []
  },
  {
   "cell_type": "code",
   "execution_count": null,
   "metadata": {},
   "outputs": [],
   "source": []
  },
  {
   "cell_type": "code",
   "execution_count": null,
   "metadata": {},
   "outputs": [],
   "source": []
  },
  {
   "cell_type": "code",
   "execution_count": null,
   "metadata": {},
   "outputs": [],
   "source": []
  },
  {
   "cell_type": "code",
   "execution_count": null,
   "metadata": {},
   "outputs": [],
   "source": []
  },
  {
   "cell_type": "markdown",
   "metadata": {},
   "source": [
    "#### After understanding the investor intention and the importance of optimal conditions of the buildings locations we have to:"
   ]
  },
  {
   "cell_type": "markdown",
   "metadata": {},
   "source": [
    "   - Defining a large area - the city, the country\n",
    "   - Establishing the layers according to the investor criteria\n",
    "       - areas with heavy pedestrian traffic like large intersections, malls, markets etc. Foursquare request  \n",
    "       - hospitals, existing clinics. Foursquare request\n",
    "       - pharmacies in the area. Foursquare request\n",
    "       - operating hours. Foursquare request\n",
    "   - Data Exploration, Feature engineering for optimal definition of features (criteria)\n",
    "   - Classification of layers  \n",
    "   - Clustering according to criteria\n",
    "       - of traffic\n",
    "       - of distance\n",
    "           - proximity - hospitals, markets\n",
    "           - away - existing pharmacies\n",
    "   - View with Folium Maps\n",
    "   - Presentation of the conclusions to the investor\n"
   ]
  },
  {
   "cell_type": "code",
   "execution_count": null,
   "metadata": {},
   "outputs": [],
   "source": []
  },
  {
   "cell_type": "code",
   "execution_count": null,
   "metadata": {},
   "outputs": [],
   "source": []
  }
 ],
 "metadata": {
  "kernelspec": {
   "display_name": "Python 3",
   "language": "python",
   "name": "python3"
  },
  "language_info": {
   "codemirror_mode": {
    "name": "ipython",
    "version": 3
   },
   "file_extension": ".py",
   "mimetype": "text/x-python",
   "name": "python",
   "nbconvert_exporter": "python",
   "pygments_lexer": "ipython3",
   "version": "3.7.3"
  }
 },
 "nbformat": 4,
 "nbformat_minor": 4
}
