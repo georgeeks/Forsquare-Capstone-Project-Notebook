{
 "cells": [
  {
   "cell_type": "markdown",
   "metadata": {
    "button": false,
    "new_sheet": false,
    "run_control": {
     "read_only": false
    }
   },
   "source": [
    "<a href=\"https://cognitiveclass.ai\"><img src = \"https://ibm.box.com/shared/static/9gegpsmnsoo25ikkbl4qzlvlyjbgxs5x.png\" width = 400> </a>\n",
    "\n",
    "<h1 align=center><font size = 5>Learning FourSquare API with Python</font></h1>"
   ]
  },
  {
   "cell_type": "code",
   "execution_count": null,
   "metadata": {},
   "outputs": [],
   "source": []
  },
  {
   "cell_type": "markdown",
   "metadata": {
    "button": false,
    "new_sheet": false,
    "run_control": {
     "read_only": false
    }
   },
   "source": [
    "   "
   ]
  },
  {
   "cell_type": "markdown",
   "metadata": {
    "button": false,
    "new_sheet": false,
    "run_control": {
     "read_only": false
    }
   },
   "source": [
    "## Introduction\n",
    "\n",
    "In this lab, you will learn in details how to make calls to the Foursquare API for different purposes. You will learn how to construct a URL to send a request to the API to search for a specific type of venues, to explore a particular venue, to explore a Foursquare user, to explore a geographical location, and to get trending venues around a location. Also, you will learn how to use the visualization library, Folium, to visualize the results."
   ]
  },
  {
   "cell_type": "markdown",
   "metadata": {
    "button": false,
    "new_sheet": false,
    "run_control": {
     "read_only": false
    }
   },
   "source": [
    "## Table of Contents\n",
    "\n",
    "1. <a href=\"#item1\">Foursquare API Search Function</a>\n",
    "2. <a href=\"#item2\">Explore a Given Venue</a>  \n",
    "3. <a href=\"#item3\">Explore a User</a>  \n",
    "4. <a href=\"#item4\">Foursquare API Explore Function</a>  \n",
    "5. <a href=\"#item5\">Get Trending Venues</a>  "
   ]
  },
  {
   "cell_type": "markdown",
   "metadata": {
    "button": false,
    "new_sheet": false,
    "run_control": {
     "read_only": false
    }
   },
   "source": [
    "### Import necessary Libraries"
   ]
  },
  {
   "cell_type": "code",
   "execution_count": 1,
   "metadata": {
    "button": false,
    "jupyter": {
     "outputs_hidden": false
    },
    "new_sheet": false,
    "run_control": {
     "read_only": false
    }
   },
   "outputs": [
    {
     "name": "stdout",
     "output_type": "stream",
     "text": [
      "Folium installed\n",
      "Libraries imported.\n"
     ]
    }
   ],
   "source": [
    "import requests # library to handle requests\n",
    "import pandas as pd # library for data analsysis\n",
    "import numpy as np # library to handle data in a vectorized manner\n",
    "import random # library for random number generation\n",
    "\n",
    "#!conda install -c conda-forge geopy --yes \n",
    "from geopy.geocoders import Nominatim # module to convert an address into latitude and longitude values\n",
    "\n",
    "# libraries for displaying images\n",
    "from IPython.display import Image \n",
    "from IPython.core.display import HTML \n",
    "    \n",
    "# tranforming json file into a pandas dataframe library\n",
    "from pandas.io.json import json_normalize\n",
    "\n",
    "#!conda install -c conda-forge folium=0.5.0 --yes\n",
    "import folium # plotting library\n",
    "\n",
    "print('Folium installed')\n",
    "print('Libraries imported.')"
   ]
  },
  {
   "cell_type": "markdown",
   "metadata": {
    "button": false,
    "new_sheet": false,
    "run_control": {
     "read_only": false
    }
   },
   "source": [
    "### Define Foursquare Credentials and Version"
   ]
  },
  {
   "cell_type": "markdown",
   "metadata": {
    "button": false,
    "new_sheet": false,
    "run_control": {
     "read_only": false
    }
   },
   "source": [
    "##### Make sure that you have created a Foursquare developer account and have your credentials handy"
   ]
  },
  {
   "cell_type": "code",
   "execution_count": 2,
   "metadata": {
    "button": false,
    "jupyter": {
     "outputs_hidden": false
    },
    "new_sheet": false,
    "run_control": {
     "read_only": false
    }
   },
   "outputs": [
    {
     "name": "stdout",
     "output_type": "stream",
     "text": [
      "Your credentails:\n",
      "CLIENT_ID: ZISPWCOUB0LBELFZ1MZVW5PATP4J4SRMYNJ5WRYEWMIJXD3P\n",
      "CLIENT_SECRET:1V4G4GL3Z4JJSRCPRLRBINCEINQFHBHFBPTRUCGRQY1NZSKE\n"
     ]
    }
   ],
   "source": [
    "CLIENT_ID = 'ZISPWCOUB0LBELFZ1MZVW5PATP4J4SRMYNJ5WRYEWMIJXD3P' # your Foursquare ID\n",
    "CLIENT_SECRET = '1V4G4GL3Z4JJSRCPRLRBINCEINQFHBHFBPTRUCGRQY1NZSKE' # your Foursquare Secret\n",
    "VERSION = '20191031'  #20180604\n",
    "LIMIT = 50\n",
    "print('Your credentails:')\n",
    "print('CLIENT_ID: ' + CLIENT_ID)\n",
    "print('CLIENT_SECRET:' + CLIENT_SECRET)"
   ]
  },
  {
   "cell_type": "markdown",
   "metadata": {
    "button": false,
    "new_sheet": false,
    "run_control": {
     "read_only": false
    }
   },
   "source": [
    "  "
   ]
  },
  {
   "cell_type": "markdown",
   "metadata": {
    "button": false,
    "new_sheet": false,
    "run_control": {
     "read_only": false
    }
   },
   "source": [
    "#### Let's assume we are in Paris, Montparnasse. Let's check the coordinates"
   ]
  },
  {
   "cell_type": "markdown",
   "metadata": {},
   "source": [
    "In order to define an instance of the geocoder, we need to define a user_agent. We will name our agent <em>foursquare_agent</em>, as shown below."
   ]
  },
  {
   "cell_type": "code",
   "execution_count": 3,
   "metadata": {
    "button": false,
    "jupyter": {
     "outputs_hidden": false
    },
    "new_sheet": false,
    "run_control": {
     "read_only": false
    }
   },
   "outputs": [
    {
     "name": "stdout",
     "output_type": "stream",
     "text": [
      "Paris' Geocoordinate are: lat - 48.83767925, long - 2.33242962153066. \n"
     ]
    }
   ],
   "source": [
    "address = 'Montparnasse, 75014, Paris, France' #'Montparnasse, 75014 Paris, France'\n",
    "\n",
    "geolocator = Nominatim(user_agent=\"foursquare_agent\", timeout = 35)\n",
    "location = geolocator.geocode(address)\n",
    "latitude = location.latitude\n",
    "longitude = location.longitude\n",
    "print(\"Paris' Geocoordinate are: lat - {}, long - {}. \".format(latitude, longitude))"
   ]
  },
  {
   "cell_type": "markdown",
   "metadata": {
    "button": false,
    "new_sheet": false,
    "run_control": {
     "read_only": false
    }
   },
   "source": [
    "<a id=\"item1\"></a>"
   ]
  },
  {
   "cell_type": "markdown",
   "metadata": {
    "button": false,
    "new_sheet": false,
    "run_control": {
     "read_only": false
    }
   },
   "source": [
    "## 1. Search for a specific venue category\n",
    "> `https://api.foursquare.com/v2/venues/`**search**`?, client_id=`**CLIENT_ID**`, client_secret=`**CLIENT_SECRET**`, latitude='**LATITUDE**`, longitude=`**LONGITUDE**`, version=`**VERSION**`, query=`**QUERY**`, radius=`**RADIUS**`, limit=`**LIMIT**'"
   ]
  },
  {
   "cell_type": "markdown",
   "metadata": {
    "button": false,
    "new_sheet": false,
    "run_control": {
     "read_only": false
    }
   },
   "source": [
    "#### Now, let's search for a Parmacy"
   ]
  },
  {
   "cell_type": "markdown",
   "metadata": {
    "button": false,
    "new_sheet": false,
    "run_control": {
     "read_only": false
    }
   },
   "source": [
    "#### Define the corresponding URL for explore and Pharmacy caegoryId="
   ]
  },
  {
   "cell_type": "code",
   "execution_count": 4,
   "metadata": {
    "button": false,
    "new_sheet": false,
    "run_control": {
     "read_only": false
    },
    "scrolled": true
   },
   "outputs": [],
   "source": [
    "import json, requests\n",
    "url = 'https://api.foursquare.com/v2/venues/explore'\n",
    "\n",
    "params = dict(\n",
    "  client_id=CLIENT_ID,\n",
    "  client_secret=CLIENT_SECRET,\n",
    "  v='20191031',\n",
    "  ll='48.83, 2.33',\n",
    "  intent='browse',\n",
    "  radius=100000,\n",
    "    query='pharmacy'\n",
    "  #categoryId = '4bf58dd8d48988d10f951735'\n",
    ")\n",
    "resp = requests.get(url=url, params=params)"
   ]
  },
  {
   "cell_type": "code",
   "execution_count": 5,
   "metadata": {},
   "outputs": [
    {
     "data": {
      "text/plain": [
       "{'meta': {'code': 200, 'requestId': '5dbc45448ad62e002cd19d7f'},\n",
       " 'response': {'suggestedFilters': {'header': 'Tap to show:',\n",
       "   'filters': [{'name': 'Open now', 'key': 'openNow'}]},\n",
       "  'headerLocation': 'Paris',\n",
       "  'headerFullLocation': 'Paris',\n",
       "  'headerLocationGranularity': 'city',\n",
       "  'query': 'pharmacy',\n",
       "  'totalResults': 89,\n",
       "  'suggestedBounds': {'ne': {'lat': 49.730000900000896,\n",
       "    'lng': 3.694616077694957},\n",
       "   'sw': {'lat': 47.9299990999991, 'lng': 0.9653839223050431}},\n",
       "  'groups': [{'type': 'Recommended Places',\n",
       "    'name': 'recommended',\n",
       "    'items': [{'reasons': {'count': 0,\n",
       "       'items': [{'summary': 'This spot is popular',\n",
       "         'type': 'general',\n",
       "         'reasonName': 'globalInteractionReason'}]},\n",
       "      'venue': {'id': '4c820bf2d4e23704c6b76388',\n",
       "       'name': 'City Pharma',\n",
       "       'location': {'address': '26 rue du Four',\n",
       "        'lat': 48.85275405290666,\n",
       "        'lng': 2.3333434478990966,\n",
       "        'labeledLatLngs': [{'label': 'display',\n",
       "          'lat': 48.85275405290666,\n",
       "          'lng': 2.3333434478990966}],\n",
       "        'distance': 2544,\n",
       "        'postalCode': '75006',\n",
       "        'cc': 'FR',\n",
       "        'city': 'Paris',\n",
       "        'state': 'Île-de-France',\n",
       "        'country': 'France',\n",
       "        'formattedAddress': ['26 rue du Four', '75006 Paris', 'France']},\n",
       "       'categories': [{'id': '4bf58dd8d48988d10f951735',\n",
       "         'name': 'Pharmacy',\n",
       "         'pluralName': 'Pharmacies',\n",
       "         'shortName': 'Pharmacy',\n",
       "         'icon': {'prefix': 'https://ss3.4sqi.net/img/categories_v2/shops/pharmacy_',\n",
       "          'suffix': '.png'},\n",
       "         'primary': True}],\n",
       "       'photos': {'count': 0, 'groups': []}},\n",
       "      'referralId': 'e-0-4c820bf2d4e23704c6b76388-0'},\n",
       "     {'reasons': {'count': 0,\n",
       "       'items': [{'summary': 'This spot is popular',\n",
       "         'type': 'general',\n",
       "         'reasonName': 'globalInteractionReason'}]},\n",
       "      'venue': {'id': '4d9c421d948ea093dc58cc11',\n",
       "       'name': 'Pharmacie Exelmans',\n",
       "       'location': {'address': '79-89 boulevard Exelmans',\n",
       "        'lat': 48.84333550150235,\n",
       "        'lng': 2.2593563748523593,\n",
       "        'labeledLatLngs': [{'label': 'display',\n",
       "          'lat': 48.84333550150235,\n",
       "          'lng': 2.2593563748523593}],\n",
       "        'distance': 5384,\n",
       "        'postalCode': '75016',\n",
       "        'cc': 'FR',\n",
       "        'city': 'Paris',\n",
       "        'state': 'Île-de-France',\n",
       "        'country': 'France',\n",
       "        'formattedAddress': ['79-89 boulevard Exelmans',\n",
       "         '75016 Paris',\n",
       "         'France']},\n",
       "       'categories': [{'id': '4bf58dd8d48988d10f951735',\n",
       "         'name': 'Pharmacy',\n",
       "         'pluralName': 'Pharmacies',\n",
       "         'shortName': 'Pharmacy',\n",
       "         'icon': {'prefix': 'https://ss3.4sqi.net/img/categories_v2/shops/pharmacy_',\n",
       "          'suffix': '.png'},\n",
       "         'primary': True}],\n",
       "       'photos': {'count': 0, 'groups': []}},\n",
       "      'referralId': 'e-0-4d9c421d948ea093dc58cc11-1'},\n",
       "     {'reasons': {'count': 0,\n",
       "       'items': [{'summary': 'This spot is popular',\n",
       "         'type': 'general',\n",
       "         'reasonName': 'globalInteractionReason'}]},\n",
       "      'venue': {'id': '4c1279ef77cea593e71dcd60',\n",
       "       'name': 'Pharmacie Monge',\n",
       "       'location': {'address': '74 rue Monge',\n",
       "        'crossStreet': '1 place Monge',\n",
       "        'lat': 48.8425925055892,\n",
       "        'lng': 2.3519352078437805,\n",
       "        'labeledLatLngs': [{'label': 'display',\n",
       "          'lat': 48.8425925055892,\n",
       "          'lng': 2.3519352078437805}],\n",
       "        'distance': 2132,\n",
       "        'postalCode': '75005',\n",
       "        'cc': 'FR',\n",
       "        'city': 'Paris',\n",
       "        'state': 'Île-de-France',\n",
       "        'country': 'France',\n",
       "        'formattedAddress': ['74 rue Monge (1 place Monge)',\n",
       "         '75005 Paris',\n",
       "         'France']},\n",
       "       'categories': [{'id': '4bf58dd8d48988d10f951735',\n",
       "         'name': 'Pharmacy',\n",
       "         'pluralName': 'Pharmacies',\n",
       "         'shortName': 'Pharmacy',\n",
       "         'icon': {'prefix': 'https://ss3.4sqi.net/img/categories_v2/shops/pharmacy_',\n",
       "          'suffix': '.png'},\n",
       "         'primary': True}],\n",
       "       'photos': {'count': 0, 'groups': []}},\n",
       "      'referralId': 'e-0-4c1279ef77cea593e71dcd60-2'},\n",
       "     {'reasons': {'count': 0,\n",
       "       'items': [{'summary': 'This spot is popular',\n",
       "         'type': 'general',\n",
       "         'reasonName': 'globalInteractionReason'}]},\n",
       "      'venue': {'id': '4cac6da836fa6dcbc643de78',\n",
       "       'name': 'Pharmacie Anglaise des Champs-Élysées',\n",
       "       'location': {'address': '62 avenue des Champs-Élysées',\n",
       "        'lat': 48.870854,\n",
       "        'lng': 2.305774,\n",
       "        'labeledLatLngs': [{'label': 'display',\n",
       "          'lat': 48.870854,\n",
       "          'lng': 2.305774}],\n",
       "        'distance': 4881,\n",
       "        'postalCode': '75008',\n",
       "        'cc': 'FR',\n",
       "        'city': 'Paris',\n",
       "        'state': 'Île-de-France',\n",
       "        'country': 'France',\n",
       "        'formattedAddress': ['62 avenue des Champs-Élysées',\n",
       "         '75008 Paris',\n",
       "         'France']},\n",
       "       'categories': [{'id': '4bf58dd8d48988d10f951735',\n",
       "         'name': 'Pharmacy',\n",
       "         'pluralName': 'Pharmacies',\n",
       "         'shortName': 'Pharmacy',\n",
       "         'icon': {'prefix': 'https://ss3.4sqi.net/img/categories_v2/shops/pharmacy_',\n",
       "          'suffix': '.png'},\n",
       "         'primary': True}],\n",
       "       'photos': {'count': 0, 'groups': []},\n",
       "       'venuePage': {'id': '561418764'}},\n",
       "      'referralId': 'e-0-4cac6da836fa6dcbc643de78-3'},\n",
       "     {'reasons': {'count': 0,\n",
       "       'items': [{'summary': 'This spot is popular',\n",
       "         'type': 'general',\n",
       "         'reasonName': 'globalInteractionReason'}]},\n",
       "      'venue': {'id': '4cb2ec8039458cfa776a16a0',\n",
       "       'name': 'Pharmacie de la Mairie',\n",
       "       'location': {'address': '36 rue de la Verrerie',\n",
       "        'crossStreet': 'Rue des Archives',\n",
       "        'lat': 48.85755482313202,\n",
       "        'lng': 2.3543057003264836,\n",
       "        'labeledLatLngs': [{'label': 'display',\n",
       "          'lat': 48.85755482313202,\n",
       "          'lng': 2.3543057003264836}],\n",
       "        'distance': 3546,\n",
       "        'postalCode': '75004',\n",
       "        'cc': 'FR',\n",
       "        'city': 'Paris',\n",
       "        'state': 'Île-de-France',\n",
       "        'country': 'France',\n",
       "        'formattedAddress': ['36 rue de la Verrerie (Rue des Archives)',\n",
       "         '75004 Paris',\n",
       "         'France']},\n",
       "       'categories': [{'id': '4bf58dd8d48988d10f951735',\n",
       "         'name': 'Pharmacy',\n",
       "         'pluralName': 'Pharmacies',\n",
       "         'shortName': 'Pharmacy',\n",
       "         'icon': {'prefix': 'https://ss3.4sqi.net/img/categories_v2/shops/pharmacy_',\n",
       "          'suffix': '.png'},\n",
       "         'primary': True}],\n",
       "       'photos': {'count': 0, 'groups': []}},\n",
       "      'referralId': 'e-0-4cb2ec8039458cfa776a16a0-4'},\n",
       "     {'reasons': {'count': 0,\n",
       "       'items': [{'summary': 'This spot is popular',\n",
       "         'type': 'general',\n",
       "         'reasonName': 'globalInteractionReason'}]},\n",
       "      'venue': {'id': '4e443688483b132669d378c5',\n",
       "       'name': 'Pharmacie Grande Armée',\n",
       "       'location': {'address': '68 avenue de la Grande Armée',\n",
       "        'lat': 48.87709,\n",
       "        'lng': 2.285228,\n",
       "        'labeledLatLngs': [{'label': 'display',\n",
       "          'lat': 48.87709,\n",
       "          'lng': 2.285228}],\n",
       "        'distance': 6183,\n",
       "        'postalCode': '75017',\n",
       "        'cc': 'FR',\n",
       "        'city': 'Paris',\n",
       "        'state': 'Île-de-France',\n",
       "        'country': 'France',\n",
       "        'formattedAddress': ['68 avenue de la Grande Armée',\n",
       "         '75017 Paris',\n",
       "         'France']},\n",
       "       'categories': [{'id': '4bf58dd8d48988d10f951735',\n",
       "         'name': 'Pharmacy',\n",
       "         'pluralName': 'Pharmacies',\n",
       "         'shortName': 'Pharmacy',\n",
       "         'icon': {'prefix': 'https://ss3.4sqi.net/img/categories_v2/shops/pharmacy_',\n",
       "          'suffix': '.png'},\n",
       "         'primary': True}],\n",
       "       'photos': {'count': 0, 'groups': []}},\n",
       "      'referralId': 'e-0-4e443688483b132669d378c5-5'},\n",
       "     {'reasons': {'count': 0,\n",
       "       'items': [{'summary': 'This spot is popular',\n",
       "         'type': 'general',\n",
       "         'reasonName': 'globalInteractionReason'}]},\n",
       "      'venue': {'id': '4dd65fe6b0fb8af3806aa8f2',\n",
       "       'name': \"Pharmacie de L'Ourcq\",\n",
       "       'location': {'address': \"81 bis rue de l'Ourcq\",\n",
       "        'lat': 48.893015679936006,\n",
       "        'lng': 2.377521261026087,\n",
       "        'labeledLatLngs': [{'label': 'display',\n",
       "          'lat': 48.893015679936006,\n",
       "          'lng': 2.377521261026087}],\n",
       "        'distance': 7830,\n",
       "        'postalCode': '75019',\n",
       "        'cc': 'FR',\n",
       "        'city': 'Paris',\n",
       "        'state': 'Île-de-France',\n",
       "        'country': 'France',\n",
       "        'formattedAddress': [\"81 bis rue de l'Ourcq\",\n",
       "         '75019 Paris',\n",
       "         'France']},\n",
       "       'categories': [{'id': '4bf58dd8d48988d10f951735',\n",
       "         'name': 'Pharmacy',\n",
       "         'pluralName': 'Pharmacies',\n",
       "         'shortName': 'Pharmacy',\n",
       "         'icon': {'prefix': 'https://ss3.4sqi.net/img/categories_v2/shops/pharmacy_',\n",
       "          'suffix': '.png'},\n",
       "         'primary': True}],\n",
       "       'photos': {'count': 0, 'groups': []}},\n",
       "      'referralId': 'e-0-4dd65fe6b0fb8af3806aa8f2-6'},\n",
       "     {'reasons': {'count': 0,\n",
       "       'items': [{'summary': 'This spot is popular',\n",
       "         'type': 'general',\n",
       "         'reasonName': 'globalInteractionReason'}]},\n",
       "      'venue': {'id': '4d67eafa6d6a236af9f0362a',\n",
       "       'name': 'Pharmacie de la Gare',\n",
       "       'location': {'address': 'Place de la Révolution',\n",
       "        'lat': 48.7958871,\n",
       "        'lng': 2.65066263,\n",
       "        'labeledLatLngs': [{'label': 'display',\n",
       "          'lat': 48.7958871,\n",
       "          'lng': 2.65066263}],\n",
       "        'distance': 23811,\n",
       "        'postalCode': '77680',\n",
       "        'cc': 'FR',\n",
       "        'city': 'Roissy-en-Brie',\n",
       "        'state': 'Île-de-France',\n",
       "        'country': 'France',\n",
       "        'formattedAddress': ['Place de la Révolution',\n",
       "         '77680 Roissy-en-Brie',\n",
       "         'France']},\n",
       "       'categories': [{'id': '4bf58dd8d48988d10f951735',\n",
       "         'name': 'Pharmacy',\n",
       "         'pluralName': 'Pharmacies',\n",
       "         'shortName': 'Pharmacy',\n",
       "         'icon': {'prefix': 'https://ss3.4sqi.net/img/categories_v2/shops/pharmacy_',\n",
       "          'suffix': '.png'},\n",
       "         'primary': True}],\n",
       "       'photos': {'count': 0, 'groups': []}},\n",
       "      'referralId': 'e-0-4d67eafa6d6a236af9f0362a-7'},\n",
       "     {'reasons': {'count': 0,\n",
       "       'items': [{'summary': 'This spot is popular',\n",
       "         'type': 'general',\n",
       "         'reasonName': 'globalInteractionReason'}]},\n",
       "      'venue': {'id': '4d904e3c1716a1431f445ef7',\n",
       "       'name': 'Pharmacie du RER - Boticinal',\n",
       "       'location': {'address': 'CC Station RER La défense',\n",
       "        'lat': 48.891796,\n",
       "        'lng': 2.238691,\n",
       "        'labeledLatLngs': [{'label': 'display',\n",
       "          'lat': 48.891796,\n",
       "          'lng': 2.238691}],\n",
       "        'distance': 9593,\n",
       "        'postalCode': '92800',\n",
       "        'cc': 'FR',\n",
       "        'city': 'Puteaux',\n",
       "        'state': 'Île-de-France',\n",
       "        'country': 'France',\n",
       "        'formattedAddress': ['CC Station RER La défense',\n",
       "         '92800 Puteaux',\n",
       "         'France']},\n",
       "       'categories': [{'id': '4bf58dd8d48988d10f951735',\n",
       "         'name': 'Pharmacy',\n",
       "         'pluralName': 'Pharmacies',\n",
       "         'shortName': 'Pharmacy',\n",
       "         'icon': {'prefix': 'https://ss3.4sqi.net/img/categories_v2/shops/pharmacy_',\n",
       "          'suffix': '.png'},\n",
       "         'primary': True}],\n",
       "       'photos': {'count': 0, 'groups': []}},\n",
       "      'referralId': 'e-0-4d904e3c1716a1431f445ef7-8'},\n",
       "     {'reasons': {'count': 0,\n",
       "       'items': [{'summary': 'This spot is popular',\n",
       "         'type': 'general',\n",
       "         'reasonName': 'globalInteractionReason'}]},\n",
       "      'venue': {'id': '4e14a3f462e14518a9276fff',\n",
       "       'name': 'Pharmacie de la Place de la République',\n",
       "       'location': {'address': '5 place de la République',\n",
       "        'lat': 48.866460165642884,\n",
       "        'lng': 2.3642686750201345,\n",
       "        'labeledLatLngs': [{'label': 'display',\n",
       "          'lat': 48.866460165642884,\n",
       "          'lng': 2.3642686750201345}],\n",
       "        'distance': 4772,\n",
       "        'postalCode': '75003',\n",
       "        'cc': 'FR',\n",
       "        'city': 'Paris',\n",
       "        'state': 'Île-de-France',\n",
       "        'country': 'France',\n",
       "        'formattedAddress': ['5 place de la République',\n",
       "         '75003 Paris',\n",
       "         'France']},\n",
       "       'categories': [{'id': '4bf58dd8d48988d10f951735',\n",
       "         'name': 'Pharmacy',\n",
       "         'pluralName': 'Pharmacies',\n",
       "         'shortName': 'Pharmacy',\n",
       "         'icon': {'prefix': 'https://ss3.4sqi.net/img/categories_v2/shops/pharmacy_',\n",
       "          'suffix': '.png'},\n",
       "         'primary': True}],\n",
       "       'photos': {'count': 0, 'groups': []}},\n",
       "      'referralId': 'e-0-4e14a3f462e14518a9276fff-9'},\n",
       "     {'reasons': {'count': 0,\n",
       "       'items': [{'summary': 'This spot is popular',\n",
       "         'type': 'general',\n",
       "         'reasonName': 'globalInteractionReason'}]},\n",
       "      'venue': {'id': '4f197d6ce4b0e1c5f806ae0b',\n",
       "       'name': 'Pharmacie',\n",
       "       'location': {'address': 'Gare de Paris-Lyon',\n",
       "        'crossStreet': 'Hall 2',\n",
       "        'lat': 48.84428,\n",
       "        'lng': 2.375611,\n",
       "        'labeledLatLngs': [{'label': 'display',\n",
       "          'lat': 48.84428,\n",
       "          'lng': 2.375611}],\n",
       "        'distance': 3700,\n",
       "        'postalCode': '75011',\n",
       "        'cc': 'FR',\n",
       "        'city': 'Paris',\n",
       "        'state': 'Île-de-France',\n",
       "        'country': 'France',\n",
       "        'formattedAddress': ['Gare de Paris-Lyon (Hall 2)',\n",
       "         '75011 Paris',\n",
       "         'France']},\n",
       "       'categories': [{'id': '4bf58dd8d48988d10f951735',\n",
       "         'name': 'Pharmacy',\n",
       "         'pluralName': 'Pharmacies',\n",
       "         'shortName': 'Pharmacy',\n",
       "         'icon': {'prefix': 'https://ss3.4sqi.net/img/categories_v2/shops/pharmacy_',\n",
       "          'suffix': '.png'},\n",
       "         'primary': True}],\n",
       "       'photos': {'count': 0, 'groups': []}},\n",
       "      'referralId': 'e-0-4f197d6ce4b0e1c5f806ae0b-10'},\n",
       "     {'reasons': {'count': 0,\n",
       "       'items': [{'summary': 'This spot is popular',\n",
       "         'type': 'general',\n",
       "         'reasonName': 'globalInteractionReason'}]},\n",
       "      'venue': {'id': '4b773148f964a5207f862ee3',\n",
       "       'name': 'Pharmacie Bailly',\n",
       "       'location': {'address': '15 rue de Rome',\n",
       "        'lat': 48.875508390816655,\n",
       "        'lng': 2.3242195057079758,\n",
       "        'labeledLatLngs': [{'label': 'display',\n",
       "          'lat': 48.875508390816655,\n",
       "          'lng': 2.3242195057079758}],\n",
       "        'distance': 5083,\n",
       "        'postalCode': '75008',\n",
       "        'cc': 'FR',\n",
       "        'city': 'Paris',\n",
       "        'state': 'Île-de-France',\n",
       "        'country': 'France',\n",
       "        'formattedAddress': ['15 rue de Rome', '75008 Paris', 'France']},\n",
       "       'categories': [{'id': '4bf58dd8d48988d10f951735',\n",
       "         'name': 'Pharmacy',\n",
       "         'pluralName': 'Pharmacies',\n",
       "         'shortName': 'Pharmacy',\n",
       "         'icon': {'prefix': 'https://ss3.4sqi.net/img/categories_v2/shops/pharmacy_',\n",
       "          'suffix': '.png'},\n",
       "         'primary': True}],\n",
       "       'photos': {'count': 0, 'groups': []}},\n",
       "      'referralId': 'e-0-4b773148f964a5207f862ee3-11'},\n",
       "     {'reasons': {'count': 0,\n",
       "       'items': [{'summary': 'This spot is popular',\n",
       "         'type': 'general',\n",
       "         'reasonName': 'globalInteractionReason'}]},\n",
       "      'venue': {'id': '4dc578d4b0fb5556ccf15858',\n",
       "       'name': 'Pharmacie KHUN 24h/7j',\n",
       "       'location': {'address': 'Bay 1 Loisirs',\n",
       "        'crossStreet': 'Promenade du 7ème Art',\n",
       "        'lat': 48.84076055664031,\n",
       "        'lng': 2.65597953257314,\n",
       "        'labeledLatLngs': [{'label': 'display',\n",
       "          'lat': 48.84076055664031,\n",
       "          'lng': 2.65597953257314}],\n",
       "        'distance': 23915,\n",
       "        'postalCode': '77200',\n",
       "        'cc': 'FR',\n",
       "        'city': 'Torcy',\n",
       "        'state': 'Île-de-France',\n",
       "        'country': 'France',\n",
       "        'formattedAddress': ['Bay 1 Loisirs (Promenade du 7ème Art)',\n",
       "         '77200 Torcy',\n",
       "         'France']},\n",
       "       'categories': [{'id': '4bf58dd8d48988d10f951735',\n",
       "         'name': 'Pharmacy',\n",
       "         'pluralName': 'Pharmacies',\n",
       "         'shortName': 'Pharmacy',\n",
       "         'icon': {'prefix': 'https://ss3.4sqi.net/img/categories_v2/shops/pharmacy_',\n",
       "          'suffix': '.png'},\n",
       "         'primary': True}],\n",
       "       'photos': {'count': 0, 'groups': []},\n",
       "       'venuePage': {'id': '55911229'}},\n",
       "      'referralId': 'e-0-4dc578d4b0fb5556ccf15858-12'},\n",
       "     {'reasons': {'count': 0,\n",
       "       'items': [{'summary': 'This spot is popular',\n",
       "         'type': 'general',\n",
       "         'reasonName': 'globalInteractionReason'}]},\n",
       "      'venue': {'id': '4efa0d1a469012b8c3413b4e',\n",
       "       'name': 'Pharmacie des Pyramides',\n",
       "       'location': {'address': '9 rue de la Pyramide',\n",
       "        'lat': 48.86442809814823,\n",
       "        'lng': 2.3328702342472916,\n",
       "        'labeledLatLngs': [{'label': 'display',\n",
       "          'lat': 48.86442809814823,\n",
       "          'lng': 2.3328702342472916}],\n",
       "        'distance': 3838,\n",
       "        'postalCode': '75001',\n",
       "        'cc': 'FR',\n",
       "        'city': 'Paris',\n",
       "        'state': 'Île-de-France',\n",
       "        'country': 'France',\n",
       "        'formattedAddress': ['9 rue de la Pyramide', '75001 Paris', 'France']},\n",
       "       'categories': [{'id': '4bf58dd8d48988d10f951735',\n",
       "         'name': 'Pharmacy',\n",
       "         'pluralName': 'Pharmacies',\n",
       "         'shortName': 'Pharmacy',\n",
       "         'icon': {'prefix': 'https://ss3.4sqi.net/img/categories_v2/shops/pharmacy_',\n",
       "          'suffix': '.png'},\n",
       "         'primary': True}],\n",
       "       'photos': {'count': 0, 'groups': []}},\n",
       "      'referralId': 'e-0-4efa0d1a469012b8c3413b4e-13'},\n",
       "     {'reasons': {'count': 0,\n",
       "       'items': [{'summary': 'This spot is popular',\n",
       "         'type': 'general',\n",
       "         'reasonName': 'globalInteractionReason'}]},\n",
       "      'venue': {'id': '50113449e4b035d9f33be9e3',\n",
       "       'name': 'Pharmacie',\n",
       "       'location': {'address': 'C.C St-Lazare Paris',\n",
       "        'crossStreet': 'Niveau Trains',\n",
       "        'lat': 48.87602,\n",
       "        'lng': 2.325006,\n",
       "        'labeledLatLngs': [{'label': 'display',\n",
       "          'lat': 48.87602,\n",
       "          'lng': 2.325006}],\n",
       "        'distance': 5135,\n",
       "        'postalCode': '75008',\n",
       "        'cc': 'FR',\n",
       "        'city': 'Paris',\n",
       "        'state': 'Île-de-France',\n",
       "        'country': 'France',\n",
       "        'formattedAddress': ['C.C St-Lazare Paris (Niveau Trains)',\n",
       "         '75008 Paris',\n",
       "         'France']},\n",
       "       'categories': [{'id': '4bf58dd8d48988d10f951735',\n",
       "         'name': 'Pharmacy',\n",
       "         'pluralName': 'Pharmacies',\n",
       "         'shortName': 'Pharmacy',\n",
       "         'icon': {'prefix': 'https://ss3.4sqi.net/img/categories_v2/shops/pharmacy_',\n",
       "          'suffix': '.png'},\n",
       "         'primary': True}],\n",
       "       'photos': {'count': 0, 'groups': []}},\n",
       "      'referralId': 'e-0-50113449e4b035d9f33be9e3-14'},\n",
       "     {'reasons': {'count': 0,\n",
       "       'items': [{'summary': 'This spot is popular',\n",
       "         'type': 'general',\n",
       "         'reasonName': 'globalInteractionReason'}]},\n",
       "      'venue': {'id': '4f073cd5e4b08f524774a31c',\n",
       "       'name': 'Pharmacie de la Faisanderie',\n",
       "       'location': {'address': '69 Rue de la Faisanderie',\n",
       "        'crossStreet': 'Rue de Longchamp',\n",
       "        'lat': 48.868377,\n",
       "        'lng': 2.275709,\n",
       "        'labeledLatLngs': [{'label': 'display',\n",
       "          'lat': 48.868377,\n",
       "          'lng': 2.275709}],\n",
       "        'distance': 5836,\n",
       "        'postalCode': '75016',\n",
       "        'cc': 'FR',\n",
       "        'city': 'Paris',\n",
       "        'state': 'Île-de-France',\n",
       "        'country': 'France',\n",
       "        'formattedAddress': ['69 Rue de la Faisanderie (Rue de Longchamp)',\n",
       "         '75016 Paris',\n",
       "         'France']},\n",
       "       'categories': [{'id': '4bf58dd8d48988d10f951735',\n",
       "         'name': 'Pharmacy',\n",
       "         'pluralName': 'Pharmacies',\n",
       "         'shortName': 'Pharmacy',\n",
       "         'icon': {'prefix': 'https://ss3.4sqi.net/img/categories_v2/shops/pharmacy_',\n",
       "          'suffix': '.png'},\n",
       "         'primary': True}],\n",
       "       'photos': {'count': 0, 'groups': []},\n",
       "       'venuePage': {'id': '562414599'}},\n",
       "      'referralId': 'e-0-4f073cd5e4b08f524774a31c-15'},\n",
       "     {'reasons': {'count': 0,\n",
       "       'items': [{'summary': 'This spot is popular',\n",
       "         'type': 'general',\n",
       "         'reasonName': 'globalInteractionReason'}]},\n",
       "      'venue': {'id': '4d84fddb61676dcbd9a37fe4',\n",
       "       'name': \"Pharmacie Centrale Porte d'Orleans\",\n",
       "       'location': {'lat': 48.822933750000004,\n",
       "        'lng': 2.3253023500000003,\n",
       "        'labeledLatLngs': [{'label': 'display',\n",
       "          'lat': 48.822933750000004,\n",
       "          'lng': 2.3253023500000003}],\n",
       "        'distance': 858,\n",
       "        'cc': 'FR',\n",
       "        'country': 'France',\n",
       "        'formattedAddress': ['France']},\n",
       "       'categories': [{'id': '4bf58dd8d48988d10f951735',\n",
       "         'name': 'Pharmacy',\n",
       "         'pluralName': 'Pharmacies',\n",
       "         'shortName': 'Pharmacy',\n",
       "         'icon': {'prefix': 'https://ss3.4sqi.net/img/categories_v2/shops/pharmacy_',\n",
       "          'suffix': '.png'},\n",
       "         'primary': True}],\n",
       "       'photos': {'count': 0, 'groups': []}},\n",
       "      'referralId': 'e-0-4d84fddb61676dcbd9a37fe4-16'},\n",
       "     {'reasons': {'count': 0,\n",
       "       'items': [{'summary': 'This spot is popular',\n",
       "         'type': 'general',\n",
       "         'reasonName': 'globalInteractionReason'}]},\n",
       "      'venue': {'id': '5a15bc0cb546185ff27f6ebc',\n",
       "       'name': 'PHARMACIE SEVRES VANEAU',\n",
       "       'location': {'address': '109 Rue de Sèvres',\n",
       "        'lat': 48.84821,\n",
       "        'lng': 2.32017,\n",
       "        'labeledLatLngs': [{'label': 'display',\n",
       "          'lat': 48.84821,\n",
       "          'lng': 2.32017}],\n",
       "        'distance': 2151,\n",
       "        'postalCode': '75006',\n",
       "        'cc': 'FR',\n",
       "        'city': 'Paris',\n",
       "        'state': 'Île-de-France',\n",
       "        'country': 'France',\n",
       "        'formattedAddress': ['109 Rue de Sèvres', '75006 Paris', 'France']},\n",
       "       'categories': [{'id': '4bf58dd8d48988d10f951735',\n",
       "         'name': 'Pharmacy',\n",
       "         'pluralName': 'Pharmacies',\n",
       "         'shortName': 'Pharmacy',\n",
       "         'icon': {'prefix': 'https://ss3.4sqi.net/img/categories_v2/shops/pharmacy_',\n",
       "          'suffix': '.png'},\n",
       "         'primary': True}],\n",
       "       'photos': {'count': 0, 'groups': []},\n",
       "       'venuePage': {'id': '550806103'}},\n",
       "      'referralId': 'e-0-5a15bc0cb546185ff27f6ebc-17'},\n",
       "     {'reasons': {'count': 0,\n",
       "       'items': [{'summary': 'This spot is popular',\n",
       "         'type': 'general',\n",
       "         'reasonName': 'globalInteractionReason'}]},\n",
       "      'venue': {'id': '508ec460e4b0d494814c7634',\n",
       "       'name': 'Pharmacie',\n",
       "       'location': {'address': 'Rue Lecourbe',\n",
       "        'crossStreet': 'Rue Cambronne',\n",
       "        'lat': 48.84261603346061,\n",
       "        'lng': 2.302621211416858,\n",
       "        'labeledLatLngs': [{'label': 'display',\n",
       "          'lat': 48.84261603346061,\n",
       "          'lng': 2.302621211416858}],\n",
       "        'distance': 2448,\n",
       "        'postalCode': '75015',\n",
       "        'cc': 'FR',\n",
       "        'city': 'Paris',\n",
       "        'state': 'Île-de-France',\n",
       "        'country': 'France',\n",
       "        'formattedAddress': ['Rue Lecourbe (Rue Cambronne)',\n",
       "         '75015 Paris',\n",
       "         'France']},\n",
       "       'categories': [{'id': '4bf58dd8d48988d10f951735',\n",
       "         'name': 'Pharmacy',\n",
       "         'pluralName': 'Pharmacies',\n",
       "         'shortName': 'Pharmacy',\n",
       "         'icon': {'prefix': 'https://ss3.4sqi.net/img/categories_v2/shops/pharmacy_',\n",
       "          'suffix': '.png'},\n",
       "         'primary': True}],\n",
       "       'photos': {'count': 0, 'groups': []}},\n",
       "      'referralId': 'e-0-508ec460e4b0d494814c7634-18'},\n",
       "     {'reasons': {'count': 0,\n",
       "       'items': [{'summary': 'This spot is popular',\n",
       "         'type': 'general',\n",
       "         'reasonName': 'globalInteractionReason'}]},\n",
       "      'venue': {'id': '4d20564ad7b0b1f7e2fd139f',\n",
       "       'name': 'Pharmacie Saint-Germain des Prés',\n",
       "       'location': {'address': '45 rue Bonaparte',\n",
       "        'lat': 48.85356303538257,\n",
       "        'lng': 2.3339216500249997,\n",
       "        'labeledLatLngs': [{'label': 'display',\n",
       "          'lat': 48.85356303538257,\n",
       "          'lng': 2.3339216500249997}],\n",
       "        'distance': 2638,\n",
       "        'postalCode': '75006',\n",
       "        'cc': 'FR',\n",
       "        'city': 'Paris',\n",
       "        'state': 'Île-de-Paris',\n",
       "        'country': 'France',\n",
       "        'formattedAddress': ['45 rue Bonaparte', '75006 Paris', 'France']},\n",
       "       'categories': [{'id': '4bf58dd8d48988d10f951735',\n",
       "         'name': 'Pharmacy',\n",
       "         'pluralName': 'Pharmacies',\n",
       "         'shortName': 'Pharmacy',\n",
       "         'icon': {'prefix': 'https://ss3.4sqi.net/img/categories_v2/shops/pharmacy_',\n",
       "          'suffix': '.png'},\n",
       "         'primary': True}],\n",
       "       'photos': {'count': 0, 'groups': []}},\n",
       "      'referralId': 'e-0-4d20564ad7b0b1f7e2fd139f-19'},\n",
       "     {'reasons': {'count': 0,\n",
       "       'items': [{'summary': 'This spot is popular',\n",
       "         'type': 'general',\n",
       "         'reasonName': 'globalInteractionReason'}]},\n",
       "      'venue': {'id': '4e6f03fb149506c77ad2d3e0',\n",
       "       'name': 'Pharmacie M13',\n",
       "       'location': {'lat': 48.82177454963364,\n",
       "        'lng': 2.366634923401783,\n",
       "        'labeledLatLngs': [{'label': 'display',\n",
       "          'lat': 48.82177454963364,\n",
       "          'lng': 2.366634923401783}],\n",
       "        'distance': 2836,\n",
       "        'cc': 'FR',\n",
       "        'country': 'France',\n",
       "        'formattedAddress': ['France']},\n",
       "       'categories': [{'id': '4bf58dd8d48988d10f951735',\n",
       "         'name': 'Pharmacy',\n",
       "         'pluralName': 'Pharmacies',\n",
       "         'shortName': 'Pharmacy',\n",
       "         'icon': {'prefix': 'https://ss3.4sqi.net/img/categories_v2/shops/pharmacy_',\n",
       "          'suffix': '.png'},\n",
       "         'primary': True}],\n",
       "       'photos': {'count': 0, 'groups': []}},\n",
       "      'referralId': 'e-0-4e6f03fb149506c77ad2d3e0-20'},\n",
       "     {'reasons': {'count': 0,\n",
       "       'items': [{'summary': 'This spot is popular',\n",
       "         'type': 'general',\n",
       "         'reasonName': 'globalInteractionReason'}]},\n",
       "      'venue': {'id': '55b501d2498e1a63a6701606',\n",
       "       'name': 'Sakaré',\n",
       "       'location': {'lat': 48.85571939506649,\n",
       "        'lng': 2.3341711679090476,\n",
       "        'labeledLatLngs': [{'label': 'display',\n",
       "          'lat': 48.85571939506649,\n",
       "          'lng': 2.3341711679090476}],\n",
       "        'distance': 2879,\n",
       "        'cc': 'FR',\n",
       "        'country': 'France',\n",
       "        'formattedAddress': ['France']},\n",
       "       'categories': [{'id': '4bf58dd8d48988d10f951735',\n",
       "         'name': 'Pharmacy',\n",
       "         'pluralName': 'Pharmacies',\n",
       "         'shortName': 'Pharmacy',\n",
       "         'icon': {'prefix': 'https://ss3.4sqi.net/img/categories_v2/shops/pharmacy_',\n",
       "          'suffix': '.png'},\n",
       "         'primary': True}],\n",
       "       'photos': {'count': 0, 'groups': []}},\n",
       "      'referralId': 'e-0-55b501d2498e1a63a6701606-21'},\n",
       "     {'reasons': {'count': 0,\n",
       "       'items': [{'summary': 'This spot is popular',\n",
       "         'type': 'general',\n",
       "         'reasonName': 'globalInteractionReason'}]},\n",
       "      'venue': {'id': '4c2c5feab34ad13a1d33ebce',\n",
       "       'name': 'Pharmacie Centrale',\n",
       "       'location': {'address': '52 rue du Commerce',\n",
       "        'crossStreet': 'Rue du theatre',\n",
       "        'lat': 48.84638645403239,\n",
       "        'lng': 2.2953273701769694,\n",
       "        'labeledLatLngs': [{'label': 'display',\n",
       "          'lat': 48.84638645403239,\n",
       "          'lng': 2.2953273701769694}],\n",
       "        'distance': 3127,\n",
       "        'postalCode': '75015',\n",
       "        'cc': 'FR',\n",
       "        'city': 'Paris',\n",
       "        'state': 'Île-de-France',\n",
       "        'country': 'France',\n",
       "        'formattedAddress': ['52 rue du Commerce (Rue du theatre)',\n",
       "         '75015 Paris',\n",
       "         'France']},\n",
       "       'categories': [{'id': '4bf58dd8d48988d10f951735',\n",
       "         'name': 'Pharmacy',\n",
       "         'pluralName': 'Pharmacies',\n",
       "         'shortName': 'Pharmacy',\n",
       "         'icon': {'prefix': 'https://ss3.4sqi.net/img/categories_v2/shops/pharmacy_',\n",
       "          'suffix': '.png'},\n",
       "         'primary': True}],\n",
       "       'photos': {'count': 0, 'groups': []},\n",
       "       'venuePage': {'id': '561918078'}},\n",
       "      'referralId': 'e-0-4c2c5feab34ad13a1d33ebce-22'},\n",
       "     {'reasons': {'count': 0,\n",
       "       'items': [{'summary': 'This spot is popular',\n",
       "         'type': 'general',\n",
       "         'reasonName': 'globalInteractionReason'}]},\n",
       "      'venue': {'id': '4cac782e14c337044155f03b',\n",
       "       'name': 'Pharmacie Monteux',\n",
       "       'location': {'address': '40 rue de Belechasse',\n",
       "        'lat': 48.857660119168195,\n",
       "        'lng': 2.322300822537414,\n",
       "        'labeledLatLngs': [{'label': 'display',\n",
       "          'lat': 48.857660119168195,\n",
       "          'lng': 2.322300822537414}],\n",
       "        'distance': 3130,\n",
       "        'postalCode': '75007',\n",
       "        'cc': 'FR',\n",
       "        'city': 'Paris',\n",
       "        'state': 'Île-de-France',\n",
       "        'country': 'France',\n",
       "        'formattedAddress': ['40 rue de Belechasse', '75007 Paris', 'France']},\n",
       "       'categories': [{'id': '4bf58dd8d48988d10f951735',\n",
       "         'name': 'Pharmacy',\n",
       "         'pluralName': 'Pharmacies',\n",
       "         'shortName': 'Pharmacy',\n",
       "         'icon': {'prefix': 'https://ss3.4sqi.net/img/categories_v2/shops/pharmacy_',\n",
       "          'suffix': '.png'},\n",
       "         'primary': True}],\n",
       "       'photos': {'count': 0, 'groups': []}},\n",
       "      'referralId': 'e-0-4cac782e14c337044155f03b-23'},\n",
       "     {'reasons': {'count': 0,\n",
       "       'items': [{'summary': 'This spot is popular',\n",
       "         'type': 'general',\n",
       "         'reasonName': 'globalInteractionReason'}]},\n",
       "      'venue': {'id': '5ac76ca74c9be608aa6890e7',\n",
       "       'name': 'Pharmacie Monge Eiffel Commerce',\n",
       "       'location': {'address': '13-14-15 rue du commerce',\n",
       "        'lat': 48.848152,\n",
       "        'lng': 2.2970757,\n",
       "        'labeledLatLngs': [{'label': 'display',\n",
       "          'lat': 48.848152,\n",
       "          'lng': 2.2970757}],\n",
       "        'distance': 3146,\n",
       "        'postalCode': '75015',\n",
       "        'cc': 'FR',\n",
       "        'city': 'Paris',\n",
       "        'state': 'Île-de-France',\n",
       "        'country': 'France',\n",
       "        'formattedAddress': ['13-14-15 rue du commerce',\n",
       "         '75015 Paris',\n",
       "         'France']},\n",
       "       'categories': [{'id': '4bf58dd8d48988d10f951735',\n",
       "         'name': 'Pharmacy',\n",
       "         'pluralName': 'Pharmacies',\n",
       "         'shortName': 'Pharmacy',\n",
       "         'icon': {'prefix': 'https://ss3.4sqi.net/img/categories_v2/shops/pharmacy_',\n",
       "          'suffix': '.png'},\n",
       "         'primary': True}],\n",
       "       'photos': {'count': 0, 'groups': []}},\n",
       "      'referralId': 'e-0-5ac76ca74c9be608aa6890e7-24'},\n",
       "     {'reasons': {'count': 0,\n",
       "       'items': [{'summary': 'This spot is popular',\n",
       "         'type': 'general',\n",
       "         'reasonName': 'globalInteractionReason'}]},\n",
       "      'venue': {'id': '5d6e88e2fc25180008271e1b',\n",
       "       'name': \"Pharmacie de l'Ecole Militaire\",\n",
       "       'location': {'address': '26 Avenue de Tourville',\n",
       "        'lat': 48.8543297,\n",
       "        'lng': 2.3067556999999397,\n",
       "        'labeledLatLngs': [{'label': 'display',\n",
       "          'lat': 48.8543297,\n",
       "          'lng': 2.3067556999999397}],\n",
       "        'distance': 3199,\n",
       "        'postalCode': '75007',\n",
       "        'cc': 'FR',\n",
       "        'city': 'Paris',\n",
       "        'state': 'Île-de-France',\n",
       "        'country': 'France',\n",
       "        'formattedAddress': ['26 Avenue de Tourville',\n",
       "         '75007 Paris',\n",
       "         'France']},\n",
       "       'categories': [{'id': '4bf58dd8d48988d10f951735',\n",
       "         'name': 'Pharmacy',\n",
       "         'pluralName': 'Pharmacies',\n",
       "         'shortName': 'Pharmacy',\n",
       "         'icon': {'prefix': 'https://ss3.4sqi.net/img/categories_v2/shops/pharmacy_',\n",
       "          'suffix': '.png'},\n",
       "         'primary': True}],\n",
       "       'photos': {'count': 0, 'groups': []},\n",
       "       'venuePage': {'id': '560694128'}},\n",
       "      'referralId': 'e-0-5d6e88e2fc25180008271e1b-25'},\n",
       "     {'reasons': {'count': 0,\n",
       "       'items': [{'summary': 'This spot is popular',\n",
       "         'type': 'general',\n",
       "         'reasonName': 'globalInteractionReason'}]},\n",
       "      'venue': {'id': '54ad4f5b498ea4e6cffc7cc9',\n",
       "       'name': 'Pharmacie de la Tour Saint Jacques',\n",
       "       'location': {'address': '18 rue Saint Martin',\n",
       "        'lat': 48.85844588697346,\n",
       "        'lng': 2.34998427945226,\n",
       "        'labeledLatLngs': [{'label': 'display',\n",
       "          'lat': 48.85844588697346,\n",
       "          'lng': 2.34998427945226}],\n",
       "        'distance': 3488,\n",
       "        'postalCode': '75004',\n",
       "        'cc': 'FR',\n",
       "        'city': 'Paris',\n",
       "        'state': 'Île-de-France',\n",
       "        'country': 'France',\n",
       "        'formattedAddress': ['18 rue Saint Martin', '75004 Paris', 'France']},\n",
       "       'categories': [{'id': '4bf58dd8d48988d10f951735',\n",
       "         'name': 'Pharmacy',\n",
       "         'pluralName': 'Pharmacies',\n",
       "         'shortName': 'Pharmacy',\n",
       "         'icon': {'prefix': 'https://ss3.4sqi.net/img/categories_v2/shops/pharmacy_',\n",
       "          'suffix': '.png'},\n",
       "         'primary': True}],\n",
       "       'photos': {'count': 0, 'groups': []}},\n",
       "      'referralId': 'e-0-54ad4f5b498ea4e6cffc7cc9-26'},\n",
       "     {'reasons': {'count': 0,\n",
       "       'items': [{'summary': 'This spot is popular',\n",
       "         'type': 'general',\n",
       "         'reasonName': 'globalInteractionReason'}]},\n",
       "      'venue': {'id': '4de910a5d4c0faa5643f35c8',\n",
       "       'name': 'Pharmacie Des Archives',\n",
       "       'location': {'lat': 48.85719969089852,\n",
       "        'lng': 2.3540396871778784,\n",
       "        'labeledLatLngs': [{'label': 'display',\n",
       "          'lat': 48.85719969089852,\n",
       "          'lng': 2.3540396871778784}],\n",
       "        'distance': 3502,\n",
       "        'cc': 'FR',\n",
       "        'city': 'Paris',\n",
       "        'state': 'Île-de-France',\n",
       "        'country': 'France',\n",
       "        'formattedAddress': ['Paris', 'France']},\n",
       "       'categories': [{'id': '4bf58dd8d48988d10f951735',\n",
       "         'name': 'Pharmacy',\n",
       "         'pluralName': 'Pharmacies',\n",
       "         'shortName': 'Pharmacy',\n",
       "         'icon': {'prefix': 'https://ss3.4sqi.net/img/categories_v2/shops/pharmacy_',\n",
       "          'suffix': '.png'},\n",
       "         'primary': True}],\n",
       "       'photos': {'count': 0, 'groups': []}},\n",
       "      'referralId': 'e-0-4de910a5d4c0faa5643f35c8-27'},\n",
       "     {'reasons': {'count': 0,\n",
       "       'items': [{'summary': 'This spot is popular',\n",
       "         'type': 'general',\n",
       "         'reasonName': 'globalInteractionReason'}]},\n",
       "      'venue': {'id': '4c9b85beeaa5a14350bcd5e4',\n",
       "       'name': 'Pharmacie Lourmel',\n",
       "       'location': {'address': '105 avenue Félix Faure',\n",
       "        'crossStreet': 'Metro Lourmel',\n",
       "        'lat': 48.83897695439876,\n",
       "        'lng': 2.2827003734961826,\n",
       "        'labeledLatLngs': [{'label': 'display',\n",
       "          'lat': 48.83897695439876,\n",
       "          'lng': 2.2827003734961826}],\n",
       "        'distance': 3607,\n",
       "        'postalCode': '75015',\n",
       "        'cc': 'FR',\n",
       "        'city': 'Paris',\n",
       "        'state': 'Île-de-France',\n",
       "        'country': 'France',\n",
       "        'formattedAddress': ['105 avenue Félix Faure (Metro Lourmel)',\n",
       "         '75015 Paris',\n",
       "         'France']},\n",
       "       'categories': [{'id': '4bf58dd8d48988d10f951735',\n",
       "         'name': 'Pharmacy',\n",
       "         'pluralName': 'Pharmacies',\n",
       "         'shortName': 'Pharmacy',\n",
       "         'icon': {'prefix': 'https://ss3.4sqi.net/img/categories_v2/shops/pharmacy_',\n",
       "          'suffix': '.png'},\n",
       "         'primary': True}],\n",
       "       'photos': {'count': 0, 'groups': []},\n",
       "       'venuePage': {'id': '557917341'}},\n",
       "      'referralId': 'e-0-4c9b85beeaa5a14350bcd5e4-28'},\n",
       "     {'reasons': {'count': 0,\n",
       "       'items': [{'summary': 'This spot is popular',\n",
       "         'type': 'general',\n",
       "         'reasonName': 'globalInteractionReason'}]},\n",
       "      'venue': {'id': '4c012931f523c928f74783ca',\n",
       "       'name': 'Pharmacie du Marais',\n",
       "       'location': {'address': '119 bis rue Saint Antoine',\n",
       "        'lat': 48.85531546051062,\n",
       "        'lng': 2.3610984011625544,\n",
       "        'labeledLatLngs': [{'label': 'display',\n",
       "          'lat': 48.85531546051062,\n",
       "          'lng': 2.3610984011625544}],\n",
       "        'distance': 3623,\n",
       "        'postalCode': '75004',\n",
       "        'cc': 'FR',\n",
       "        'neighborhood': 'Saint Gervais',\n",
       "        'city': 'Paris',\n",
       "        'state': 'Île-de-France',\n",
       "        'country': 'France',\n",
       "        'formattedAddress': ['119 bis rue Saint Antoine',\n",
       "         '75004 Paris',\n",
       "         'France']},\n",
       "       'categories': [{'id': '4bf58dd8d48988d10f951735',\n",
       "         'name': 'Pharmacy',\n",
       "         'pluralName': 'Pharmacies',\n",
       "         'shortName': 'Pharmacy',\n",
       "         'icon': {'prefix': 'https://ss3.4sqi.net/img/categories_v2/shops/pharmacy_',\n",
       "          'suffix': '.png'},\n",
       "         'primary': True}],\n",
       "       'photos': {'count': 0, 'groups': []}},\n",
       "      'referralId': 'e-0-4c012931f523c928f74783ca-29'}]}]}}"
      ]
     },
     "execution_count": 5,
     "metadata": {},
     "output_type": "execute_result"
    }
   ],
   "source": [
    "data = resp.json()\n",
    "data"
   ]
  },
  {
   "cell_type": "code",
   "execution_count": 6,
   "metadata": {},
   "outputs": [],
   "source": [
    "pharma = data['response']\n",
    "groups = pharma['groups']\n",
    "venues = groups[0]['items']"
   ]
  },
  {
   "cell_type": "code",
   "execution_count": 25,
   "metadata": {},
   "outputs": [],
   "source": [
    "pharma2 = data['response']['groups'][0]['items']"
   ]
  },
  {
   "cell_type": "code",
   "execution_count": 26,
   "metadata": {},
   "outputs": [
    {
     "data": {
      "text/plain": [
       "[{'reasons': {'count': 0,\n",
       "   'items': [{'summary': 'This spot is popular',\n",
       "     'type': 'general',\n",
       "     'reasonName': 'globalInteractionReason'}]},\n",
       "  'venue': {'id': '4c820bf2d4e23704c6b76388',\n",
       "   'name': 'City Pharma',\n",
       "   'location': {'address': '26 rue du Four',\n",
       "    'lat': 48.85275405290666,\n",
       "    'lng': 2.3333434478990966,\n",
       "    'labeledLatLngs': [{'label': 'display',\n",
       "      'lat': 48.85275405290666,\n",
       "      'lng': 2.3333434478990966}],\n",
       "    'distance': 2544,\n",
       "    'postalCode': '75006',\n",
       "    'cc': 'FR',\n",
       "    'city': 'Paris',\n",
       "    'state': 'Île-de-France',\n",
       "    'country': 'France',\n",
       "    'formattedAddress': ['26 rue du Four', '75006 Paris', 'France']},\n",
       "   'categories': [{'id': '4bf58dd8d48988d10f951735',\n",
       "     'name': 'Pharmacy',\n",
       "     'pluralName': 'Pharmacies',\n",
       "     'shortName': 'Pharmacy',\n",
       "     'icon': {'prefix': 'https://ss3.4sqi.net/img/categories_v2/shops/pharmacy_',\n",
       "      'suffix': '.png'},\n",
       "     'primary': True}],\n",
       "   'photos': {'count': 0, 'groups': []}},\n",
       "  'referralId': 'e-0-4c820bf2d4e23704c6b76388-0'},\n",
       " {'reasons': {'count': 0,\n",
       "   'items': [{'summary': 'This spot is popular',\n",
       "     'type': 'general',\n",
       "     'reasonName': 'globalInteractionReason'}]},\n",
       "  'venue': {'id': '4d9c421d948ea093dc58cc11',\n",
       "   'name': 'Pharmacie Exelmans',\n",
       "   'location': {'address': '79-89 boulevard Exelmans',\n",
       "    'lat': 48.84333550150235,\n",
       "    'lng': 2.2593563748523593,\n",
       "    'labeledLatLngs': [{'label': 'display',\n",
       "      'lat': 48.84333550150235,\n",
       "      'lng': 2.2593563748523593}],\n",
       "    'distance': 5384,\n",
       "    'postalCode': '75016',\n",
       "    'cc': 'FR',\n",
       "    'city': 'Paris',\n",
       "    'state': 'Île-de-France',\n",
       "    'country': 'France',\n",
       "    'formattedAddress': ['79-89 boulevard Exelmans', '75016 Paris', 'France']},\n",
       "   'categories': [{'id': '4bf58dd8d48988d10f951735',\n",
       "     'name': 'Pharmacy',\n",
       "     'pluralName': 'Pharmacies',\n",
       "     'shortName': 'Pharmacy',\n",
       "     'icon': {'prefix': 'https://ss3.4sqi.net/img/categories_v2/shops/pharmacy_',\n",
       "      'suffix': '.png'},\n",
       "     'primary': True}],\n",
       "   'photos': {'count': 0, 'groups': []}},\n",
       "  'referralId': 'e-0-4d9c421d948ea093dc58cc11-1'},\n",
       " {'reasons': {'count': 0,\n",
       "   'items': [{'summary': 'This spot is popular',\n",
       "     'type': 'general',\n",
       "     'reasonName': 'globalInteractionReason'}]},\n",
       "  'venue': {'id': '4c1279ef77cea593e71dcd60',\n",
       "   'name': 'Pharmacie Monge',\n",
       "   'location': {'address': '74 rue Monge',\n",
       "    'crossStreet': '1 place Monge',\n",
       "    'lat': 48.8425925055892,\n",
       "    'lng': 2.3519352078437805,\n",
       "    'labeledLatLngs': [{'label': 'display',\n",
       "      'lat': 48.8425925055892,\n",
       "      'lng': 2.3519352078437805}],\n",
       "    'distance': 2132,\n",
       "    'postalCode': '75005',\n",
       "    'cc': 'FR',\n",
       "    'city': 'Paris',\n",
       "    'state': 'Île-de-France',\n",
       "    'country': 'France',\n",
       "    'formattedAddress': ['74 rue Monge (1 place Monge)',\n",
       "     '75005 Paris',\n",
       "     'France']},\n",
       "   'categories': [{'id': '4bf58dd8d48988d10f951735',\n",
       "     'name': 'Pharmacy',\n",
       "     'pluralName': 'Pharmacies',\n",
       "     'shortName': 'Pharmacy',\n",
       "     'icon': {'prefix': 'https://ss3.4sqi.net/img/categories_v2/shops/pharmacy_',\n",
       "      'suffix': '.png'},\n",
       "     'primary': True}],\n",
       "   'photos': {'count': 0, 'groups': []}},\n",
       "  'referralId': 'e-0-4c1279ef77cea593e71dcd60-2'},\n",
       " {'reasons': {'count': 0,\n",
       "   'items': [{'summary': 'This spot is popular',\n",
       "     'type': 'general',\n",
       "     'reasonName': 'globalInteractionReason'}]},\n",
       "  'venue': {'id': '4cac6da836fa6dcbc643de78',\n",
       "   'name': 'Pharmacie Anglaise des Champs-Élysées',\n",
       "   'location': {'address': '62 avenue des Champs-Élysées',\n",
       "    'lat': 48.870854,\n",
       "    'lng': 2.305774,\n",
       "    'labeledLatLngs': [{'label': 'display',\n",
       "      'lat': 48.870854,\n",
       "      'lng': 2.305774}],\n",
       "    'distance': 4881,\n",
       "    'postalCode': '75008',\n",
       "    'cc': 'FR',\n",
       "    'city': 'Paris',\n",
       "    'state': 'Île-de-France',\n",
       "    'country': 'France',\n",
       "    'formattedAddress': ['62 avenue des Champs-Élysées',\n",
       "     '75008 Paris',\n",
       "     'France']},\n",
       "   'categories': [{'id': '4bf58dd8d48988d10f951735',\n",
       "     'name': 'Pharmacy',\n",
       "     'pluralName': 'Pharmacies',\n",
       "     'shortName': 'Pharmacy',\n",
       "     'icon': {'prefix': 'https://ss3.4sqi.net/img/categories_v2/shops/pharmacy_',\n",
       "      'suffix': '.png'},\n",
       "     'primary': True}],\n",
       "   'photos': {'count': 0, 'groups': []},\n",
       "   'venuePage': {'id': '561418764'}},\n",
       "  'referralId': 'e-0-4cac6da836fa6dcbc643de78-3'},\n",
       " {'reasons': {'count': 0,\n",
       "   'items': [{'summary': 'This spot is popular',\n",
       "     'type': 'general',\n",
       "     'reasonName': 'globalInteractionReason'}]},\n",
       "  'venue': {'id': '4cb2ec8039458cfa776a16a0',\n",
       "   'name': 'Pharmacie de la Mairie',\n",
       "   'location': {'address': '36 rue de la Verrerie',\n",
       "    'crossStreet': 'Rue des Archives',\n",
       "    'lat': 48.85755482313202,\n",
       "    'lng': 2.3543057003264836,\n",
       "    'labeledLatLngs': [{'label': 'display',\n",
       "      'lat': 48.85755482313202,\n",
       "      'lng': 2.3543057003264836}],\n",
       "    'distance': 3546,\n",
       "    'postalCode': '75004',\n",
       "    'cc': 'FR',\n",
       "    'city': 'Paris',\n",
       "    'state': 'Île-de-France',\n",
       "    'country': 'France',\n",
       "    'formattedAddress': ['36 rue de la Verrerie (Rue des Archives)',\n",
       "     '75004 Paris',\n",
       "     'France']},\n",
       "   'categories': [{'id': '4bf58dd8d48988d10f951735',\n",
       "     'name': 'Pharmacy',\n",
       "     'pluralName': 'Pharmacies',\n",
       "     'shortName': 'Pharmacy',\n",
       "     'icon': {'prefix': 'https://ss3.4sqi.net/img/categories_v2/shops/pharmacy_',\n",
       "      'suffix': '.png'},\n",
       "     'primary': True}],\n",
       "   'photos': {'count': 0, 'groups': []}},\n",
       "  'referralId': 'e-0-4cb2ec8039458cfa776a16a0-4'},\n",
       " {'reasons': {'count': 0,\n",
       "   'items': [{'summary': 'This spot is popular',\n",
       "     'type': 'general',\n",
       "     'reasonName': 'globalInteractionReason'}]},\n",
       "  'venue': {'id': '4e443688483b132669d378c5',\n",
       "   'name': 'Pharmacie Grande Armée',\n",
       "   'location': {'address': '68 avenue de la Grande Armée',\n",
       "    'lat': 48.87709,\n",
       "    'lng': 2.285228,\n",
       "    'labeledLatLngs': [{'label': 'display', 'lat': 48.87709, 'lng': 2.285228}],\n",
       "    'distance': 6183,\n",
       "    'postalCode': '75017',\n",
       "    'cc': 'FR',\n",
       "    'city': 'Paris',\n",
       "    'state': 'Île-de-France',\n",
       "    'country': 'France',\n",
       "    'formattedAddress': ['68 avenue de la Grande Armée',\n",
       "     '75017 Paris',\n",
       "     'France']},\n",
       "   'categories': [{'id': '4bf58dd8d48988d10f951735',\n",
       "     'name': 'Pharmacy',\n",
       "     'pluralName': 'Pharmacies',\n",
       "     'shortName': 'Pharmacy',\n",
       "     'icon': {'prefix': 'https://ss3.4sqi.net/img/categories_v2/shops/pharmacy_',\n",
       "      'suffix': '.png'},\n",
       "     'primary': True}],\n",
       "   'photos': {'count': 0, 'groups': []}},\n",
       "  'referralId': 'e-0-4e443688483b132669d378c5-5'},\n",
       " {'reasons': {'count': 0,\n",
       "   'items': [{'summary': 'This spot is popular',\n",
       "     'type': 'general',\n",
       "     'reasonName': 'globalInteractionReason'}]},\n",
       "  'venue': {'id': '4dd65fe6b0fb8af3806aa8f2',\n",
       "   'name': \"Pharmacie de L'Ourcq\",\n",
       "   'location': {'address': \"81 bis rue de l'Ourcq\",\n",
       "    'lat': 48.893015679936006,\n",
       "    'lng': 2.377521261026087,\n",
       "    'labeledLatLngs': [{'label': 'display',\n",
       "      'lat': 48.893015679936006,\n",
       "      'lng': 2.377521261026087}],\n",
       "    'distance': 7830,\n",
       "    'postalCode': '75019',\n",
       "    'cc': 'FR',\n",
       "    'city': 'Paris',\n",
       "    'state': 'Île-de-France',\n",
       "    'country': 'France',\n",
       "    'formattedAddress': [\"81 bis rue de l'Ourcq\", '75019 Paris', 'France']},\n",
       "   'categories': [{'id': '4bf58dd8d48988d10f951735',\n",
       "     'name': 'Pharmacy',\n",
       "     'pluralName': 'Pharmacies',\n",
       "     'shortName': 'Pharmacy',\n",
       "     'icon': {'prefix': 'https://ss3.4sqi.net/img/categories_v2/shops/pharmacy_',\n",
       "      'suffix': '.png'},\n",
       "     'primary': True}],\n",
       "   'photos': {'count': 0, 'groups': []}},\n",
       "  'referralId': 'e-0-4dd65fe6b0fb8af3806aa8f2-6'},\n",
       " {'reasons': {'count': 0,\n",
       "   'items': [{'summary': 'This spot is popular',\n",
       "     'type': 'general',\n",
       "     'reasonName': 'globalInteractionReason'}]},\n",
       "  'venue': {'id': '4d67eafa6d6a236af9f0362a',\n",
       "   'name': 'Pharmacie de la Gare',\n",
       "   'location': {'address': 'Place de la Révolution',\n",
       "    'lat': 48.7958871,\n",
       "    'lng': 2.65066263,\n",
       "    'labeledLatLngs': [{'label': 'display',\n",
       "      'lat': 48.7958871,\n",
       "      'lng': 2.65066263}],\n",
       "    'distance': 23811,\n",
       "    'postalCode': '77680',\n",
       "    'cc': 'FR',\n",
       "    'city': 'Roissy-en-Brie',\n",
       "    'state': 'Île-de-France',\n",
       "    'country': 'France',\n",
       "    'formattedAddress': ['Place de la Révolution',\n",
       "     '77680 Roissy-en-Brie',\n",
       "     'France']},\n",
       "   'categories': [{'id': '4bf58dd8d48988d10f951735',\n",
       "     'name': 'Pharmacy',\n",
       "     'pluralName': 'Pharmacies',\n",
       "     'shortName': 'Pharmacy',\n",
       "     'icon': {'prefix': 'https://ss3.4sqi.net/img/categories_v2/shops/pharmacy_',\n",
       "      'suffix': '.png'},\n",
       "     'primary': True}],\n",
       "   'photos': {'count': 0, 'groups': []}},\n",
       "  'referralId': 'e-0-4d67eafa6d6a236af9f0362a-7'},\n",
       " {'reasons': {'count': 0,\n",
       "   'items': [{'summary': 'This spot is popular',\n",
       "     'type': 'general',\n",
       "     'reasonName': 'globalInteractionReason'}]},\n",
       "  'venue': {'id': '4d904e3c1716a1431f445ef7',\n",
       "   'name': 'Pharmacie du RER - Boticinal',\n",
       "   'location': {'address': 'CC Station RER La défense',\n",
       "    'lat': 48.891796,\n",
       "    'lng': 2.238691,\n",
       "    'labeledLatLngs': [{'label': 'display',\n",
       "      'lat': 48.891796,\n",
       "      'lng': 2.238691}],\n",
       "    'distance': 9593,\n",
       "    'postalCode': '92800',\n",
       "    'cc': 'FR',\n",
       "    'city': 'Puteaux',\n",
       "    'state': 'Île-de-France',\n",
       "    'country': 'France',\n",
       "    'formattedAddress': ['CC Station RER La défense',\n",
       "     '92800 Puteaux',\n",
       "     'France']},\n",
       "   'categories': [{'id': '4bf58dd8d48988d10f951735',\n",
       "     'name': 'Pharmacy',\n",
       "     'pluralName': 'Pharmacies',\n",
       "     'shortName': 'Pharmacy',\n",
       "     'icon': {'prefix': 'https://ss3.4sqi.net/img/categories_v2/shops/pharmacy_',\n",
       "      'suffix': '.png'},\n",
       "     'primary': True}],\n",
       "   'photos': {'count': 0, 'groups': []}},\n",
       "  'referralId': 'e-0-4d904e3c1716a1431f445ef7-8'},\n",
       " {'reasons': {'count': 0,\n",
       "   'items': [{'summary': 'This spot is popular',\n",
       "     'type': 'general',\n",
       "     'reasonName': 'globalInteractionReason'}]},\n",
       "  'venue': {'id': '4e14a3f462e14518a9276fff',\n",
       "   'name': 'Pharmacie de la Place de la République',\n",
       "   'location': {'address': '5 place de la République',\n",
       "    'lat': 48.866460165642884,\n",
       "    'lng': 2.3642686750201345,\n",
       "    'labeledLatLngs': [{'label': 'display',\n",
       "      'lat': 48.866460165642884,\n",
       "      'lng': 2.3642686750201345}],\n",
       "    'distance': 4772,\n",
       "    'postalCode': '75003',\n",
       "    'cc': 'FR',\n",
       "    'city': 'Paris',\n",
       "    'state': 'Île-de-France',\n",
       "    'country': 'France',\n",
       "    'formattedAddress': ['5 place de la République', '75003 Paris', 'France']},\n",
       "   'categories': [{'id': '4bf58dd8d48988d10f951735',\n",
       "     'name': 'Pharmacy',\n",
       "     'pluralName': 'Pharmacies',\n",
       "     'shortName': 'Pharmacy',\n",
       "     'icon': {'prefix': 'https://ss3.4sqi.net/img/categories_v2/shops/pharmacy_',\n",
       "      'suffix': '.png'},\n",
       "     'primary': True}],\n",
       "   'photos': {'count': 0, 'groups': []}},\n",
       "  'referralId': 'e-0-4e14a3f462e14518a9276fff-9'},\n",
       " {'reasons': {'count': 0,\n",
       "   'items': [{'summary': 'This spot is popular',\n",
       "     'type': 'general',\n",
       "     'reasonName': 'globalInteractionReason'}]},\n",
       "  'venue': {'id': '4f197d6ce4b0e1c5f806ae0b',\n",
       "   'name': 'Pharmacie',\n",
       "   'location': {'address': 'Gare de Paris-Lyon',\n",
       "    'crossStreet': 'Hall 2',\n",
       "    'lat': 48.84428,\n",
       "    'lng': 2.375611,\n",
       "    'labeledLatLngs': [{'label': 'display', 'lat': 48.84428, 'lng': 2.375611}],\n",
       "    'distance': 3700,\n",
       "    'postalCode': '75011',\n",
       "    'cc': 'FR',\n",
       "    'city': 'Paris',\n",
       "    'state': 'Île-de-France',\n",
       "    'country': 'France',\n",
       "    'formattedAddress': ['Gare de Paris-Lyon (Hall 2)',\n",
       "     '75011 Paris',\n",
       "     'France']},\n",
       "   'categories': [{'id': '4bf58dd8d48988d10f951735',\n",
       "     'name': 'Pharmacy',\n",
       "     'pluralName': 'Pharmacies',\n",
       "     'shortName': 'Pharmacy',\n",
       "     'icon': {'prefix': 'https://ss3.4sqi.net/img/categories_v2/shops/pharmacy_',\n",
       "      'suffix': '.png'},\n",
       "     'primary': True}],\n",
       "   'photos': {'count': 0, 'groups': []}},\n",
       "  'referralId': 'e-0-4f197d6ce4b0e1c5f806ae0b-10'},\n",
       " {'reasons': {'count': 0,\n",
       "   'items': [{'summary': 'This spot is popular',\n",
       "     'type': 'general',\n",
       "     'reasonName': 'globalInteractionReason'}]},\n",
       "  'venue': {'id': '4b773148f964a5207f862ee3',\n",
       "   'name': 'Pharmacie Bailly',\n",
       "   'location': {'address': '15 rue de Rome',\n",
       "    'lat': 48.875508390816655,\n",
       "    'lng': 2.3242195057079758,\n",
       "    'labeledLatLngs': [{'label': 'display',\n",
       "      'lat': 48.875508390816655,\n",
       "      'lng': 2.3242195057079758}],\n",
       "    'distance': 5083,\n",
       "    'postalCode': '75008',\n",
       "    'cc': 'FR',\n",
       "    'city': 'Paris',\n",
       "    'state': 'Île-de-France',\n",
       "    'country': 'France',\n",
       "    'formattedAddress': ['15 rue de Rome', '75008 Paris', 'France']},\n",
       "   'categories': [{'id': '4bf58dd8d48988d10f951735',\n",
       "     'name': 'Pharmacy',\n",
       "     'pluralName': 'Pharmacies',\n",
       "     'shortName': 'Pharmacy',\n",
       "     'icon': {'prefix': 'https://ss3.4sqi.net/img/categories_v2/shops/pharmacy_',\n",
       "      'suffix': '.png'},\n",
       "     'primary': True}],\n",
       "   'photos': {'count': 0, 'groups': []}},\n",
       "  'referralId': 'e-0-4b773148f964a5207f862ee3-11'},\n",
       " {'reasons': {'count': 0,\n",
       "   'items': [{'summary': 'This spot is popular',\n",
       "     'type': 'general',\n",
       "     'reasonName': 'globalInteractionReason'}]},\n",
       "  'venue': {'id': '4dc578d4b0fb5556ccf15858',\n",
       "   'name': 'Pharmacie KHUN 24h/7j',\n",
       "   'location': {'address': 'Bay 1 Loisirs',\n",
       "    'crossStreet': 'Promenade du 7ème Art',\n",
       "    'lat': 48.84076055664031,\n",
       "    'lng': 2.65597953257314,\n",
       "    'labeledLatLngs': [{'label': 'display',\n",
       "      'lat': 48.84076055664031,\n",
       "      'lng': 2.65597953257314}],\n",
       "    'distance': 23915,\n",
       "    'postalCode': '77200',\n",
       "    'cc': 'FR',\n",
       "    'city': 'Torcy',\n",
       "    'state': 'Île-de-France',\n",
       "    'country': 'France',\n",
       "    'formattedAddress': ['Bay 1 Loisirs (Promenade du 7ème Art)',\n",
       "     '77200 Torcy',\n",
       "     'France']},\n",
       "   'categories': [{'id': '4bf58dd8d48988d10f951735',\n",
       "     'name': 'Pharmacy',\n",
       "     'pluralName': 'Pharmacies',\n",
       "     'shortName': 'Pharmacy',\n",
       "     'icon': {'prefix': 'https://ss3.4sqi.net/img/categories_v2/shops/pharmacy_',\n",
       "      'suffix': '.png'},\n",
       "     'primary': True}],\n",
       "   'photos': {'count': 0, 'groups': []},\n",
       "   'venuePage': {'id': '55911229'}},\n",
       "  'referralId': 'e-0-4dc578d4b0fb5556ccf15858-12'},\n",
       " {'reasons': {'count': 0,\n",
       "   'items': [{'summary': 'This spot is popular',\n",
       "     'type': 'general',\n",
       "     'reasonName': 'globalInteractionReason'}]},\n",
       "  'venue': {'id': '4efa0d1a469012b8c3413b4e',\n",
       "   'name': 'Pharmacie des Pyramides',\n",
       "   'location': {'address': '9 rue de la Pyramide',\n",
       "    'lat': 48.86442809814823,\n",
       "    'lng': 2.3328702342472916,\n",
       "    'labeledLatLngs': [{'label': 'display',\n",
       "      'lat': 48.86442809814823,\n",
       "      'lng': 2.3328702342472916}],\n",
       "    'distance': 3838,\n",
       "    'postalCode': '75001',\n",
       "    'cc': 'FR',\n",
       "    'city': 'Paris',\n",
       "    'state': 'Île-de-France',\n",
       "    'country': 'France',\n",
       "    'formattedAddress': ['9 rue de la Pyramide', '75001 Paris', 'France']},\n",
       "   'categories': [{'id': '4bf58dd8d48988d10f951735',\n",
       "     'name': 'Pharmacy',\n",
       "     'pluralName': 'Pharmacies',\n",
       "     'shortName': 'Pharmacy',\n",
       "     'icon': {'prefix': 'https://ss3.4sqi.net/img/categories_v2/shops/pharmacy_',\n",
       "      'suffix': '.png'},\n",
       "     'primary': True}],\n",
       "   'photos': {'count': 0, 'groups': []}},\n",
       "  'referralId': 'e-0-4efa0d1a469012b8c3413b4e-13'},\n",
       " {'reasons': {'count': 0,\n",
       "   'items': [{'summary': 'This spot is popular',\n",
       "     'type': 'general',\n",
       "     'reasonName': 'globalInteractionReason'}]},\n",
       "  'venue': {'id': '50113449e4b035d9f33be9e3',\n",
       "   'name': 'Pharmacie',\n",
       "   'location': {'address': 'C.C St-Lazare Paris',\n",
       "    'crossStreet': 'Niveau Trains',\n",
       "    'lat': 48.87602,\n",
       "    'lng': 2.325006,\n",
       "    'labeledLatLngs': [{'label': 'display', 'lat': 48.87602, 'lng': 2.325006}],\n",
       "    'distance': 5135,\n",
       "    'postalCode': '75008',\n",
       "    'cc': 'FR',\n",
       "    'city': 'Paris',\n",
       "    'state': 'Île-de-France',\n",
       "    'country': 'France',\n",
       "    'formattedAddress': ['C.C St-Lazare Paris (Niveau Trains)',\n",
       "     '75008 Paris',\n",
       "     'France']},\n",
       "   'categories': [{'id': '4bf58dd8d48988d10f951735',\n",
       "     'name': 'Pharmacy',\n",
       "     'pluralName': 'Pharmacies',\n",
       "     'shortName': 'Pharmacy',\n",
       "     'icon': {'prefix': 'https://ss3.4sqi.net/img/categories_v2/shops/pharmacy_',\n",
       "      'suffix': '.png'},\n",
       "     'primary': True}],\n",
       "   'photos': {'count': 0, 'groups': []}},\n",
       "  'referralId': 'e-0-50113449e4b035d9f33be9e3-14'},\n",
       " {'reasons': {'count': 0,\n",
       "   'items': [{'summary': 'This spot is popular',\n",
       "     'type': 'general',\n",
       "     'reasonName': 'globalInteractionReason'}]},\n",
       "  'venue': {'id': '4f073cd5e4b08f524774a31c',\n",
       "   'name': 'Pharmacie de la Faisanderie',\n",
       "   'location': {'address': '69 Rue de la Faisanderie',\n",
       "    'crossStreet': 'Rue de Longchamp',\n",
       "    'lat': 48.868377,\n",
       "    'lng': 2.275709,\n",
       "    'labeledLatLngs': [{'label': 'display',\n",
       "      'lat': 48.868377,\n",
       "      'lng': 2.275709}],\n",
       "    'distance': 5836,\n",
       "    'postalCode': '75016',\n",
       "    'cc': 'FR',\n",
       "    'city': 'Paris',\n",
       "    'state': 'Île-de-France',\n",
       "    'country': 'France',\n",
       "    'formattedAddress': ['69 Rue de la Faisanderie (Rue de Longchamp)',\n",
       "     '75016 Paris',\n",
       "     'France']},\n",
       "   'categories': [{'id': '4bf58dd8d48988d10f951735',\n",
       "     'name': 'Pharmacy',\n",
       "     'pluralName': 'Pharmacies',\n",
       "     'shortName': 'Pharmacy',\n",
       "     'icon': {'prefix': 'https://ss3.4sqi.net/img/categories_v2/shops/pharmacy_',\n",
       "      'suffix': '.png'},\n",
       "     'primary': True}],\n",
       "   'photos': {'count': 0, 'groups': []},\n",
       "   'venuePage': {'id': '562414599'}},\n",
       "  'referralId': 'e-0-4f073cd5e4b08f524774a31c-15'},\n",
       " {'reasons': {'count': 0,\n",
       "   'items': [{'summary': 'This spot is popular',\n",
       "     'type': 'general',\n",
       "     'reasonName': 'globalInteractionReason'}]},\n",
       "  'venue': {'id': '4d84fddb61676dcbd9a37fe4',\n",
       "   'name': \"Pharmacie Centrale Porte d'Orleans\",\n",
       "   'location': {'lat': 48.822933750000004,\n",
       "    'lng': 2.3253023500000003,\n",
       "    'labeledLatLngs': [{'label': 'display',\n",
       "      'lat': 48.822933750000004,\n",
       "      'lng': 2.3253023500000003}],\n",
       "    'distance': 858,\n",
       "    'cc': 'FR',\n",
       "    'country': 'France',\n",
       "    'formattedAddress': ['France']},\n",
       "   'categories': [{'id': '4bf58dd8d48988d10f951735',\n",
       "     'name': 'Pharmacy',\n",
       "     'pluralName': 'Pharmacies',\n",
       "     'shortName': 'Pharmacy',\n",
       "     'icon': {'prefix': 'https://ss3.4sqi.net/img/categories_v2/shops/pharmacy_',\n",
       "      'suffix': '.png'},\n",
       "     'primary': True}],\n",
       "   'photos': {'count': 0, 'groups': []}},\n",
       "  'referralId': 'e-0-4d84fddb61676dcbd9a37fe4-16'},\n",
       " {'reasons': {'count': 0,\n",
       "   'items': [{'summary': 'This spot is popular',\n",
       "     'type': 'general',\n",
       "     'reasonName': 'globalInteractionReason'}]},\n",
       "  'venue': {'id': '5a15bc0cb546185ff27f6ebc',\n",
       "   'name': 'PHARMACIE SEVRES VANEAU',\n",
       "   'location': {'address': '109 Rue de Sèvres',\n",
       "    'lat': 48.84821,\n",
       "    'lng': 2.32017,\n",
       "    'labeledLatLngs': [{'label': 'display', 'lat': 48.84821, 'lng': 2.32017}],\n",
       "    'distance': 2151,\n",
       "    'postalCode': '75006',\n",
       "    'cc': 'FR',\n",
       "    'city': 'Paris',\n",
       "    'state': 'Île-de-France',\n",
       "    'country': 'France',\n",
       "    'formattedAddress': ['109 Rue de Sèvres', '75006 Paris', 'France']},\n",
       "   'categories': [{'id': '4bf58dd8d48988d10f951735',\n",
       "     'name': 'Pharmacy',\n",
       "     'pluralName': 'Pharmacies',\n",
       "     'shortName': 'Pharmacy',\n",
       "     'icon': {'prefix': 'https://ss3.4sqi.net/img/categories_v2/shops/pharmacy_',\n",
       "      'suffix': '.png'},\n",
       "     'primary': True}],\n",
       "   'photos': {'count': 0, 'groups': []},\n",
       "   'venuePage': {'id': '550806103'}},\n",
       "  'referralId': 'e-0-5a15bc0cb546185ff27f6ebc-17'},\n",
       " {'reasons': {'count': 0,\n",
       "   'items': [{'summary': 'This spot is popular',\n",
       "     'type': 'general',\n",
       "     'reasonName': 'globalInteractionReason'}]},\n",
       "  'venue': {'id': '508ec460e4b0d494814c7634',\n",
       "   'name': 'Pharmacie',\n",
       "   'location': {'address': 'Rue Lecourbe',\n",
       "    'crossStreet': 'Rue Cambronne',\n",
       "    'lat': 48.84261603346061,\n",
       "    'lng': 2.302621211416858,\n",
       "    'labeledLatLngs': [{'label': 'display',\n",
       "      'lat': 48.84261603346061,\n",
       "      'lng': 2.302621211416858}],\n",
       "    'distance': 2448,\n",
       "    'postalCode': '75015',\n",
       "    'cc': 'FR',\n",
       "    'city': 'Paris',\n",
       "    'state': 'Île-de-France',\n",
       "    'country': 'France',\n",
       "    'formattedAddress': ['Rue Lecourbe (Rue Cambronne)',\n",
       "     '75015 Paris',\n",
       "     'France']},\n",
       "   'categories': [{'id': '4bf58dd8d48988d10f951735',\n",
       "     'name': 'Pharmacy',\n",
       "     'pluralName': 'Pharmacies',\n",
       "     'shortName': 'Pharmacy',\n",
       "     'icon': {'prefix': 'https://ss3.4sqi.net/img/categories_v2/shops/pharmacy_',\n",
       "      'suffix': '.png'},\n",
       "     'primary': True}],\n",
       "   'photos': {'count': 0, 'groups': []}},\n",
       "  'referralId': 'e-0-508ec460e4b0d494814c7634-18'},\n",
       " {'reasons': {'count': 0,\n",
       "   'items': [{'summary': 'This spot is popular',\n",
       "     'type': 'general',\n",
       "     'reasonName': 'globalInteractionReason'}]},\n",
       "  'venue': {'id': '4d20564ad7b0b1f7e2fd139f',\n",
       "   'name': 'Pharmacie Saint-Germain des Prés',\n",
       "   'location': {'address': '45 rue Bonaparte',\n",
       "    'lat': 48.85356303538257,\n",
       "    'lng': 2.3339216500249997,\n",
       "    'labeledLatLngs': [{'label': 'display',\n",
       "      'lat': 48.85356303538257,\n",
       "      'lng': 2.3339216500249997}],\n",
       "    'distance': 2638,\n",
       "    'postalCode': '75006',\n",
       "    'cc': 'FR',\n",
       "    'city': 'Paris',\n",
       "    'state': 'Île-de-Paris',\n",
       "    'country': 'France',\n",
       "    'formattedAddress': ['45 rue Bonaparte', '75006 Paris', 'France']},\n",
       "   'categories': [{'id': '4bf58dd8d48988d10f951735',\n",
       "     'name': 'Pharmacy',\n",
       "     'pluralName': 'Pharmacies',\n",
       "     'shortName': 'Pharmacy',\n",
       "     'icon': {'prefix': 'https://ss3.4sqi.net/img/categories_v2/shops/pharmacy_',\n",
       "      'suffix': '.png'},\n",
       "     'primary': True}],\n",
       "   'photos': {'count': 0, 'groups': []}},\n",
       "  'referralId': 'e-0-4d20564ad7b0b1f7e2fd139f-19'},\n",
       " {'reasons': {'count': 0,\n",
       "   'items': [{'summary': 'This spot is popular',\n",
       "     'type': 'general',\n",
       "     'reasonName': 'globalInteractionReason'}]},\n",
       "  'venue': {'id': '4e6f03fb149506c77ad2d3e0',\n",
       "   'name': 'Pharmacie M13',\n",
       "   'location': {'lat': 48.82177454963364,\n",
       "    'lng': 2.366634923401783,\n",
       "    'labeledLatLngs': [{'label': 'display',\n",
       "      'lat': 48.82177454963364,\n",
       "      'lng': 2.366634923401783}],\n",
       "    'distance': 2836,\n",
       "    'cc': 'FR',\n",
       "    'country': 'France',\n",
       "    'formattedAddress': ['France']},\n",
       "   'categories': [{'id': '4bf58dd8d48988d10f951735',\n",
       "     'name': 'Pharmacy',\n",
       "     'pluralName': 'Pharmacies',\n",
       "     'shortName': 'Pharmacy',\n",
       "     'icon': {'prefix': 'https://ss3.4sqi.net/img/categories_v2/shops/pharmacy_',\n",
       "      'suffix': '.png'},\n",
       "     'primary': True}],\n",
       "   'photos': {'count': 0, 'groups': []}},\n",
       "  'referralId': 'e-0-4e6f03fb149506c77ad2d3e0-20'},\n",
       " {'reasons': {'count': 0,\n",
       "   'items': [{'summary': 'This spot is popular',\n",
       "     'type': 'general',\n",
       "     'reasonName': 'globalInteractionReason'}]},\n",
       "  'venue': {'id': '55b501d2498e1a63a6701606',\n",
       "   'name': 'Sakaré',\n",
       "   'location': {'lat': 48.85571939506649,\n",
       "    'lng': 2.3341711679090476,\n",
       "    'labeledLatLngs': [{'label': 'display',\n",
       "      'lat': 48.85571939506649,\n",
       "      'lng': 2.3341711679090476}],\n",
       "    'distance': 2879,\n",
       "    'cc': 'FR',\n",
       "    'country': 'France',\n",
       "    'formattedAddress': ['France']},\n",
       "   'categories': [{'id': '4bf58dd8d48988d10f951735',\n",
       "     'name': 'Pharmacy',\n",
       "     'pluralName': 'Pharmacies',\n",
       "     'shortName': 'Pharmacy',\n",
       "     'icon': {'prefix': 'https://ss3.4sqi.net/img/categories_v2/shops/pharmacy_',\n",
       "      'suffix': '.png'},\n",
       "     'primary': True}],\n",
       "   'photos': {'count': 0, 'groups': []}},\n",
       "  'referralId': 'e-0-55b501d2498e1a63a6701606-21'},\n",
       " {'reasons': {'count': 0,\n",
       "   'items': [{'summary': 'This spot is popular',\n",
       "     'type': 'general',\n",
       "     'reasonName': 'globalInteractionReason'}]},\n",
       "  'venue': {'id': '4c2c5feab34ad13a1d33ebce',\n",
       "   'name': 'Pharmacie Centrale',\n",
       "   'location': {'address': '52 rue du Commerce',\n",
       "    'crossStreet': 'Rue du theatre',\n",
       "    'lat': 48.84638645403239,\n",
       "    'lng': 2.2953273701769694,\n",
       "    'labeledLatLngs': [{'label': 'display',\n",
       "      'lat': 48.84638645403239,\n",
       "      'lng': 2.2953273701769694}],\n",
       "    'distance': 3127,\n",
       "    'postalCode': '75015',\n",
       "    'cc': 'FR',\n",
       "    'city': 'Paris',\n",
       "    'state': 'Île-de-France',\n",
       "    'country': 'France',\n",
       "    'formattedAddress': ['52 rue du Commerce (Rue du theatre)',\n",
       "     '75015 Paris',\n",
       "     'France']},\n",
       "   'categories': [{'id': '4bf58dd8d48988d10f951735',\n",
       "     'name': 'Pharmacy',\n",
       "     'pluralName': 'Pharmacies',\n",
       "     'shortName': 'Pharmacy',\n",
       "     'icon': {'prefix': 'https://ss3.4sqi.net/img/categories_v2/shops/pharmacy_',\n",
       "      'suffix': '.png'},\n",
       "     'primary': True}],\n",
       "   'photos': {'count': 0, 'groups': []},\n",
       "   'venuePage': {'id': '561918078'}},\n",
       "  'referralId': 'e-0-4c2c5feab34ad13a1d33ebce-22'},\n",
       " {'reasons': {'count': 0,\n",
       "   'items': [{'summary': 'This spot is popular',\n",
       "     'type': 'general',\n",
       "     'reasonName': 'globalInteractionReason'}]},\n",
       "  'venue': {'id': '4cac782e14c337044155f03b',\n",
       "   'name': 'Pharmacie Monteux',\n",
       "   'location': {'address': '40 rue de Belechasse',\n",
       "    'lat': 48.857660119168195,\n",
       "    'lng': 2.322300822537414,\n",
       "    'labeledLatLngs': [{'label': 'display',\n",
       "      'lat': 48.857660119168195,\n",
       "      'lng': 2.322300822537414}],\n",
       "    'distance': 3130,\n",
       "    'postalCode': '75007',\n",
       "    'cc': 'FR',\n",
       "    'city': 'Paris',\n",
       "    'state': 'Île-de-France',\n",
       "    'country': 'France',\n",
       "    'formattedAddress': ['40 rue de Belechasse', '75007 Paris', 'France']},\n",
       "   'categories': [{'id': '4bf58dd8d48988d10f951735',\n",
       "     'name': 'Pharmacy',\n",
       "     'pluralName': 'Pharmacies',\n",
       "     'shortName': 'Pharmacy',\n",
       "     'icon': {'prefix': 'https://ss3.4sqi.net/img/categories_v2/shops/pharmacy_',\n",
       "      'suffix': '.png'},\n",
       "     'primary': True}],\n",
       "   'photos': {'count': 0, 'groups': []}},\n",
       "  'referralId': 'e-0-4cac782e14c337044155f03b-23'},\n",
       " {'reasons': {'count': 0,\n",
       "   'items': [{'summary': 'This spot is popular',\n",
       "     'type': 'general',\n",
       "     'reasonName': 'globalInteractionReason'}]},\n",
       "  'venue': {'id': '5ac76ca74c9be608aa6890e7',\n",
       "   'name': 'Pharmacie Monge Eiffel Commerce',\n",
       "   'location': {'address': '13-14-15 rue du commerce',\n",
       "    'lat': 48.848152,\n",
       "    'lng': 2.2970757,\n",
       "    'labeledLatLngs': [{'label': 'display',\n",
       "      'lat': 48.848152,\n",
       "      'lng': 2.2970757}],\n",
       "    'distance': 3146,\n",
       "    'postalCode': '75015',\n",
       "    'cc': 'FR',\n",
       "    'city': 'Paris',\n",
       "    'state': 'Île-de-France',\n",
       "    'country': 'France',\n",
       "    'formattedAddress': ['13-14-15 rue du commerce', '75015 Paris', 'France']},\n",
       "   'categories': [{'id': '4bf58dd8d48988d10f951735',\n",
       "     'name': 'Pharmacy',\n",
       "     'pluralName': 'Pharmacies',\n",
       "     'shortName': 'Pharmacy',\n",
       "     'icon': {'prefix': 'https://ss3.4sqi.net/img/categories_v2/shops/pharmacy_',\n",
       "      'suffix': '.png'},\n",
       "     'primary': True}],\n",
       "   'photos': {'count': 0, 'groups': []}},\n",
       "  'referralId': 'e-0-5ac76ca74c9be608aa6890e7-24'},\n",
       " {'reasons': {'count': 0,\n",
       "   'items': [{'summary': 'This spot is popular',\n",
       "     'type': 'general',\n",
       "     'reasonName': 'globalInteractionReason'}]},\n",
       "  'venue': {'id': '5d6e88e2fc25180008271e1b',\n",
       "   'name': \"Pharmacie de l'Ecole Militaire\",\n",
       "   'location': {'address': '26 Avenue de Tourville',\n",
       "    'lat': 48.8543297,\n",
       "    'lng': 2.3067556999999397,\n",
       "    'labeledLatLngs': [{'label': 'display',\n",
       "      'lat': 48.8543297,\n",
       "      'lng': 2.3067556999999397}],\n",
       "    'distance': 3199,\n",
       "    'postalCode': '75007',\n",
       "    'cc': 'FR',\n",
       "    'city': 'Paris',\n",
       "    'state': 'Île-de-France',\n",
       "    'country': 'France',\n",
       "    'formattedAddress': ['26 Avenue de Tourville', '75007 Paris', 'France']},\n",
       "   'categories': [{'id': '4bf58dd8d48988d10f951735',\n",
       "     'name': 'Pharmacy',\n",
       "     'pluralName': 'Pharmacies',\n",
       "     'shortName': 'Pharmacy',\n",
       "     'icon': {'prefix': 'https://ss3.4sqi.net/img/categories_v2/shops/pharmacy_',\n",
       "      'suffix': '.png'},\n",
       "     'primary': True}],\n",
       "   'photos': {'count': 0, 'groups': []},\n",
       "   'venuePage': {'id': '560694128'}},\n",
       "  'referralId': 'e-0-5d6e88e2fc25180008271e1b-25'},\n",
       " {'reasons': {'count': 0,\n",
       "   'items': [{'summary': 'This spot is popular',\n",
       "     'type': 'general',\n",
       "     'reasonName': 'globalInteractionReason'}]},\n",
       "  'venue': {'id': '54ad4f5b498ea4e6cffc7cc9',\n",
       "   'name': 'Pharmacie de la Tour Saint Jacques',\n",
       "   'location': {'address': '18 rue Saint Martin',\n",
       "    'lat': 48.85844588697346,\n",
       "    'lng': 2.34998427945226,\n",
       "    'labeledLatLngs': [{'label': 'display',\n",
       "      'lat': 48.85844588697346,\n",
       "      'lng': 2.34998427945226}],\n",
       "    'distance': 3488,\n",
       "    'postalCode': '75004',\n",
       "    'cc': 'FR',\n",
       "    'city': 'Paris',\n",
       "    'state': 'Île-de-France',\n",
       "    'country': 'France',\n",
       "    'formattedAddress': ['18 rue Saint Martin', '75004 Paris', 'France']},\n",
       "   'categories': [{'id': '4bf58dd8d48988d10f951735',\n",
       "     'name': 'Pharmacy',\n",
       "     'pluralName': 'Pharmacies',\n",
       "     'shortName': 'Pharmacy',\n",
       "     'icon': {'prefix': 'https://ss3.4sqi.net/img/categories_v2/shops/pharmacy_',\n",
       "      'suffix': '.png'},\n",
       "     'primary': True}],\n",
       "   'photos': {'count': 0, 'groups': []}},\n",
       "  'referralId': 'e-0-54ad4f5b498ea4e6cffc7cc9-26'},\n",
       " {'reasons': {'count': 0,\n",
       "   'items': [{'summary': 'This spot is popular',\n",
       "     'type': 'general',\n",
       "     'reasonName': 'globalInteractionReason'}]},\n",
       "  'venue': {'id': '4de910a5d4c0faa5643f35c8',\n",
       "   'name': 'Pharmacie Des Archives',\n",
       "   'location': {'lat': 48.85719969089852,\n",
       "    'lng': 2.3540396871778784,\n",
       "    'labeledLatLngs': [{'label': 'display',\n",
       "      'lat': 48.85719969089852,\n",
       "      'lng': 2.3540396871778784}],\n",
       "    'distance': 3502,\n",
       "    'cc': 'FR',\n",
       "    'city': 'Paris',\n",
       "    'state': 'Île-de-France',\n",
       "    'country': 'France',\n",
       "    'formattedAddress': ['Paris', 'France']},\n",
       "   'categories': [{'id': '4bf58dd8d48988d10f951735',\n",
       "     'name': 'Pharmacy',\n",
       "     'pluralName': 'Pharmacies',\n",
       "     'shortName': 'Pharmacy',\n",
       "     'icon': {'prefix': 'https://ss3.4sqi.net/img/categories_v2/shops/pharmacy_',\n",
       "      'suffix': '.png'},\n",
       "     'primary': True}],\n",
       "   'photos': {'count': 0, 'groups': []}},\n",
       "  'referralId': 'e-0-4de910a5d4c0faa5643f35c8-27'},\n",
       " {'reasons': {'count': 0,\n",
       "   'items': [{'summary': 'This spot is popular',\n",
       "     'type': 'general',\n",
       "     'reasonName': 'globalInteractionReason'}]},\n",
       "  'venue': {'id': '4c9b85beeaa5a14350bcd5e4',\n",
       "   'name': 'Pharmacie Lourmel',\n",
       "   'location': {'address': '105 avenue Félix Faure',\n",
       "    'crossStreet': 'Metro Lourmel',\n",
       "    'lat': 48.83897695439876,\n",
       "    'lng': 2.2827003734961826,\n",
       "    'labeledLatLngs': [{'label': 'display',\n",
       "      'lat': 48.83897695439876,\n",
       "      'lng': 2.2827003734961826}],\n",
       "    'distance': 3607,\n",
       "    'postalCode': '75015',\n",
       "    'cc': 'FR',\n",
       "    'city': 'Paris',\n",
       "    'state': 'Île-de-France',\n",
       "    'country': 'France',\n",
       "    'formattedAddress': ['105 avenue Félix Faure (Metro Lourmel)',\n",
       "     '75015 Paris',\n",
       "     'France']},\n",
       "   'categories': [{'id': '4bf58dd8d48988d10f951735',\n",
       "     'name': 'Pharmacy',\n",
       "     'pluralName': 'Pharmacies',\n",
       "     'shortName': 'Pharmacy',\n",
       "     'icon': {'prefix': 'https://ss3.4sqi.net/img/categories_v2/shops/pharmacy_',\n",
       "      'suffix': '.png'},\n",
       "     'primary': True}],\n",
       "   'photos': {'count': 0, 'groups': []},\n",
       "   'venuePage': {'id': '557917341'}},\n",
       "  'referralId': 'e-0-4c9b85beeaa5a14350bcd5e4-28'},\n",
       " {'reasons': {'count': 0,\n",
       "   'items': [{'summary': 'This spot is popular',\n",
       "     'type': 'general',\n",
       "     'reasonName': 'globalInteractionReason'}]},\n",
       "  'venue': {'id': '4c012931f523c928f74783ca',\n",
       "   'name': 'Pharmacie du Marais',\n",
       "   'location': {'address': '119 bis rue Saint Antoine',\n",
       "    'lat': 48.85531546051062,\n",
       "    'lng': 2.3610984011625544,\n",
       "    'labeledLatLngs': [{'label': 'display',\n",
       "      'lat': 48.85531546051062,\n",
       "      'lng': 2.3610984011625544}],\n",
       "    'distance': 3623,\n",
       "    'postalCode': '75004',\n",
       "    'cc': 'FR',\n",
       "    'neighborhood': 'Saint Gervais',\n",
       "    'city': 'Paris',\n",
       "    'state': 'Île-de-France',\n",
       "    'country': 'France',\n",
       "    'formattedAddress': ['119 bis rue Saint Antoine',\n",
       "     '75004 Paris',\n",
       "     'France']},\n",
       "   'categories': [{'id': '4bf58dd8d48988d10f951735',\n",
       "     'name': 'Pharmacy',\n",
       "     'pluralName': 'Pharmacies',\n",
       "     'shortName': 'Pharmacy',\n",
       "     'icon': {'prefix': 'https://ss3.4sqi.net/img/categories_v2/shops/pharmacy_',\n",
       "      'suffix': '.png'},\n",
       "     'primary': True}],\n",
       "   'photos': {'count': 0, 'groups': []}},\n",
       "  'referralId': 'e-0-4c012931f523c928f74783ca-29'}]"
      ]
     },
     "execution_count": 26,
     "metadata": {},
     "output_type": "execute_result"
    }
   ],
   "source": [
    "pharma2"
   ]
  },
  {
   "cell_type": "code",
   "execution_count": 7,
   "metadata": {},
   "outputs": [],
   "source": [
    "import json\n",
    "with open('venues.json', 'w') as fp:\n",
    "    json.dump(venues, fp)"
   ]
  },
  {
   "cell_type": "code",
   "execution_count": 8,
   "metadata": {},
   "outputs": [],
   "source": [
    "pd.set_option('display.max_colwidth', -1)"
   ]
  },
  {
   "cell_type": "code",
   "execution_count": 9,
   "metadata": {},
   "outputs": [
    {
     "name": "stdout",
     "output_type": "stream",
     "text": [
      "[{'id': '4c820bf2d4e23704c6b76388', 'name': 'City Pharma', 'location': {'address': '26 rue du Four', 'lat': 48.85275405290666, 'lng': 2.3333434478990966, 'labeledLatLngs': [{'label': 'display', 'lat': 48.85275405290666, 'lng': 2.3333434478990966}], 'distance': 2544, 'postalCode': '75006', 'cc': 'FR', 'city': 'Paris', 'state': 'Île-de-France', 'country': 'France', 'formattedAddress': ['26 rue du Four', '75006 Paris', 'France']}, 'categories': [{'id': '4bf58dd8d48988d10f951735', 'name': 'Pharmacy', 'pluralName': 'Pharmacies', 'shortName': 'Pharmacy', 'icon': {'prefix': 'https://ss3.4sqi.net/img/categories_v2/shops/pharmacy_', 'suffix': '.png'}, 'primary': True}], 'photos': {'count': 0, 'groups': []}}, {'id': '4d9c421d948ea093dc58cc11', 'name': 'Pharmacie Exelmans', 'location': {'address': '79-89 boulevard Exelmans', 'lat': 48.84333550150235, 'lng': 2.2593563748523593, 'labeledLatLngs': [{'label': 'display', 'lat': 48.84333550150235, 'lng': 2.2593563748523593}], 'distance': 5384, 'postalCode': '75016', 'cc': 'FR', 'city': 'Paris', 'state': 'Île-de-France', 'country': 'France', 'formattedAddress': ['79-89 boulevard Exelmans', '75016 Paris', 'France']}, 'categories': [{'id': '4bf58dd8d48988d10f951735', 'name': 'Pharmacy', 'pluralName': 'Pharmacies', 'shortName': 'Pharmacy', 'icon': {'prefix': 'https://ss3.4sqi.net/img/categories_v2/shops/pharmacy_', 'suffix': '.png'}, 'primary': True}], 'photos': {'count': 0, 'groups': []}}, {'id': '4c1279ef77cea593e71dcd60', 'name': 'Pharmacie Monge', 'location': {'address': '74 rue Monge', 'crossStreet': '1 place Monge', 'lat': 48.8425925055892, 'lng': 2.3519352078437805, 'labeledLatLngs': [{'label': 'display', 'lat': 48.8425925055892, 'lng': 2.3519352078437805}], 'distance': 2132, 'postalCode': '75005', 'cc': 'FR', 'city': 'Paris', 'state': 'Île-de-France', 'country': 'France', 'formattedAddress': ['74 rue Monge (1 place Monge)', '75005 Paris', 'France']}, 'categories': [{'id': '4bf58dd8d48988d10f951735', 'name': 'Pharmacy', 'pluralName': 'Pharmacies', 'shortName': 'Pharmacy', 'icon': {'prefix': 'https://ss3.4sqi.net/img/categories_v2/shops/pharmacy_', 'suffix': '.png'}, 'primary': True}], 'photos': {'count': 0, 'groups': []}}, {'id': '4cac6da836fa6dcbc643de78', 'name': 'Pharmacie Anglaise des Champs-Élysées', 'location': {'address': '62 avenue des Champs-Élysées', 'lat': 48.870854, 'lng': 2.305774, 'labeledLatLngs': [{'label': 'display', 'lat': 48.870854, 'lng': 2.305774}], 'distance': 4881, 'postalCode': '75008', 'cc': 'FR', 'city': 'Paris', 'state': 'Île-de-France', 'country': 'France', 'formattedAddress': ['62 avenue des Champs-Élysées', '75008 Paris', 'France']}, 'categories': [{'id': '4bf58dd8d48988d10f951735', 'name': 'Pharmacy', 'pluralName': 'Pharmacies', 'shortName': 'Pharmacy', 'icon': {'prefix': 'https://ss3.4sqi.net/img/categories_v2/shops/pharmacy_', 'suffix': '.png'}, 'primary': True}], 'photos': {'count': 0, 'groups': []}, 'venuePage': {'id': '561418764'}}, {'id': '4cb2ec8039458cfa776a16a0', 'name': 'Pharmacie de la Mairie', 'location': {'address': '36 rue de la Verrerie', 'crossStreet': 'Rue des Archives', 'lat': 48.85755482313202, 'lng': 2.3543057003264836, 'labeledLatLngs': [{'label': 'display', 'lat': 48.85755482313202, 'lng': 2.3543057003264836}], 'distance': 3546, 'postalCode': '75004', 'cc': 'FR', 'city': 'Paris', 'state': 'Île-de-France', 'country': 'France', 'formattedAddress': ['36 rue de la Verrerie (Rue des Archives)', '75004 Paris', 'France']}, 'categories': [{'id': '4bf58dd8d48988d10f951735', 'name': 'Pharmacy', 'pluralName': 'Pharmacies', 'shortName': 'Pharmacy', 'icon': {'prefix': 'https://ss3.4sqi.net/img/categories_v2/shops/pharmacy_', 'suffix': '.png'}, 'primary': True}], 'photos': {'count': 0, 'groups': []}}, {'id': '4e443688483b132669d378c5', 'name': 'Pharmacie Grande Armée', 'location': {'address': '68 avenue de la Grande Armée', 'lat': 48.87709, 'lng': 2.285228, 'labeledLatLngs': [{'label': 'display', 'lat': 48.87709, 'lng': 2.285228}], 'distance': 6183, 'postalCode': '75017', 'cc': 'FR', 'city': 'Paris', 'state': 'Île-de-France', 'country': 'France', 'formattedAddress': ['68 avenue de la Grande Armée', '75017 Paris', 'France']}, 'categories': [{'id': '4bf58dd8d48988d10f951735', 'name': 'Pharmacy', 'pluralName': 'Pharmacies', 'shortName': 'Pharmacy', 'icon': {'prefix': 'https://ss3.4sqi.net/img/categories_v2/shops/pharmacy_', 'suffix': '.png'}, 'primary': True}], 'photos': {'count': 0, 'groups': []}}, {'id': '4dd65fe6b0fb8af3806aa8f2', 'name': \"Pharmacie de L'Ourcq\", 'location': {'address': \"81 bis rue de l'Ourcq\", 'lat': 48.893015679936006, 'lng': 2.377521261026087, 'labeledLatLngs': [{'label': 'display', 'lat': 48.893015679936006, 'lng': 2.377521261026087}], 'distance': 7830, 'postalCode': '75019', 'cc': 'FR', 'city': 'Paris', 'state': 'Île-de-France', 'country': 'France', 'formattedAddress': [\"81 bis rue de l'Ourcq\", '75019 Paris', 'France']}, 'categories': [{'id': '4bf58dd8d48988d10f951735', 'name': 'Pharmacy', 'pluralName': 'Pharmacies', 'shortName': 'Pharmacy', 'icon': {'prefix': 'https://ss3.4sqi.net/img/categories_v2/shops/pharmacy_', 'suffix': '.png'}, 'primary': True}], 'photos': {'count': 0, 'groups': []}}, {'id': '4d67eafa6d6a236af9f0362a', 'name': 'Pharmacie de la Gare', 'location': {'address': 'Place de la Révolution', 'lat': 48.7958871, 'lng': 2.65066263, 'labeledLatLngs': [{'label': 'display', 'lat': 48.7958871, 'lng': 2.65066263}], 'distance': 23811, 'postalCode': '77680', 'cc': 'FR', 'city': 'Roissy-en-Brie', 'state': 'Île-de-France', 'country': 'France', 'formattedAddress': ['Place de la Révolution', '77680 Roissy-en-Brie', 'France']}, 'categories': [{'id': '4bf58dd8d48988d10f951735', 'name': 'Pharmacy', 'pluralName': 'Pharmacies', 'shortName': 'Pharmacy', 'icon': {'prefix': 'https://ss3.4sqi.net/img/categories_v2/shops/pharmacy_', 'suffix': '.png'}, 'primary': True}], 'photos': {'count': 0, 'groups': []}}, {'id': '4d904e3c1716a1431f445ef7', 'name': 'Pharmacie du RER - Boticinal', 'location': {'address': 'CC Station RER La défense', 'lat': 48.891796, 'lng': 2.238691, 'labeledLatLngs': [{'label': 'display', 'lat': 48.891796, 'lng': 2.238691}], 'distance': 9593, 'postalCode': '92800', 'cc': 'FR', 'city': 'Puteaux', 'state': 'Île-de-France', 'country': 'France', 'formattedAddress': ['CC Station RER La défense', '92800 Puteaux', 'France']}, 'categories': [{'id': '4bf58dd8d48988d10f951735', 'name': 'Pharmacy', 'pluralName': 'Pharmacies', 'shortName': 'Pharmacy', 'icon': {'prefix': 'https://ss3.4sqi.net/img/categories_v2/shops/pharmacy_', 'suffix': '.png'}, 'primary': True}], 'photos': {'count': 0, 'groups': []}}, {'id': '4e14a3f462e14518a9276fff', 'name': 'Pharmacie de la Place de la République', 'location': {'address': '5 place de la République', 'lat': 48.866460165642884, 'lng': 2.3642686750201345, 'labeledLatLngs': [{'label': 'display', 'lat': 48.866460165642884, 'lng': 2.3642686750201345}], 'distance': 4772, 'postalCode': '75003', 'cc': 'FR', 'city': 'Paris', 'state': 'Île-de-France', 'country': 'France', 'formattedAddress': ['5 place de la République', '75003 Paris', 'France']}, 'categories': [{'id': '4bf58dd8d48988d10f951735', 'name': 'Pharmacy', 'pluralName': 'Pharmacies', 'shortName': 'Pharmacy', 'icon': {'prefix': 'https://ss3.4sqi.net/img/categories_v2/shops/pharmacy_', 'suffix': '.png'}, 'primary': True}], 'photos': {'count': 0, 'groups': []}}, {'id': '4f197d6ce4b0e1c5f806ae0b', 'name': 'Pharmacie', 'location': {'address': 'Gare de Paris-Lyon', 'crossStreet': 'Hall 2', 'lat': 48.84428, 'lng': 2.375611, 'labeledLatLngs': [{'label': 'display', 'lat': 48.84428, 'lng': 2.375611}], 'distance': 3700, 'postalCode': '75011', 'cc': 'FR', 'city': 'Paris', 'state': 'Île-de-France', 'country': 'France', 'formattedAddress': ['Gare de Paris-Lyon (Hall 2)', '75011 Paris', 'France']}, 'categories': [{'id': '4bf58dd8d48988d10f951735', 'name': 'Pharmacy', 'pluralName': 'Pharmacies', 'shortName': 'Pharmacy', 'icon': {'prefix': 'https://ss3.4sqi.net/img/categories_v2/shops/pharmacy_', 'suffix': '.png'}, 'primary': True}], 'photos': {'count': 0, 'groups': []}}, {'id': '4b773148f964a5207f862ee3', 'name': 'Pharmacie Bailly', 'location': {'address': '15 rue de Rome', 'lat': 48.875508390816655, 'lng': 2.3242195057079758, 'labeledLatLngs': [{'label': 'display', 'lat': 48.875508390816655, 'lng': 2.3242195057079758}], 'distance': 5083, 'postalCode': '75008', 'cc': 'FR', 'city': 'Paris', 'state': 'Île-de-France', 'country': 'France', 'formattedAddress': ['15 rue de Rome', '75008 Paris', 'France']}, 'categories': [{'id': '4bf58dd8d48988d10f951735', 'name': 'Pharmacy', 'pluralName': 'Pharmacies', 'shortName': 'Pharmacy', 'icon': {'prefix': 'https://ss3.4sqi.net/img/categories_v2/shops/pharmacy_', 'suffix': '.png'}, 'primary': True}], 'photos': {'count': 0, 'groups': []}}, {'id': '4dc578d4b0fb5556ccf15858', 'name': 'Pharmacie KHUN 24h/7j', 'location': {'address': 'Bay 1 Loisirs', 'crossStreet': 'Promenade du 7ème Art', 'lat': 48.84076055664031, 'lng': 2.65597953257314, 'labeledLatLngs': [{'label': 'display', 'lat': 48.84076055664031, 'lng': 2.65597953257314}], 'distance': 23915, 'postalCode': '77200', 'cc': 'FR', 'city': 'Torcy', 'state': 'Île-de-France', 'country': 'France', 'formattedAddress': ['Bay 1 Loisirs (Promenade du 7ème Art)', '77200 Torcy', 'France']}, 'categories': [{'id': '4bf58dd8d48988d10f951735', 'name': 'Pharmacy', 'pluralName': 'Pharmacies', 'shortName': 'Pharmacy', 'icon': {'prefix': 'https://ss3.4sqi.net/img/categories_v2/shops/pharmacy_', 'suffix': '.png'}, 'primary': True}], 'photos': {'count': 0, 'groups': []}, 'venuePage': {'id': '55911229'}}, {'id': '4efa0d1a469012b8c3413b4e', 'name': 'Pharmacie des Pyramides', 'location': {'address': '9 rue de la Pyramide', 'lat': 48.86442809814823, 'lng': 2.3328702342472916, 'labeledLatLngs': [{'label': 'display', 'lat': 48.86442809814823, 'lng': 2.3328702342472916}], 'distance': 3838, 'postalCode': '75001', 'cc': 'FR', 'city': 'Paris', 'state': 'Île-de-France', 'country': 'France', 'formattedAddress': ['9 rue de la Pyramide', '75001 Paris', 'France']}, 'categories': [{'id': '4bf58dd8d48988d10f951735', 'name': 'Pharmacy', 'pluralName': 'Pharmacies', 'shortName': 'Pharmacy', 'icon': {'prefix': 'https://ss3.4sqi.net/img/categories_v2/shops/pharmacy_', 'suffix': '.png'}, 'primary': True}], 'photos': {'count': 0, 'groups': []}}, {'id': '50113449e4b035d9f33be9e3', 'name': 'Pharmacie', 'location': {'address': 'C.C St-Lazare Paris', 'crossStreet': 'Niveau Trains', 'lat': 48.87602, 'lng': 2.325006, 'labeledLatLngs': [{'label': 'display', 'lat': 48.87602, 'lng': 2.325006}], 'distance': 5135, 'postalCode': '75008', 'cc': 'FR', 'city': 'Paris', 'state': 'Île-de-France', 'country': 'France', 'formattedAddress': ['C.C St-Lazare Paris (Niveau Trains)', '75008 Paris', 'France']}, 'categories': [{'id': '4bf58dd8d48988d10f951735', 'name': 'Pharmacy', 'pluralName': 'Pharmacies', 'shortName': 'Pharmacy', 'icon': {'prefix': 'https://ss3.4sqi.net/img/categories_v2/shops/pharmacy_', 'suffix': '.png'}, 'primary': True}], 'photos': {'count': 0, 'groups': []}}, {'id': '4f073cd5e4b08f524774a31c', 'name': 'Pharmacie de la Faisanderie', 'location': {'address': '69 Rue de la Faisanderie', 'crossStreet': 'Rue de Longchamp', 'lat': 48.868377, 'lng': 2.275709, 'labeledLatLngs': [{'label': 'display', 'lat': 48.868377, 'lng': 2.275709}], 'distance': 5836, 'postalCode': '75016', 'cc': 'FR', 'city': 'Paris', 'state': 'Île-de-France', 'country': 'France', 'formattedAddress': ['69 Rue de la Faisanderie (Rue de Longchamp)', '75016 Paris', 'France']}, 'categories': [{'id': '4bf58dd8d48988d10f951735', 'name': 'Pharmacy', 'pluralName': 'Pharmacies', 'shortName': 'Pharmacy', 'icon': {'prefix': 'https://ss3.4sqi.net/img/categories_v2/shops/pharmacy_', 'suffix': '.png'}, 'primary': True}], 'photos': {'count': 0, 'groups': []}, 'venuePage': {'id': '562414599'}}, {'id': '4d84fddb61676dcbd9a37fe4', 'name': \"Pharmacie Centrale Porte d'Orleans\", 'location': {'lat': 48.822933750000004, 'lng': 2.3253023500000003, 'labeledLatLngs': [{'label': 'display', 'lat': 48.822933750000004, 'lng': 2.3253023500000003}], 'distance': 858, 'cc': 'FR', 'country': 'France', 'formattedAddress': ['France']}, 'categories': [{'id': '4bf58dd8d48988d10f951735', 'name': 'Pharmacy', 'pluralName': 'Pharmacies', 'shortName': 'Pharmacy', 'icon': {'prefix': 'https://ss3.4sqi.net/img/categories_v2/shops/pharmacy_', 'suffix': '.png'}, 'primary': True}], 'photos': {'count': 0, 'groups': []}}, {'id': '5a15bc0cb546185ff27f6ebc', 'name': 'PHARMACIE SEVRES VANEAU', 'location': {'address': '109 Rue de Sèvres', 'lat': 48.84821, 'lng': 2.32017, 'labeledLatLngs': [{'label': 'display', 'lat': 48.84821, 'lng': 2.32017}], 'distance': 2151, 'postalCode': '75006', 'cc': 'FR', 'city': 'Paris', 'state': 'Île-de-France', 'country': 'France', 'formattedAddress': ['109 Rue de Sèvres', '75006 Paris', 'France']}, 'categories': [{'id': '4bf58dd8d48988d10f951735', 'name': 'Pharmacy', 'pluralName': 'Pharmacies', 'shortName': 'Pharmacy', 'icon': {'prefix': 'https://ss3.4sqi.net/img/categories_v2/shops/pharmacy_', 'suffix': '.png'}, 'primary': True}], 'photos': {'count': 0, 'groups': []}, 'venuePage': {'id': '550806103'}}, {'id': '508ec460e4b0d494814c7634', 'name': 'Pharmacie', 'location': {'address': 'Rue Lecourbe', 'crossStreet': 'Rue Cambronne', 'lat': 48.84261603346061, 'lng': 2.302621211416858, 'labeledLatLngs': [{'label': 'display', 'lat': 48.84261603346061, 'lng': 2.302621211416858}], 'distance': 2448, 'postalCode': '75015', 'cc': 'FR', 'city': 'Paris', 'state': 'Île-de-France', 'country': 'France', 'formattedAddress': ['Rue Lecourbe (Rue Cambronne)', '75015 Paris', 'France']}, 'categories': [{'id': '4bf58dd8d48988d10f951735', 'name': 'Pharmacy', 'pluralName': 'Pharmacies', 'shortName': 'Pharmacy', 'icon': {'prefix': 'https://ss3.4sqi.net/img/categories_v2/shops/pharmacy_', 'suffix': '.png'}, 'primary': True}], 'photos': {'count': 0, 'groups': []}}, {'id': '4d20564ad7b0b1f7e2fd139f', 'name': 'Pharmacie Saint-Germain des Prés', 'location': {'address': '45 rue Bonaparte', 'lat': 48.85356303538257, 'lng': 2.3339216500249997, 'labeledLatLngs': [{'label': 'display', 'lat': 48.85356303538257, 'lng': 2.3339216500249997}], 'distance': 2638, 'postalCode': '75006', 'cc': 'FR', 'city': 'Paris', 'state': 'Île-de-Paris', 'country': 'France', 'formattedAddress': ['45 rue Bonaparte', '75006 Paris', 'France']}, 'categories': [{'id': '4bf58dd8d48988d10f951735', 'name': 'Pharmacy', 'pluralName': 'Pharmacies', 'shortName': 'Pharmacy', 'icon': {'prefix': 'https://ss3.4sqi.net/img/categories_v2/shops/pharmacy_', 'suffix': '.png'}, 'primary': True}], 'photos': {'count': 0, 'groups': []}}, {'id': '4e6f03fb149506c77ad2d3e0', 'name': 'Pharmacie M13', 'location': {'lat': 48.82177454963364, 'lng': 2.366634923401783, 'labeledLatLngs': [{'label': 'display', 'lat': 48.82177454963364, 'lng': 2.366634923401783}], 'distance': 2836, 'cc': 'FR', 'country': 'France', 'formattedAddress': ['France']}, 'categories': [{'id': '4bf58dd8d48988d10f951735', 'name': 'Pharmacy', 'pluralName': 'Pharmacies', 'shortName': 'Pharmacy', 'icon': {'prefix': 'https://ss3.4sqi.net/img/categories_v2/shops/pharmacy_', 'suffix': '.png'}, 'primary': True}], 'photos': {'count': 0, 'groups': []}}, {'id': '55b501d2498e1a63a6701606', 'name': 'Sakaré', 'location': {'lat': 48.85571939506649, 'lng': 2.3341711679090476, 'labeledLatLngs': [{'label': 'display', 'lat': 48.85571939506649, 'lng': 2.3341711679090476}], 'distance': 2879, 'cc': 'FR', 'country': 'France', 'formattedAddress': ['France']}, 'categories': [{'id': '4bf58dd8d48988d10f951735', 'name': 'Pharmacy', 'pluralName': 'Pharmacies', 'shortName': 'Pharmacy', 'icon': {'prefix': 'https://ss3.4sqi.net/img/categories_v2/shops/pharmacy_', 'suffix': '.png'}, 'primary': True}], 'photos': {'count': 0, 'groups': []}}, {'id': '4c2c5feab34ad13a1d33ebce', 'name': 'Pharmacie Centrale', 'location': {'address': '52 rue du Commerce', 'crossStreet': 'Rue du theatre', 'lat': 48.84638645403239, 'lng': 2.2953273701769694, 'labeledLatLngs': [{'label': 'display', 'lat': 48.84638645403239, 'lng': 2.2953273701769694}], 'distance': 3127, 'postalCode': '75015', 'cc': 'FR', 'city': 'Paris', 'state': 'Île-de-France', 'country': 'France', 'formattedAddress': ['52 rue du Commerce (Rue du theatre)', '75015 Paris', 'France']}, 'categories': [{'id': '4bf58dd8d48988d10f951735', 'name': 'Pharmacy', 'pluralName': 'Pharmacies', 'shortName': 'Pharmacy', 'icon': {'prefix': 'https://ss3.4sqi.net/img/categories_v2/shops/pharmacy_', 'suffix': '.png'}, 'primary': True}], 'photos': {'count': 0, 'groups': []}, 'venuePage': {'id': '561918078'}}, {'id': '4cac782e14c337044155f03b', 'name': 'Pharmacie Monteux', 'location': {'address': '40 rue de Belechasse', 'lat': 48.857660119168195, 'lng': 2.322300822537414, 'labeledLatLngs': [{'label': 'display', 'lat': 48.857660119168195, 'lng': 2.322300822537414}], 'distance': 3130, 'postalCode': '75007', 'cc': 'FR', 'city': 'Paris', 'state': 'Île-de-France', 'country': 'France', 'formattedAddress': ['40 rue de Belechasse', '75007 Paris', 'France']}, 'categories': [{'id': '4bf58dd8d48988d10f951735', 'name': 'Pharmacy', 'pluralName': 'Pharmacies', 'shortName': 'Pharmacy', 'icon': {'prefix': 'https://ss3.4sqi.net/img/categories_v2/shops/pharmacy_', 'suffix': '.png'}, 'primary': True}], 'photos': {'count': 0, 'groups': []}}, {'id': '5ac76ca74c9be608aa6890e7', 'name': 'Pharmacie Monge Eiffel Commerce', 'location': {'address': '13-14-15 rue du commerce', 'lat': 48.848152, 'lng': 2.2970757, 'labeledLatLngs': [{'label': 'display', 'lat': 48.848152, 'lng': 2.2970757}], 'distance': 3146, 'postalCode': '75015', 'cc': 'FR', 'city': 'Paris', 'state': 'Île-de-France', 'country': 'France', 'formattedAddress': ['13-14-15 rue du commerce', '75015 Paris', 'France']}, 'categories': [{'id': '4bf58dd8d48988d10f951735', 'name': 'Pharmacy', 'pluralName': 'Pharmacies', 'shortName': 'Pharmacy', 'icon': {'prefix': 'https://ss3.4sqi.net/img/categories_v2/shops/pharmacy_', 'suffix': '.png'}, 'primary': True}], 'photos': {'count': 0, 'groups': []}}, {'id': '5d6e88e2fc25180008271e1b', 'name': \"Pharmacie de l'Ecole Militaire\", 'location': {'address': '26 Avenue de Tourville', 'lat': 48.8543297, 'lng': 2.3067556999999397, 'labeledLatLngs': [{'label': 'display', 'lat': 48.8543297, 'lng': 2.3067556999999397}], 'distance': 3199, 'postalCode': '75007', 'cc': 'FR', 'city': 'Paris', 'state': 'Île-de-France', 'country': 'France', 'formattedAddress': ['26 Avenue de Tourville', '75007 Paris', 'France']}, 'categories': [{'id': '4bf58dd8d48988d10f951735', 'name': 'Pharmacy', 'pluralName': 'Pharmacies', 'shortName': 'Pharmacy', 'icon': {'prefix': 'https://ss3.4sqi.net/img/categories_v2/shops/pharmacy_', 'suffix': '.png'}, 'primary': True}], 'photos': {'count': 0, 'groups': []}, 'venuePage': {'id': '560694128'}}, {'id': '54ad4f5b498ea4e6cffc7cc9', 'name': 'Pharmacie de la Tour Saint Jacques', 'location': {'address': '18 rue Saint Martin', 'lat': 48.85844588697346, 'lng': 2.34998427945226, 'labeledLatLngs': [{'label': 'display', 'lat': 48.85844588697346, 'lng': 2.34998427945226}], 'distance': 3488, 'postalCode': '75004', 'cc': 'FR', 'city': 'Paris', 'state': 'Île-de-France', 'country': 'France', 'formattedAddress': ['18 rue Saint Martin', '75004 Paris', 'France']}, 'categories': [{'id': '4bf58dd8d48988d10f951735', 'name': 'Pharmacy', 'pluralName': 'Pharmacies', 'shortName': 'Pharmacy', 'icon': {'prefix': 'https://ss3.4sqi.net/img/categories_v2/shops/pharmacy_', 'suffix': '.png'}, 'primary': True}], 'photos': {'count': 0, 'groups': []}}, {'id': '4de910a5d4c0faa5643f35c8', 'name': 'Pharmacie Des Archives', 'location': {'lat': 48.85719969089852, 'lng': 2.3540396871778784, 'labeledLatLngs': [{'label': 'display', 'lat': 48.85719969089852, 'lng': 2.3540396871778784}], 'distance': 3502, 'cc': 'FR', 'city': 'Paris', 'state': 'Île-de-France', 'country': 'France', 'formattedAddress': ['Paris', 'France']}, 'categories': [{'id': '4bf58dd8d48988d10f951735', 'name': 'Pharmacy', 'pluralName': 'Pharmacies', 'shortName': 'Pharmacy', 'icon': {'prefix': 'https://ss3.4sqi.net/img/categories_v2/shops/pharmacy_', 'suffix': '.png'}, 'primary': True}], 'photos': {'count': 0, 'groups': []}}, {'id': '4c9b85beeaa5a14350bcd5e4', 'name': 'Pharmacie Lourmel', 'location': {'address': '105 avenue Félix Faure', 'crossStreet': 'Metro Lourmel', 'lat': 48.83897695439876, 'lng': 2.2827003734961826, 'labeledLatLngs': [{'label': 'display', 'lat': 48.83897695439876, 'lng': 2.2827003734961826}], 'distance': 3607, 'postalCode': '75015', 'cc': 'FR', 'city': 'Paris', 'state': 'Île-de-France', 'country': 'France', 'formattedAddress': ['105 avenue Félix Faure (Metro Lourmel)', '75015 Paris', 'France']}, 'categories': [{'id': '4bf58dd8d48988d10f951735', 'name': 'Pharmacy', 'pluralName': 'Pharmacies', 'shortName': 'Pharmacy', 'icon': {'prefix': 'https://ss3.4sqi.net/img/categories_v2/shops/pharmacy_', 'suffix': '.png'}, 'primary': True}], 'photos': {'count': 0, 'groups': []}, 'venuePage': {'id': '557917341'}}, {'id': '4c012931f523c928f74783ca', 'name': 'Pharmacie du Marais', 'location': {'address': '119 bis rue Saint Antoine', 'lat': 48.85531546051062, 'lng': 2.3610984011625544, 'labeledLatLngs': [{'label': 'display', 'lat': 48.85531546051062, 'lng': 2.3610984011625544}], 'distance': 3623, 'postalCode': '75004', 'cc': 'FR', 'neighborhood': 'Saint Gervais', 'city': 'Paris', 'state': 'Île-de-France', 'country': 'France', 'formattedAddress': ['119 bis rue Saint Antoine', '75004 Paris', 'France']}, 'categories': [{'id': '4bf58dd8d48988d10f951735', 'name': 'Pharmacy', 'pluralName': 'Pharmacies', 'shortName': 'Pharmacy', 'icon': {'prefix': 'https://ss3.4sqi.net/img/categories_v2/shops/pharmacy_', 'suffix': '.png'}, 'primary': True}], 'photos': {'count': 0, 'groups': []}}]\n"
     ]
    }
   ],
   "source": [
    "pharma_venues = []\n",
    "for i, x in enumerate(venues):\n",
    "    for key, val in x.items():\n",
    "        if key == 'venue':\n",
    "            pharma_venues.append(val)\n",
    "            \n",
    "print(pharma_venues)"
   ]
  },
  {
   "cell_type": "code",
   "execution_count": 10,
   "metadata": {},
   "outputs": [
    {
     "data": {
      "text/html": [
       "<div>\n",
       "<style scoped>\n",
       "    .dataframe tbody tr th:only-of-type {\n",
       "        vertical-align: middle;\n",
       "    }\n",
       "\n",
       "    .dataframe tbody tr th {\n",
       "        vertical-align: top;\n",
       "    }\n",
       "\n",
       "    .dataframe thead th {\n",
       "        text-align: right;\n",
       "    }\n",
       "</style>\n",
       "<table border=\"1\" class=\"dataframe\">\n",
       "  <thead>\n",
       "    <tr style=\"text-align: right;\">\n",
       "      <th></th>\n",
       "      <th>categories</th>\n",
       "      <th>id</th>\n",
       "      <th>location</th>\n",
       "      <th>name</th>\n",
       "      <th>photos</th>\n",
       "      <th>venuePage</th>\n",
       "    </tr>\n",
       "  </thead>\n",
       "  <tbody>\n",
       "    <tr>\n",
       "      <th>0</th>\n",
       "      <td>[{'id': '4bf58dd8d48988d10f951735', 'name': 'Pharmacy', 'pluralName': 'Pharmacies', 'shortName': 'Pharmacy', 'icon': {'prefix': 'https://ss3.4sqi.net/img/categories_v2/shops/pharmacy_', 'suffix': '.png'}, 'primary': True}]</td>\n",
       "      <td>4c820bf2d4e23704c6b76388</td>\n",
       "      <td>{'address': '26 rue du Four', 'lat': 48.85275405290666, 'lng': 2.3333434478990966, 'labeledLatLngs': [{'label': 'display', 'lat': 48.85275405290666, 'lng': 2.3333434478990966}], 'distance': 2544, 'postalCode': '75006', 'cc': 'FR', 'city': 'Paris', 'state': 'Île-de-France', 'country': 'France', 'formattedAddress': ['26 rue du Four', '75006 Paris', 'France']}</td>\n",
       "      <td>City Pharma</td>\n",
       "      <td>{'count': 0, 'groups': []}</td>\n",
       "      <td>NaN</td>\n",
       "    </tr>\n",
       "    <tr>\n",
       "      <th>1</th>\n",
       "      <td>[{'id': '4bf58dd8d48988d10f951735', 'name': 'Pharmacy', 'pluralName': 'Pharmacies', 'shortName': 'Pharmacy', 'icon': {'prefix': 'https://ss3.4sqi.net/img/categories_v2/shops/pharmacy_', 'suffix': '.png'}, 'primary': True}]</td>\n",
       "      <td>4d9c421d948ea093dc58cc11</td>\n",
       "      <td>{'address': '79-89 boulevard Exelmans', 'lat': 48.84333550150235, 'lng': 2.2593563748523593, 'labeledLatLngs': [{'label': 'display', 'lat': 48.84333550150235, 'lng': 2.2593563748523593}], 'distance': 5384, 'postalCode': '75016', 'cc': 'FR', 'city': 'Paris', 'state': 'Île-de-France', 'country': 'France', 'formattedAddress': ['79-89 boulevard Exelmans', '75016 Paris', 'France']}</td>\n",
       "      <td>Pharmacie Exelmans</td>\n",
       "      <td>{'count': 0, 'groups': []}</td>\n",
       "      <td>NaN</td>\n",
       "    </tr>\n",
       "    <tr>\n",
       "      <th>2</th>\n",
       "      <td>[{'id': '4bf58dd8d48988d10f951735', 'name': 'Pharmacy', 'pluralName': 'Pharmacies', 'shortName': 'Pharmacy', 'icon': {'prefix': 'https://ss3.4sqi.net/img/categories_v2/shops/pharmacy_', 'suffix': '.png'}, 'primary': True}]</td>\n",
       "      <td>4c1279ef77cea593e71dcd60</td>\n",
       "      <td>{'address': '74 rue Monge', 'crossStreet': '1 place Monge', 'lat': 48.8425925055892, 'lng': 2.3519352078437805, 'labeledLatLngs': [{'label': 'display', 'lat': 48.8425925055892, 'lng': 2.3519352078437805}], 'distance': 2132, 'postalCode': '75005', 'cc': 'FR', 'city': 'Paris', 'state': 'Île-de-France', 'country': 'France', 'formattedAddress': ['74 rue Monge (1 place Monge)', '75005 Paris', 'France']}</td>\n",
       "      <td>Pharmacie Monge</td>\n",
       "      <td>{'count': 0, 'groups': []}</td>\n",
       "      <td>NaN</td>\n",
       "    </tr>\n",
       "    <tr>\n",
       "      <th>3</th>\n",
       "      <td>[{'id': '4bf58dd8d48988d10f951735', 'name': 'Pharmacy', 'pluralName': 'Pharmacies', 'shortName': 'Pharmacy', 'icon': {'prefix': 'https://ss3.4sqi.net/img/categories_v2/shops/pharmacy_', 'suffix': '.png'}, 'primary': True}]</td>\n",
       "      <td>4cac6da836fa6dcbc643de78</td>\n",
       "      <td>{'address': '62 avenue des Champs-Élysées', 'lat': 48.870854, 'lng': 2.305774, 'labeledLatLngs': [{'label': 'display', 'lat': 48.870854, 'lng': 2.305774}], 'distance': 4881, 'postalCode': '75008', 'cc': 'FR', 'city': 'Paris', 'state': 'Île-de-France', 'country': 'France', 'formattedAddress': ['62 avenue des Champs-Élysées', '75008 Paris', 'France']}</td>\n",
       "      <td>Pharmacie Anglaise des Champs-Élysées</td>\n",
       "      <td>{'count': 0, 'groups': []}</td>\n",
       "      <td>{'id': '561418764'}</td>\n",
       "    </tr>\n",
       "    <tr>\n",
       "      <th>4</th>\n",
       "      <td>[{'id': '4bf58dd8d48988d10f951735', 'name': 'Pharmacy', 'pluralName': 'Pharmacies', 'shortName': 'Pharmacy', 'icon': {'prefix': 'https://ss3.4sqi.net/img/categories_v2/shops/pharmacy_', 'suffix': '.png'}, 'primary': True}]</td>\n",
       "      <td>4cb2ec8039458cfa776a16a0</td>\n",
       "      <td>{'address': '36 rue de la Verrerie', 'crossStreet': 'Rue des Archives', 'lat': 48.85755482313202, 'lng': 2.3543057003264836, 'labeledLatLngs': [{'label': 'display', 'lat': 48.85755482313202, 'lng': 2.3543057003264836}], 'distance': 3546, 'postalCode': '75004', 'cc': 'FR', 'city': 'Paris', 'state': 'Île-de-France', 'country': 'France', 'formattedAddress': ['36 rue de la Verrerie (Rue des Archives)', '75004 Paris', 'France']}</td>\n",
       "      <td>Pharmacie de la Mairie</td>\n",
       "      <td>{'count': 0, 'groups': []}</td>\n",
       "      <td>NaN</td>\n",
       "    </tr>\n",
       "  </tbody>\n",
       "</table>\n",
       "</div>"
      ],
      "text/plain": [
       "                                                                                                                                                                                                                       categories  \\\n",
       "0  [{'id': '4bf58dd8d48988d10f951735', 'name': 'Pharmacy', 'pluralName': 'Pharmacies', 'shortName': 'Pharmacy', 'icon': {'prefix': 'https://ss3.4sqi.net/img/categories_v2/shops/pharmacy_', 'suffix': '.png'}, 'primary': True}]   \n",
       "1  [{'id': '4bf58dd8d48988d10f951735', 'name': 'Pharmacy', 'pluralName': 'Pharmacies', 'shortName': 'Pharmacy', 'icon': {'prefix': 'https://ss3.4sqi.net/img/categories_v2/shops/pharmacy_', 'suffix': '.png'}, 'primary': True}]   \n",
       "2  [{'id': '4bf58dd8d48988d10f951735', 'name': 'Pharmacy', 'pluralName': 'Pharmacies', 'shortName': 'Pharmacy', 'icon': {'prefix': 'https://ss3.4sqi.net/img/categories_v2/shops/pharmacy_', 'suffix': '.png'}, 'primary': True}]   \n",
       "3  [{'id': '4bf58dd8d48988d10f951735', 'name': 'Pharmacy', 'pluralName': 'Pharmacies', 'shortName': 'Pharmacy', 'icon': {'prefix': 'https://ss3.4sqi.net/img/categories_v2/shops/pharmacy_', 'suffix': '.png'}, 'primary': True}]   \n",
       "4  [{'id': '4bf58dd8d48988d10f951735', 'name': 'Pharmacy', 'pluralName': 'Pharmacies', 'shortName': 'Pharmacy', 'icon': {'prefix': 'https://ss3.4sqi.net/img/categories_v2/shops/pharmacy_', 'suffix': '.png'}, 'primary': True}]   \n",
       "\n",
       "                         id  \\\n",
       "0  4c820bf2d4e23704c6b76388   \n",
       "1  4d9c421d948ea093dc58cc11   \n",
       "2  4c1279ef77cea593e71dcd60   \n",
       "3  4cac6da836fa6dcbc643de78   \n",
       "4  4cb2ec8039458cfa776a16a0   \n",
       "\n",
       "                                                                                                                                                                                                                                                                                                                                                                                                                                      location  \\\n",
       "0  {'address': '26 rue du Four', 'lat': 48.85275405290666, 'lng': 2.3333434478990966, 'labeledLatLngs': [{'label': 'display', 'lat': 48.85275405290666, 'lng': 2.3333434478990966}], 'distance': 2544, 'postalCode': '75006', 'cc': 'FR', 'city': 'Paris', 'state': 'Île-de-France', 'country': 'France', 'formattedAddress': ['26 rue du Four', '75006 Paris', 'France']}                                                                       \n",
       "1  {'address': '79-89 boulevard Exelmans', 'lat': 48.84333550150235, 'lng': 2.2593563748523593, 'labeledLatLngs': [{'label': 'display', 'lat': 48.84333550150235, 'lng': 2.2593563748523593}], 'distance': 5384, 'postalCode': '75016', 'cc': 'FR', 'city': 'Paris', 'state': 'Île-de-France', 'country': 'France', 'formattedAddress': ['79-89 boulevard Exelmans', '75016 Paris', 'France']}                                                   \n",
       "2  {'address': '74 rue Monge', 'crossStreet': '1 place Monge', 'lat': 48.8425925055892, 'lng': 2.3519352078437805, 'labeledLatLngs': [{'label': 'display', 'lat': 48.8425925055892, 'lng': 2.3519352078437805}], 'distance': 2132, 'postalCode': '75005', 'cc': 'FR', 'city': 'Paris', 'state': 'Île-de-France', 'country': 'France', 'formattedAddress': ['74 rue Monge (1 place Monge)', '75005 Paris', 'France']}                             \n",
       "3  {'address': '62 avenue des Champs-Élysées', 'lat': 48.870854, 'lng': 2.305774, 'labeledLatLngs': [{'label': 'display', 'lat': 48.870854, 'lng': 2.305774}], 'distance': 4881, 'postalCode': '75008', 'cc': 'FR', 'city': 'Paris', 'state': 'Île-de-France', 'country': 'France', 'formattedAddress': ['62 avenue des Champs-Élysées', '75008 Paris', 'France']}                                                                               \n",
       "4  {'address': '36 rue de la Verrerie', 'crossStreet': 'Rue des Archives', 'lat': 48.85755482313202, 'lng': 2.3543057003264836, 'labeledLatLngs': [{'label': 'display', 'lat': 48.85755482313202, 'lng': 2.3543057003264836}], 'distance': 3546, 'postalCode': '75004', 'cc': 'FR', 'city': 'Paris', 'state': 'Île-de-France', 'country': 'France', 'formattedAddress': ['36 rue de la Verrerie (Rue des Archives)', '75004 Paris', 'France']}   \n",
       "\n",
       "                                    name                      photos  \\\n",
       "0  City Pharma                            {'count': 0, 'groups': []}   \n",
       "1  Pharmacie Exelmans                     {'count': 0, 'groups': []}   \n",
       "2  Pharmacie Monge                        {'count': 0, 'groups': []}   \n",
       "3  Pharmacie Anglaise des Champs-Élysées  {'count': 0, 'groups': []}   \n",
       "4  Pharmacie de la Mairie                 {'count': 0, 'groups': []}   \n",
       "\n",
       "             venuePage  \n",
       "0  NaN                  \n",
       "1  NaN                  \n",
       "2  NaN                  \n",
       "3  {'id': '561418764'}  \n",
       "4  NaN                  "
      ]
     },
     "execution_count": 10,
     "metadata": {},
     "output_type": "execute_result"
    }
   ],
   "source": [
    "pharmacies = pd.DataFrame.from_records(pharma_venues)\n",
    "pharmacies.head()"
   ]
  },
  {
   "cell_type": "code",
   "execution_count": 11,
   "metadata": {},
   "outputs": [
    {
     "data": {
      "text/html": [
       "<div>\n",
       "<style scoped>\n",
       "    .dataframe tbody tr th:only-of-type {\n",
       "        vertical-align: middle;\n",
       "    }\n",
       "\n",
       "    .dataframe tbody tr th {\n",
       "        vertical-align: top;\n",
       "    }\n",
       "\n",
       "    .dataframe thead th {\n",
       "        text-align: right;\n",
       "    }\n",
       "</style>\n",
       "<table border=\"1\" class=\"dataframe\">\n",
       "  <thead>\n",
       "    <tr style=\"text-align: right;\">\n",
       "      <th></th>\n",
       "      <th>id</th>\n",
       "      <th>location</th>\n",
       "      <th>name</th>\n",
       "    </tr>\n",
       "  </thead>\n",
       "  <tbody>\n",
       "    <tr>\n",
       "      <th>0</th>\n",
       "      <td>4c820bf2d4e23704c6b76388</td>\n",
       "      <td>{'address': '26 rue du Four', 'lat': 48.85275405290666, 'lng': 2.3333434478990966, 'labeledLatLngs': [{'label': 'display', 'lat': 48.85275405290666, 'lng': 2.3333434478990966}], 'distance': 2544, 'postalCode': '75006', 'cc': 'FR', 'city': 'Paris', 'state': 'Île-de-France', 'country': 'France', 'formattedAddress': ['26 rue du Four', '75006 Paris', 'France']}</td>\n",
       "      <td>City Pharma</td>\n",
       "    </tr>\n",
       "    <tr>\n",
       "      <th>1</th>\n",
       "      <td>4d9c421d948ea093dc58cc11</td>\n",
       "      <td>{'address': '79-89 boulevard Exelmans', 'lat': 48.84333550150235, 'lng': 2.2593563748523593, 'labeledLatLngs': [{'label': 'display', 'lat': 48.84333550150235, 'lng': 2.2593563748523593}], 'distance': 5384, 'postalCode': '75016', 'cc': 'FR', 'city': 'Paris', 'state': 'Île-de-France', 'country': 'France', 'formattedAddress': ['79-89 boulevard Exelmans', '75016 Paris', 'France']}</td>\n",
       "      <td>Pharmacie Exelmans</td>\n",
       "    </tr>\n",
       "    <tr>\n",
       "      <th>2</th>\n",
       "      <td>4c1279ef77cea593e71dcd60</td>\n",
       "      <td>{'address': '74 rue Monge', 'crossStreet': '1 place Monge', 'lat': 48.8425925055892, 'lng': 2.3519352078437805, 'labeledLatLngs': [{'label': 'display', 'lat': 48.8425925055892, 'lng': 2.3519352078437805}], 'distance': 2132, 'postalCode': '75005', 'cc': 'FR', 'city': 'Paris', 'state': 'Île-de-France', 'country': 'France', 'formattedAddress': ['74 rue Monge (1 place Monge)', '75005 Paris', 'France']}</td>\n",
       "      <td>Pharmacie Monge</td>\n",
       "    </tr>\n",
       "    <tr>\n",
       "      <th>3</th>\n",
       "      <td>4cac6da836fa6dcbc643de78</td>\n",
       "      <td>{'address': '62 avenue des Champs-Élysées', 'lat': 48.870854, 'lng': 2.305774, 'labeledLatLngs': [{'label': 'display', 'lat': 48.870854, 'lng': 2.305774}], 'distance': 4881, 'postalCode': '75008', 'cc': 'FR', 'city': 'Paris', 'state': 'Île-de-France', 'country': 'France', 'formattedAddress': ['62 avenue des Champs-Élysées', '75008 Paris', 'France']}</td>\n",
       "      <td>Pharmacie Anglaise des Champs-Élysées</td>\n",
       "    </tr>\n",
       "    <tr>\n",
       "      <th>4</th>\n",
       "      <td>4cb2ec8039458cfa776a16a0</td>\n",
       "      <td>{'address': '36 rue de la Verrerie', 'crossStreet': 'Rue des Archives', 'lat': 48.85755482313202, 'lng': 2.3543057003264836, 'labeledLatLngs': [{'label': 'display', 'lat': 48.85755482313202, 'lng': 2.3543057003264836}], 'distance': 3546, 'postalCode': '75004', 'cc': 'FR', 'city': 'Paris', 'state': 'Île-de-France', 'country': 'France', 'formattedAddress': ['36 rue de la Verrerie (Rue des Archives)', '75004 Paris', 'France']}</td>\n",
       "      <td>Pharmacie de la Mairie</td>\n",
       "    </tr>\n",
       "    <tr>\n",
       "      <th>5</th>\n",
       "      <td>4e443688483b132669d378c5</td>\n",
       "      <td>{'address': '68 avenue de la Grande Armée', 'lat': 48.87709, 'lng': 2.285228, 'labeledLatLngs': [{'label': 'display', 'lat': 48.87709, 'lng': 2.285228}], 'distance': 6183, 'postalCode': '75017', 'cc': 'FR', 'city': 'Paris', 'state': 'Île-de-France', 'country': 'France', 'formattedAddress': ['68 avenue de la Grande Armée', '75017 Paris', 'France']}</td>\n",
       "      <td>Pharmacie Grande Armée</td>\n",
       "    </tr>\n",
       "    <tr>\n",
       "      <th>6</th>\n",
       "      <td>4dd65fe6b0fb8af3806aa8f2</td>\n",
       "      <td>{'address': '81 bis rue de l'Ourcq', 'lat': 48.893015679936006, 'lng': 2.377521261026087, 'labeledLatLngs': [{'label': 'display', 'lat': 48.893015679936006, 'lng': 2.377521261026087}], 'distance': 7830, 'postalCode': '75019', 'cc': 'FR', 'city': 'Paris', 'state': 'Île-de-France', 'country': 'France', 'formattedAddress': ['81 bis rue de l'Ourcq', '75019 Paris', 'France']}</td>\n",
       "      <td>Pharmacie de L'Ourcq</td>\n",
       "    </tr>\n",
       "    <tr>\n",
       "      <th>7</th>\n",
       "      <td>4d67eafa6d6a236af9f0362a</td>\n",
       "      <td>{'address': 'Place de la Révolution', 'lat': 48.7958871, 'lng': 2.65066263, 'labeledLatLngs': [{'label': 'display', 'lat': 48.7958871, 'lng': 2.65066263}], 'distance': 23811, 'postalCode': '77680', 'cc': 'FR', 'city': 'Roissy-en-Brie', 'state': 'Île-de-France', 'country': 'France', 'formattedAddress': ['Place de la Révolution', '77680 Roissy-en-Brie', 'France']}</td>\n",
       "      <td>Pharmacie de la Gare</td>\n",
       "    </tr>\n",
       "    <tr>\n",
       "      <th>8</th>\n",
       "      <td>4d904e3c1716a1431f445ef7</td>\n",
       "      <td>{'address': 'CC Station RER La défense', 'lat': 48.891796, 'lng': 2.238691, 'labeledLatLngs': [{'label': 'display', 'lat': 48.891796, 'lng': 2.238691}], 'distance': 9593, 'postalCode': '92800', 'cc': 'FR', 'city': 'Puteaux', 'state': 'Île-de-France', 'country': 'France', 'formattedAddress': ['CC Station RER La défense', '92800 Puteaux', 'France']}</td>\n",
       "      <td>Pharmacie du RER - Boticinal</td>\n",
       "    </tr>\n",
       "    <tr>\n",
       "      <th>9</th>\n",
       "      <td>4e14a3f462e14518a9276fff</td>\n",
       "      <td>{'address': '5 place de la République', 'lat': 48.866460165642884, 'lng': 2.3642686750201345, 'labeledLatLngs': [{'label': 'display', 'lat': 48.866460165642884, 'lng': 2.3642686750201345}], 'distance': 4772, 'postalCode': '75003', 'cc': 'FR', 'city': 'Paris', 'state': 'Île-de-France', 'country': 'France', 'formattedAddress': ['5 place de la République', '75003 Paris', 'France']}</td>\n",
       "      <td>Pharmacie de la Place de la République</td>\n",
       "    </tr>\n",
       "    <tr>\n",
       "      <th>10</th>\n",
       "      <td>4f197d6ce4b0e1c5f806ae0b</td>\n",
       "      <td>{'address': 'Gare de Paris-Lyon', 'crossStreet': 'Hall 2', 'lat': 48.84428, 'lng': 2.375611, 'labeledLatLngs': [{'label': 'display', 'lat': 48.84428, 'lng': 2.375611}], 'distance': 3700, 'postalCode': '75011', 'cc': 'FR', 'city': 'Paris', 'state': 'Île-de-France', 'country': 'France', 'formattedAddress': ['Gare de Paris-Lyon (Hall 2)', '75011 Paris', 'France']}</td>\n",
       "      <td>Pharmacie</td>\n",
       "    </tr>\n",
       "    <tr>\n",
       "      <th>11</th>\n",
       "      <td>4b773148f964a5207f862ee3</td>\n",
       "      <td>{'address': '15 rue de Rome', 'lat': 48.875508390816655, 'lng': 2.3242195057079758, 'labeledLatLngs': [{'label': 'display', 'lat': 48.875508390816655, 'lng': 2.3242195057079758}], 'distance': 5083, 'postalCode': '75008', 'cc': 'FR', 'city': 'Paris', 'state': 'Île-de-France', 'country': 'France', 'formattedAddress': ['15 rue de Rome', '75008 Paris', 'France']}</td>\n",
       "      <td>Pharmacie Bailly</td>\n",
       "    </tr>\n",
       "    <tr>\n",
       "      <th>12</th>\n",
       "      <td>4dc578d4b0fb5556ccf15858</td>\n",
       "      <td>{'address': 'Bay 1 Loisirs', 'crossStreet': 'Promenade du 7ème Art', 'lat': 48.84076055664031, 'lng': 2.65597953257314, 'labeledLatLngs': [{'label': 'display', 'lat': 48.84076055664031, 'lng': 2.65597953257314}], 'distance': 23915, 'postalCode': '77200', 'cc': 'FR', 'city': 'Torcy', 'state': 'Île-de-France', 'country': 'France', 'formattedAddress': ['Bay 1 Loisirs (Promenade du 7ème Art)', '77200 Torcy', 'France']}</td>\n",
       "      <td>Pharmacie KHUN 24h/7j</td>\n",
       "    </tr>\n",
       "    <tr>\n",
       "      <th>13</th>\n",
       "      <td>4efa0d1a469012b8c3413b4e</td>\n",
       "      <td>{'address': '9 rue de la Pyramide', 'lat': 48.86442809814823, 'lng': 2.3328702342472916, 'labeledLatLngs': [{'label': 'display', 'lat': 48.86442809814823, 'lng': 2.3328702342472916}], 'distance': 3838, 'postalCode': '75001', 'cc': 'FR', 'city': 'Paris', 'state': 'Île-de-France', 'country': 'France', 'formattedAddress': ['9 rue de la Pyramide', '75001 Paris', 'France']}</td>\n",
       "      <td>Pharmacie des Pyramides</td>\n",
       "    </tr>\n",
       "    <tr>\n",
       "      <th>14</th>\n",
       "      <td>50113449e4b035d9f33be9e3</td>\n",
       "      <td>{'address': 'C.C St-Lazare Paris', 'crossStreet': 'Niveau Trains', 'lat': 48.87602, 'lng': 2.325006, 'labeledLatLngs': [{'label': 'display', 'lat': 48.87602, 'lng': 2.325006}], 'distance': 5135, 'postalCode': '75008', 'cc': 'FR', 'city': 'Paris', 'state': 'Île-de-France', 'country': 'France', 'formattedAddress': ['C.C St-Lazare Paris (Niveau Trains)', '75008 Paris', 'France']}</td>\n",
       "      <td>Pharmacie</td>\n",
       "    </tr>\n",
       "    <tr>\n",
       "      <th>15</th>\n",
       "      <td>4f073cd5e4b08f524774a31c</td>\n",
       "      <td>{'address': '69 Rue de la Faisanderie', 'crossStreet': 'Rue de Longchamp', 'lat': 48.868377, 'lng': 2.275709, 'labeledLatLngs': [{'label': 'display', 'lat': 48.868377, 'lng': 2.275709}], 'distance': 5836, 'postalCode': '75016', 'cc': 'FR', 'city': 'Paris', 'state': 'Île-de-France', 'country': 'France', 'formattedAddress': ['69 Rue de la Faisanderie (Rue de Longchamp)', '75016 Paris', 'France']}</td>\n",
       "      <td>Pharmacie de la Faisanderie</td>\n",
       "    </tr>\n",
       "    <tr>\n",
       "      <th>16</th>\n",
       "      <td>4d84fddb61676dcbd9a37fe4</td>\n",
       "      <td>{'lat': 48.822933750000004, 'lng': 2.3253023500000003, 'labeledLatLngs': [{'label': 'display', 'lat': 48.822933750000004, 'lng': 2.3253023500000003}], 'distance': 858, 'cc': 'FR', 'country': 'France', 'formattedAddress': ['France']}</td>\n",
       "      <td>Pharmacie Centrale Porte d'Orleans</td>\n",
       "    </tr>\n",
       "    <tr>\n",
       "      <th>17</th>\n",
       "      <td>5a15bc0cb546185ff27f6ebc</td>\n",
       "      <td>{'address': '109 Rue de Sèvres', 'lat': 48.84821, 'lng': 2.32017, 'labeledLatLngs': [{'label': 'display', 'lat': 48.84821, 'lng': 2.32017}], 'distance': 2151, 'postalCode': '75006', 'cc': 'FR', 'city': 'Paris', 'state': 'Île-de-France', 'country': 'France', 'formattedAddress': ['109 Rue de Sèvres', '75006 Paris', 'France']}</td>\n",
       "      <td>PHARMACIE SEVRES VANEAU</td>\n",
       "    </tr>\n",
       "    <tr>\n",
       "      <th>18</th>\n",
       "      <td>508ec460e4b0d494814c7634</td>\n",
       "      <td>{'address': 'Rue Lecourbe', 'crossStreet': 'Rue Cambronne', 'lat': 48.84261603346061, 'lng': 2.302621211416858, 'labeledLatLngs': [{'label': 'display', 'lat': 48.84261603346061, 'lng': 2.302621211416858}], 'distance': 2448, 'postalCode': '75015', 'cc': 'FR', 'city': 'Paris', 'state': 'Île-de-France', 'country': 'France', 'formattedAddress': ['Rue Lecourbe (Rue Cambronne)', '75015 Paris', 'France']}</td>\n",
       "      <td>Pharmacie</td>\n",
       "    </tr>\n",
       "    <tr>\n",
       "      <th>19</th>\n",
       "      <td>4d20564ad7b0b1f7e2fd139f</td>\n",
       "      <td>{'address': '45 rue Bonaparte', 'lat': 48.85356303538257, 'lng': 2.3339216500249997, 'labeledLatLngs': [{'label': 'display', 'lat': 48.85356303538257, 'lng': 2.3339216500249997}], 'distance': 2638, 'postalCode': '75006', 'cc': 'FR', 'city': 'Paris', 'state': 'Île-de-Paris', 'country': 'France', 'formattedAddress': ['45 rue Bonaparte', '75006 Paris', 'France']}</td>\n",
       "      <td>Pharmacie Saint-Germain des Prés</td>\n",
       "    </tr>\n",
       "    <tr>\n",
       "      <th>20</th>\n",
       "      <td>4e6f03fb149506c77ad2d3e0</td>\n",
       "      <td>{'lat': 48.82177454963364, 'lng': 2.366634923401783, 'labeledLatLngs': [{'label': 'display', 'lat': 48.82177454963364, 'lng': 2.366634923401783}], 'distance': 2836, 'cc': 'FR', 'country': 'France', 'formattedAddress': ['France']}</td>\n",
       "      <td>Pharmacie M13</td>\n",
       "    </tr>\n",
       "    <tr>\n",
       "      <th>21</th>\n",
       "      <td>55b501d2498e1a63a6701606</td>\n",
       "      <td>{'lat': 48.85571939506649, 'lng': 2.3341711679090476, 'labeledLatLngs': [{'label': 'display', 'lat': 48.85571939506649, 'lng': 2.3341711679090476}], 'distance': 2879, 'cc': 'FR', 'country': 'France', 'formattedAddress': ['France']}</td>\n",
       "      <td>Sakaré</td>\n",
       "    </tr>\n",
       "    <tr>\n",
       "      <th>22</th>\n",
       "      <td>4c2c5feab34ad13a1d33ebce</td>\n",
       "      <td>{'address': '52 rue du Commerce', 'crossStreet': 'Rue du theatre', 'lat': 48.84638645403239, 'lng': 2.2953273701769694, 'labeledLatLngs': [{'label': 'display', 'lat': 48.84638645403239, 'lng': 2.2953273701769694}], 'distance': 3127, 'postalCode': '75015', 'cc': 'FR', 'city': 'Paris', 'state': 'Île-de-France', 'country': 'France', 'formattedAddress': ['52 rue du Commerce (Rue du theatre)', '75015 Paris', 'France']}</td>\n",
       "      <td>Pharmacie Centrale</td>\n",
       "    </tr>\n",
       "    <tr>\n",
       "      <th>23</th>\n",
       "      <td>4cac782e14c337044155f03b</td>\n",
       "      <td>{'address': '40 rue de Belechasse', 'lat': 48.857660119168195, 'lng': 2.322300822537414, 'labeledLatLngs': [{'label': 'display', 'lat': 48.857660119168195, 'lng': 2.322300822537414}], 'distance': 3130, 'postalCode': '75007', 'cc': 'FR', 'city': 'Paris', 'state': 'Île-de-France', 'country': 'France', 'formattedAddress': ['40 rue de Belechasse', '75007 Paris', 'France']}</td>\n",
       "      <td>Pharmacie Monteux</td>\n",
       "    </tr>\n",
       "    <tr>\n",
       "      <th>24</th>\n",
       "      <td>5ac76ca74c9be608aa6890e7</td>\n",
       "      <td>{'address': '13-14-15 rue du commerce', 'lat': 48.848152, 'lng': 2.2970757, 'labeledLatLngs': [{'label': 'display', 'lat': 48.848152, 'lng': 2.2970757}], 'distance': 3146, 'postalCode': '75015', 'cc': 'FR', 'city': 'Paris', 'state': 'Île-de-France', 'country': 'France', 'formattedAddress': ['13-14-15 rue du commerce', '75015 Paris', 'France']}</td>\n",
       "      <td>Pharmacie Monge Eiffel Commerce</td>\n",
       "    </tr>\n",
       "    <tr>\n",
       "      <th>25</th>\n",
       "      <td>5d6e88e2fc25180008271e1b</td>\n",
       "      <td>{'address': '26 Avenue de Tourville', 'lat': 48.8543297, 'lng': 2.3067556999999397, 'labeledLatLngs': [{'label': 'display', 'lat': 48.8543297, 'lng': 2.3067556999999397}], 'distance': 3199, 'postalCode': '75007', 'cc': 'FR', 'city': 'Paris', 'state': 'Île-de-France', 'country': 'France', 'formattedAddress': ['26 Avenue de Tourville', '75007 Paris', 'France']}</td>\n",
       "      <td>Pharmacie de l'Ecole Militaire</td>\n",
       "    </tr>\n",
       "    <tr>\n",
       "      <th>26</th>\n",
       "      <td>54ad4f5b498ea4e6cffc7cc9</td>\n",
       "      <td>{'address': '18 rue Saint Martin', 'lat': 48.85844588697346, 'lng': 2.34998427945226, 'labeledLatLngs': [{'label': 'display', 'lat': 48.85844588697346, 'lng': 2.34998427945226}], 'distance': 3488, 'postalCode': '75004', 'cc': 'FR', 'city': 'Paris', 'state': 'Île-de-France', 'country': 'France', 'formattedAddress': ['18 rue Saint Martin', '75004 Paris', 'France']}</td>\n",
       "      <td>Pharmacie de la Tour Saint Jacques</td>\n",
       "    </tr>\n",
       "    <tr>\n",
       "      <th>27</th>\n",
       "      <td>4de910a5d4c0faa5643f35c8</td>\n",
       "      <td>{'lat': 48.85719969089852, 'lng': 2.3540396871778784, 'labeledLatLngs': [{'label': 'display', 'lat': 48.85719969089852, 'lng': 2.3540396871778784}], 'distance': 3502, 'cc': 'FR', 'city': 'Paris', 'state': 'Île-de-France', 'country': 'France', 'formattedAddress': ['Paris', 'France']}</td>\n",
       "      <td>Pharmacie Des Archives</td>\n",
       "    </tr>\n",
       "    <tr>\n",
       "      <th>28</th>\n",
       "      <td>4c9b85beeaa5a14350bcd5e4</td>\n",
       "      <td>{'address': '105 avenue Félix Faure', 'crossStreet': 'Metro Lourmel', 'lat': 48.83897695439876, 'lng': 2.2827003734961826, 'labeledLatLngs': [{'label': 'display', 'lat': 48.83897695439876, 'lng': 2.2827003734961826}], 'distance': 3607, 'postalCode': '75015', 'cc': 'FR', 'city': 'Paris', 'state': 'Île-de-France', 'country': 'France', 'formattedAddress': ['105 avenue Félix Faure (Metro Lourmel)', '75015 Paris', 'France']}</td>\n",
       "      <td>Pharmacie Lourmel</td>\n",
       "    </tr>\n",
       "    <tr>\n",
       "      <th>29</th>\n",
       "      <td>4c012931f523c928f74783ca</td>\n",
       "      <td>{'address': '119 bis rue Saint Antoine', 'lat': 48.85531546051062, 'lng': 2.3610984011625544, 'labeledLatLngs': [{'label': 'display', 'lat': 48.85531546051062, 'lng': 2.3610984011625544}], 'distance': 3623, 'postalCode': '75004', 'cc': 'FR', 'neighborhood': 'Saint Gervais', 'city': 'Paris', 'state': 'Île-de-France', 'country': 'France', 'formattedAddress': ['119 bis rue Saint Antoine', '75004 Paris', 'France']}</td>\n",
       "      <td>Pharmacie du Marais</td>\n",
       "    </tr>\n",
       "  </tbody>\n",
       "</table>\n",
       "</div>"
      ],
      "text/plain": [
       "                          id  \\\n",
       "0   4c820bf2d4e23704c6b76388   \n",
       "1   4d9c421d948ea093dc58cc11   \n",
       "2   4c1279ef77cea593e71dcd60   \n",
       "3   4cac6da836fa6dcbc643de78   \n",
       "4   4cb2ec8039458cfa776a16a0   \n",
       "5   4e443688483b132669d378c5   \n",
       "6   4dd65fe6b0fb8af3806aa8f2   \n",
       "7   4d67eafa6d6a236af9f0362a   \n",
       "8   4d904e3c1716a1431f445ef7   \n",
       "9   4e14a3f462e14518a9276fff   \n",
       "10  4f197d6ce4b0e1c5f806ae0b   \n",
       "11  4b773148f964a5207f862ee3   \n",
       "12  4dc578d4b0fb5556ccf15858   \n",
       "13  4efa0d1a469012b8c3413b4e   \n",
       "14  50113449e4b035d9f33be9e3   \n",
       "15  4f073cd5e4b08f524774a31c   \n",
       "16  4d84fddb61676dcbd9a37fe4   \n",
       "17  5a15bc0cb546185ff27f6ebc   \n",
       "18  508ec460e4b0d494814c7634   \n",
       "19  4d20564ad7b0b1f7e2fd139f   \n",
       "20  4e6f03fb149506c77ad2d3e0   \n",
       "21  55b501d2498e1a63a6701606   \n",
       "22  4c2c5feab34ad13a1d33ebce   \n",
       "23  4cac782e14c337044155f03b   \n",
       "24  5ac76ca74c9be608aa6890e7   \n",
       "25  5d6e88e2fc25180008271e1b   \n",
       "26  54ad4f5b498ea4e6cffc7cc9   \n",
       "27  4de910a5d4c0faa5643f35c8   \n",
       "28  4c9b85beeaa5a14350bcd5e4   \n",
       "29  4c012931f523c928f74783ca   \n",
       "\n",
       "                                                                                                                                                                                                                                                                                                                                                                                                                                       location  \\\n",
       "0   {'address': '26 rue du Four', 'lat': 48.85275405290666, 'lng': 2.3333434478990966, 'labeledLatLngs': [{'label': 'display', 'lat': 48.85275405290666, 'lng': 2.3333434478990966}], 'distance': 2544, 'postalCode': '75006', 'cc': 'FR', 'city': 'Paris', 'state': 'Île-de-France', 'country': 'France', 'formattedAddress': ['26 rue du Four', '75006 Paris', 'France']}                                                                       \n",
       "1   {'address': '79-89 boulevard Exelmans', 'lat': 48.84333550150235, 'lng': 2.2593563748523593, 'labeledLatLngs': [{'label': 'display', 'lat': 48.84333550150235, 'lng': 2.2593563748523593}], 'distance': 5384, 'postalCode': '75016', 'cc': 'FR', 'city': 'Paris', 'state': 'Île-de-France', 'country': 'France', 'formattedAddress': ['79-89 boulevard Exelmans', '75016 Paris', 'France']}                                                   \n",
       "2   {'address': '74 rue Monge', 'crossStreet': '1 place Monge', 'lat': 48.8425925055892, 'lng': 2.3519352078437805, 'labeledLatLngs': [{'label': 'display', 'lat': 48.8425925055892, 'lng': 2.3519352078437805}], 'distance': 2132, 'postalCode': '75005', 'cc': 'FR', 'city': 'Paris', 'state': 'Île-de-France', 'country': 'France', 'formattedAddress': ['74 rue Monge (1 place Monge)', '75005 Paris', 'France']}                             \n",
       "3   {'address': '62 avenue des Champs-Élysées', 'lat': 48.870854, 'lng': 2.305774, 'labeledLatLngs': [{'label': 'display', 'lat': 48.870854, 'lng': 2.305774}], 'distance': 4881, 'postalCode': '75008', 'cc': 'FR', 'city': 'Paris', 'state': 'Île-de-France', 'country': 'France', 'formattedAddress': ['62 avenue des Champs-Élysées', '75008 Paris', 'France']}                                                                               \n",
       "4   {'address': '36 rue de la Verrerie', 'crossStreet': 'Rue des Archives', 'lat': 48.85755482313202, 'lng': 2.3543057003264836, 'labeledLatLngs': [{'label': 'display', 'lat': 48.85755482313202, 'lng': 2.3543057003264836}], 'distance': 3546, 'postalCode': '75004', 'cc': 'FR', 'city': 'Paris', 'state': 'Île-de-France', 'country': 'France', 'formattedAddress': ['36 rue de la Verrerie (Rue des Archives)', '75004 Paris', 'France']}   \n",
       "5   {'address': '68 avenue de la Grande Armée', 'lat': 48.87709, 'lng': 2.285228, 'labeledLatLngs': [{'label': 'display', 'lat': 48.87709, 'lng': 2.285228}], 'distance': 6183, 'postalCode': '75017', 'cc': 'FR', 'city': 'Paris', 'state': 'Île-de-France', 'country': 'France', 'formattedAddress': ['68 avenue de la Grande Armée', '75017 Paris', 'France']}                                                                                 \n",
       "6   {'address': '81 bis rue de l'Ourcq', 'lat': 48.893015679936006, 'lng': 2.377521261026087, 'labeledLatLngs': [{'label': 'display', 'lat': 48.893015679936006, 'lng': 2.377521261026087}], 'distance': 7830, 'postalCode': '75019', 'cc': 'FR', 'city': 'Paris', 'state': 'Île-de-France', 'country': 'France', 'formattedAddress': ['81 bis rue de l'Ourcq', '75019 Paris', 'France']}                                                         \n",
       "7   {'address': 'Place de la Révolution', 'lat': 48.7958871, 'lng': 2.65066263, 'labeledLatLngs': [{'label': 'display', 'lat': 48.7958871, 'lng': 2.65066263}], 'distance': 23811, 'postalCode': '77680', 'cc': 'FR', 'city': 'Roissy-en-Brie', 'state': 'Île-de-France', 'country': 'France', 'formattedAddress': ['Place de la Révolution', '77680 Roissy-en-Brie', 'France']}                                                                  \n",
       "8   {'address': 'CC Station RER La défense', 'lat': 48.891796, 'lng': 2.238691, 'labeledLatLngs': [{'label': 'display', 'lat': 48.891796, 'lng': 2.238691}], 'distance': 9593, 'postalCode': '92800', 'cc': 'FR', 'city': 'Puteaux', 'state': 'Île-de-France', 'country': 'France', 'formattedAddress': ['CC Station RER La défense', '92800 Puteaux', 'France']}                                                                                 \n",
       "9   {'address': '5 place de la République', 'lat': 48.866460165642884, 'lng': 2.3642686750201345, 'labeledLatLngs': [{'label': 'display', 'lat': 48.866460165642884, 'lng': 2.3642686750201345}], 'distance': 4772, 'postalCode': '75003', 'cc': 'FR', 'city': 'Paris', 'state': 'Île-de-France', 'country': 'France', 'formattedAddress': ['5 place de la République', '75003 Paris', 'France']}                                                 \n",
       "10  {'address': 'Gare de Paris-Lyon', 'crossStreet': 'Hall 2', 'lat': 48.84428, 'lng': 2.375611, 'labeledLatLngs': [{'label': 'display', 'lat': 48.84428, 'lng': 2.375611}], 'distance': 3700, 'postalCode': '75011', 'cc': 'FR', 'city': 'Paris', 'state': 'Île-de-France', 'country': 'France', 'formattedAddress': ['Gare de Paris-Lyon (Hall 2)', '75011 Paris', 'France']}                                                                   \n",
       "11  {'address': '15 rue de Rome', 'lat': 48.875508390816655, 'lng': 2.3242195057079758, 'labeledLatLngs': [{'label': 'display', 'lat': 48.875508390816655, 'lng': 2.3242195057079758}], 'distance': 5083, 'postalCode': '75008', 'cc': 'FR', 'city': 'Paris', 'state': 'Île-de-France', 'country': 'France', 'formattedAddress': ['15 rue de Rome', '75008 Paris', 'France']}                                                                     \n",
       "12  {'address': 'Bay 1 Loisirs', 'crossStreet': 'Promenade du 7ème Art', 'lat': 48.84076055664031, 'lng': 2.65597953257314, 'labeledLatLngs': [{'label': 'display', 'lat': 48.84076055664031, 'lng': 2.65597953257314}], 'distance': 23915, 'postalCode': '77200', 'cc': 'FR', 'city': 'Torcy', 'state': 'Île-de-France', 'country': 'France', 'formattedAddress': ['Bay 1 Loisirs (Promenade du 7ème Art)', '77200 Torcy', 'France']}            \n",
       "13  {'address': '9 rue de la Pyramide', 'lat': 48.86442809814823, 'lng': 2.3328702342472916, 'labeledLatLngs': [{'label': 'display', 'lat': 48.86442809814823, 'lng': 2.3328702342472916}], 'distance': 3838, 'postalCode': '75001', 'cc': 'FR', 'city': 'Paris', 'state': 'Île-de-France', 'country': 'France', 'formattedAddress': ['9 rue de la Pyramide', '75001 Paris', 'France']}                                                           \n",
       "14  {'address': 'C.C St-Lazare Paris', 'crossStreet': 'Niveau Trains', 'lat': 48.87602, 'lng': 2.325006, 'labeledLatLngs': [{'label': 'display', 'lat': 48.87602, 'lng': 2.325006}], 'distance': 5135, 'postalCode': '75008', 'cc': 'FR', 'city': 'Paris', 'state': 'Île-de-France', 'country': 'France', 'formattedAddress': ['C.C St-Lazare Paris (Niveau Trains)', '75008 Paris', 'France']}                                                   \n",
       "15  {'address': '69 Rue de la Faisanderie', 'crossStreet': 'Rue de Longchamp', 'lat': 48.868377, 'lng': 2.275709, 'labeledLatLngs': [{'label': 'display', 'lat': 48.868377, 'lng': 2.275709}], 'distance': 5836, 'postalCode': '75016', 'cc': 'FR', 'city': 'Paris', 'state': 'Île-de-France', 'country': 'France', 'formattedAddress': ['69 Rue de la Faisanderie (Rue de Longchamp)', '75016 Paris', 'France']}                                 \n",
       "16  {'lat': 48.822933750000004, 'lng': 2.3253023500000003, 'labeledLatLngs': [{'label': 'display', 'lat': 48.822933750000004, 'lng': 2.3253023500000003}], 'distance': 858, 'cc': 'FR', 'country': 'France', 'formattedAddress': ['France']}                                                                                                                                                                                                      \n",
       "17  {'address': '109 Rue de Sèvres', 'lat': 48.84821, 'lng': 2.32017, 'labeledLatLngs': [{'label': 'display', 'lat': 48.84821, 'lng': 2.32017}], 'distance': 2151, 'postalCode': '75006', 'cc': 'FR', 'city': 'Paris', 'state': 'Île-de-France', 'country': 'France', 'formattedAddress': ['109 Rue de Sèvres', '75006 Paris', 'France']}                                                                                                         \n",
       "18  {'address': 'Rue Lecourbe', 'crossStreet': 'Rue Cambronne', 'lat': 48.84261603346061, 'lng': 2.302621211416858, 'labeledLatLngs': [{'label': 'display', 'lat': 48.84261603346061, 'lng': 2.302621211416858}], 'distance': 2448, 'postalCode': '75015', 'cc': 'FR', 'city': 'Paris', 'state': 'Île-de-France', 'country': 'France', 'formattedAddress': ['Rue Lecourbe (Rue Cambronne)', '75015 Paris', 'France']}                             \n",
       "19  {'address': '45 rue Bonaparte', 'lat': 48.85356303538257, 'lng': 2.3339216500249997, 'labeledLatLngs': [{'label': 'display', 'lat': 48.85356303538257, 'lng': 2.3339216500249997}], 'distance': 2638, 'postalCode': '75006', 'cc': 'FR', 'city': 'Paris', 'state': 'Île-de-Paris', 'country': 'France', 'formattedAddress': ['45 rue Bonaparte', '75006 Paris', 'France']}                                                                    \n",
       "20  {'lat': 48.82177454963364, 'lng': 2.366634923401783, 'labeledLatLngs': [{'label': 'display', 'lat': 48.82177454963364, 'lng': 2.366634923401783}], 'distance': 2836, 'cc': 'FR', 'country': 'France', 'formattedAddress': ['France']}                                                                                                                                                                                                         \n",
       "21  {'lat': 48.85571939506649, 'lng': 2.3341711679090476, 'labeledLatLngs': [{'label': 'display', 'lat': 48.85571939506649, 'lng': 2.3341711679090476}], 'distance': 2879, 'cc': 'FR', 'country': 'France', 'formattedAddress': ['France']}                                                                                                                                                                                                       \n",
       "22  {'address': '52 rue du Commerce', 'crossStreet': 'Rue du theatre', 'lat': 48.84638645403239, 'lng': 2.2953273701769694, 'labeledLatLngs': [{'label': 'display', 'lat': 48.84638645403239, 'lng': 2.2953273701769694}], 'distance': 3127, 'postalCode': '75015', 'cc': 'FR', 'city': 'Paris', 'state': 'Île-de-France', 'country': 'France', 'formattedAddress': ['52 rue du Commerce (Rue du theatre)', '75015 Paris', 'France']}             \n",
       "23  {'address': '40 rue de Belechasse', 'lat': 48.857660119168195, 'lng': 2.322300822537414, 'labeledLatLngs': [{'label': 'display', 'lat': 48.857660119168195, 'lng': 2.322300822537414}], 'distance': 3130, 'postalCode': '75007', 'cc': 'FR', 'city': 'Paris', 'state': 'Île-de-France', 'country': 'France', 'formattedAddress': ['40 rue de Belechasse', '75007 Paris', 'France']}                                                           \n",
       "24  {'address': '13-14-15 rue du commerce', 'lat': 48.848152, 'lng': 2.2970757, 'labeledLatLngs': [{'label': 'display', 'lat': 48.848152, 'lng': 2.2970757}], 'distance': 3146, 'postalCode': '75015', 'cc': 'FR', 'city': 'Paris', 'state': 'Île-de-France', 'country': 'France', 'formattedAddress': ['13-14-15 rue du commerce', '75015 Paris', 'France']}                                                                                     \n",
       "25  {'address': '26 Avenue de Tourville', 'lat': 48.8543297, 'lng': 2.3067556999999397, 'labeledLatLngs': [{'label': 'display', 'lat': 48.8543297, 'lng': 2.3067556999999397}], 'distance': 3199, 'postalCode': '75007', 'cc': 'FR', 'city': 'Paris', 'state': 'Île-de-France', 'country': 'France', 'formattedAddress': ['26 Avenue de Tourville', '75007 Paris', 'France']}                                                                     \n",
       "26  {'address': '18 rue Saint Martin', 'lat': 48.85844588697346, 'lng': 2.34998427945226, 'labeledLatLngs': [{'label': 'display', 'lat': 48.85844588697346, 'lng': 2.34998427945226}], 'distance': 3488, 'postalCode': '75004', 'cc': 'FR', 'city': 'Paris', 'state': 'Île-de-France', 'country': 'France', 'formattedAddress': ['18 rue Saint Martin', '75004 Paris', 'France']}                                                                 \n",
       "27  {'lat': 48.85719969089852, 'lng': 2.3540396871778784, 'labeledLatLngs': [{'label': 'display', 'lat': 48.85719969089852, 'lng': 2.3540396871778784}], 'distance': 3502, 'cc': 'FR', 'city': 'Paris', 'state': 'Île-de-France', 'country': 'France', 'formattedAddress': ['Paris', 'France']}                                                                                                                                                   \n",
       "28  {'address': '105 avenue Félix Faure', 'crossStreet': 'Metro Lourmel', 'lat': 48.83897695439876, 'lng': 2.2827003734961826, 'labeledLatLngs': [{'label': 'display', 'lat': 48.83897695439876, 'lng': 2.2827003734961826}], 'distance': 3607, 'postalCode': '75015', 'cc': 'FR', 'city': 'Paris', 'state': 'Île-de-France', 'country': 'France', 'formattedAddress': ['105 avenue Félix Faure (Metro Lourmel)', '75015 Paris', 'France']}       \n",
       "29  {'address': '119 bis rue Saint Antoine', 'lat': 48.85531546051062, 'lng': 2.3610984011625544, 'labeledLatLngs': [{'label': 'display', 'lat': 48.85531546051062, 'lng': 2.3610984011625544}], 'distance': 3623, 'postalCode': '75004', 'cc': 'FR', 'neighborhood': 'Saint Gervais', 'city': 'Paris', 'state': 'Île-de-France', 'country': 'France', 'formattedAddress': ['119 bis rue Saint Antoine', '75004 Paris', 'France']}                \n",
       "\n",
       "                                      name  \n",
       "0   City Pharma                             \n",
       "1   Pharmacie Exelmans                      \n",
       "2   Pharmacie Monge                         \n",
       "3   Pharmacie Anglaise des Champs-Élysées   \n",
       "4   Pharmacie de la Mairie                  \n",
       "5   Pharmacie Grande Armée                  \n",
       "6   Pharmacie de L'Ourcq                    \n",
       "7   Pharmacie de la Gare                    \n",
       "8   Pharmacie du RER - Boticinal            \n",
       "9   Pharmacie de la Place de la République  \n",
       "10  Pharmacie                               \n",
       "11  Pharmacie Bailly                        \n",
       "12  Pharmacie KHUN 24h/7j                   \n",
       "13  Pharmacie des Pyramides                 \n",
       "14  Pharmacie                               \n",
       "15  Pharmacie de la Faisanderie             \n",
       "16  Pharmacie Centrale Porte d'Orleans      \n",
       "17  PHARMACIE SEVRES VANEAU                 \n",
       "18  Pharmacie                               \n",
       "19  Pharmacie Saint-Germain des Prés        \n",
       "20  Pharmacie M13                           \n",
       "21  Sakaré                                  \n",
       "22  Pharmacie Centrale                      \n",
       "23  Pharmacie Monteux                       \n",
       "24  Pharmacie Monge Eiffel Commerce         \n",
       "25  Pharmacie de l'Ecole Militaire          \n",
       "26  Pharmacie de la Tour Saint Jacques      \n",
       "27  Pharmacie Des Archives                  \n",
       "28  Pharmacie Lourmel                       \n",
       "29  Pharmacie du Marais                     "
      ]
     },
     "execution_count": 11,
     "metadata": {},
     "output_type": "execute_result"
    }
   ],
   "source": [
    "pharmacies = pharmacies[['id', 'location','name']]\n",
    "pharmacies.head(50)"
   ]
  },
  {
   "cell_type": "code",
   "execution_count": 15,
   "metadata": {},
   "outputs": [
    {
     "name": "stdout",
     "output_type": "stream",
     "text": [
      "address 26 rue du Four\n",
      "lat 48.85275405290666\n",
      "lng 2.3333434478990966\n",
      "labeledLatLngs [{'label': 'display', 'lat': 48.85275405290666, 'lng': 2.3333434478990966}]\n",
      "distance 2544\n",
      "postalCode 75006\n",
      "cc FR\n",
      "city Paris\n",
      "state Île-de-France\n",
      "country France\n",
      "formattedAddress ['26 rue du Four', '75006 Paris', 'France']\n",
      "address 79-89 boulevard Exelmans\n",
      "lat 48.84333550150235\n",
      "lng 2.2593563748523593\n",
      "labeledLatLngs [{'label': 'display', 'lat': 48.84333550150235, 'lng': 2.2593563748523593}]\n",
      "distance 5384\n",
      "postalCode 75016\n",
      "cc FR\n",
      "city Paris\n",
      "state Île-de-France\n",
      "country France\n",
      "formattedAddress ['79-89 boulevard Exelmans', '75016 Paris', 'France']\n",
      "address 74 rue Monge\n",
      "crossStreet 1 place Monge\n",
      "lat 48.8425925055892\n",
      "lng 2.3519352078437805\n",
      "labeledLatLngs [{'label': 'display', 'lat': 48.8425925055892, 'lng': 2.3519352078437805}]\n",
      "distance 2132\n",
      "postalCode 75005\n",
      "cc FR\n",
      "city Paris\n",
      "state Île-de-France\n",
      "country France\n",
      "formattedAddress ['74 rue Monge (1 place Monge)', '75005 Paris', 'France']\n",
      "address 62 avenue des Champs-Élysées\n",
      "lat 48.870854\n",
      "lng 2.305774\n",
      "labeledLatLngs [{'label': 'display', 'lat': 48.870854, 'lng': 2.305774}]\n",
      "distance 4881\n",
      "postalCode 75008\n",
      "cc FR\n",
      "city Paris\n",
      "state Île-de-France\n",
      "country France\n",
      "formattedAddress ['62 avenue des Champs-Élysées', '75008 Paris', 'France']\n",
      "address 36 rue de la Verrerie\n",
      "crossStreet Rue des Archives\n",
      "lat 48.85755482313202\n",
      "lng 2.3543057003264836\n",
      "labeledLatLngs [{'label': 'display', 'lat': 48.85755482313202, 'lng': 2.3543057003264836}]\n",
      "distance 3546\n",
      "postalCode 75004\n",
      "cc FR\n",
      "city Paris\n",
      "state Île-de-France\n",
      "country France\n",
      "formattedAddress ['36 rue de la Verrerie (Rue des Archives)', '75004 Paris', 'France']\n",
      "address 68 avenue de la Grande Armée\n",
      "lat 48.87709\n",
      "lng 2.285228\n",
      "labeledLatLngs [{'label': 'display', 'lat': 48.87709, 'lng': 2.285228}]\n",
      "distance 6183\n",
      "postalCode 75017\n",
      "cc FR\n",
      "city Paris\n",
      "state Île-de-France\n",
      "country France\n",
      "formattedAddress ['68 avenue de la Grande Armée', '75017 Paris', 'France']\n",
      "address 81 bis rue de l'Ourcq\n",
      "lat 48.893015679936006\n",
      "lng 2.377521261026087\n",
      "labeledLatLngs [{'label': 'display', 'lat': 48.893015679936006, 'lng': 2.377521261026087}]\n",
      "distance 7830\n",
      "postalCode 75019\n",
      "cc FR\n",
      "city Paris\n",
      "state Île-de-France\n",
      "country France\n",
      "formattedAddress [\"81 bis rue de l'Ourcq\", '75019 Paris', 'France']\n",
      "address Place de la Révolution\n",
      "lat 48.7958871\n",
      "lng 2.65066263\n",
      "labeledLatLngs [{'label': 'display', 'lat': 48.7958871, 'lng': 2.65066263}]\n",
      "distance 23811\n",
      "postalCode 77680\n",
      "cc FR\n",
      "city Roissy-en-Brie\n",
      "state Île-de-France\n",
      "country France\n",
      "formattedAddress ['Place de la Révolution', '77680 Roissy-en-Brie', 'France']\n",
      "address CC Station RER La défense\n",
      "lat 48.891796\n",
      "lng 2.238691\n",
      "labeledLatLngs [{'label': 'display', 'lat': 48.891796, 'lng': 2.238691}]\n",
      "distance 9593\n",
      "postalCode 92800\n",
      "cc FR\n",
      "city Puteaux\n",
      "state Île-de-France\n",
      "country France\n",
      "formattedAddress ['CC Station RER La défense', '92800 Puteaux', 'France']\n",
      "address 5 place de la République\n",
      "lat 48.866460165642884\n",
      "lng 2.3642686750201345\n",
      "labeledLatLngs [{'label': 'display', 'lat': 48.866460165642884, 'lng': 2.3642686750201345}]\n",
      "distance 4772\n",
      "postalCode 75003\n",
      "cc FR\n",
      "city Paris\n",
      "state Île-de-France\n",
      "country France\n",
      "formattedAddress ['5 place de la République', '75003 Paris', 'France']\n",
      "address Gare de Paris-Lyon\n",
      "crossStreet Hall 2\n",
      "lat 48.84428\n",
      "lng 2.375611\n",
      "labeledLatLngs [{'label': 'display', 'lat': 48.84428, 'lng': 2.375611}]\n",
      "distance 3700\n",
      "postalCode 75011\n",
      "cc FR\n",
      "city Paris\n",
      "state Île-de-France\n",
      "country France\n",
      "formattedAddress ['Gare de Paris-Lyon (Hall 2)', '75011 Paris', 'France']\n",
      "address 15 rue de Rome\n",
      "lat 48.875508390816655\n",
      "lng 2.3242195057079758\n",
      "labeledLatLngs [{'label': 'display', 'lat': 48.875508390816655, 'lng': 2.3242195057079758}]\n",
      "distance 5083\n",
      "postalCode 75008\n",
      "cc FR\n",
      "city Paris\n",
      "state Île-de-France\n",
      "country France\n",
      "formattedAddress ['15 rue de Rome', '75008 Paris', 'France']\n",
      "address Bay 1 Loisirs\n",
      "crossStreet Promenade du 7ème Art\n",
      "lat 48.84076055664031\n",
      "lng 2.65597953257314\n",
      "labeledLatLngs [{'label': 'display', 'lat': 48.84076055664031, 'lng': 2.65597953257314}]\n",
      "distance 23915\n",
      "postalCode 77200\n",
      "cc FR\n",
      "city Torcy\n",
      "state Île-de-France\n",
      "country France\n",
      "formattedAddress ['Bay 1 Loisirs (Promenade du 7ème Art)', '77200 Torcy', 'France']\n",
      "address 9 rue de la Pyramide\n",
      "lat 48.86442809814823\n",
      "lng 2.3328702342472916\n",
      "labeledLatLngs [{'label': 'display', 'lat': 48.86442809814823, 'lng': 2.3328702342472916}]\n",
      "distance 3838\n",
      "postalCode 75001\n",
      "cc FR\n",
      "city Paris\n",
      "state Île-de-France\n",
      "country France\n",
      "formattedAddress ['9 rue de la Pyramide', '75001 Paris', 'France']\n",
      "address C.C St-Lazare Paris\n",
      "crossStreet Niveau Trains\n",
      "lat 48.87602\n",
      "lng 2.325006\n",
      "labeledLatLngs [{'label': 'display', 'lat': 48.87602, 'lng': 2.325006}]\n",
      "distance 5135\n",
      "postalCode 75008\n",
      "cc FR\n",
      "city Paris\n",
      "state Île-de-France\n",
      "country France\n",
      "formattedAddress ['C.C St-Lazare Paris (Niveau Trains)', '75008 Paris', 'France']\n",
      "address 69 Rue de la Faisanderie\n",
      "crossStreet Rue de Longchamp\n",
      "lat 48.868377\n",
      "lng 2.275709\n",
      "labeledLatLngs [{'label': 'display', 'lat': 48.868377, 'lng': 2.275709}]\n",
      "distance 5836\n",
      "postalCode 75016\n",
      "cc FR\n",
      "city Paris\n",
      "state Île-de-France\n",
      "country France\n",
      "formattedAddress ['69 Rue de la Faisanderie (Rue de Longchamp)', '75016 Paris', 'France']\n",
      "lat 48.822933750000004\n",
      "lng 2.3253023500000003\n",
      "labeledLatLngs [{'label': 'display', 'lat': 48.822933750000004, 'lng': 2.3253023500000003}]\n",
      "distance 858\n",
      "cc FR\n",
      "country France\n",
      "formattedAddress ['France']\n",
      "address 109 Rue de Sèvres\n",
      "lat 48.84821\n",
      "lng 2.32017\n",
      "labeledLatLngs [{'label': 'display', 'lat': 48.84821, 'lng': 2.32017}]\n",
      "distance 2151\n",
      "postalCode 75006\n",
      "cc FR\n",
      "city Paris\n",
      "state Île-de-France\n",
      "country France\n",
      "formattedAddress ['109 Rue de Sèvres', '75006 Paris', 'France']\n",
      "address Rue Lecourbe\n",
      "crossStreet Rue Cambronne\n",
      "lat 48.84261603346061\n",
      "lng 2.302621211416858\n",
      "labeledLatLngs [{'label': 'display', 'lat': 48.84261603346061, 'lng': 2.302621211416858}]\n",
      "distance 2448\n",
      "postalCode 75015\n",
      "cc FR\n",
      "city Paris\n",
      "state Île-de-France\n",
      "country France\n",
      "formattedAddress ['Rue Lecourbe (Rue Cambronne)', '75015 Paris', 'France']\n",
      "address 45 rue Bonaparte\n",
      "lat 48.85356303538257\n",
      "lng 2.3339216500249997\n",
      "labeledLatLngs [{'label': 'display', 'lat': 48.85356303538257, 'lng': 2.3339216500249997}]\n",
      "distance 2638\n",
      "postalCode 75006\n",
      "cc FR\n",
      "city Paris\n",
      "state Île-de-Paris\n",
      "country France\n",
      "formattedAddress ['45 rue Bonaparte', '75006 Paris', 'France']\n",
      "lat 48.82177454963364\n",
      "lng 2.366634923401783\n",
      "labeledLatLngs [{'label': 'display', 'lat': 48.82177454963364, 'lng': 2.366634923401783}]\n",
      "distance 2836\n",
      "cc FR\n",
      "country France\n",
      "formattedAddress ['France']\n",
      "lat 48.85571939506649\n",
      "lng 2.3341711679090476\n",
      "labeledLatLngs [{'label': 'display', 'lat': 48.85571939506649, 'lng': 2.3341711679090476}]\n",
      "distance 2879\n",
      "cc FR\n",
      "country France\n",
      "formattedAddress ['France']\n",
      "address 52 rue du Commerce\n",
      "crossStreet Rue du theatre\n",
      "lat 48.84638645403239\n",
      "lng 2.2953273701769694\n",
      "labeledLatLngs [{'label': 'display', 'lat': 48.84638645403239, 'lng': 2.2953273701769694}]\n",
      "distance 3127\n",
      "postalCode 75015\n",
      "cc FR\n",
      "city Paris\n",
      "state Île-de-France\n",
      "country France\n",
      "formattedAddress ['52 rue du Commerce (Rue du theatre)', '75015 Paris', 'France']\n",
      "address 40 rue de Belechasse\n",
      "lat 48.857660119168195\n",
      "lng 2.322300822537414\n",
      "labeledLatLngs [{'label': 'display', 'lat': 48.857660119168195, 'lng': 2.322300822537414}]\n",
      "distance 3130\n",
      "postalCode 75007\n",
      "cc FR\n",
      "city Paris\n",
      "state Île-de-France\n",
      "country France\n",
      "formattedAddress ['40 rue de Belechasse', '75007 Paris', 'France']\n",
      "address 13-14-15 rue du commerce\n",
      "lat 48.848152\n",
      "lng 2.2970757\n",
      "labeledLatLngs [{'label': 'display', 'lat': 48.848152, 'lng': 2.2970757}]\n",
      "distance 3146\n",
      "postalCode 75015\n",
      "cc FR\n",
      "city Paris\n",
      "state Île-de-France\n",
      "country France\n",
      "formattedAddress ['13-14-15 rue du commerce', '75015 Paris', 'France']\n",
      "address 26 Avenue de Tourville\n",
      "lat 48.8543297\n",
      "lng 2.3067556999999397\n",
      "labeledLatLngs [{'label': 'display', 'lat': 48.8543297, 'lng': 2.3067556999999397}]\n",
      "distance 3199\n",
      "postalCode 75007\n",
      "cc FR\n",
      "city Paris\n",
      "state Île-de-France\n",
      "country France\n",
      "formattedAddress ['26 Avenue de Tourville', '75007 Paris', 'France']\n",
      "address 18 rue Saint Martin\n",
      "lat 48.85844588697346\n",
      "lng 2.34998427945226\n",
      "labeledLatLngs [{'label': 'display', 'lat': 48.85844588697346, 'lng': 2.34998427945226}]\n",
      "distance 3488\n",
      "postalCode 75004\n",
      "cc FR\n",
      "city Paris\n",
      "state Île-de-France\n",
      "country France\n",
      "formattedAddress ['18 rue Saint Martin', '75004 Paris', 'France']\n",
      "lat 48.85719969089852\n",
      "lng 2.3540396871778784\n",
      "labeledLatLngs [{'label': 'display', 'lat': 48.85719969089852, 'lng': 2.3540396871778784}]\n",
      "distance 3502\n",
      "cc FR\n",
      "city Paris\n",
      "state Île-de-France\n",
      "country France\n",
      "formattedAddress ['Paris', 'France']\n",
      "address 105 avenue Félix Faure\n",
      "crossStreet Metro Lourmel\n",
      "lat 48.83897695439876\n",
      "lng 2.2827003734961826\n",
      "labeledLatLngs [{'label': 'display', 'lat': 48.83897695439876, 'lng': 2.2827003734961826}]\n",
      "distance 3607\n",
      "postalCode 75015\n",
      "cc FR\n",
      "city Paris\n",
      "state Île-de-France\n",
      "country France\n",
      "formattedAddress ['105 avenue Félix Faure (Metro Lourmel)', '75015 Paris', 'France']\n",
      "address 119 bis rue Saint Antoine\n",
      "lat 48.85531546051062\n",
      "lng 2.3610984011625544\n",
      "labeledLatLngs [{'label': 'display', 'lat': 48.85531546051062, 'lng': 2.3610984011625544}]\n",
      "distance 3623\n",
      "postalCode 75004\n",
      "cc FR\n",
      "neighborhood Saint Gervais\n",
      "city Paris\n",
      "state Île-de-France\n",
      "country France\n",
      "formattedAddress ['119 bis rue Saint Antoine', '75004 Paris', 'France']\n"
     ]
    }
   ],
   "source": [
    "for i, value in pharmacies.location.items():\n",
    "    for k, val in value.items():\n",
    "        print(k, val)"
   ]
  },
  {
   "cell_type": "markdown",
   "metadata": {
    "button": false,
    "new_sheet": false,
    "run_control": {
     "read_only": false
    }
   },
   "source": [
    "#### Get relevant part of JSON and transform it into a *pandas* dataframe"
   ]
  },
  {
   "cell_type": "markdown",
   "metadata": {
    "button": false,
    "new_sheet": false,
    "run_control": {
     "read_only": false
    }
   },
   "source": [
    "#### Define information of interest and filter dataframe"
   ]
  },
  {
   "cell_type": "markdown",
   "metadata": {
    "button": false,
    "new_sheet": false,
    "run_control": {
     "read_only": false
    }
   },
   "source": [
    "#### Let's visualize the Italian restaurants that are nearby"
   ]
  },
  {
   "cell_type": "code",
   "execution_count": 18,
   "metadata": {
    "button": false,
    "jupyter": {
     "outputs_hidden": false
    },
    "new_sheet": false,
    "run_control": {
     "read_only": false
    }
   },
   "outputs": [
    {
     "data": {
      "text/plain": [
       "0             Pisillo Italian Panini\n",
       "1          Harry's Italian Pizza Bar\n",
       "2      Benvenuti Italian Specialties\n",
       "3               Pisillo Italian Cafe\n",
       "4    Conca Cucina Italian Restaurant\n",
       "5        Caruso's Italian Restaurant\n",
       "6                Barber Italian Shop\n",
       "7                               Ecco\n",
       "8                Gloria's Restaurant\n",
       "Name: name, dtype: object"
      ]
     },
     "execution_count": 18,
     "metadata": {},
     "output_type": "execute_result"
    }
   ],
   "source": [
    "dataframe_filtered.name"
   ]
  },
  {
   "cell_type": "code",
   "execution_count": 19,
   "metadata": {
    "button": false,
    "jupyter": {
     "outputs_hidden": false
    },
    "new_sheet": false,
    "run_control": {
     "read_only": false
    }
   },
   "outputs": [
    {
     "data": {
      "text/html": [
       "<div style=\"width:100%;\"><div style=\"position:relative;width:100%;height:0;padding-bottom:60%;\"><iframe src=\"data:text/html;charset=utf-8;base64,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\" style=\"position:absolute;width:100%;height:100%;left:0;top:0;border:none !important;\" allowfullscreen webkitallowfullscreen mozallowfullscreen></iframe></div></div>"
      ],
      "text/plain": [
       "<folium.folium.Map at 0x1fc59e45d68>"
      ]
     },
     "execution_count": 19,
     "metadata": {},
     "output_type": "execute_result"
    }
   ],
   "source": [
    "venues_map = folium.Map(location=[latitude, longitude], zoom_start=16) # generate map centred around the Conrad Hotel\n",
    "\n",
    "# add a red circle marker to represent the Conrad Hotel\n",
    "folium.features.CircleMarker(\n",
    "    [latitude, longitude],\n",
    "    radius=10,\n",
    "    color='red',\n",
    "    popup='Conrad Hotel',\n",
    "    fill = True,\n",
    "    fill_color = 'red',\n",
    "    fill_opacity = 0.6\n",
    ").add_to(venues_map)\n",
    "\n",
    "# add the Italian restaurants as blue circle markers\n",
    "for lat, lng, label in zip(dataframe_filtered.lat, dataframe_filtered.lng, dataframe_filtered.categories):\n",
    "    folium.features.CircleMarker(\n",
    "        [lat, lng],\n",
    "        radius=5,\n",
    "        color='blue',\n",
    "        popup=label,\n",
    "        fill = True,\n",
    "        fill_color='blue',\n",
    "        fill_opacity=0.6\n",
    "    ).add_to(venues_map)\n",
    "\n",
    "# display map\n",
    "venues_map"
   ]
  },
  {
   "cell_type": "code",
   "execution_count": 19,
   "metadata": {
    "scrolled": true
   },
   "outputs": [
    {
     "data": {
      "text/html": [
       "<div style=\"width:100%;\"><div style=\"position:relative;width:100%;height:0;padding-bottom:60%;\"><iframe src=\"data:text/html;charset=utf-8;base64,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\" style=\"position:absolute;width:100%;height:100%;left:0;top:0;border:none !important;\" allowfullscreen webkitallowfullscreen mozallowfullscreen></iframe></div></div>"
      ],
      "text/plain": [
       "<folium.folium.Map at 0x1a8c7c77c88>"
      ]
     },
     "execution_count": 19,
     "metadata": {},
     "output_type": "execute_result"
    }
   ],
   "source": [
    "paris_map = folium.Map(location=[latitude, longitude], zoom_start=12) # generate map centred around the Conrad Hotel\n",
    "paris_map.save(outfile= \"paris_map.html\")\n",
    "paris_map"
   ]
  },
  {
   "cell_type": "code",
   "execution_count": 21,
   "metadata": {},
   "outputs": [
    {
     "name": "stdout",
     "output_type": "stream",
     "text": [
      "Collecting imgkit\n",
      "  Downloading https://files.pythonhosted.org/packages/e0/84/690cbae32a105d22a212394690ef844e4471c78ed8f40c23a8c6d18606f7/imgkit-1.0.2.tar.gz\n",
      "Building wheels for collected packages: imgkit\n",
      "  Building wheel for imgkit (setup.py): started\n",
      "  Building wheel for imgkit (setup.py): finished with status 'done'\n",
      "  Stored in directory: C:\\Users\\SerbanTica\\AppData\\Local\\pip\\Cache\\wheels\\64\\34\\8e\\1719358e8263f9f33217b9f11d1a70d9e122b75afa5732f032\n",
      "Successfully built imgkit\n",
      "Installing collected packages: imgkit\n",
      "Successfully installed imgkit-1.0.2\n"
     ]
    }
   ],
   "source": [
    "! pip install imgkit"
   ]
  },
  {
   "cell_type": "code",
   "execution_count": 24,
   "metadata": {},
   "outputs": [
    {
     "ename": "OSError",
     "evalue": "No wkhtmltoimage executable found: \"b''\"\nIf this file exists please check that this process can read it. Otherwise please install wkhtmltopdf - http://wkhtmltopdf.org\n",
     "output_type": "error",
     "traceback": [
      "\u001b[1;31m---------------------------------------------------------------------------\u001b[0m",
      "\u001b[1;31mFileNotFoundError\u001b[0m                         Traceback (most recent call last)",
      "\u001b[1;32m~\\Anaconda3\\lib\\site-packages\\imgkit\\config.py\u001b[0m in \u001b[0;36m__init__\u001b[1;34m(self, wkhtmltoimage, meta_tag_prefix)\u001b[0m\n\u001b[0;32m     29\u001b[0m         \u001b[1;32mtry\u001b[0m\u001b[1;33m:\u001b[0m\u001b[1;33m\u001b[0m\u001b[1;33m\u001b[0m\u001b[0m\n\u001b[1;32m---> 30\u001b[1;33m             \u001b[1;32mwith\u001b[0m \u001b[0mopen\u001b[0m\u001b[1;33m(\u001b[0m\u001b[0mself\u001b[0m\u001b[1;33m.\u001b[0m\u001b[0mwkhtmltoimage\u001b[0m\u001b[1;33m)\u001b[0m\u001b[1;33m:\u001b[0m\u001b[1;33m\u001b[0m\u001b[1;33m\u001b[0m\u001b[0m\n\u001b[0m\u001b[0;32m     31\u001b[0m                 \u001b[1;32mpass\u001b[0m\u001b[1;33m\u001b[0m\u001b[1;33m\u001b[0m\u001b[0m\n",
      "\u001b[1;31mFileNotFoundError\u001b[0m: [Errno 2] No such file or directory: b''",
      "\nDuring handling of the above exception, another exception occurred:\n",
      "\u001b[1;31mOSError\u001b[0m                                   Traceback (most recent call last)",
      "\u001b[1;32m<ipython-input-24-54381c699a8e>\u001b[0m in \u001b[0;36m<module>\u001b[1;34m\u001b[0m\n\u001b[0;32m      3\u001b[0m \u001b[1;31m#    imgkit.from_file(f, 'paris_map.jpg')\u001b[0m\u001b[1;33m\u001b[0m\u001b[1;33m\u001b[0m\u001b[1;33m\u001b[0m\u001b[0m\n\u001b[0;32m      4\u001b[0m \u001b[1;33m\u001b[0m\u001b[0m\n\u001b[1;32m----> 5\u001b[1;33m \u001b[0mimgkit\u001b[0m\u001b[1;33m.\u001b[0m\u001b[0mfrom_file\u001b[0m\u001b[1;33m(\u001b[0m\u001b[1;34m'paris_map.html'\u001b[0m\u001b[1;33m,\u001b[0m \u001b[1;34m'out.jpg'\u001b[0m\u001b[1;33m)\u001b[0m\u001b[1;33m\u001b[0m\u001b[1;33m\u001b[0m\u001b[0m\n\u001b[0m",
      "\u001b[1;32m~\\Anaconda3\\lib\\site-packages\\imgkit\\api.py\u001b[0m in \u001b[0;36mfrom_file\u001b[1;34m(filename, output_path, options, toc, cover, css, config, cover_first)\u001b[0m\n\u001b[0;32m     61\u001b[0m                  \u001b[0mcss\u001b[0m\u001b[1;33m=\u001b[0m\u001b[0mcss\u001b[0m\u001b[1;33m,\u001b[0m\u001b[1;33m\u001b[0m\u001b[1;33m\u001b[0m\u001b[0m\n\u001b[0;32m     62\u001b[0m                  \u001b[0mconfig\u001b[0m\u001b[1;33m=\u001b[0m\u001b[0mconfig\u001b[0m\u001b[1;33m,\u001b[0m\u001b[1;33m\u001b[0m\u001b[1;33m\u001b[0m\u001b[0m\n\u001b[1;32m---> 63\u001b[1;33m                  cover_first=cover_first)\n\u001b[0m\u001b[0;32m     64\u001b[0m     \u001b[1;32mreturn\u001b[0m \u001b[0mrtn\u001b[0m\u001b[1;33m.\u001b[0m\u001b[0mto_img\u001b[0m\u001b[1;33m(\u001b[0m\u001b[0moutput_path\u001b[0m\u001b[1;33m)\u001b[0m\u001b[1;33m\u001b[0m\u001b[1;33m\u001b[0m\u001b[0m\n\u001b[0;32m     65\u001b[0m \u001b[1;33m\u001b[0m\u001b[0m\n",
      "\u001b[1;32m~\\Anaconda3\\lib\\site-packages\\imgkit\\imgkit.py\u001b[0m in \u001b[0;36m__init__\u001b[1;34m(self, url_or_file, source_type, options, toc, cover, css, config, cover_first)\u001b[0m\n\u001b[0;32m     32\u001b[0m                  css=None, config=None, cover_first=None):\n\u001b[0;32m     33\u001b[0m         \u001b[0mself\u001b[0m\u001b[1;33m.\u001b[0m\u001b[0msource\u001b[0m \u001b[1;33m=\u001b[0m \u001b[0mSource\u001b[0m\u001b[1;33m(\u001b[0m\u001b[0murl_or_file\u001b[0m\u001b[1;33m,\u001b[0m \u001b[0msource_type\u001b[0m\u001b[1;33m)\u001b[0m\u001b[1;33m\u001b[0m\u001b[1;33m\u001b[0m\u001b[0m\n\u001b[1;32m---> 34\u001b[1;33m         \u001b[0mself\u001b[0m\u001b[1;33m.\u001b[0m\u001b[0mconfig\u001b[0m \u001b[1;33m=\u001b[0m \u001b[0mConfig\u001b[0m\u001b[1;33m(\u001b[0m\u001b[1;33m)\u001b[0m \u001b[1;32mif\u001b[0m \u001b[1;32mnot\u001b[0m \u001b[0mconfig\u001b[0m \u001b[1;32melse\u001b[0m \u001b[0mconfig\u001b[0m\u001b[1;33m\u001b[0m\u001b[1;33m\u001b[0m\u001b[0m\n\u001b[0m\u001b[0;32m     35\u001b[0m         \u001b[1;32mtry\u001b[0m\u001b[1;33m:\u001b[0m\u001b[1;33m\u001b[0m\u001b[1;33m\u001b[0m\u001b[0m\n\u001b[0;32m     36\u001b[0m             \u001b[0mself\u001b[0m\u001b[1;33m.\u001b[0m\u001b[0mwkhtmltoimage\u001b[0m \u001b[1;33m=\u001b[0m \u001b[0mself\u001b[0m\u001b[1;33m.\u001b[0m\u001b[0mconfig\u001b[0m\u001b[1;33m.\u001b[0m\u001b[0mwkhtmltoimage\u001b[0m\u001b[1;33m.\u001b[0m\u001b[0mdecode\u001b[0m\u001b[1;33m(\u001b[0m\u001b[1;34m'utf-8'\u001b[0m\u001b[1;33m)\u001b[0m\u001b[1;33m\u001b[0m\u001b[1;33m\u001b[0m\u001b[0m\n",
      "\u001b[1;32m~\\Anaconda3\\lib\\site-packages\\imgkit\\config.py\u001b[0m in \u001b[0;36m__init__\u001b[1;34m(self, wkhtmltoimage, meta_tag_prefix)\u001b[0m\n\u001b[0;32m     34\u001b[0m                           \u001b[1;34m'If this file exists please check that this process can '\u001b[0m\u001b[1;33m\u001b[0m\u001b[1;33m\u001b[0m\u001b[0m\n\u001b[0;32m     35\u001b[0m                           \u001b[1;34m'read it. Otherwise please install wkhtmltopdf - '\u001b[0m\u001b[1;33m\u001b[0m\u001b[1;33m\u001b[0m\u001b[0m\n\u001b[1;32m---> 36\u001b[1;33m                           'http://wkhtmltopdf.org\\n'.format(self.wkhtmltoimage))\n\u001b[0m",
      "\u001b[1;31mOSError\u001b[0m: No wkhtmltoimage executable found: \"b''\"\nIf this file exists please check that this process can read it. Otherwise please install wkhtmltopdf - http://wkhtmltopdf.org\n"
     ]
    }
   ],
   "source": [
    "import imgkit\n",
    "#with open('paris_map.html') as f:\n",
    "#    imgkit.from_file(f, 'paris_map.jpg')\n",
    "imgkit.from_file('paris_map.html', 'out.jpg')"
   ]
  },
  {
   "cell_type": "markdown",
   "metadata": {
    "button": false,
    "new_sheet": false,
    "run_control": {
     "read_only": false
    }
   },
   "source": [
    "   "
   ]
  },
  {
   "cell_type": "markdown",
   "metadata": {
    "button": false,
    "new_sheet": false,
    "run_control": {
     "read_only": false
    }
   },
   "source": [
    "<a id=\"item2\"></a>"
   ]
  },
  {
   "cell_type": "markdown",
   "metadata": {
    "button": false,
    "new_sheet": false,
    "run_control": {
     "read_only": false
    }
   },
   "source": [
    "## 2. Explore a Given Venue\n",
    "> `https://api.foursquare.com/v2/venues/`**VENUE_ID**`?client_id=`**CLIENT_ID**`&client_secret=`**CLIENT_SECRET**`&v=`**VERSION**"
   ]
  },
  {
   "cell_type": "markdown",
   "metadata": {
    "button": false,
    "new_sheet": false,
    "run_control": {
     "read_only": false
    }
   },
   "source": [
    "### A. Let's explore the closest Italian restaurant -- _Harry's Italian Pizza Bar_"
   ]
  },
  {
   "cell_type": "code",
   "execution_count": 15,
   "metadata": {
    "button": false,
    "jupyter": {
     "outputs_hidden": false
    },
    "new_sheet": false,
    "run_control": {
     "read_only": false
    }
   },
   "outputs": [
    {
     "data": {
      "text/plain": [
       "'https://api.foursquare.com/v2/venues/4fa862b3e4b0ebff2f749f06?client_id=ZISPWCOUB0LBELFZ1MZVW5PATP4J4SRMYNJ5WRYEWMIJXD3P&client_secret=BRGEUPNWAKXALC4NN1UEL0AOFZZBQH5OELNDN4FSKNKQFICC&v=20191024'"
      ]
     },
     "execution_count": 15,
     "metadata": {},
     "output_type": "execute_result"
    }
   ],
   "source": [
    "venue_id = '4fa862b3e4b0ebff2f749f06' # ID of Harry's Italian Pizza Bar\n",
    "url = 'https://api.foursquare.com/v2/venues/{}?client_id={}&client_secret={}&v={}'.format(venue_id, CLIENT_ID, CLIENT_SECRET, VERSION)\n",
    "url"
   ]
  },
  {
   "cell_type": "markdown",
   "metadata": {
    "button": false,
    "new_sheet": false,
    "run_control": {
     "read_only": false
    }
   },
   "source": [
    "#### Send GET request for result"
   ]
  },
  {
   "cell_type": "code",
   "execution_count": 16,
   "metadata": {
    "button": false,
    "jupyter": {
     "outputs_hidden": false
    },
    "new_sheet": false,
    "run_control": {
     "read_only": false
    }
   },
   "outputs": [
    {
     "name": "stdout",
     "output_type": "stream",
     "text": [
      "dict_keys(['id', 'name', 'contact', 'location', 'canonicalUrl', 'categories', 'verified', 'stats', 'url', 'price', 'hasMenu', 'likes', 'dislike', 'ok', 'rating', 'ratingColor', 'ratingSignals', 'delivery', 'menu', 'allowMenuUrlEdit', 'beenHere', 'specials', 'photos', 'reasons', 'hereNow', 'createdAt', 'tips', 'shortUrl', 'timeZone', 'listed', 'hours', 'popular', 'pageUpdates', 'inbox', 'attributes', 'bestPhoto', 'colors'])\n"
     ]
    },
    {
     "data": {
      "text/plain": [
       "{'id': '4fa862b3e4b0ebff2f749f06',\n",
       " 'name': \"Harry's Italian Pizza Bar\",\n",
       " 'contact': {'phone': '2126081007', 'formattedPhone': '(212) 608-1007'},\n",
       " 'location': {'address': '225 Murray St',\n",
       "  'lat': 40.71521779064671,\n",
       "  'lng': -74.01473940209351,\n",
       "  'labeledLatLngs': [{'label': 'display',\n",
       "    'lat': 40.71521779064671,\n",
       "    'lng': -74.01473940209351}],\n",
       "  'postalCode': '10282',\n",
       "  'cc': 'US',\n",
       "  'city': 'New York',\n",
       "  'state': 'NY',\n",
       "  'country': 'United States',\n",
       "  'formattedAddress': ['225 Murray St',\n",
       "   'New York, NY 10282',\n",
       "   'United States']},\n",
       " 'canonicalUrl': 'https://foursquare.com/v/harrys-italian-pizza-bar/4fa862b3e4b0ebff2f749f06',\n",
       " 'categories': [{'id': '4bf58dd8d48988d1ca941735',\n",
       "   'name': 'Pizza Place',\n",
       "   'pluralName': 'Pizza Places',\n",
       "   'shortName': 'Pizza',\n",
       "   'icon': {'prefix': 'https://ss3.4sqi.net/img/categories_v2/food/pizza_',\n",
       "    'suffix': '.png'},\n",
       "   'primary': True},\n",
       "  {'id': '4bf58dd8d48988d110941735',\n",
       "   'name': 'Italian Restaurant',\n",
       "   'pluralName': 'Italian Restaurants',\n",
       "   'shortName': 'Italian',\n",
       "   'icon': {'prefix': 'https://ss3.4sqi.net/img/categories_v2/food/italian_',\n",
       "    'suffix': '.png'}}],\n",
       " 'verified': False,\n",
       " 'stats': {'tipCount': 57},\n",
       " 'url': 'http://harrysitalian.com',\n",
       " 'price': {'tier': 2, 'message': 'Moderate', 'currency': '$'},\n",
       " 'hasMenu': True,\n",
       " 'likes': {'count': 120,\n",
       "  'groups': [{'type': 'others', 'count': 120, 'items': []}],\n",
       "  'summary': '120 Likes'},\n",
       " 'dislike': False,\n",
       " 'ok': False,\n",
       " 'rating': 7.0,\n",
       " 'ratingColor': 'C5DE35',\n",
       " 'ratingSignals': 213,\n",
       " 'delivery': {'id': '294544',\n",
       "  'url': 'https://www.seamless.com/menu/harrys-italian-pizza-bar-225-murray-st-new-york/294544?affiliate=1131&utm_source=foursquare-affiliate-network&utm_medium=affiliate&utm_campaign=1131&utm_content=294544',\n",
       "  'provider': {'name': 'seamless',\n",
       "   'icon': {'prefix': 'https://fastly.4sqi.net/img/general/cap/',\n",
       "    'sizes': [40, 50],\n",
       "    'name': '/delivery_provider_seamless_20180129.png'}}},\n",
       " 'menu': {'type': 'Menu',\n",
       "  'label': 'Menu',\n",
       "  'anchor': 'View Menu',\n",
       "  'url': 'https://foursquare.com/v/harrys-italian-pizza-bar/4fa862b3e4b0ebff2f749f06/menu',\n",
       "  'mobileUrl': 'https://foursquare.com/v/4fa862b3e4b0ebff2f749f06/device_menu'},\n",
       " 'allowMenuUrlEdit': True,\n",
       " 'beenHere': {'count': 0,\n",
       "  'unconfirmedCount': 0,\n",
       "  'marked': False,\n",
       "  'lastCheckinExpiredAt': 0},\n",
       " 'specials': {'count': 0, 'items': []},\n",
       " 'photos': {'count': 149,\n",
       "  'groups': [{'type': 'checkin',\n",
       "    'name': \"Friends' check-in photos\",\n",
       "    'count': 0,\n",
       "    'items': []},\n",
       "   {'type': 'venue',\n",
       "    'name': 'Venue photos',\n",
       "    'count': 149,\n",
       "    'items': [{'id': '4fad980de4b091b4626c3633',\n",
       "      'createdAt': 1336776717,\n",
       "      'source': {'name': 'Foursquare for Android',\n",
       "       'url': 'https://foursquare.com/download/#/android'},\n",
       "      'prefix': 'https://fastly.4sqi.net/img/general/',\n",
       "      'suffix': '/ya1iQFI7pLjuIJp1PGDKlrZS3OJdHCF7tpILMmjv_2w.jpg',\n",
       "      'width': 480,\n",
       "      'height': 640,\n",
       "      'user': {'id': '13676709',\n",
       "       'firstName': 'Leony',\n",
       "       'lastName': 'Naciri',\n",
       "       'gender': 'none',\n",
       "       'photo': {'prefix': 'https://fastly.4sqi.net/img/user/',\n",
       "        'suffix': '/T0ANFNGNMCHUDEUE.jpg'}},\n",
       "      'visibility': 'public'}]}],\n",
       "  'summary': '0 photos'},\n",
       " 'reasons': {'count': 1,\n",
       "  'items': [{'summary': 'Lots of people like this place',\n",
       "    'type': 'general',\n",
       "    'reasonName': 'rawLikesReason'}]},\n",
       " 'hereNow': {'count': 0, 'summary': 'Nobody here', 'groups': []},\n",
       " 'createdAt': 1336435379,\n",
       " 'tips': {'count': 57,\n",
       "  'groups': [{'type': 'others',\n",
       "    'name': 'All tips',\n",
       "    'count': 57,\n",
       "    'items': [{'id': '53d27909498e0523841340b6',\n",
       "      'createdAt': 1406302473,\n",
       "      'text': \"Harry's Italian Pizza bar is known for it's amazing pizza, but did you know that the brunches here are amazing too? Try the Nutella French toast and we know you'll be sold.\",\n",
       "      'type': 'user',\n",
       "      'canonicalUrl': 'https://foursquare.com/item/53d27909498e0523841340b6',\n",
       "      'lang': 'en',\n",
       "      'likes': {'count': 4,\n",
       "       'groups': [{'type': 'others',\n",
       "         'count': 4,\n",
       "         'items': [{'id': '369426',\n",
       "           'firstName': 'P.',\n",
       "           'lastName': 'M.',\n",
       "           'gender': 'male',\n",
       "           'photo': {'prefix': 'https://fastly.4sqi.net/img/user/',\n",
       "            'suffix': '/JPQYUWJKUT0H2OO4.jpg'}},\n",
       "          {'id': '87587879',\n",
       "           'firstName': 'Diane',\n",
       "           'lastName': 'Danneels',\n",
       "           'gender': 'female',\n",
       "           'photo': {'prefix': 'https://fastly.4sqi.net/img/user/',\n",
       "            'suffix': '/87587879-ESLRSZLQ2CBE2P4W.jpg'}},\n",
       "          {'id': '87591341',\n",
       "           'firstName': 'Tim',\n",
       "           'lastName': 'Sheehan',\n",
       "           'gender': 'male',\n",
       "           'photo': {'prefix': 'https://fastly.4sqi.net/img/user/',\n",
       "            'suffix': '/-Z4YK4VKE0JSVXIY1.jpg'}},\n",
       "          {'id': '87473404',\n",
       "           'firstName': 'TenantKing.com',\n",
       "           'gender': 'none',\n",
       "           'photo': {'prefix': 'https://fastly.4sqi.net/img/user/',\n",
       "            'suffix': '/87473404-HI5DTBTK0HX401CA.png'},\n",
       "           'type': 'page'}]}],\n",
       "       'summary': '4 likes'},\n",
       "      'logView': True,\n",
       "      'agreeCount': 4,\n",
       "      'disagreeCount': 0,\n",
       "      'todo': {'count': 0},\n",
       "      'user': {'id': '87473404',\n",
       "       'firstName': 'TenantKing.com',\n",
       "       'gender': 'none',\n",
       "       'photo': {'prefix': 'https://fastly.4sqi.net/img/user/',\n",
       "        'suffix': '/87473404-HI5DTBTK0HX401CA.png'},\n",
       "       'type': 'page'}}]}]},\n",
       " 'shortUrl': 'http://4sq.com/JNblHV',\n",
       " 'timeZone': 'America/New_York',\n",
       " 'listed': {'count': 54,\n",
       "  'groups': [{'type': 'others',\n",
       "    'name': 'Lists from other people',\n",
       "    'count': 54,\n",
       "    'items': [{'id': '4fa32fd0e4b04193744746b1',\n",
       "      'name': 'Manhattan Haunts',\n",
       "      'description': '',\n",
       "      'type': 'others',\n",
       "      'user': {'id': '24592223',\n",
       "       'firstName': 'Becca',\n",
       "       'lastName': 'McArthur',\n",
       "       'gender': 'female',\n",
       "       'photo': {'prefix': 'https://fastly.4sqi.net/img/user/',\n",
       "        'suffix': '/24592223-RAW2UYM0GIB1U40K.jpg'}},\n",
       "      'editable': False,\n",
       "      'public': True,\n",
       "      'collaborative': False,\n",
       "      'url': '/becca_mcarthur/list/manhattan-haunts',\n",
       "      'canonicalUrl': 'https://foursquare.com/becca_mcarthur/list/manhattan-haunts',\n",
       "      'createdAt': 1336094672,\n",
       "      'updatedAt': 1380845377,\n",
       "      'photo': {'id': '4e8cc9461081e3b3544e12e5',\n",
       "       'createdAt': 1317849414,\n",
       "       'prefix': 'https://fastly.4sqi.net/img/general/',\n",
       "       'suffix': '/0NLVU2HC1JF4DXIMKWUFW3QBUT31DC11EFNYYHMJG3NDWAPS.jpg',\n",
       "       'width': 492,\n",
       "       'height': 330,\n",
       "       'user': {'id': '742542',\n",
       "        'firstName': 'Time Out New York',\n",
       "        'gender': 'none',\n",
       "        'photo': {'prefix': 'https://fastly.4sqi.net/img/user/',\n",
       "         'suffix': '/XXHKCBSQHBORZNSR.jpg'},\n",
       "        'type': 'page'},\n",
       "       'visibility': 'public'},\n",
       "      'followers': {'count': 22},\n",
       "      'listItems': {'count': 187,\n",
       "       'items': [{'id': 'v4fa862b3e4b0ebff2f749f06',\n",
       "         'createdAt': 1342934485}]}},\n",
       "     {'id': '4fae817be4b085f6b2a74d19',\n",
       "      'name': 'USA NYC MAN FiDi',\n",
       "      'description': 'Where to go for decent eats in the restaurant wasteland of Downtown NYC aka FiDi, along with Tribeca & Battery Park City.',\n",
       "      'type': 'others',\n",
       "      'user': {'id': '12113441',\n",
       "       'firstName': 'Kino',\n",
       "       'gender': 'male',\n",
       "       'photo': {'prefix': 'https://fastly.4sqi.net/img/user/',\n",
       "        'suffix': '/12113441-K5HTHFLU2MUCM0CM.jpg'}},\n",
       "      'editable': False,\n",
       "      'public': True,\n",
       "      'collaborative': False,\n",
       "      'url': '/kinosfault/list/usa-nyc-man-fidi',\n",
       "      'canonicalUrl': 'https://foursquare.com/kinosfault/list/usa-nyc-man-fidi',\n",
       "      'createdAt': 1336836475,\n",
       "      'updatedAt': 1556754919,\n",
       "      'photo': {'id': '55984992498e13ba75e353bb',\n",
       "       'createdAt': 1436043666,\n",
       "       'prefix': 'https://fastly.4sqi.net/img/general/',\n",
       "       'suffix': '/12113441_iOa6Uh-Xi8bhj2-gpzkkw8MKiAIs7RmOcz_RM7m8ink.jpg',\n",
       "       'width': 540,\n",
       "       'height': 960,\n",
       "       'user': {'id': '12113441',\n",
       "        'firstName': 'Kino',\n",
       "        'gender': 'male',\n",
       "        'photo': {'prefix': 'https://fastly.4sqi.net/img/user/',\n",
       "         'suffix': '/12113441-K5HTHFLU2MUCM0CM.jpg'}},\n",
       "       'visibility': 'public'},\n",
       "      'followers': {'count': 20},\n",
       "      'listItems': {'count': 273,\n",
       "       'items': [{'id': 'v4fa862b3e4b0ebff2f749f06',\n",
       "         'createdAt': 1373909433}]}},\n",
       "     {'id': '4fddeff0e4b0e078037ac0d3',\n",
       "      'name': 'NYC Resturants',\n",
       "      'description': '',\n",
       "      'type': 'others',\n",
       "      'user': {'id': '21563126',\n",
       "       'firstName': 'Richard',\n",
       "       'lastName': 'Revilla',\n",
       "       'gender': 'male',\n",
       "       'photo': {'prefix': 'https://fastly.4sqi.net/img/user/',\n",
       "        'suffix': '/21563126_v05J1KPw_SVj6Ehq9g8B9jeAGjFUMsU5QGl-NZ8inUQ7pKQm5bKplW37EmR7jS2A7GYPBBAtl.jpg'}},\n",
       "      'editable': False,\n",
       "      'public': True,\n",
       "      'collaborative': True,\n",
       "      'url': '/rickr7/list/nyc-resturants',\n",
       "      'canonicalUrl': 'https://foursquare.com/rickr7/list/nyc-resturants',\n",
       "      'createdAt': 1339944944,\n",
       "      'updatedAt': 1569752526,\n",
       "      'photo': {'id': '5072dd13e4b09145cdf782d1',\n",
       "       'createdAt': 1349704979,\n",
       "       'prefix': 'https://fastly.4sqi.net/img/general/',\n",
       "       'suffix': '/208205_fGh2OuAZ9qJ4agbAA5wMVNOSIm9kNUlRtNwj1N-adqg.jpg',\n",
       "       'width': 800,\n",
       "       'height': 800,\n",
       "       'user': {'id': '208205',\n",
       "        'firstName': 'Thalia',\n",
       "        'lastName': 'K',\n",
       "        'gender': 'female',\n",
       "        'photo': {'prefix': 'https://fastly.4sqi.net/img/user/',\n",
       "         'suffix': '/SNOOLCAW2AG04ZKD.jpg'}},\n",
       "       'visibility': 'public'},\n",
       "      'followers': {'count': 12},\n",
       "      'listItems': {'count': 197,\n",
       "       'items': [{'id': 't54ed3b13498e857fd7dbb6fc',\n",
       "         'createdAt': 1514680908}]}},\n",
       "     {'id': '5266c68a498e7c667807fe09',\n",
       "      'name': 'Foodie Love in NY - 02',\n",
       "      'description': '',\n",
       "      'type': 'others',\n",
       "      'user': {'id': '547977',\n",
       "       'firstName': 'WiLL',\n",
       "       'gender': 'male',\n",
       "       'photo': {'prefix': 'https://fastly.4sqi.net/img/user/',\n",
       "        'suffix': '/-Q5NYGDMFDMOITQRR.jpg'}},\n",
       "      'editable': False,\n",
       "      'public': True,\n",
       "      'collaborative': False,\n",
       "      'url': '/sweetiewill/list/foodie-love-in-ny--02',\n",
       "      'canonicalUrl': 'https://foursquare.com/sweetiewill/list/foodie-love-in-ny--02',\n",
       "      'createdAt': 1382467210,\n",
       "      'updatedAt': 1391995585,\n",
       "      'followers': {'count': 7},\n",
       "      'listItems': {'count': 200,\n",
       "       'items': [{'id': 'v4fa862b3e4b0ebff2f749f06',\n",
       "         'createdAt': 1386809936}]}}]}]},\n",
       " 'hours': {'status': 'Closed until 11:30 AM',\n",
       "  'richStatus': {'entities': [], 'text': 'Closed until 11:30 AM'},\n",
       "  'isOpen': False,\n",
       "  'isLocalHoliday': False,\n",
       "  'dayData': [],\n",
       "  'timeframes': [{'days': 'Mon–Wed, Sun',\n",
       "    'open': [{'renderedTime': '11:30 AM–11:00 PM'}],\n",
       "    'segments': []},\n",
       "   {'days': 'Thu–Sat',\n",
       "    'includesToday': True,\n",
       "    'open': [{'renderedTime': '11:30 AM–Midnight'}],\n",
       "    'segments': []}]},\n",
       " 'popular': {'isOpen': False,\n",
       "  'isLocalHoliday': False,\n",
       "  'timeframes': [{'days': 'Today',\n",
       "    'includesToday': True,\n",
       "    'open': [{'renderedTime': 'Noon–2:00 PM'},\n",
       "     {'renderedTime': '5:00 PM–10:00 PM'}],\n",
       "    'segments': []},\n",
       "   {'days': 'Fri',\n",
       "    'open': [{'renderedTime': 'Noon–3:00 PM'},\n",
       "     {'renderedTime': '5:00 PM–11:00 PM'}],\n",
       "    'segments': []},\n",
       "   {'days': 'Sat',\n",
       "    'open': [{'renderedTime': 'Noon–4:00 PM'},\n",
       "     {'renderedTime': '6:00 PM–11:00 PM'}],\n",
       "    'segments': []},\n",
       "   {'days': 'Sun',\n",
       "    'open': [{'renderedTime': 'Noon–3:00 PM'},\n",
       "     {'renderedTime': '5:00 PM–8:00 PM'}],\n",
       "    'segments': []},\n",
       "   {'days': 'Mon',\n",
       "    'open': [{'renderedTime': 'Noon–2:00 PM'},\n",
       "     {'renderedTime': '6:00 PM–8:00 PM'}],\n",
       "    'segments': []},\n",
       "   {'days': 'Tue–Wed',\n",
       "    'open': [{'renderedTime': 'Noon–2:00 PM'},\n",
       "     {'renderedTime': '5:00 PM–10:00 PM'}],\n",
       "    'segments': []}]},\n",
       " 'pageUpdates': {'count': 0, 'items': []},\n",
       " 'inbox': {'count': 0, 'items': []},\n",
       " 'attributes': {'groups': [{'type': 'price',\n",
       "    'name': 'Price',\n",
       "    'summary': '$$',\n",
       "    'count': 1,\n",
       "    'items': [{'displayName': 'Price', 'displayValue': '$$', 'priceTier': 2}]},\n",
       "   {'type': 'payments',\n",
       "    'name': 'Credit Cards',\n",
       "    'summary': 'Credit Cards',\n",
       "    'count': 7,\n",
       "    'items': [{'displayName': 'Credit Cards',\n",
       "      'displayValue': 'Yes (incl. American Express)'}]},\n",
       "   {'type': 'outdoorSeating',\n",
       "    'name': 'Outdoor Seating',\n",
       "    'summary': 'Outdoor Seating',\n",
       "    'count': 1,\n",
       "    'items': [{'displayName': 'Outdoor Seating', 'displayValue': 'Yes'}]},\n",
       "   {'type': 'serves',\n",
       "    'name': 'Menus',\n",
       "    'summary': 'Happy Hour, Brunch & more',\n",
       "    'count': 8,\n",
       "    'items': [{'displayName': 'Brunch', 'displayValue': 'Brunch'},\n",
       "     {'displayName': 'Lunch', 'displayValue': 'Lunch'},\n",
       "     {'displayName': 'Dinner', 'displayValue': 'Dinner'},\n",
       "     {'displayName': 'Happy Hour', 'displayValue': 'Happy Hour'}]},\n",
       "   {'type': 'drinks',\n",
       "    'name': 'Drinks',\n",
       "    'summary': 'Beer, Wine & Cocktails',\n",
       "    'count': 5,\n",
       "    'items': [{'displayName': 'Beer', 'displayValue': 'Beer'},\n",
       "     {'displayName': 'Wine', 'displayValue': 'Wine'},\n",
       "     {'displayName': 'Cocktails', 'displayValue': 'Cocktails'}]},\n",
       "   {'type': 'diningOptions',\n",
       "    'name': 'Dining Options',\n",
       "    'summary': 'Delivery',\n",
       "    'count': 5,\n",
       "    'items': [{'displayName': 'Delivery', 'displayValue': 'Delivery'}]}]},\n",
       " 'bestPhoto': {'id': '4fad980de4b091b4626c3633',\n",
       "  'createdAt': 1336776717,\n",
       "  'source': {'name': 'Foursquare for Android',\n",
       "   'url': 'https://foursquare.com/download/#/android'},\n",
       "  'prefix': 'https://fastly.4sqi.net/img/general/',\n",
       "  'suffix': '/ya1iQFI7pLjuIJp1PGDKlrZS3OJdHCF7tpILMmjv_2w.jpg',\n",
       "  'width': 480,\n",
       "  'height': 640,\n",
       "  'visibility': 'public'},\n",
       " 'colors': {'highlightColor': {'photoId': '4fad980de4b091b4626c3633',\n",
       "   'value': -13619152},\n",
       "  'highlightTextColor': {'photoId': '4fad980de4b091b4626c3633', 'value': -1},\n",
       "  'algoVersion': 3}}"
      ]
     },
     "execution_count": 16,
     "metadata": {},
     "output_type": "execute_result"
    }
   ],
   "source": [
    "result = requests.get(url).json()\n",
    "print(result['response']['venue'].keys())\n",
    "result['response']['venue']"
   ]
  },
  {
   "cell_type": "markdown",
   "metadata": {
    "button": false,
    "new_sheet": false,
    "run_control": {
     "read_only": false
    }
   },
   "source": [
    "### B. Get the venue's overall rating"
   ]
  },
  {
   "cell_type": "code",
   "execution_count": 17,
   "metadata": {
    "button": false,
    "jupyter": {
     "outputs_hidden": false
    },
    "new_sheet": false,
    "run_control": {
     "read_only": false
    }
   },
   "outputs": [
    {
     "name": "stdout",
     "output_type": "stream",
     "text": [
      "7.0\n"
     ]
    }
   ],
   "source": [
    "try:\n",
    "    print(result['response']['venue']['rating'])\n",
    "except:\n",
    "    print('This venue has not been rated yet.')"
   ]
  },
  {
   "cell_type": "markdown",
   "metadata": {
    "button": false,
    "new_sheet": false,
    "run_control": {
     "read_only": false
    }
   },
   "source": [
    "That is not a very good rating. Let's check the rating of the second closest Italian restaurant."
   ]
  },
  {
   "cell_type": "code",
   "execution_count": 18,
   "metadata": {
    "button": false,
    "jupyter": {
     "outputs_hidden": false
    },
    "new_sheet": false,
    "run_control": {
     "read_only": false
    }
   },
   "outputs": [
    {
     "name": "stdout",
     "output_type": "stream",
     "text": [
      "This venue has not been rated yet.\n"
     ]
    }
   ],
   "source": [
    "venue_id = '4f3232e219836c91c7bfde94' # ID of Conca Cucina Italian Restaurant\n",
    "url = 'https://api.foursquare.com/v2/venues/{}?client_id={}&client_secret={}&v={}'.format(venue_id, CLIENT_ID, CLIENT_SECRET, VERSION)\n",
    "\n",
    "result = requests.get(url).json()\n",
    "try:\n",
    "    print(result['response']['venue']['rating'])\n",
    "except:\n",
    "    print('This venue has not been rated yet.')"
   ]
  },
  {
   "cell_type": "markdown",
   "metadata": {
    "button": false,
    "new_sheet": false,
    "run_control": {
     "read_only": false
    }
   },
   "source": [
    "Since this restaurant has no ratings, let's check the third restaurant."
   ]
  },
  {
   "cell_type": "code",
   "execution_count": 19,
   "metadata": {
    "button": false,
    "jupyter": {
     "outputs_hidden": false
    },
    "new_sheet": false,
    "run_control": {
     "read_only": false
    }
   },
   "outputs": [
    {
     "name": "stdout",
     "output_type": "stream",
     "text": [
      "7.9\n"
     ]
    }
   ],
   "source": [
    "venue_id = '3fd66200f964a520f4e41ee3' # ID of Ecco\n",
    "url = 'https://api.foursquare.com/v2/venues/{}?client_id={}&client_secret={}&v={}'.format(venue_id, CLIENT_ID, CLIENT_SECRET, VERSION)\n",
    "\n",
    "result = requests.get(url).json()\n",
    "try:\n",
    "    print(result['response']['venue']['rating'])\n",
    "except:\n",
    "    print('This venue has not been rated yet.')"
   ]
  },
  {
   "cell_type": "markdown",
   "metadata": {
    "button": false,
    "new_sheet": false,
    "run_control": {
     "read_only": false
    }
   },
   "source": [
    "Since this restaurant has a slightly better rating, let's explore it further."
   ]
  },
  {
   "cell_type": "markdown",
   "metadata": {
    "button": false,
    "new_sheet": false,
    "run_control": {
     "read_only": false
    }
   },
   "source": [
    "### C. Get the number of tips"
   ]
  },
  {
   "cell_type": "code",
   "execution_count": 20,
   "metadata": {
    "button": false,
    "jupyter": {
     "outputs_hidden": false
    },
    "new_sheet": false,
    "run_control": {
     "read_only": false
    }
   },
   "outputs": [
    {
     "data": {
      "text/plain": [
       "17"
      ]
     },
     "execution_count": 20,
     "metadata": {},
     "output_type": "execute_result"
    }
   ],
   "source": [
    "result['response']['venue']['tips']['count']"
   ]
  },
  {
   "cell_type": "markdown",
   "metadata": {
    "button": false,
    "new_sheet": false,
    "run_control": {
     "read_only": false
    }
   },
   "source": [
    "### D. Get the venue's tips\n",
    "> `https://api.foursquare.com/v2/venues/`**VENUE_ID**`/tips?client_id=`**CLIENT_ID**`&client_secret=`**CLIENT_SECRET**`&v=`**VERSION**`&limit=`**LIMIT**"
   ]
  },
  {
   "cell_type": "markdown",
   "metadata": {
    "button": false,
    "new_sheet": false,
    "run_control": {
     "read_only": false
    }
   },
   "source": [
    "#### Create URL and send GET request. Make sure to set limit to get all tips"
   ]
  },
  {
   "cell_type": "code",
   "execution_count": 21,
   "metadata": {
    "button": false,
    "jupyter": {
     "outputs_hidden": false
    },
    "new_sheet": false,
    "run_control": {
     "read_only": false
    }
   },
   "outputs": [
    {
     "data": {
      "text/plain": [
       "{'meta': {'code': 200, 'requestId': '5db16f86c58ed7002cf1c6ab'},\n",
       " 'response': {'tips': {'count': 17,\n",
       "   'items': [{'id': '5ab1cb46c9a517174651d3fe',\n",
       "     'createdAt': 1521601350,\n",
       "     'text': 'A+ Italian food! Trust me on this: my mom’s side of the family is 100% Italian. I was born and bred to know good pasta when I see it, and Ecco is one of my all-time NYC favorites',\n",
       "     'type': 'user',\n",
       "     'canonicalUrl': 'https://foursquare.com/item/5ab1cb46c9a517174651d3fe',\n",
       "     'lang': 'en',\n",
       "     'likes': {'count': 0, 'groups': []},\n",
       "     'logView': True,\n",
       "     'agreeCount': 3,\n",
       "     'disagreeCount': 0,\n",
       "     'todo': {'count': 0},\n",
       "     'user': {'id': '484542633',\n",
       "      'firstName': 'Nick',\n",
       "      'lastName': 'El-Tawil',\n",
       "      'gender': 'male',\n",
       "      'photo': {'prefix': 'https://fastly.4sqi.net/img/user/',\n",
       "       'suffix': '/484542633_mK2Yum7T_7Tn9fWpndidJsmw2Hof_6T5vJBKCHPLMK5OL-U5ZiJGj51iwBstcpDLYa3Zvhvis.jpg'}},\n",
       "     'authorInteractionType': 'liked'}]}}}"
      ]
     },
     "execution_count": 21,
     "metadata": {},
     "output_type": "execute_result"
    }
   ],
   "source": [
    "## Ecco Tips\n",
    "limit = 15 # set limit to be greater than or equal to the total number of tips\n",
    "url = 'https://api.foursquare.com/v2/venues/{}/tips?client_id={}&client_secret={}&v={}&limit={}'.format(venue_id, CLIENT_ID, CLIENT_SECRET, VERSION, limit)\n",
    "\n",
    "results = requests.get(url).json()\n",
    "results"
   ]
  },
  {
   "cell_type": "markdown",
   "metadata": {
    "button": false,
    "new_sheet": false,
    "run_control": {
     "read_only": false
    }
   },
   "source": [
    "#### Get tips and list of associated features"
   ]
  },
  {
   "cell_type": "code",
   "execution_count": 22,
   "metadata": {
    "button": false,
    "jupyter": {
     "outputs_hidden": false
    },
    "new_sheet": false,
    "run_control": {
     "read_only": false
    }
   },
   "outputs": [
    {
     "data": {
      "text/plain": [
       "dict_keys(['id', 'createdAt', 'text', 'type', 'canonicalUrl', 'lang', 'likes', 'logView', 'agreeCount', 'disagreeCount', 'todo', 'user', 'authorInteractionType'])"
      ]
     },
     "execution_count": 22,
     "metadata": {},
     "output_type": "execute_result"
    }
   ],
   "source": [
    "tips = results['response']['tips']['items']\n",
    "\n",
    "tip = results['response']['tips']['items'][0]\n",
    "tip.keys()"
   ]
  },
  {
   "cell_type": "markdown",
   "metadata": {
    "button": false,
    "new_sheet": false,
    "run_control": {
     "read_only": false
    }
   },
   "source": [
    "#### Format column width and display all tips"
   ]
  },
  {
   "cell_type": "code",
   "execution_count": 23,
   "metadata": {
    "button": false,
    "jupyter": {
     "outputs_hidden": false
    },
    "new_sheet": false,
    "run_control": {
     "read_only": false
    }
   },
   "outputs": [
    {
     "data": {
      "text/html": [
       "<div>\n",
       "<style scoped>\n",
       "    .dataframe tbody tr th:only-of-type {\n",
       "        vertical-align: middle;\n",
       "    }\n",
       "\n",
       "    .dataframe tbody tr th {\n",
       "        vertical-align: top;\n",
       "    }\n",
       "\n",
       "    .dataframe thead th {\n",
       "        text-align: right;\n",
       "    }\n",
       "</style>\n",
       "<table border=\"1\" class=\"dataframe\">\n",
       "  <thead>\n",
       "    <tr style=\"text-align: right;\">\n",
       "      <th></th>\n",
       "      <th>text</th>\n",
       "      <th>agreeCount</th>\n",
       "      <th>disagreeCount</th>\n",
       "      <th>id</th>\n",
       "      <th>user.firstName</th>\n",
       "      <th>user.lastName</th>\n",
       "      <th>user.gender</th>\n",
       "      <th>user.id</th>\n",
       "    </tr>\n",
       "  </thead>\n",
       "  <tbody>\n",
       "    <tr>\n",
       "      <td>0</td>\n",
       "      <td>A+ Italian food! Trust me on this: my mom’s side of the family is 100% Italian. I was born and bred to know good pasta when I see it, and Ecco is one of my all-time NYC favorites</td>\n",
       "      <td>3</td>\n",
       "      <td>0</td>\n",
       "      <td>5ab1cb46c9a517174651d3fe</td>\n",
       "      <td>Nick</td>\n",
       "      <td>El-Tawil</td>\n",
       "      <td>male</td>\n",
       "      <td>484542633</td>\n",
       "    </tr>\n",
       "  </tbody>\n",
       "</table>\n",
       "</div>"
      ],
      "text/plain": [
       "                                                                                                                                                                                 text  \\\n",
       "0  A+ Italian food! Trust me on this: my mom’s side of the family is 100% Italian. I was born and bred to know good pasta when I see it, and Ecco is one of my all-time NYC favorites   \n",
       "\n",
       "   agreeCount  disagreeCount                        id user.firstName  \\\n",
       "0  3           0              5ab1cb46c9a517174651d3fe  Nick            \n",
       "\n",
       "  user.lastName user.gender    user.id  \n",
       "0  El-Tawil      male        484542633  "
      ]
     },
     "execution_count": 23,
     "metadata": {},
     "output_type": "execute_result"
    }
   ],
   "source": [
    "pd.set_option('display.max_colwidth', -1)\n",
    "\n",
    "tips_df = json_normalize(tips) # json normalize tips\n",
    "\n",
    "# columns to keep\n",
    "filtered_columns = ['text', 'agreeCount', 'disagreeCount', 'id', 'user.firstName', 'user.lastName', 'user.gender', 'user.id']\n",
    "tips_filtered = tips_df.loc[:, filtered_columns]\n",
    "\n",
    "# display tips\n",
    "tips_filtered"
   ]
  },
  {
   "cell_type": "markdown",
   "metadata": {
    "button": false,
    "new_sheet": false,
    "run_control": {
     "read_only": false
    }
   },
   "source": [
    "Now remember that because we are using a personal developer account, then we can access only 2 of the restaurant's tips, instead of all 15 tips."
   ]
  },
  {
   "cell_type": "markdown",
   "metadata": {
    "button": false,
    "new_sheet": false,
    "run_control": {
     "read_only": false
    }
   },
   "source": [
    "   "
   ]
  },
  {
   "cell_type": "markdown",
   "metadata": {
    "button": false,
    "new_sheet": false,
    "run_control": {
     "read_only": false
    }
   },
   "source": [
    "<a id=\"item3\"></a>"
   ]
  },
  {
   "cell_type": "markdown",
   "metadata": {
    "button": false,
    "new_sheet": false,
    "run_control": {
     "read_only": false
    }
   },
   "source": [
    "## 3. Search a Foursquare User\n",
    "> `https://api.foursquare.com/v2/users/`**USER_ID**`?client_id=`**CLIENT_ID**`&client_secret=`**CLIENT_SECRET**`&v=`**VERSION**"
   ]
  },
  {
   "cell_type": "markdown",
   "metadata": {
    "button": false,
    "new_sheet": false,
    "run_control": {
     "read_only": false
    }
   },
   "source": [
    "### Define URL, send GET request and display features associated with user"
   ]
  },
  {
   "cell_type": "code",
   "execution_count": 28,
   "metadata": {
    "button": false,
    "jupyter": {
     "outputs_hidden": false
    },
    "new_sheet": false,
    "run_control": {
     "read_only": false
    }
   },
   "outputs": [
    {
     "data": {
      "text/plain": [
       "dict_keys(['id', 'firstName', 'lastName', 'gender', 'canonicalUrl', 'photo', 'friends', 'tips', 'homeCity', 'bio', 'contact', 'photos', 'type', 'mayorships', 'checkins', 'lists', 'lenses'])"
      ]
     },
     "execution_count": 28,
     "metadata": {},
     "output_type": "execute_result"
    }
   ],
   "source": [
    "user_id = '484542633' # user ID with most agree counts and complete profile\n",
    "\n",
    "url = 'https://api.foursquare.com/v2/users/{}?client_id={}&client_secret={}&v={}'.format(user_id, CLIENT_ID, CLIENT_SECRET, VERSION) # define URL\n",
    "\n",
    "# send GET request\n",
    "results = requests.get(url).json()\n",
    "user_data = results['response']['user']\n",
    "\n",
    "# display features associated with user\n",
    "user_data.keys()"
   ]
  },
  {
   "cell_type": "code",
   "execution_count": 29,
   "metadata": {
    "button": false,
    "jupyter": {
     "outputs_hidden": false
    },
    "new_sheet": false,
    "run_control": {
     "read_only": false
    }
   },
   "outputs": [
    {
     "name": "stdout",
     "output_type": "stream",
     "text": [
      "First Name: Nick\n",
      "Last Name: El-Tawil\n",
      "Home City: New York, NY\n"
     ]
    }
   ],
   "source": [
    "print('First Name: ' + user_data['firstName'])\n",
    "print('Last Name: ' + user_data['lastName'])\n",
    "print('Home City: ' + user_data['homeCity'])"
   ]
  },
  {
   "cell_type": "markdown",
   "metadata": {
    "button": false,
    "new_sheet": false,
    "run_control": {
     "read_only": false
    }
   },
   "source": [
    "#### How many tips has this user submitted?"
   ]
  },
  {
   "cell_type": "code",
   "execution_count": 30,
   "metadata": {
    "button": false,
    "jupyter": {
     "outputs_hidden": false
    },
    "new_sheet": false,
    "run_control": {
     "read_only": false
    }
   },
   "outputs": [
    {
     "data": {
      "text/plain": [
       "{'count': 238}"
      ]
     },
     "execution_count": 30,
     "metadata": {},
     "output_type": "execute_result"
    }
   ],
   "source": [
    "user_data['tips']"
   ]
  },
  {
   "cell_type": "markdown",
   "metadata": {
    "button": false,
    "new_sheet": false,
    "run_control": {
     "read_only": false
    }
   },
   "source": [
    "Wow! So it turns out that Nick is a very active Foursquare user, with more than 250 tips."
   ]
  },
  {
   "cell_type": "markdown",
   "metadata": {
    "button": false,
    "new_sheet": false,
    "run_control": {
     "read_only": false
    }
   },
   "source": [
    "### Get User's tips"
   ]
  },
  {
   "cell_type": "code",
   "execution_count": 31,
   "metadata": {
    "button": false,
    "jupyter": {
     "outputs_hidden": false
    },
    "new_sheet": false,
    "run_control": {
     "read_only": false
    }
   },
   "outputs": [
    {
     "data": {
      "text/html": [
       "<div>\n",
       "<style scoped>\n",
       "    .dataframe tbody tr th:only-of-type {\n",
       "        vertical-align: middle;\n",
       "    }\n",
       "\n",
       "    .dataframe tbody tr th {\n",
       "        vertical-align: top;\n",
       "    }\n",
       "\n",
       "    .dataframe thead th {\n",
       "        text-align: right;\n",
       "    }\n",
       "</style>\n",
       "<table border=\"1\" class=\"dataframe\">\n",
       "  <thead>\n",
       "    <tr style=\"text-align: right;\">\n",
       "      <th></th>\n",
       "      <th>text</th>\n",
       "      <th>agreeCount</th>\n",
       "      <th>disagreeCount</th>\n",
       "      <th>id</th>\n",
       "    </tr>\n",
       "  </thead>\n",
       "  <tbody>\n",
       "    <tr>\n",
       "      <td>0</td>\n",
       "      <td>The best! I’m especially fond of the salmon burger, but I’ve had half of the menu and never been disappointed. There’s a reason this place is well known even outside of the Village!</td>\n",
       "      <td>1</td>\n",
       "      <td>0</td>\n",
       "      <td>5aec594b1f7440002c138612</td>\n",
       "    </tr>\n",
       "    <tr>\n",
       "      <td>1</td>\n",
       "      <td>I used to down a pint of chocolate like it was nothing back when I was bulking. Highly recommended!</td>\n",
       "      <td>1</td>\n",
       "      <td>0</td>\n",
       "      <td>5accc9f66fa81f196724807b</td>\n",
       "    </tr>\n",
       "    <tr>\n",
       "      <td>2</td>\n",
       "      <td>They serve coffee!!!!!!</td>\n",
       "      <td>1</td>\n",
       "      <td>0</td>\n",
       "      <td>5accc98c0313204c9d7ec157</td>\n",
       "    </tr>\n",
       "    <tr>\n",
       "      <td>3</td>\n",
       "      <td>I’m a fan. In fact, I’m such a big fan, I want Taim to hire me to be their spokesman. Kind of like the Arabic Jared Fogle - but without the kid stuff.</td>\n",
       "      <td>1</td>\n",
       "      <td>0</td>\n",
       "      <td>5accbf033abcaf09a24612a0</td>\n",
       "    </tr>\n",
       "    <tr>\n",
       "      <td>4</td>\n",
       "      <td>The linguine with clams is on point 👌</td>\n",
       "      <td>1</td>\n",
       "      <td>0</td>\n",
       "      <td>5accbe3a911fc423730f3ed3</td>\n",
       "    </tr>\n",
       "    <tr>\n",
       "      <td>5</td>\n",
       "      <td>Great for a quick, cheap lunch! Shorter lines than Chipotle too👌</td>\n",
       "      <td>1</td>\n",
       "      <td>0</td>\n",
       "      <td>5acbecb86fa81f1967e019b0</td>\n",
       "    </tr>\n",
       "    <tr>\n",
       "      <td>6</td>\n",
       "      <td>Quick, cheap lunch that tastes good! Way shorter line than Chipotle, too.</td>\n",
       "      <td>1</td>\n",
       "      <td>0</td>\n",
       "      <td>5acbec70a0215b732e264fe8</td>\n",
       "    </tr>\n",
       "    <tr>\n",
       "      <td>7</td>\n",
       "      <td>You’re not a real New Yorker until you’ve shame-ordered Insomnia Cookies for delivery at 3am</td>\n",
       "      <td>1</td>\n",
       "      <td>0</td>\n",
       "      <td>5acbbd4eb1538e45373b07f5</td>\n",
       "    </tr>\n",
       "    <tr>\n",
       "      <td>8</td>\n",
       "      <td>Good for you yet still tasty! Clean green protein is my go-to after I hit the gym 💪</td>\n",
       "      <td>2</td>\n",
       "      <td>0</td>\n",
       "      <td>5acbbcda01235808d5d6dc75</td>\n",
       "    </tr>\n",
       "    <tr>\n",
       "      <td>9</td>\n",
       "      <td>Coffee game on point</td>\n",
       "      <td>1</td>\n",
       "      <td>0</td>\n",
       "      <td>5acbbb1501235808d5d6525e</td>\n",
       "    </tr>\n",
       "    <tr>\n",
       "      <td>10</td>\n",
       "      <td>This is the dive bar to end all other dive bars. Go here if you like cheap drinks! 🥃</td>\n",
       "      <td>1</td>\n",
       "      <td>0</td>\n",
       "      <td>5ab576abea1e444f2abb051e</td>\n",
       "    </tr>\n",
       "    <tr>\n",
       "      <td>11</td>\n",
       "      <td>Burger game strong 💪</td>\n",
       "      <td>1</td>\n",
       "      <td>0</td>\n",
       "      <td>5ab575fb6bdee65f759da8c1</td>\n",
       "    </tr>\n",
       "    <tr>\n",
       "      <td>12</td>\n",
       "      <td>Great burgers &amp; fries! Also, this place is exactly what it’s like when you go to a bar in the Southwest. Source: I’m from Arizona.</td>\n",
       "      <td>2</td>\n",
       "      <td>0</td>\n",
       "      <td>5ab5575d73fe2516ad8f363b</td>\n",
       "    </tr>\n",
       "    <tr>\n",
       "      <td>13</td>\n",
       "      <td>That guy looks familiar...</td>\n",
       "      <td>1</td>\n",
       "      <td>0</td>\n",
       "      <td>5ab5299635f98312029a53b7</td>\n",
       "    </tr>\n",
       "    <tr>\n",
       "      <td>14</td>\n",
       "      <td>Açaí bowl + peanut butter + whey protein = 💪💪💪</td>\n",
       "      <td>1</td>\n",
       "      <td>0</td>\n",
       "      <td>5ab42db53c858d64af2688a4</td>\n",
       "    </tr>\n",
       "  </tbody>\n",
       "</table>\n",
       "</div>"
      ],
      "text/plain": [
       "                                                                                                                                                                                     text  \\\n",
       "0   The best! I’m especially fond of the salmon burger, but I’ve had half of the menu and never been disappointed. There’s a reason this place is well known even outside of the Village!   \n",
       "1   I used to down a pint of chocolate like it was nothing back when I was bulking. Highly recommended!                                                                                     \n",
       "2   They serve coffee!!!!!!                                                                                                                                                                 \n",
       "3   I’m a fan. In fact, I’m such a big fan, I want Taim to hire me to be their spokesman. Kind of like the Arabic Jared Fogle - but without the kid stuff.                                  \n",
       "4   The linguine with clams is on point 👌                                                                                                                                                   \n",
       "5   Great for a quick, cheap lunch! Shorter lines than Chipotle too👌                                                                                                                        \n",
       "6   Quick, cheap lunch that tastes good! Way shorter line than Chipotle, too.                                                                                                               \n",
       "7   You’re not a real New Yorker until you’ve shame-ordered Insomnia Cookies for delivery at 3am                                                                                            \n",
       "8   Good for you yet still tasty! Clean green protein is my go-to after I hit the gym 💪                                                                                                     \n",
       "9   Coffee game on point                                                                                                                                                                    \n",
       "10  This is the dive bar to end all other dive bars. Go here if you like cheap drinks! 🥃                                                                                                    \n",
       "11  Burger game strong 💪                                                                                                                                                                    \n",
       "12  Great burgers & fries! Also, this place is exactly what it’s like when you go to a bar in the Southwest. Source: I’m from Arizona.                                                      \n",
       "13  That guy looks familiar...                                                                                                                                                              \n",
       "14  Açaí bowl + peanut butter + whey protein = 💪💪💪                                                                                                                                          \n",
       "\n",
       "    agreeCount  disagreeCount                        id  \n",
       "0   1           0              5aec594b1f7440002c138612  \n",
       "1   1           0              5accc9f66fa81f196724807b  \n",
       "2   1           0              5accc98c0313204c9d7ec157  \n",
       "3   1           0              5accbf033abcaf09a24612a0  \n",
       "4   1           0              5accbe3a911fc423730f3ed3  \n",
       "5   1           0              5acbecb86fa81f1967e019b0  \n",
       "6   1           0              5acbec70a0215b732e264fe8  \n",
       "7   1           0              5acbbd4eb1538e45373b07f5  \n",
       "8   2           0              5acbbcda01235808d5d6dc75  \n",
       "9   1           0              5acbbb1501235808d5d6525e  \n",
       "10  1           0              5ab576abea1e444f2abb051e  \n",
       "11  1           0              5ab575fb6bdee65f759da8c1  \n",
       "12  2           0              5ab5575d73fe2516ad8f363b  \n",
       "13  1           0              5ab5299635f98312029a53b7  \n",
       "14  1           0              5ab42db53c858d64af2688a4  "
      ]
     },
     "execution_count": 31,
     "metadata": {},
     "output_type": "execute_result"
    }
   ],
   "source": [
    "# define tips URL\n",
    "url = 'https://api.foursquare.com/v2/users/{}/tips?client_id={}&client_secret={}&v={}&limit={}'.format(user_id, CLIENT_ID, CLIENT_SECRET, VERSION, limit)\n",
    "\n",
    "# send GET request and get user's tips\n",
    "results = requests.get(url).json()\n",
    "tips = results['response']['tips']['items']\n",
    "\n",
    "# format column width\n",
    "pd.set_option('display.max_colwidth', -1)\n",
    "\n",
    "tips_df = json_normalize(tips)\n",
    "\n",
    "# filter columns\n",
    "filtered_columns = ['text', 'agreeCount', 'disagreeCount', 'id']\n",
    "tips_filtered = tips_df.loc[:, filtered_columns]\n",
    "\n",
    "# display user's tips\n",
    "tips_filtered"
   ]
  },
  {
   "cell_type": "markdown",
   "metadata": {
    "button": false,
    "new_sheet": false,
    "run_control": {
     "read_only": false
    }
   },
   "source": [
    "#### Let's get the venue for the tip with the greatest number of agree counts"
   ]
  },
  {
   "cell_type": "code",
   "execution_count": 32,
   "metadata": {
    "button": false,
    "jupyter": {
     "outputs_hidden": false
    },
    "new_sheet": false,
    "run_control": {
     "read_only": false
    }
   },
   "outputs": [
    {
     "name": "stdout",
     "output_type": "stream",
     "text": [
      "Cowgirl\n",
      "{'address': '519 Hudson St', 'crossStreet': 'at W 10th St', 'lat': 40.73373338282062, 'lng': -74.0062998849649, 'labeledLatLngs': [{'label': 'display', 'lat': 40.73373338282062, 'lng': -74.0062998849649}], 'postalCode': '10014', 'cc': 'US', 'city': 'New York', 'state': 'NY', 'country': 'United States', 'formattedAddress': ['519 Hudson St (at W 10th St)', 'New York, NY 10014', 'United States']}\n"
     ]
    }
   ],
   "source": [
    "tip_id = '5ab5575d73fe2516ad8f363b' # tip id\n",
    "\n",
    "# define URL\n",
    "url = 'http://api.foursquare.com/v2/tips/{}?client_id={}&client_secret={}&v={}'.format(tip_id, CLIENT_ID, CLIENT_SECRET, VERSION)\n",
    "\n",
    "# send GET Request and examine results\n",
    "result = requests.get(url).json()\n",
    "print(result['response']['tip']['venue']['name'])\n",
    "print(result['response']['tip']['venue']['location'])"
   ]
  },
  {
   "cell_type": "markdown",
   "metadata": {
    "button": false,
    "new_sheet": false,
    "run_control": {
     "read_only": false
    }
   },
   "source": [
    "### Get User's friends"
   ]
  },
  {
   "cell_type": "code",
   "execution_count": 33,
   "metadata": {
    "button": false,
    "jupyter": {
     "outputs_hidden": false
    },
    "new_sheet": false,
    "run_control": {
     "read_only": false
    }
   },
   "outputs": [
    {
     "data": {
      "text/html": [
       "<div>\n",
       "<style scoped>\n",
       "    .dataframe tbody tr th:only-of-type {\n",
       "        vertical-align: middle;\n",
       "    }\n",
       "\n",
       "    .dataframe tbody tr th {\n",
       "        vertical-align: top;\n",
       "    }\n",
       "\n",
       "    .dataframe thead th {\n",
       "        text-align: right;\n",
       "    }\n",
       "</style>\n",
       "<table border=\"1\" class=\"dataframe\">\n",
       "  <thead>\n",
       "    <tr style=\"text-align: right;\">\n",
       "      <th></th>\n",
       "    </tr>\n",
       "  </thead>\n",
       "  <tbody>\n",
       "  </tbody>\n",
       "</table>\n",
       "</div>"
      ],
      "text/plain": [
       "Empty DataFrame\n",
       "Columns: []\n",
       "Index: []"
      ]
     },
     "execution_count": 33,
     "metadata": {},
     "output_type": "execute_result"
    }
   ],
   "source": [
    "user_friends = json_normalize(user_data['friends']['groups'][0]['items'])\n",
    "user_friends"
   ]
  },
  {
   "cell_type": "markdown",
   "metadata": {
    "button": false,
    "new_sheet": false,
    "run_control": {
     "read_only": false
    }
   },
   "source": [
    "Interesting. Despite being very active, it turns out that Nick does not have any friends on Foursquare. This might definitely change in the future."
   ]
  },
  {
   "cell_type": "markdown",
   "metadata": {
    "button": false,
    "new_sheet": false,
    "run_control": {
     "read_only": false
    }
   },
   "source": [
    "### Retrieve the User's Profile Image"
   ]
  },
  {
   "cell_type": "code",
   "execution_count": 34,
   "metadata": {
    "button": false,
    "jupyter": {
     "outputs_hidden": false
    },
    "new_sheet": false,
    "run_control": {
     "read_only": false
    },
    "scrolled": true
   },
   "outputs": [
    {
     "data": {
      "text/plain": [
       "{'id': '484542633',\n",
       " 'firstName': 'Nick',\n",
       " 'lastName': 'El-Tawil',\n",
       " 'gender': 'male',\n",
       " 'canonicalUrl': 'https://foursquare.com/nickeltawil',\n",
       " 'photo': {'prefix': 'https://fastly.4sqi.net/img/user/',\n",
       "  'suffix': '/484542633_mK2Yum7T_7Tn9fWpndidJsmw2Hof_6T5vJBKCHPLMK5OL-U5ZiJGj51iwBstcpDLYa3Zvhvis.jpg'},\n",
       " 'friends': {'count': 0,\n",
       "  'groups': [{'type': 'others',\n",
       "    'name': 'Other friends',\n",
       "    'count': 0,\n",
       "    'items': []}]},\n",
       " 'tips': {'count': 238},\n",
       " 'homeCity': 'New York, NY',\n",
       " 'bio': 'https://www.tawil.team/nick-el-tawil/',\n",
       " 'contact': {},\n",
       " 'photos': {'count': 0, 'items': []},\n",
       " 'type': 'user',\n",
       " 'mayorships': {'count': 0, 'items': []},\n",
       " 'checkins': {'count': 1, 'items': []},\n",
       " 'lists': {'count': 2,\n",
       "  'groups': [{'type': 'created', 'count': 0, 'items': []},\n",
       "   {'type': 'followed', 'count': 0, 'items': []},\n",
       "   {'type': 'yours',\n",
       "    'count': 2,\n",
       "    'items': [{'id': '484542633/todos',\n",
       "      'name': \"Nick's Saved Places\",\n",
       "      'description': '',\n",
       "      'type': 'todos',\n",
       "      'editable': False,\n",
       "      'public': True,\n",
       "      'collaborative': False,\n",
       "      'url': '/nickeltawil/list/todos',\n",
       "      'canonicalUrl': 'https://foursquare.com/nickeltawil/list/todos',\n",
       "      'listItems': {'count': 0}},\n",
       "     {'id': '484542633/venuelikes',\n",
       "      'name': 'Nick’s Liked Places',\n",
       "      'description': '',\n",
       "      'type': 'likes',\n",
       "      'editable': False,\n",
       "      'public': True,\n",
       "      'collaborative': False,\n",
       "      'url': '/nickeltawil/list/venuelikes',\n",
       "      'canonicalUrl': 'https://foursquare.com/nickeltawil/list/venuelikes',\n",
       "      'listItems': {'count': 0}}]}]},\n",
       " 'lenses': []}"
      ]
     },
     "execution_count": 34,
     "metadata": {},
     "output_type": "execute_result"
    }
   ],
   "source": [
    "user_data"
   ]
  },
  {
   "cell_type": "code",
   "execution_count": 35,
   "metadata": {
    "button": false,
    "jupyter": {
     "outputs_hidden": false
    },
    "new_sheet": false,
    "run_control": {
     "read_only": false
    }
   },
   "outputs": [
    {
     "data": {
      "text/html": [
       "<img src=\"https://igx.4sqi.net/img/user/300x300/484542633_mK2Yum7T_7Tn9fWpndidJsmw2Hof_6T5vJBKCHPLMK5OL-U5ZiJGj51iwBstcpDLYa3Zvhvis.jpg\"/>"
      ],
      "text/plain": [
       "<IPython.core.display.Image object>"
      ]
     },
     "execution_count": 35,
     "metadata": {},
     "output_type": "execute_result"
    }
   ],
   "source": [
    "# 1. grab prefix of photo\n",
    "# 2. grab suffix of photo\n",
    "# 3. concatenate them using the image size  \n",
    "Image(url='https://igx.4sqi.net/img/user/300x300/484542633_mK2Yum7T_7Tn9fWpndidJsmw2Hof_6T5vJBKCHPLMK5OL-U5ZiJGj51iwBstcpDLYa3Zvhvis.jpg')"
   ]
  },
  {
   "cell_type": "markdown",
   "metadata": {
    "button": false,
    "new_sheet": false,
    "run_control": {
     "read_only": false
    }
   },
   "source": [
    "  "
   ]
  },
  {
   "cell_type": "markdown",
   "metadata": {
    "button": false,
    "new_sheet": false,
    "run_control": {
     "read_only": false
    }
   },
   "source": [
    "<a id=\"item4\"></a>"
   ]
  },
  {
   "cell_type": "markdown",
   "metadata": {
    "button": false,
    "new_sheet": false,
    "run_control": {
     "read_only": false
    }
   },
   "source": [
    "## 4. Explore a location\n",
    "> `https://api.foursquare.com/v2/venues/`**explore**`?client_id=`**CLIENT_ID**`&client_secret=`**CLIENT_SECRET**`&ll=`**LATITUDE**`,`**LONGITUDE**`&v=`**VERSION**`&limit=`**LIMIT**"
   ]
  },
  {
   "cell_type": "markdown",
   "metadata": {
    "button": false,
    "new_sheet": false,
    "run_control": {
     "read_only": false
    }
   },
   "source": [
    "#### So, you just finished your gourmet dish at Ecco, and are just curious about the popular spots around the restaurant. In order to explore the area, let's start by getting the latitude and longitude values of Ecco Restaurant."
   ]
  },
  {
   "cell_type": "code",
   "execution_count": 36,
   "metadata": {
    "button": false,
    "new_sheet": false,
    "run_control": {
     "read_only": false
    }
   },
   "outputs": [],
   "source": [
    "latitude = 40.715337\n",
    "longitude = -74.008848"
   ]
  },
  {
   "cell_type": "markdown",
   "metadata": {
    "button": false,
    "new_sheet": false,
    "run_control": {
     "read_only": false
    }
   },
   "source": [
    "#### Define URL"
   ]
  },
  {
   "cell_type": "code",
   "execution_count": 37,
   "metadata": {
    "button": false,
    "jupyter": {
     "outputs_hidden": false
    },
    "new_sheet": false,
    "run_control": {
     "read_only": false
    }
   },
   "outputs": [
    {
     "data": {
      "text/plain": [
       "'https://api.foursquare.com/v2/venues/explore?client_id=ZISPWCOUB0LBELFZ1MZVW5PATP4J4SRMYNJ5WRYEWMIJXD3P&client_secret=BRGEUPNWAKXALC4NN1UEL0AOFZZBQH5OELNDN4FSKNKQFICC&ll=40.715337,-74.008848&v=20191024&radius=500&limit=30'"
      ]
     },
     "execution_count": 37,
     "metadata": {},
     "output_type": "execute_result"
    }
   ],
   "source": [
    "url = 'https://api.foursquare.com/v2/venues/explore?client_id={}&client_secret={}&ll={},{}&v={}&radius={}&limit={}'.format(CLIENT_ID, CLIENT_SECRET, latitude, longitude, VERSION, radius, LIMIT)\n",
    "url"
   ]
  },
  {
   "cell_type": "markdown",
   "metadata": {
    "button": false,
    "new_sheet": false,
    "run_control": {
     "read_only": false
    }
   },
   "source": [
    "#### Send GET request and examine results"
   ]
  },
  {
   "cell_type": "code",
   "execution_count": 38,
   "metadata": {
    "button": false,
    "new_sheet": false,
    "run_control": {
     "read_only": false
    }
   },
   "outputs": [],
   "source": [
    "import requests"
   ]
  },
  {
   "cell_type": "code",
   "execution_count": 39,
   "metadata": {
    "button": false,
    "jupyter": {
     "outputs_hidden": false
    },
    "new_sheet": false,
    "run_control": {
     "read_only": false
    }
   },
   "outputs": [
    {
     "data": {
      "text/plain": [
       "'There are 30 around Ecco restaurant.'"
      ]
     },
     "execution_count": 39,
     "metadata": {},
     "output_type": "execute_result"
    }
   ],
   "source": [
    "results = requests.get(url).json()\n",
    "'There are {} around Ecco restaurant.'.format(len(results['response']['groups'][0]['items']))"
   ]
  },
  {
   "cell_type": "markdown",
   "metadata": {
    "button": false,
    "new_sheet": false,
    "run_control": {
     "read_only": false
    }
   },
   "source": [
    "#### Get relevant part of JSON"
   ]
  },
  {
   "cell_type": "code",
   "execution_count": 40,
   "metadata": {
    "button": false,
    "jupyter": {
     "outputs_hidden": false
    },
    "new_sheet": false,
    "run_control": {
     "read_only": false
    }
   },
   "outputs": [
    {
     "data": {
      "text/plain": [
       "{'reasons': {'count': 0,\n",
       "  'items': [{'summary': 'This spot is popular',\n",
       "    'type': 'general',\n",
       "    'reasonName': 'globalInteractionReason'}]},\n",
       " 'venue': {'id': '4af5d65ff964a52091fd21e3',\n",
       "  'name': 'Korin',\n",
       "  'location': {'address': '57 Warren St',\n",
       "   'crossStreet': 'Church St',\n",
       "   'lat': 40.71482437714839,\n",
       "   'lng': -74.00940425461492,\n",
       "   'labeledLatLngs': [{'label': 'display',\n",
       "     'lat': 40.71482437714839,\n",
       "     'lng': -74.00940425461492}],\n",
       "   'distance': 73,\n",
       "   'postalCode': '10007',\n",
       "   'cc': 'US',\n",
       "   'neighborhood': 'Tribeca',\n",
       "   'city': 'New York',\n",
       "   'state': 'NY',\n",
       "   'country': 'United States',\n",
       "   'formattedAddress': ['57 Warren St (Church St)',\n",
       "    'New York, NY 10007',\n",
       "    'United States']},\n",
       "  'categories': [{'id': '4bf58dd8d48988d1f8941735',\n",
       "    'name': 'Furniture / Home Store',\n",
       "    'pluralName': 'Furniture / Home Stores',\n",
       "    'shortName': 'Furniture / Home',\n",
       "    'icon': {'prefix': 'https://ss3.4sqi.net/img/categories_v2/shops/furniture_',\n",
       "     'suffix': '.png'},\n",
       "    'primary': True}],\n",
       "  'photos': {'count': 0, 'groups': []},\n",
       "  'venuePage': {'id': '33104775'}},\n",
       " 'referralId': 'e-0-4af5d65ff964a52091fd21e3-0'}"
      ]
     },
     "execution_count": 40,
     "metadata": {},
     "output_type": "execute_result"
    }
   ],
   "source": [
    "items = results['response']['groups'][0]['items']\n",
    "items[0]"
   ]
  },
  {
   "cell_type": "markdown",
   "metadata": {
    "button": false,
    "new_sheet": false,
    "run_control": {
     "read_only": false
    }
   },
   "source": [
    "#### Process JSON and convert it to a clean dataframe"
   ]
  },
  {
   "cell_type": "code",
   "execution_count": 41,
   "metadata": {
    "button": false,
    "jupyter": {
     "outputs_hidden": false
    },
    "new_sheet": false,
    "run_control": {
     "read_only": false
    }
   },
   "outputs": [
    {
     "data": {
      "text/html": [
       "<div>\n",
       "<style scoped>\n",
       "    .dataframe tbody tr th:only-of-type {\n",
       "        vertical-align: middle;\n",
       "    }\n",
       "\n",
       "    .dataframe tbody tr th {\n",
       "        vertical-align: top;\n",
       "    }\n",
       "\n",
       "    .dataframe thead th {\n",
       "        text-align: right;\n",
       "    }\n",
       "</style>\n",
       "<table border=\"1\" class=\"dataframe\">\n",
       "  <thead>\n",
       "    <tr style=\"text-align: right;\">\n",
       "      <th></th>\n",
       "      <th>name</th>\n",
       "      <th>categories</th>\n",
       "      <th>address</th>\n",
       "      <th>crossStreet</th>\n",
       "      <th>lat</th>\n",
       "      <th>lng</th>\n",
       "      <th>labeledLatLngs</th>\n",
       "      <th>distance</th>\n",
       "      <th>postalCode</th>\n",
       "      <th>cc</th>\n",
       "      <th>neighborhood</th>\n",
       "      <th>city</th>\n",
       "      <th>state</th>\n",
       "      <th>country</th>\n",
       "      <th>formattedAddress</th>\n",
       "      <th>id</th>\n",
       "    </tr>\n",
       "  </thead>\n",
       "  <tbody>\n",
       "    <tr>\n",
       "      <td>0</td>\n",
       "      <td>Korin</td>\n",
       "      <td>Furniture / Home Store</td>\n",
       "      <td>57 Warren St</td>\n",
       "      <td>Church St</td>\n",
       "      <td>40.714824</td>\n",
       "      <td>-74.009404</td>\n",
       "      <td>[{'label': 'display', 'lat': 40.71482437714839, 'lng': -74.00940425461492}]</td>\n",
       "      <td>73</td>\n",
       "      <td>10007</td>\n",
       "      <td>US</td>\n",
       "      <td>Tribeca</td>\n",
       "      <td>New York</td>\n",
       "      <td>NY</td>\n",
       "      <td>United States</td>\n",
       "      <td>[57 Warren St (Church St), New York, NY 10007, United States]</td>\n",
       "      <td>4af5d65ff964a52091fd21e3</td>\n",
       "    </tr>\n",
       "    <tr>\n",
       "      <td>1</td>\n",
       "      <td>Juice Press</td>\n",
       "      <td>Vegetarian / Vegan Restaurant</td>\n",
       "      <td>83 Murray St</td>\n",
       "      <td>btwn Greenwich St &amp; W Broadway</td>\n",
       "      <td>40.714788</td>\n",
       "      <td>-74.011132</td>\n",
       "      <td>[{'label': 'display', 'lat': 40.71478769908051, 'lng': -74.0111317502157}]</td>\n",
       "      <td>202</td>\n",
       "      <td>10007</td>\n",
       "      <td>US</td>\n",
       "      <td>NaN</td>\n",
       "      <td>New York</td>\n",
       "      <td>NY</td>\n",
       "      <td>United States</td>\n",
       "      <td>[83 Murray St (btwn Greenwich St &amp; W Broadway), New York, NY 10007, United States]</td>\n",
       "      <td>54148bc6498ea7bb8c05b70a</td>\n",
       "    </tr>\n",
       "    <tr>\n",
       "      <td>2</td>\n",
       "      <td>Takahachi Bakery</td>\n",
       "      <td>Bakery</td>\n",
       "      <td>25 Murray St</td>\n",
       "      <td>at Church St</td>\n",
       "      <td>40.713653</td>\n",
       "      <td>-74.008804</td>\n",
       "      <td>[{'label': 'display', 'lat': 40.713652845301894, 'lng': -74.0088038953017}]</td>\n",
       "      <td>187</td>\n",
       "      <td>10007</td>\n",
       "      <td>US</td>\n",
       "      <td>NaN</td>\n",
       "      <td>New York</td>\n",
       "      <td>NY</td>\n",
       "      <td>United States</td>\n",
       "      <td>[25 Murray St (at Church St), New York, NY 10007, United States]</td>\n",
       "      <td>4c154c9a77cea593c401d260</td>\n",
       "    </tr>\n",
       "    <tr>\n",
       "      <td>3</td>\n",
       "      <td>Chambers Street Wines</td>\n",
       "      <td>Wine Shop</td>\n",
       "      <td>148 Chambers St</td>\n",
       "      <td>btwn West Broadway &amp; Hudson St</td>\n",
       "      <td>40.715773</td>\n",
       "      <td>-74.009718</td>\n",
       "      <td>[{'label': 'display', 'lat': 40.715773063928374, 'lng': -74.00971823312332}]</td>\n",
       "      <td>88</td>\n",
       "      <td>10007</td>\n",
       "      <td>US</td>\n",
       "      <td>NaN</td>\n",
       "      <td>New York</td>\n",
       "      <td>NY</td>\n",
       "      <td>United States</td>\n",
       "      <td>[148 Chambers St (btwn West Broadway &amp; Hudson St), New York, NY 10007, United States]</td>\n",
       "      <td>4adcf23cf964a520cc6221e3</td>\n",
       "    </tr>\n",
       "    <tr>\n",
       "      <td>4</td>\n",
       "      <td>Takahachi</td>\n",
       "      <td>Sushi Restaurant</td>\n",
       "      <td>145 Duane St</td>\n",
       "      <td>btwn W Broadway &amp; Church St</td>\n",
       "      <td>40.716526</td>\n",
       "      <td>-74.008101</td>\n",
       "      <td>[{'label': 'display', 'lat': 40.71652647412374, 'lng': -74.00810108466207}]</td>\n",
       "      <td>146</td>\n",
       "      <td>10013</td>\n",
       "      <td>US</td>\n",
       "      <td>NaN</td>\n",
       "      <td>New York</td>\n",
       "      <td>NY</td>\n",
       "      <td>United States</td>\n",
       "      <td>[145 Duane St (btwn W Broadway &amp; Church St), New York, NY 10013, United States]</td>\n",
       "      <td>4a8f2f39f964a520471420e3</td>\n",
       "    </tr>\n",
       "    <tr>\n",
       "      <td>5</td>\n",
       "      <td>Los Tacos No. 1</td>\n",
       "      <td>Taco Place</td>\n",
       "      <td>136 Church St</td>\n",
       "      <td>NaN</td>\n",
       "      <td>40.714170</td>\n",
       "      <td>-74.008660</td>\n",
       "      <td>[{'label': 'display', 'lat': 40.71417, 'lng': -74.00866}]</td>\n",
       "      <td>130</td>\n",
       "      <td>10007</td>\n",
       "      <td>US</td>\n",
       "      <td>NaN</td>\n",
       "      <td>New York</td>\n",
       "      <td>NY</td>\n",
       "      <td>United States</td>\n",
       "      <td>[136 Church St, New York, NY 10007, United States]</td>\n",
       "      <td>5d5f24ec09484500079aee00</td>\n",
       "    </tr>\n",
       "    <tr>\n",
       "      <td>6</td>\n",
       "      <td>Philip Williams Posters</td>\n",
       "      <td>Antique Shop</td>\n",
       "      <td>122 Chambers St</td>\n",
       "      <td>NaN</td>\n",
       "      <td>40.715284</td>\n",
       "      <td>-74.008781</td>\n",
       "      <td>[{'label': 'display', 'lat': 40.71528423132827, 'lng': -74.00878093952018}]</td>\n",
       "      <td>8</td>\n",
       "      <td>10007</td>\n",
       "      <td>US</td>\n",
       "      <td>NaN</td>\n",
       "      <td>New York</td>\n",
       "      <td>NY</td>\n",
       "      <td>United States</td>\n",
       "      <td>[122 Chambers St, New York, NY 10007, United States]</td>\n",
       "      <td>4b747291f964a52042dd2de3</td>\n",
       "    </tr>\n",
       "    <tr>\n",
       "      <td>7</td>\n",
       "      <td>Heyday</td>\n",
       "      <td>Spa</td>\n",
       "      <td>92 Reade St</td>\n",
       "      <td>NaN</td>\n",
       "      <td>40.715598</td>\n",
       "      <td>-74.007882</td>\n",
       "      <td>[{'label': 'display', 'lat': 40.715598486687675, 'lng': -74.00788227511288}]</td>\n",
       "      <td>86</td>\n",
       "      <td>10013</td>\n",
       "      <td>US</td>\n",
       "      <td>NaN</td>\n",
       "      <td>New York</td>\n",
       "      <td>NY</td>\n",
       "      <td>United States</td>\n",
       "      <td>[92 Reade St, New York, NY 10013, United States]</td>\n",
       "      <td>57ad129c498e05b086594d72</td>\n",
       "    </tr>\n",
       "    <tr>\n",
       "      <td>8</td>\n",
       "      <td>Equinox Tribeca</td>\n",
       "      <td>Gym</td>\n",
       "      <td>54 Murray Street</td>\n",
       "      <td>at W Broadway</td>\n",
       "      <td>40.714099</td>\n",
       "      <td>-74.009686</td>\n",
       "      <td>[{'label': 'display', 'lat': 40.71409860726041, 'lng': -74.0096857179283}]</td>\n",
       "      <td>154</td>\n",
       "      <td>10007</td>\n",
       "      <td>US</td>\n",
       "      <td>NaN</td>\n",
       "      <td>New York</td>\n",
       "      <td>NY</td>\n",
       "      <td>United States</td>\n",
       "      <td>[54 Murray Street (at W Broadway), New York, NY 10007, United States]</td>\n",
       "      <td>4a6e331af964a52031d41fe3</td>\n",
       "    </tr>\n",
       "    <tr>\n",
       "      <td>9</td>\n",
       "      <td>Mulberry &amp; Vine</td>\n",
       "      <td>Café</td>\n",
       "      <td>73 Warren St</td>\n",
       "      <td>btwn W Broadway &amp; Greenwich St</td>\n",
       "      <td>40.715177</td>\n",
       "      <td>-74.010227</td>\n",
       "      <td>[{'label': 'display', 'lat': 40.71517693966315, 'lng': -74.01022747778285}]</td>\n",
       "      <td>117</td>\n",
       "      <td>10007</td>\n",
       "      <td>US</td>\n",
       "      <td>NaN</td>\n",
       "      <td>New York</td>\n",
       "      <td>NY</td>\n",
       "      <td>United States</td>\n",
       "      <td>[73 Warren St (btwn W Broadway &amp; Greenwich St), New York, NY 10007, United States]</td>\n",
       "      <td>5171b5cc011cef9833bbb787</td>\n",
       "    </tr>\n",
       "  </tbody>\n",
       "</table>\n",
       "</div>"
      ],
      "text/plain": [
       "                      name                     categories           address  \\\n",
       "0  Korin                    Furniture / Home Store         57 Warren St       \n",
       "1  Juice Press              Vegetarian / Vegan Restaurant  83 Murray St       \n",
       "2  Takahachi Bakery         Bakery                         25 Murray St       \n",
       "3  Chambers Street Wines    Wine Shop                      148 Chambers St    \n",
       "4  Takahachi                Sushi Restaurant               145 Duane St       \n",
       "5  Los Tacos No. 1          Taco Place                     136 Church St      \n",
       "6  Philip Williams Posters  Antique Shop                   122 Chambers St    \n",
       "7  Heyday                   Spa                            92 Reade St        \n",
       "8  Equinox Tribeca          Gym                            54 Murray Street   \n",
       "9  Mulberry & Vine          Café                           73 Warren St       \n",
       "\n",
       "                      crossStreet        lat        lng  \\\n",
       "0  Church St                       40.714824 -74.009404   \n",
       "1  btwn Greenwich St & W Broadway  40.714788 -74.011132   \n",
       "2  at Church St                    40.713653 -74.008804   \n",
       "3  btwn West Broadway & Hudson St  40.715773 -74.009718   \n",
       "4  btwn W Broadway & Church St     40.716526 -74.008101   \n",
       "5  NaN                             40.714170 -74.008660   \n",
       "6  NaN                             40.715284 -74.008781   \n",
       "7  NaN                             40.715598 -74.007882   \n",
       "8  at W Broadway                   40.714099 -74.009686   \n",
       "9  btwn W Broadway & Greenwich St  40.715177 -74.010227   \n",
       "\n",
       "                                                                 labeledLatLngs  \\\n",
       "0  [{'label': 'display', 'lat': 40.71482437714839, 'lng': -74.00940425461492}]    \n",
       "1  [{'label': 'display', 'lat': 40.71478769908051, 'lng': -74.0111317502157}]     \n",
       "2  [{'label': 'display', 'lat': 40.713652845301894, 'lng': -74.0088038953017}]    \n",
       "3  [{'label': 'display', 'lat': 40.715773063928374, 'lng': -74.00971823312332}]   \n",
       "4  [{'label': 'display', 'lat': 40.71652647412374, 'lng': -74.00810108466207}]    \n",
       "5  [{'label': 'display', 'lat': 40.71417, 'lng': -74.00866}]                      \n",
       "6  [{'label': 'display', 'lat': 40.71528423132827, 'lng': -74.00878093952018}]    \n",
       "7  [{'label': 'display', 'lat': 40.715598486687675, 'lng': -74.00788227511288}]   \n",
       "8  [{'label': 'display', 'lat': 40.71409860726041, 'lng': -74.0096857179283}]     \n",
       "9  [{'label': 'display', 'lat': 40.71517693966315, 'lng': -74.01022747778285}]    \n",
       "\n",
       "   distance postalCode  cc neighborhood      city state        country  \\\n",
       "0  73        10007      US  Tribeca      New York  NY    United States   \n",
       "1  202       10007      US  NaN          New York  NY    United States   \n",
       "2  187       10007      US  NaN          New York  NY    United States   \n",
       "3  88        10007      US  NaN          New York  NY    United States   \n",
       "4  146       10013      US  NaN          New York  NY    United States   \n",
       "5  130       10007      US  NaN          New York  NY    United States   \n",
       "6  8         10007      US  NaN          New York  NY    United States   \n",
       "7  86        10013      US  NaN          New York  NY    United States   \n",
       "8  154       10007      US  NaN          New York  NY    United States   \n",
       "9  117       10007      US  NaN          New York  NY    United States   \n",
       "\n",
       "                                                                        formattedAddress  \\\n",
       "0  [57 Warren St (Church St), New York, NY 10007, United States]                           \n",
       "1  [83 Murray St (btwn Greenwich St & W Broadway), New York, NY 10007, United States]      \n",
       "2  [25 Murray St (at Church St), New York, NY 10007, United States]                        \n",
       "3  [148 Chambers St (btwn West Broadway & Hudson St), New York, NY 10007, United States]   \n",
       "4  [145 Duane St (btwn W Broadway & Church St), New York, NY 10013, United States]         \n",
       "5  [136 Church St, New York, NY 10007, United States]                                      \n",
       "6  [122 Chambers St, New York, NY 10007, United States]                                    \n",
       "7  [92 Reade St, New York, NY 10013, United States]                                        \n",
       "8  [54 Murray Street (at W Broadway), New York, NY 10007, United States]                   \n",
       "9  [73 Warren St (btwn W Broadway & Greenwich St), New York, NY 10007, United States]      \n",
       "\n",
       "                         id  \n",
       "0  4af5d65ff964a52091fd21e3  \n",
       "1  54148bc6498ea7bb8c05b70a  \n",
       "2  4c154c9a77cea593c401d260  \n",
       "3  4adcf23cf964a520cc6221e3  \n",
       "4  4a8f2f39f964a520471420e3  \n",
       "5  5d5f24ec09484500079aee00  \n",
       "6  4b747291f964a52042dd2de3  \n",
       "7  57ad129c498e05b086594d72  \n",
       "8  4a6e331af964a52031d41fe3  \n",
       "9  5171b5cc011cef9833bbb787  "
      ]
     },
     "execution_count": 41,
     "metadata": {},
     "output_type": "execute_result"
    }
   ],
   "source": [
    "dataframe = json_normalize(items) # flatten JSON\n",
    "\n",
    "# filter columns\n",
    "filtered_columns = ['venue.name', 'venue.categories'] + [col for col in dataframe.columns if col.startswith('venue.location.')] + ['venue.id']\n",
    "dataframe_filtered = dataframe.loc[:, filtered_columns]\n",
    "\n",
    "# filter the category for each row\n",
    "dataframe_filtered['venue.categories'] = dataframe_filtered.apply(get_category_type, axis=1)\n",
    "\n",
    "# clean columns\n",
    "dataframe_filtered.columns = [col.split('.')[-1] for col in dataframe_filtered.columns]\n",
    "\n",
    "dataframe_filtered.head(10)"
   ]
  },
  {
   "cell_type": "markdown",
   "metadata": {
    "button": false,
    "new_sheet": false,
    "run_control": {
     "read_only": false
    }
   },
   "source": [
    "#### Let's visualize these items on the map around our location"
   ]
  },
  {
   "cell_type": "code",
   "execution_count": 42,
   "metadata": {
    "button": false,
    "jupyter": {
     "outputs_hidden": false
    },
    "new_sheet": false,
    "run_control": {
     "read_only": false
    }
   },
   "outputs": [
    {
     "data": {
      "text/html": [
       "<div style=\"width:100%;\"><div style=\"position:relative;width:100%;height:0;padding-bottom:60%;\"><iframe src=\"data:text/html;charset=utf-8;base64,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\" style=\"position:absolute;width:100%;height:100%;left:0;top:0;border:none !important;\" allowfullscreen webkitallowfullscreen mozallowfullscreen></iframe></div></div>"
      ],
      "text/plain": [
       "<folium.folium.Map at 0x7f2d2b3ad860>"
      ]
     },
     "execution_count": 42,
     "metadata": {},
     "output_type": "execute_result"
    }
   ],
   "source": [
    "venues_map = folium.Map(location=[latitude, longitude], zoom_start=15) # generate map centred around Ecco\n",
    "\n",
    "\n",
    "# add Ecco as a red circle mark\n",
    "folium.features.CircleMarker(\n",
    "    [latitude, longitude],\n",
    "    radius=10,\n",
    "    popup='Ecco',\n",
    "    fill=True,\n",
    "    color='red',\n",
    "    fill_color='red',\n",
    "    fill_opacity=0.6\n",
    "    ).add_to(venues_map)\n",
    "\n",
    "\n",
    "# add popular spots to the map as blue circle markers\n",
    "for lat, lng, label in zip(dataframe_filtered.lat, dataframe_filtered.lng, dataframe_filtered.categories):\n",
    "    folium.features.CircleMarker(\n",
    "        [lat, lng],\n",
    "        radius=5,\n",
    "        popup=label,\n",
    "        fill=True,\n",
    "        color='blue',\n",
    "        fill_color='blue',\n",
    "        fill_opacity=0.6\n",
    "        ).add_to(venues_map)\n",
    "\n",
    "# display map\n",
    "venues_map"
   ]
  },
  {
   "cell_type": "markdown",
   "metadata": {
    "button": false,
    "new_sheet": false,
    "run_control": {
     "read_only": false
    }
   },
   "source": [
    "   "
   ]
  },
  {
   "cell_type": "markdown",
   "metadata": {
    "button": false,
    "new_sheet": false,
    "run_control": {
     "read_only": false
    }
   },
   "source": [
    "<a id=\"item5\"></a>"
   ]
  },
  {
   "cell_type": "markdown",
   "metadata": {
    "button": false,
    "new_sheet": false,
    "run_control": {
     "read_only": false
    }
   },
   "source": [
    "## 5. Explore Trending Venues\n",
    "> `https://api.foursquare.com/v2/venues/`**trending**`?client_id=`**CLIENT_ID**`&client_secret=`**CLIENT_SECRET**`&ll=`**LATITUDE**`,`**LONGITUDE**`&v=`**VERSION**"
   ]
  },
  {
   "cell_type": "markdown",
   "metadata": {
    "button": false,
    "new_sheet": false,
    "run_control": {
     "read_only": false
    }
   },
   "source": [
    "#### Now, instead of simply exploring the area around Ecco, you are interested in knowing the venues that are trending at the time you are done with your lunch, meaning the places with the highest foot traffic. So let's do that and get the trending venues around Ecco."
   ]
  },
  {
   "cell_type": "code",
   "execution_count": 49,
   "metadata": {
    "button": false,
    "jupyter": {
     "outputs_hidden": false
    },
    "new_sheet": false,
    "run_control": {
     "read_only": false
    }
   },
   "outputs": [
    {
     "data": {
      "text/plain": [
       "{'meta': {'code': 200, 'requestId': '5db172b3a1979300387b36f3'},\n",
       " 'response': {'venues': []}}"
      ]
     },
     "execution_count": 49,
     "metadata": {},
     "output_type": "execute_result"
    }
   ],
   "source": [
    "#new lat and Long\n",
    "\n",
    "coord = [48.886333, 2.343038]\n",
    "\n",
    "latitude2 = coord[0]\n",
    "longitude2 = coord[1]\n",
    "\n",
    "# define URL\n",
    "url = 'https://api.foursquare.com/v2/venues/trending?client_id={}&client_secret={}&ll={},{}&v={}'.format(CLIENT_ID, CLIENT_SECRET, latitude, longitude, VERSION)\n",
    "\n",
    "# send GET request and get trending venues\n",
    "results = requests.get(url).json()\n",
    "results"
   ]
  },
  {
   "cell_type": "markdown",
   "metadata": {
    "button": false,
    "new_sheet": false,
    "run_control": {
     "read_only": false
    }
   },
   "source": [
    "### Check if any venues are trending at this time"
   ]
  },
  {
   "cell_type": "code",
   "execution_count": 50,
   "metadata": {
    "button": false,
    "new_sheet": false,
    "run_control": {
     "read_only": false
    }
   },
   "outputs": [],
   "source": [
    "if len(results['response']['venues']) == 0:\n",
    "    trending_venues_df = 'No trending venues are available at the moment!'\n",
    "    \n",
    "else:\n",
    "    trending_venues = results['response']['venues']\n",
    "    trending_venues_df = json_normalize(trending_venues)\n",
    "\n",
    "    # filter columns\n",
    "    columns_filtered = ['name', 'categories'] + ['location.distance', 'location.city', 'location.postalCode', 'location.state', 'location.country', 'location.lat', 'location.lng']\n",
    "    trending_venues_df = trending_venues_df.loc[:, columns_filtered]\n",
    "\n",
    "    # filter the category for each row\n",
    "    trending_venues_df['categories'] = trending_venues_df.apply(get_category_type, axis=1)"
   ]
  },
  {
   "cell_type": "code",
   "execution_count": 51,
   "metadata": {
    "button": false,
    "jupyter": {
     "outputs_hidden": false
    },
    "new_sheet": false,
    "run_control": {
     "read_only": false
    }
   },
   "outputs": [
    {
     "data": {
      "text/plain": [
       "'No trending venues are available at the moment!'"
      ]
     },
     "execution_count": 51,
     "metadata": {},
     "output_type": "execute_result"
    }
   ],
   "source": [
    "# display trending venues\n",
    "trending_venues_df"
   ]
  },
  {
   "cell_type": "markdown",
   "metadata": {
    "button": false,
    "new_sheet": false,
    "run_control": {
     "read_only": false
    }
   },
   "source": [
    "Now, depending on when you run the above code, you might get different venues since the venues with the highest foot traffic are fetched live. "
   ]
  },
  {
   "cell_type": "markdown",
   "metadata": {
    "button": false,
    "new_sheet": false,
    "run_control": {
     "read_only": false
    }
   },
   "source": [
    "### Visualize trending venues"
   ]
  },
  {
   "cell_type": "code",
   "execution_count": 52,
   "metadata": {
    "button": false,
    "jupyter": {
     "outputs_hidden": false
    },
    "new_sheet": false,
    "run_control": {
     "read_only": false
    }
   },
   "outputs": [],
   "source": [
    "if len(results['response']['venues']) == 0:\n",
    "    venues_map = 'Cannot generate visual as no trending venues are available at the moment!'\n",
    "\n",
    "else:\n",
    "    venues_map = folium.Map(location=[latitude, longitude], zoom_start=15) # generate map centred around Ecco\n",
    "\n",
    "\n",
    "    # add Ecco as a red circle mark\n",
    "    folium.features.CircleMarker(\n",
    "        [latitude, longitude],\n",
    "        radius=10,\n",
    "        popup='Ecco',\n",
    "        fill=True,\n",
    "        color='red',\n",
    "        fill_color='red',\n",
    "        fill_opacity=0.6\n",
    "    ).add_to(venues_map)\n",
    "\n",
    "\n",
    "    # add the trending venues as blue circle markers\n",
    "    for lat, lng, label in zip(trending_venues_df['location.lat'], trending_venues_df['location.lng'], trending_venues_df['name']):\n",
    "        folium.features.CircleMarker(\n",
    "            [lat, lng],\n",
    "            radius=5,\n",
    "            poup=label,\n",
    "            fill=True,\n",
    "            color='blue',\n",
    "            fill_color='blue',\n",
    "            fill_opacity=0.6\n",
    "        ).add_to(venues_map)"
   ]
  },
  {
   "cell_type": "code",
   "execution_count": 53,
   "metadata": {
    "button": false,
    "jupyter": {
     "outputs_hidden": false
    },
    "new_sheet": false,
    "run_control": {
     "read_only": false
    }
   },
   "outputs": [
    {
     "data": {
      "text/plain": [
       "'Cannot generate visual as no trending venues are available at the moment!'"
      ]
     },
     "execution_count": 53,
     "metadata": {},
     "output_type": "execute_result"
    }
   ],
   "source": [
    "# display map\n",
    "venues_map"
   ]
  },
  {
   "cell_type": "markdown",
   "metadata": {
    "button": false,
    "new_sheet": false,
    "run_control": {
     "read_only": false
    }
   },
   "source": [
    "<a id=\"item6\"></a>"
   ]
  },
  {
   "cell_type": "markdown",
   "metadata": {
    "button": false,
    "new_sheet": false,
    "run_control": {
     "read_only": false
    }
   },
   "source": [
    "   "
   ]
  },
  {
   "cell_type": "markdown",
   "metadata": {
    "button": false,
    "new_sheet": false,
    "run_control": {
     "read_only": false
    }
   },
   "source": [
    "### Thank you for completing this lab!\n",
    "\n",
    "This notebook was created by [Alex Aklson](https://www.linkedin.com/in/aklson/). I hope you found this lab interesting and educational. Feel free to contact me if you have any questions!"
   ]
  },
  {
   "cell_type": "markdown",
   "metadata": {
    "button": false,
    "new_sheet": false,
    "run_control": {
     "read_only": false
    }
   },
   "source": [
    "This notebook is part of a course on **Coursera** called *Applied Data Science Capstone*. If you accessed this notebook outside the course, you can take this course online by clicking [here](http://cocl.us/DP0701EN_Coursera_Week2_LAB1)."
   ]
  },
  {
   "cell_type": "markdown",
   "metadata": {
    "button": false,
    "new_sheet": false,
    "run_control": {
     "read_only": false
    }
   },
   "source": [
    "<hr>\n",
    "Copyright &copy; 2018 [Cognitive Class](https://cognitiveclass.ai/?utm_source=bducopyrightlink&utm_medium=dswb&utm_campaign=bdu). This notebook and its source code are released under the terms of the [MIT License](https://bigdatauniversity.com/mit-license/)."
   ]
  }
 ],
 "metadata": {
  "kernelspec": {
   "display_name": "Python 3",
   "language": "python",
   "name": "python3"
  },
  "language_info": {
   "codemirror_mode": {
    "name": "ipython",
    "version": 3
   },
   "file_extension": ".py",
   "mimetype": "text/x-python",
   "name": "python",
   "nbconvert_exporter": "python",
   "pygments_lexer": "ipython3",
   "version": "3.7.3"
  },
  "widgets": {
   "state": {},
   "version": "1.1.2"
  }
 },
 "nbformat": 4,
 "nbformat_minor": 4
}
